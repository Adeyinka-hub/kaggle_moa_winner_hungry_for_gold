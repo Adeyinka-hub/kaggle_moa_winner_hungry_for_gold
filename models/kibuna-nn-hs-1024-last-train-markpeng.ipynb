{
 "cells": [
  {
   "cell_type": "markdown",
   "metadata": {
    "papermill": {
     "duration": 0.067626,
     "end_time": "2020-11-26T05:19:44.582813",
     "exception": false,
     "start_time": "2020-11-26T05:19:44.515187",
     "status": "completed"
    },
    "tags": []
   },
   "source": [
    "- a notebook to save preprocessing model and train/save NN models\n",
    "- all necessary ouputs are stored in MODEL_DIR = output/kaggle/working/model\n",
    "    - put those into dataset, and load it from inference notebook"
   ]
  },
  {
   "cell_type": "code",
   "execution_count": 1,
   "metadata": {},
   "outputs": [],
   "source": [
    "kernel_mode = False\n",
    "import os\n",
    "os.environ[\"CUDA_VISIBLE_DEVICES\"] = \"0\""
   ]
  },
  {
   "cell_type": "code",
   "execution_count": 2,
   "metadata": {
    "execution": {
     "iopub.execute_input": "2020-11-26T05:19:44.738720Z",
     "iopub.status.busy": "2020-11-26T05:19:44.737831Z",
     "iopub.status.idle": "2020-11-26T05:19:51.950919Z",
     "shell.execute_reply": "2020-11-26T05:19:51.950264Z"
    },
    "papermill": {
     "duration": 7.302337,
     "end_time": "2020-11-26T05:19:51.951067",
     "exception": false,
     "start_time": "2020-11-26T05:19:44.648730",
     "status": "completed"
    },
    "tags": []
   },
   "outputs": [
    {
     "name": "stdout",
     "output_type": "stream",
     "text": [
      "True\n"
     ]
    }
   ],
   "source": [
    "import sys\n",
    "if kernel_mode:\n",
    "    sys.path.append(\n",
    "        '../input/iterative-stratification/iterative-stratification-master')\n",
    "    sys.path.append('../input/umaplearn/umap')\n",
    "\n",
    "%mkdir model\n",
    "%mkdir interim\n",
    "\n",
    "from scipy.sparse.csgraph import connected_components\n",
    "from umap import UMAP\n",
    "from iterstrat.ml_stratifiers import MultilabelStratifiedKFold\n",
    "import numpy as np\n",
    "import random\n",
    "import pandas as pd\n",
    "import matplotlib.pyplot as plt\n",
    "import os\n",
    "import copy\n",
    "import seaborn as sns\n",
    "import time\n",
    "\n",
    "from sklearn import preprocessing\n",
    "from sklearn.metrics import log_loss\n",
    "from sklearn.preprocessing import StandardScaler\n",
    "from sklearn.decomposition import PCA, FactorAnalysis\n",
    "from sklearn.manifold import TSNE\n",
    "\n",
    "import torch\n",
    "import torch.nn as nn\n",
    "import torch.nn.functional as F\n",
    "import torch.optim as optim\n",
    "print(torch.cuda.is_available())\n",
    "import warnings\n",
    "# warnings.filterwarnings('ignore')"
   ]
  },
  {
   "cell_type": "code",
   "execution_count": 3,
   "metadata": {
    "execution": {
     "iopub.execute_input": "2020-11-26T05:19:52.101444Z",
     "iopub.status.busy": "2020-11-26T05:19:52.100472Z",
     "iopub.status.idle": "2020-11-26T05:19:52.104231Z",
     "shell.execute_reply": "2020-11-26T05:19:52.104811Z"
    },
    "papermill": {
     "duration": 0.086709,
     "end_time": "2020-11-26T05:19:52.104956",
     "exception": false,
     "start_time": "2020-11-26T05:19:52.018247",
     "status": "completed"
    },
    "tags": []
   },
   "outputs": [
    {
     "data": {
      "text/plain": [
       "'1.6.0+cu101'"
      ]
     },
     "execution_count": 3,
     "metadata": {},
     "output_type": "execute_result"
    }
   ],
   "source": [
    "torch.__version__"
   ]
  },
  {
   "cell_type": "code",
   "execution_count": 4,
   "metadata": {},
   "outputs": [],
   "source": [
    "dataset_folder = \"../input/lish-moa\" if kernel_mode else \"/workspace/Kaggle/MoA\"\n",
    "model_output_folder = \"../input/kibuna-nn-hs-1024-last-train-markpeng\" if kernel_mode \\\n",
    "    else f\"{dataset_folder}/kibuna-nn-hs-1024-last-train-markpeng\"\n",
    "BATCH_SIZE = 256\n",
    "INFER_BATCH_SIZE = 512"
   ]
  },
  {
   "cell_type": "code",
   "execution_count": 5,
   "metadata": {
    "execution": {
     "iopub.execute_input": "2020-11-26T05:19:52.251927Z",
     "iopub.status.busy": "2020-11-26T05:19:52.250122Z",
     "iopub.status.idle": "2020-11-26T05:19:52.252715Z",
     "shell.execute_reply": "2020-11-26T05:19:52.253450Z"
    },
    "papermill": {
     "duration": 0.080754,
     "end_time": "2020-11-26T05:19:52.253626",
     "exception": false,
     "start_time": "2020-11-26T05:19:52.172872",
     "status": "completed"
    },
    "tags": []
   },
   "outputs": [],
   "source": [
    "NB = '25'\n",
    "\n",
    "IS_TRAIN = True\n",
    "MODEL_DIR = f\"{model_output_folder}/model\"\n",
    "INT_DIR = f\"{model_output_folder}/interim\"\n",
    "\n",
    "if IS_TRAIN:\n",
    "    os.makedirs(model_output_folder, exist_ok=True)\n",
    "    os.makedirs(MODEL_DIR, exist_ok=True)\n",
    "    os.makedirs(INT_DIR, exist_ok=True)\n",
    "\n",
    "NSEEDS = 5  # 5\n",
    "DEVICE = ('cuda' if torch.cuda.is_available() else 'cpu')\n",
    "EPOCHS = 15\n",
    "LEARNING_RATE = 5e-3\n",
    "WEIGHT_DECAY = 1e-5\n",
    "EARLY_STOPPING_STEPS = 10\n",
    "EARLY_STOP = False\n",
    "\n",
    "NFOLDS = 5  # 5\n",
    "\n",
    "PMIN = 0.0005\n",
    "PMAX = 0.9995\n",
    "SMIN = 0.0\n",
    "SMAX = 1.0"
   ]
  },
  {
   "cell_type": "code",
   "execution_count": 6,
   "metadata": {
    "execution": {
     "iopub.execute_input": "2020-11-26T05:19:52.407694Z",
     "iopub.status.busy": "2020-11-26T05:19:52.406698Z",
     "iopub.status.idle": "2020-11-26T05:19:59.744804Z",
     "shell.execute_reply": "2020-11-26T05:19:59.745992Z"
    },
    "papermill": {
     "duration": 7.421184,
     "end_time": "2020-11-26T05:19:59.746193",
     "exception": false,
     "start_time": "2020-11-26T05:19:52.325009",
     "status": "completed"
    },
    "tags": []
   },
   "outputs": [],
   "source": [
    "train_features = pd.read_csv(f'{dataset_folder}/train_features.csv')\n",
    "train_targets_scored = pd.read_csv(f'{dataset_folder}/train_targets_scored.csv')\n",
    "train_targets_nonscored = pd.read_csv(f'{dataset_folder}/train_targets_nonscored.csv')\n",
    "\n",
    "test_features = pd.read_csv(f'{dataset_folder}/test_features.csv')\n",
    "sample_submission = pd.read_csv(f'{dataset_folder}/sample_submission.csv')"
   ]
  },
  {
   "cell_type": "code",
   "execution_count": 7,
   "metadata": {
    "execution": {
     "iopub.execute_input": "2020-11-26T05:19:59.938437Z",
     "iopub.status.busy": "2020-11-26T05:19:59.937312Z",
     "iopub.status.idle": "2020-11-26T05:20:00.170944Z",
     "shell.execute_reply": "2020-11-26T05:20:00.170023Z"
    },
    "papermill": {
     "duration": 0.323437,
     "end_time": "2020-11-26T05:20:00.171132",
     "exception": false,
     "start_time": "2020-11-26T05:19:59.847695",
     "status": "completed"
    },
    "tags": []
   },
   "outputs": [
    {
     "name": "stdout",
     "output_type": "stream",
     "text": [
      "(23814, 332)\n"
     ]
    }
   ],
   "source": [
    "train_targets_nonscored = train_targets_nonscored.loc[:, train_targets_nonscored.sum() != 0]\n",
    "print(train_targets_nonscored.shape)"
   ]
  },
  {
   "cell_type": "code",
   "execution_count": 8,
   "metadata": {
    "execution": {
     "iopub.execute_input": "2020-11-26T05:20:00.324626Z",
     "iopub.status.busy": "2020-11-26T05:20:00.323031Z",
     "iopub.status.idle": "2020-11-26T05:20:03.381176Z",
     "shell.execute_reply": "2020-11-26T05:20:03.380576Z"
    },
    "papermill": {
     "duration": 3.138803,
     "end_time": "2020-11-26T05:20:03.381302",
     "exception": false,
     "start_time": "2020-11-26T05:20:00.242499",
     "status": "completed"
    },
    "tags": []
   },
   "outputs": [],
   "source": [
    "# for c in train_targets_scored.columns:\n",
    "#     if c != \"sig_id\":\n",
    "#         train_targets_scored[c] = np.maximum(PMIN, np.minimum(PMAX, train_targets_scored[c]))\n",
    "for c in train_targets_nonscored.columns:\n",
    "    if c != \"sig_id\":\n",
    "        train_targets_nonscored[c] = np.maximum(\n",
    "            PMIN, np.minimum(PMAX, train_targets_nonscored[c]))"
   ]
  },
  {
   "cell_type": "code",
   "execution_count": 9,
   "metadata": {
    "execution": {
     "iopub.execute_input": "2020-11-26T05:20:03.525039Z",
     "iopub.status.busy": "2020-11-26T05:20:03.524000Z",
     "iopub.status.idle": "2020-11-26T05:20:03.529649Z",
     "shell.execute_reply": "2020-11-26T05:20:03.530565Z"
    },
    "papermill": {
     "duration": 0.08113,
     "end_time": "2020-11-26T05:20:03.530748",
     "exception": false,
     "start_time": "2020-11-26T05:20:03.449618",
     "status": "completed"
    },
    "tags": []
   },
   "outputs": [
    {
     "name": "stdout",
     "output_type": "stream",
     "text": [
      "(nsamples, nfeatures)\n",
      "(23814, 876)\n",
      "(23814, 207)\n",
      "(23814, 332)\n",
      "(3982, 876)\n",
      "(3982, 207)\n"
     ]
    }
   ],
   "source": [
    "print(\"(nsamples, nfeatures)\")\n",
    "print(train_features.shape)\n",
    "print(train_targets_scored.shape)\n",
    "print(train_targets_nonscored.shape)\n",
    "print(test_features.shape)\n",
    "print(sample_submission.shape)"
   ]
  },
  {
   "cell_type": "code",
   "execution_count": 10,
   "metadata": {
    "execution": {
     "iopub.execute_input": "2020-11-26T05:20:03.693208Z",
     "iopub.status.busy": "2020-11-26T05:20:03.691544Z",
     "iopub.status.idle": "2020-11-26T05:20:03.693990Z",
     "shell.execute_reply": "2020-11-26T05:20:03.694557Z"
    },
    "papermill": {
     "duration": 0.095073,
     "end_time": "2020-11-26T05:20:03.694695",
     "exception": false,
     "start_time": "2020-11-26T05:20:03.599622",
     "status": "completed"
    },
    "tags": []
   },
   "outputs": [],
   "source": [
    "GENES = [col for col in train_features.columns if col.startswith('g-')]\n",
    "CELLS = [col for col in train_features.columns if col.startswith('c-')]"
   ]
  },
  {
   "cell_type": "code",
   "execution_count": 11,
   "metadata": {
    "execution": {
     "iopub.execute_input": "2020-11-26T05:20:03.842346Z",
     "iopub.status.busy": "2020-11-26T05:20:03.841456Z",
     "iopub.status.idle": "2020-11-26T05:20:03.848296Z",
     "shell.execute_reply": "2020-11-26T05:20:03.847675Z"
    },
    "papermill": {
     "duration": 0.084307,
     "end_time": "2020-11-26T05:20:03.848444",
     "exception": false,
     "start_time": "2020-11-26T05:20:03.764137",
     "status": "completed"
    },
    "tags": []
   },
   "outputs": [],
   "source": [
    "def seed_everything(seed=42):\n",
    "    random.seed(seed)\n",
    "    os.environ['PYTHONHASHSEED'] = str(seed)\n",
    "    np.random.seed(seed)\n",
    "    torch.manual_seed(seed)\n",
    "    torch.cuda.manual_seed(seed)\n",
    "    torch.backends.cudnn.deterministic = True\n",
    "    torch.backends.cudnn.benchmark = False\n",
    "\n",
    "\n",
    "seed_everything(seed=1903)"
   ]
  },
  {
   "cell_type": "code",
   "execution_count": null,
   "metadata": {
    "papermill": {
     "duration": 0.068841,
     "end_time": "2020-11-26T05:20:03.986247",
     "exception": false,
     "start_time": "2020-11-26T05:20:03.917406",
     "status": "completed"
    },
    "tags": []
   },
   "outputs": [],
   "source": []
  },
  {
   "cell_type": "code",
   "execution_count": 12,
   "metadata": {
    "execution": {
     "iopub.execute_input": "2020-11-26T05:20:04.156515Z",
     "iopub.status.busy": "2020-11-26T05:20:04.149606Z",
     "iopub.status.idle": "2020-11-26T05:25:57.500817Z",
     "shell.execute_reply": "2020-11-26T05:25:57.500054Z"
    },
    "papermill": {
     "duration": 353.445244,
     "end_time": "2020-11-26T05:25:57.500960",
     "exception": false,
     "start_time": "2020-11-26T05:20:04.055716",
     "status": "completed"
    },
    "tags": []
   },
   "outputs": [],
   "source": [
    "# GENES\n",
    "n_comp = 90\n",
    "n_dim = 45\n",
    "\n",
    "data = pd.concat(\n",
    "    [pd.DataFrame(train_features[GENES]),\n",
    "     pd.DataFrame(test_features[GENES])])\n",
    "\n",
    "if IS_TRAIN:\n",
    "    fa = FactorAnalysis(n_components=n_comp,\n",
    "                        random_state=1903).fit(data[GENES])\n",
    "    pd.to_pickle(fa, f'{MODEL_DIR}/{NB}_factor_analysis_g.pkl')\n",
    "    umap = UMAP(n_components=n_dim, random_state=1903).fit(data[GENES])\n",
    "    pd.to_pickle(umap, f'{MODEL_DIR}/{NB}_umap_g.pkl')\n",
    "else:\n",
    "    fa = pd.read_pickle(f'{MODEL_DIR}/{NB}_factor_analysis_g.pkl')\n",
    "    umap = pd.read_pickle(f'{MODEL_DIR}/{NB}_umap_g.pkl')\n",
    "\n",
    "data2 = (fa.transform(data[GENES]))\n",
    "data3 = (umap.transform(data[GENES]))\n",
    "\n",
    "train2 = data2[:train_features.shape[0]]\n",
    "test2 = data2[-test_features.shape[0]:]\n",
    "train3 = data3[:train_features.shape[0]]\n",
    "test3 = data3[-test_features.shape[0]:]\n",
    "\n",
    "train2 = pd.DataFrame(train2, columns=[f'fa_G-{i}' for i in range(n_comp)])\n",
    "train3 = pd.DataFrame(train3, columns=[f'umap_G-{i}' for i in range(n_dim)])\n",
    "test2 = pd.DataFrame(test2, columns=[f'fa_G-{i}' for i in range(n_comp)])\n",
    "test3 = pd.DataFrame(test3, columns=[f'umap_G-{i}' for i in range(n_dim)])\n",
    "\n",
    "train_features = pd.concat((train_features, train2, train3), axis=1)\n",
    "test_features = pd.concat((test_features, test2, test3), axis=1)\n",
    "\n",
    "#CELLS\n",
    "n_comp = 50\n",
    "n_dim = 25\n",
    "\n",
    "data = pd.concat(\n",
    "    [pd.DataFrame(train_features[CELLS]),\n",
    "     pd.DataFrame(test_features[CELLS])])\n",
    "\n",
    "if IS_TRAIN:\n",
    "    fa = FactorAnalysis(n_components=n_comp,\n",
    "                        random_state=1903).fit(data[CELLS])\n",
    "    pd.to_pickle(fa, f'{MODEL_DIR}/{NB}_factor_analysis_c.pkl')\n",
    "    umap = UMAP(n_components=n_dim, random_state=1903).fit(data[CELLS])\n",
    "    pd.to_pickle(umap, f'{MODEL_DIR}/{NB}_umap_c.pkl')\n",
    "else:\n",
    "    fa = pd.read_pickle(f'{MODEL_DIR}/{NB}_factor_analysis_c.pkl')\n",
    "    umap = pd.read_pickle(f'{MODEL_DIR}/{NB}_umap_c.pkl')\n",
    "\n",
    "data2 = (fa.transform(data[CELLS]))\n",
    "data3 = (umap.fit_transform(data[CELLS]))\n",
    "\n",
    "train2 = data2[:train_features.shape[0]]\n",
    "test2 = data2[-test_features.shape[0]:]\n",
    "train3 = data3[:train_features.shape[0]]\n",
    "test3 = data3[-test_features.shape[0]:]\n",
    "\n",
    "train2 = pd.DataFrame(train2, columns=[f'fa_C-{i}' for i in range(n_comp)])\n",
    "train3 = pd.DataFrame(train3, columns=[f'umap_C-{i}' for i in range(n_dim)])\n",
    "test2 = pd.DataFrame(test2, columns=[f'fa_C-{i}' for i in range(n_comp)])\n",
    "test3 = pd.DataFrame(test3, columns=[f'umap_C-{i}' for i in range(n_dim)])\n",
    "\n",
    "train_features = pd.concat((train_features, train2, train3), axis=1)\n",
    "test_features = pd.concat((test_features, test2, test3), axis=1)\n",
    "\n",
    "# drop_cols = [f'c-{i}' for i in range(n_comp,len(CELLS))]"
   ]
  },
  {
   "cell_type": "code",
   "execution_count": null,
   "metadata": {
    "papermill": {
     "duration": 0.069099,
     "end_time": "2020-11-26T05:25:57.639838",
     "exception": false,
     "start_time": "2020-11-26T05:25:57.570739",
     "status": "completed"
    },
    "tags": []
   },
   "outputs": [],
   "source": []
  },
  {
   "cell_type": "code",
   "execution_count": 13,
   "metadata": {
    "execution": {
     "iopub.execute_input": "2020-11-26T05:25:57.794066Z",
     "iopub.status.busy": "2020-11-26T05:25:57.792303Z",
     "iopub.status.idle": "2020-11-26T05:28:04.035606Z",
     "shell.execute_reply": "2020-11-26T05:28:04.034723Z"
    },
    "papermill": {
     "duration": 126.326427,
     "end_time": "2020-11-26T05:28:04.035817",
     "exception": false,
     "start_time": "2020-11-26T05:25:57.709390",
     "status": "completed"
    },
    "tags": []
   },
   "outputs": [],
   "source": [
    "from sklearn.preprocessing import QuantileTransformer\n",
    "\n",
    "for col in (GENES + CELLS):\n",
    "    vec_len = len(train_features[col].values)\n",
    "    vec_len_test = len(test_features[col].values)\n",
    "    raw_vec = pd.concat([train_features, test_features\n",
    "                         ])[col].values.reshape(vec_len + vec_len_test, 1)\n",
    "    if IS_TRAIN:\n",
    "        transformer = QuantileTransformer(n_quantiles=100,\n",
    "                                          random_state=123,\n",
    "                                          output_distribution=\"normal\")\n",
    "        transformer.fit(raw_vec)\n",
    "        pd.to_pickle(transformer,\n",
    "                     f'{MODEL_DIR}/{NB}_{col}_quantile_transformer.pkl')\n",
    "    else:\n",
    "        transformer = pd.read_pickle(\n",
    "            f'{MODEL_DIR}/{NB}_{col}_quantile_transformer.pkl')\n",
    "\n",
    "    train_features[col] = transformer.transform(\n",
    "        train_features[col].values.reshape(vec_len, 1)).reshape(1, vec_len)[0]\n",
    "    test_features[col] = transformer.transform(\n",
    "        test_features[col].values.reshape(vec_len_test,\n",
    "                                          1)).reshape(1, vec_len_test)[0]"
   ]
  },
  {
   "cell_type": "code",
   "execution_count": 14,
   "metadata": {
    "execution": {
     "iopub.execute_input": "2020-11-26T05:28:04.258054Z",
     "iopub.status.busy": "2020-11-26T05:28:04.255783Z",
     "iopub.status.idle": "2020-11-26T05:28:04.258942Z",
     "shell.execute_reply": "2020-11-26T05:28:04.259587Z"
    },
    "papermill": {
     "duration": 0.097692,
     "end_time": "2020-11-26T05:28:04.259739",
     "exception": false,
     "start_time": "2020-11-26T05:28:04.162047",
     "status": "completed"
    },
    "tags": []
   },
   "outputs": [],
   "source": [
    "# PCAS = [col for col in train_features.columns if col.startswith('pca_')]\n",
    "# UMAPS = [col for col in train_features.columns if col.startswith('umap_')]"
   ]
  },
  {
   "cell_type": "code",
   "execution_count": 15,
   "metadata": {
    "execution": {
     "iopub.execute_input": "2020-11-26T05:28:04.414926Z",
     "iopub.status.busy": "2020-11-26T05:28:04.413073Z",
     "iopub.status.idle": "2020-11-26T05:28:04.416399Z",
     "shell.execute_reply": "2020-11-26T05:28:04.415725Z"
    },
    "papermill": {
     "duration": 0.083039,
     "end_time": "2020-11-26T05:28:04.416541",
     "exception": false,
     "start_time": "2020-11-26T05:28:04.333502",
     "status": "completed"
    },
    "tags": []
   },
   "outputs": [],
   "source": [
    "# from sklearn.preprocessing import PolynomialFeatures\n",
    "# n_deg = 2\n",
    "\n",
    "# data = pd.concat([pd.DataFrame(train_features[PCAS]), pd.DataFrame(test_features[PCAS])])\n",
    "# data2 = (PolynomialFeatures(degree=n_deg, include_bias=False).fit_transform(data[PCAS]))\n",
    "\n",
    "# # print(data2)\n",
    "# # data4 = (UMAP(n_components=n_dim, n_neighbors=5, random_state=1903).fit_transform(data[GENES]))\n",
    "# # data5 = (UMAP(n_components=n_dim, min_dist=0.01, random_state=1903).fit_transform(data[GENES]))\n",
    "\n",
    "# train2 = data2[:train_features.shape[0]]\n",
    "# test2 = data2[-test_features.shape[0]:]\n",
    "\n",
    "# # print(train2.shape)\n",
    "# train2 = pd.DataFrame(train2, columns=[f'poly_C-{i}' for i in range(train2.shape[1])])\n",
    "# test2 = pd.DataFrame(test2, columns=[f'poly_C-{i}' for i in range(train2.shape[1])])\n",
    "\n",
    "# # drop_cols = [f'c-{i}' for i in range(n_comp,len(GENES))]\n",
    "# # train_features = pd.concat((train_features, train2, train3, train4, train5), axis=1)\n",
    "# # test_features = pd.concat((test_features, test2, test3, test4, test5), axis=1)\n",
    "# train_features = pd.concat((train_features, train2), axis=1)\n",
    "# test_features = pd.concat((test_features, test2), axis=1)\n",
    "\n",
    "\n",
    "# data = pd.concat([pd.DataFrame(train_features[UMAPS]), pd.DataFrame(test_features[UMAPS])])\n",
    "# data2 = (PolynomialFeatures(degree=n_deg, include_bias=False).fit_transform(data[UMAPS]))\n",
    "\n",
    "# # print(data2)\n",
    "# # data4 = (UMAP(n_components=n_dim, n_neighbors=5, random_state=1903).fit_transform(data[GENES]))\n",
    "# # data5 = (UMAP(n_components=n_dim, min_dist=0.01, random_state=1903).fit_transform(data[GENES]))\n",
    "\n",
    "# train2 = data2[:train_features.shape[0]]\n",
    "# test2 = data2[-test_features.shape[0]:]\n",
    "\n",
    "# # print(train2.shape)\n",
    "# train2 = pd.DataFrame(train2, columns=[f'poly_C-{i}' for i in range(train2.shape[1])])\n",
    "# test2 = pd.DataFrame(test2, columns=[f'poly_C-{i}' for i in range(train2.shape[1])])\n",
    "\n",
    "# # drop_cols = [f'c-{i}' for i in range(n_comp,len(GENES))]\n",
    "# # train_features = pd.concat((train_features, train2, train3, train4, train5), axis=1)\n",
    "# # test_features = pd.concat((test_features, test2, test3, test4, test5), axis=1)\n",
    "# train_features = pd.concat((train_features, train2), axis=1)\n",
    "# test_features = pd.concat((test_features, test2), axis=1)"
   ]
  },
  {
   "cell_type": "code",
   "execution_count": 16,
   "metadata": {
    "execution": {
     "iopub.execute_input": "2020-11-26T05:28:04.567693Z",
     "iopub.status.busy": "2020-11-26T05:28:04.566780Z",
     "iopub.status.idle": "2020-11-26T05:28:04.572411Z",
     "shell.execute_reply": "2020-11-26T05:28:04.573173Z"
    },
    "papermill": {
     "duration": 0.08439,
     "end_time": "2020-11-26T05:28:04.573375",
     "exception": false,
     "start_time": "2020-11-26T05:28:04.488985",
     "status": "completed"
    },
    "tags": []
   },
   "outputs": [
    {
     "name": "stdout",
     "output_type": "stream",
     "text": [
      "(23814, 1086)\n",
      "(3982, 1086)\n"
     ]
    }
   ],
   "source": [
    "print(train_features.shape)\n",
    "print(test_features.shape)"
   ]
  },
  {
   "cell_type": "code",
   "execution_count": null,
   "metadata": {
    "papermill": {
     "duration": 0.074064,
     "end_time": "2020-11-26T05:28:04.721137",
     "exception": false,
     "start_time": "2020-11-26T05:28:04.647073",
     "status": "completed"
    },
    "tags": []
   },
   "outputs": [],
   "source": []
  },
  {
   "cell_type": "code",
   "execution_count": 17,
   "metadata": {
    "execution": {
     "iopub.execute_input": "2020-11-26T05:28:04.877100Z",
     "iopub.status.busy": "2020-11-26T05:28:04.876180Z",
     "iopub.status.idle": "2020-11-26T05:28:05.570681Z",
     "shell.execute_reply": "2020-11-26T05:28:05.569763Z"
    },
    "papermill": {
     "duration": 0.775547,
     "end_time": "2020-11-26T05:28:05.570816",
     "exception": false,
     "start_time": "2020-11-26T05:28:04.795269",
     "status": "completed"
    },
    "tags": []
   },
   "outputs": [],
   "source": [
    "# train = train_features.merge(train_targets_scored, on='sig_id')\n",
    "train = train_features.merge(train_targets_nonscored, on='sig_id')\n",
    "train = train[train['cp_type'] != 'ctl_vehicle'].reset_index(drop=True)\n",
    "test = test_features[test_features['cp_type'] != 'ctl_vehicle'].reset_index(\n",
    "    drop=True)\n",
    "\n",
    "# target = train[train_targets_scored.columns]\n",
    "target = train[train_targets_nonscored.columns]"
   ]
  },
  {
   "cell_type": "code",
   "execution_count": 18,
   "metadata": {
    "execution": {
     "iopub.execute_input": "2020-11-26T05:28:05.803722Z",
     "iopub.status.busy": "2020-11-26T05:28:05.801418Z",
     "iopub.status.idle": "2020-11-26T05:28:05.812425Z",
     "shell.execute_reply": "2020-11-26T05:28:05.811744Z"
    },
    "papermill": {
     "duration": 0.168252,
     "end_time": "2020-11-26T05:28:05.812611",
     "exception": false,
     "start_time": "2020-11-26T05:28:05.644359",
     "status": "completed"
    },
    "tags": []
   },
   "outputs": [],
   "source": [
    "train = train.drop('cp_type', axis=1)\n",
    "test = test.drop('cp_type', axis=1)"
   ]
  },
  {
   "cell_type": "code",
   "execution_count": 19,
   "metadata": {
    "execution": {
     "iopub.execute_input": "2020-11-26T05:28:05.970687Z",
     "iopub.status.busy": "2020-11-26T05:28:05.969358Z",
     "iopub.status.idle": "2020-11-26T05:28:05.973575Z",
     "shell.execute_reply": "2020-11-26T05:28:05.971394Z"
    },
    "papermill": {
     "duration": 0.087631,
     "end_time": "2020-11-26T05:28:05.973759",
     "exception": false,
     "start_time": "2020-11-26T05:28:05.886128",
     "status": "completed"
    },
    "tags": []
   },
   "outputs": [
    {
     "name": "stdout",
     "output_type": "stream",
     "text": [
      "(21948, 332)\n",
      "(23814, 1086)\n",
      "(3982, 1086)\n",
      "(21948, 1416)\n",
      "(3624, 1085)\n"
     ]
    }
   ],
   "source": [
    "print(target.shape)\n",
    "print(train_features.shape)\n",
    "print(test_features.shape)\n",
    "print(train.shape)\n",
    "print(test.shape)"
   ]
  },
  {
   "cell_type": "code",
   "execution_count": 20,
   "metadata": {
    "execution": {
     "iopub.execute_input": "2020-11-26T05:28:06.147024Z",
     "iopub.status.busy": "2020-11-26T05:28:06.145261Z",
     "iopub.status.idle": "2020-11-26T05:28:06.155218Z",
     "shell.execute_reply": "2020-11-26T05:28:06.156257Z"
    },
    "papermill": {
     "duration": 0.107011,
     "end_time": "2020-11-26T05:28:06.156496",
     "exception": false,
     "start_time": "2020-11-26T05:28:06.049485",
     "status": "completed"
    },
    "tags": []
   },
   "outputs": [],
   "source": [
    "target_cols = target.drop('sig_id', axis=1).columns.values.tolist()"
   ]
  },
  {
   "cell_type": "code",
   "execution_count": 21,
   "metadata": {
    "execution": {
     "iopub.execute_input": "2020-11-26T05:28:06.333485Z",
     "iopub.status.busy": "2020-11-26T05:28:06.331832Z",
     "iopub.status.idle": "2020-11-26T05:28:09.268803Z",
     "shell.execute_reply": "2020-11-26T05:28:09.269468Z"
    },
    "papermill": {
     "duration": 3.030392,
     "end_time": "2020-11-26T05:28:09.269668",
     "exception": false,
     "start_time": "2020-11-26T05:28:06.239276",
     "status": "completed"
    },
    "tags": []
   },
   "outputs": [
    {
     "name": "stderr",
     "output_type": "stream",
     "text": [
      "/opt/conda/lib/python3.7/site-packages/sklearn/utils/validation.py:70: FutureWarning: Pass shuffle=False, random_state=None as keyword args. From version 0.25 passing these as positional arguments will result in an error\n",
      "  FutureWarning)\n"
     ]
    },
    {
     "data": {
      "text/html": [
       "<div>\n",
       "<style scoped>\n",
       "    .dataframe tbody tr th:only-of-type {\n",
       "        vertical-align: middle;\n",
       "    }\n",
       "\n",
       "    .dataframe tbody tr th {\n",
       "        vertical-align: top;\n",
       "    }\n",
       "\n",
       "    .dataframe thead th {\n",
       "        text-align: right;\n",
       "    }\n",
       "</style>\n",
       "<table border=\"1\" class=\"dataframe\">\n",
       "  <thead>\n",
       "    <tr style=\"text-align: right;\">\n",
       "      <th></th>\n",
       "      <th>sig_id</th>\n",
       "      <th>cp_time</th>\n",
       "      <th>cp_dose</th>\n",
       "      <th>g-0</th>\n",
       "      <th>g-1</th>\n",
       "      <th>g-2</th>\n",
       "      <th>g-3</th>\n",
       "      <th>g-4</th>\n",
       "      <th>g-5</th>\n",
       "      <th>g-6</th>\n",
       "      <th>...</th>\n",
       "      <th>vasopressin_receptor_antagonist</th>\n",
       "      <th>ve-cadherin_antagonist</th>\n",
       "      <th>vesicular_monoamine_transporter_inhibitor</th>\n",
       "      <th>vitamin_k_antagonist</th>\n",
       "      <th>voltage-gated_potassium_channel_activator</th>\n",
       "      <th>voltage-gated_sodium_channel_blocker</th>\n",
       "      <th>wdr5_mll_interaction_inhibitor</th>\n",
       "      <th>xanthine_oxidase_inhibitor</th>\n",
       "      <th>xiap_inhibitor</th>\n",
       "      <th>kfold</th>\n",
       "    </tr>\n",
       "  </thead>\n",
       "  <tbody>\n",
       "    <tr>\n",
       "      <th>0</th>\n",
       "      <td>id_000644bb2</td>\n",
       "      <td>24</td>\n",
       "      <td>D1</td>\n",
       "      <td>1.146806</td>\n",
       "      <td>0.902075</td>\n",
       "      <td>-0.418339</td>\n",
       "      <td>-0.961202</td>\n",
       "      <td>-0.254770</td>\n",
       "      <td>-1.021300</td>\n",
       "      <td>-1.369236</td>\n",
       "      <td>...</td>\n",
       "      <td>0.0005</td>\n",
       "      <td>0.0005</td>\n",
       "      <td>0.0005</td>\n",
       "      <td>0.0005</td>\n",
       "      <td>0.0005</td>\n",
       "      <td>0.0005</td>\n",
       "      <td>0.0005</td>\n",
       "      <td>0.0005</td>\n",
       "      <td>0.0005</td>\n",
       "      <td>0</td>\n",
       "    </tr>\n",
       "    <tr>\n",
       "      <th>1</th>\n",
       "      <td>id_000779bfc</td>\n",
       "      <td>72</td>\n",
       "      <td>D1</td>\n",
       "      <td>0.128824</td>\n",
       "      <td>0.676862</td>\n",
       "      <td>0.274345</td>\n",
       "      <td>0.090495</td>\n",
       "      <td>1.208863</td>\n",
       "      <td>0.688965</td>\n",
       "      <td>0.316734</td>\n",
       "      <td>...</td>\n",
       "      <td>0.0005</td>\n",
       "      <td>0.0005</td>\n",
       "      <td>0.0005</td>\n",
       "      <td>0.0005</td>\n",
       "      <td>0.0005</td>\n",
       "      <td>0.0005</td>\n",
       "      <td>0.0005</td>\n",
       "      <td>0.0005</td>\n",
       "      <td>0.0005</td>\n",
       "      <td>3</td>\n",
       "    </tr>\n",
       "    <tr>\n",
       "      <th>2</th>\n",
       "      <td>id_000a6266a</td>\n",
       "      <td>48</td>\n",
       "      <td>D1</td>\n",
       "      <td>0.790372</td>\n",
       "      <td>0.939951</td>\n",
       "      <td>1.428097</td>\n",
       "      <td>-0.121817</td>\n",
       "      <td>-0.002067</td>\n",
       "      <td>1.495091</td>\n",
       "      <td>0.238763</td>\n",
       "      <td>...</td>\n",
       "      <td>0.0005</td>\n",
       "      <td>0.0005</td>\n",
       "      <td>0.0005</td>\n",
       "      <td>0.0005</td>\n",
       "      <td>0.0005</td>\n",
       "      <td>0.0005</td>\n",
       "      <td>0.0005</td>\n",
       "      <td>0.0005</td>\n",
       "      <td>0.0005</td>\n",
       "      <td>4</td>\n",
       "    </tr>\n",
       "    <tr>\n",
       "      <th>3</th>\n",
       "      <td>id_0015fd391</td>\n",
       "      <td>48</td>\n",
       "      <td>D1</td>\n",
       "      <td>-0.729866</td>\n",
       "      <td>-0.277163</td>\n",
       "      <td>-0.441200</td>\n",
       "      <td>0.766612</td>\n",
       "      <td>2.347817</td>\n",
       "      <td>-0.862761</td>\n",
       "      <td>-2.308829</td>\n",
       "      <td>...</td>\n",
       "      <td>0.0005</td>\n",
       "      <td>0.0005</td>\n",
       "      <td>0.0005</td>\n",
       "      <td>0.0005</td>\n",
       "      <td>0.0005</td>\n",
       "      <td>0.0005</td>\n",
       "      <td>0.0005</td>\n",
       "      <td>0.0005</td>\n",
       "      <td>0.0005</td>\n",
       "      <td>2</td>\n",
       "    </tr>\n",
       "    <tr>\n",
       "      <th>4</th>\n",
       "      <td>id_001626bd3</td>\n",
       "      <td>72</td>\n",
       "      <td>D2</td>\n",
       "      <td>-0.444558</td>\n",
       "      <td>-0.481202</td>\n",
       "      <td>0.974729</td>\n",
       "      <td>0.977467</td>\n",
       "      <td>1.468304</td>\n",
       "      <td>-0.874772</td>\n",
       "      <td>-0.372682</td>\n",
       "      <td>...</td>\n",
       "      <td>0.0005</td>\n",
       "      <td>0.0005</td>\n",
       "      <td>0.0005</td>\n",
       "      <td>0.0005</td>\n",
       "      <td>0.0005</td>\n",
       "      <td>0.0005</td>\n",
       "      <td>0.0005</td>\n",
       "      <td>0.0005</td>\n",
       "      <td>0.0005</td>\n",
       "      <td>1</td>\n",
       "    </tr>\n",
       "    <tr>\n",
       "      <th>...</th>\n",
       "      <td>...</td>\n",
       "      <td>...</td>\n",
       "      <td>...</td>\n",
       "      <td>...</td>\n",
       "      <td>...</td>\n",
       "      <td>...</td>\n",
       "      <td>...</td>\n",
       "      <td>...</td>\n",
       "      <td>...</td>\n",
       "      <td>...</td>\n",
       "      <td>...</td>\n",
       "      <td>...</td>\n",
       "      <td>...</td>\n",
       "      <td>...</td>\n",
       "      <td>...</td>\n",
       "      <td>...</td>\n",
       "      <td>...</td>\n",
       "      <td>...</td>\n",
       "      <td>...</td>\n",
       "      <td>...</td>\n",
       "      <td>...</td>\n",
       "    </tr>\n",
       "    <tr>\n",
       "      <th>21943</th>\n",
       "      <td>id_fff8c2444</td>\n",
       "      <td>72</td>\n",
       "      <td>D1</td>\n",
       "      <td>0.247623</td>\n",
       "      <td>-1.231184</td>\n",
       "      <td>0.221572</td>\n",
       "      <td>-0.354096</td>\n",
       "      <td>-0.332073</td>\n",
       "      <td>0.570635</td>\n",
       "      <td>-0.150125</td>\n",
       "      <td>...</td>\n",
       "      <td>0.0005</td>\n",
       "      <td>0.0005</td>\n",
       "      <td>0.0005</td>\n",
       "      <td>0.0005</td>\n",
       "      <td>0.0005</td>\n",
       "      <td>0.0005</td>\n",
       "      <td>0.0005</td>\n",
       "      <td>0.0005</td>\n",
       "      <td>0.0005</td>\n",
       "      <td>0</td>\n",
       "    </tr>\n",
       "    <tr>\n",
       "      <th>21944</th>\n",
       "      <td>id_fffb1ceed</td>\n",
       "      <td>24</td>\n",
       "      <td>D2</td>\n",
       "      <td>0.217613</td>\n",
       "      <td>-0.027031</td>\n",
       "      <td>-0.237430</td>\n",
       "      <td>-0.787215</td>\n",
       "      <td>-0.677817</td>\n",
       "      <td>0.919474</td>\n",
       "      <td>0.742866</td>\n",
       "      <td>...</td>\n",
       "      <td>0.0005</td>\n",
       "      <td>0.0005</td>\n",
       "      <td>0.0005</td>\n",
       "      <td>0.0005</td>\n",
       "      <td>0.0005</td>\n",
       "      <td>0.0005</td>\n",
       "      <td>0.0005</td>\n",
       "      <td>0.0005</td>\n",
       "      <td>0.0005</td>\n",
       "      <td>2</td>\n",
       "    </tr>\n",
       "    <tr>\n",
       "      <th>21945</th>\n",
       "      <td>id_fffb70c0c</td>\n",
       "      <td>24</td>\n",
       "      <td>D2</td>\n",
       "      <td>-1.914666</td>\n",
       "      <td>0.581880</td>\n",
       "      <td>-0.588706</td>\n",
       "      <td>1.303439</td>\n",
       "      <td>-1.009079</td>\n",
       "      <td>0.852202</td>\n",
       "      <td>-0.302814</td>\n",
       "      <td>...</td>\n",
       "      <td>0.0005</td>\n",
       "      <td>0.0005</td>\n",
       "      <td>0.0005</td>\n",
       "      <td>0.0005</td>\n",
       "      <td>0.0005</td>\n",
       "      <td>0.0005</td>\n",
       "      <td>0.0005</td>\n",
       "      <td>0.0005</td>\n",
       "      <td>0.0005</td>\n",
       "      <td>0</td>\n",
       "    </tr>\n",
       "    <tr>\n",
       "      <th>21946</th>\n",
       "      <td>id_fffcb9e7c</td>\n",
       "      <td>24</td>\n",
       "      <td>D1</td>\n",
       "      <td>0.826302</td>\n",
       "      <td>0.411235</td>\n",
       "      <td>0.433297</td>\n",
       "      <td>0.307575</td>\n",
       "      <td>1.075324</td>\n",
       "      <td>-0.024425</td>\n",
       "      <td>0.051483</td>\n",
       "      <td>...</td>\n",
       "      <td>0.0005</td>\n",
       "      <td>0.0005</td>\n",
       "      <td>0.0005</td>\n",
       "      <td>0.0005</td>\n",
       "      <td>0.0005</td>\n",
       "      <td>0.0005</td>\n",
       "      <td>0.0005</td>\n",
       "      <td>0.0005</td>\n",
       "      <td>0.0005</td>\n",
       "      <td>3</td>\n",
       "    </tr>\n",
       "    <tr>\n",
       "      <th>21947</th>\n",
       "      <td>id_ffffdd77b</td>\n",
       "      <td>72</td>\n",
       "      <td>D1</td>\n",
       "      <td>-1.245739</td>\n",
       "      <td>1.567230</td>\n",
       "      <td>-0.269829</td>\n",
       "      <td>1.092958</td>\n",
       "      <td>-0.515819</td>\n",
       "      <td>-2.091765</td>\n",
       "      <td>-1.627645</td>\n",
       "      <td>...</td>\n",
       "      <td>0.0005</td>\n",
       "      <td>0.0005</td>\n",
       "      <td>0.0005</td>\n",
       "      <td>0.0005</td>\n",
       "      <td>0.0005</td>\n",
       "      <td>0.0005</td>\n",
       "      <td>0.0005</td>\n",
       "      <td>0.0005</td>\n",
       "      <td>0.0005</td>\n",
       "      <td>1</td>\n",
       "    </tr>\n",
       "  </tbody>\n",
       "</table>\n",
       "<p>21948 rows × 1417 columns</p>\n",
       "</div>"
      ],
      "text/plain": [
       "             sig_id  cp_time cp_dose       g-0       g-1       g-2       g-3  \\\n",
       "0      id_000644bb2       24      D1  1.146806  0.902075 -0.418339 -0.961202   \n",
       "1      id_000779bfc       72      D1  0.128824  0.676862  0.274345  0.090495   \n",
       "2      id_000a6266a       48      D1  0.790372  0.939951  1.428097 -0.121817   \n",
       "3      id_0015fd391       48      D1 -0.729866 -0.277163 -0.441200  0.766612   \n",
       "4      id_001626bd3       72      D2 -0.444558 -0.481202  0.974729  0.977467   \n",
       "...             ...      ...     ...       ...       ...       ...       ...   \n",
       "21943  id_fff8c2444       72      D1  0.247623 -1.231184  0.221572 -0.354096   \n",
       "21944  id_fffb1ceed       24      D2  0.217613 -0.027031 -0.237430 -0.787215   \n",
       "21945  id_fffb70c0c       24      D2 -1.914666  0.581880 -0.588706  1.303439   \n",
       "21946  id_fffcb9e7c       24      D1  0.826302  0.411235  0.433297  0.307575   \n",
       "21947  id_ffffdd77b       72      D1 -1.245739  1.567230 -0.269829  1.092958   \n",
       "\n",
       "            g-4       g-5       g-6  ...  vasopressin_receptor_antagonist  \\\n",
       "0     -0.254770 -1.021300 -1.369236  ...                           0.0005   \n",
       "1      1.208863  0.688965  0.316734  ...                           0.0005   \n",
       "2     -0.002067  1.495091  0.238763  ...                           0.0005   \n",
       "3      2.347817 -0.862761 -2.308829  ...                           0.0005   \n",
       "4      1.468304 -0.874772 -0.372682  ...                           0.0005   \n",
       "...         ...       ...       ...  ...                              ...   \n",
       "21943 -0.332073  0.570635 -0.150125  ...                           0.0005   \n",
       "21944 -0.677817  0.919474  0.742866  ...                           0.0005   \n",
       "21945 -1.009079  0.852202 -0.302814  ...                           0.0005   \n",
       "21946  1.075324 -0.024425  0.051483  ...                           0.0005   \n",
       "21947 -0.515819 -2.091765 -1.627645  ...                           0.0005   \n",
       "\n",
       "       ve-cadherin_antagonist  vesicular_monoamine_transporter_inhibitor  \\\n",
       "0                      0.0005                                     0.0005   \n",
       "1                      0.0005                                     0.0005   \n",
       "2                      0.0005                                     0.0005   \n",
       "3                      0.0005                                     0.0005   \n",
       "4                      0.0005                                     0.0005   \n",
       "...                       ...                                        ...   \n",
       "21943                  0.0005                                     0.0005   \n",
       "21944                  0.0005                                     0.0005   \n",
       "21945                  0.0005                                     0.0005   \n",
       "21946                  0.0005                                     0.0005   \n",
       "21947                  0.0005                                     0.0005   \n",
       "\n",
       "       vitamin_k_antagonist  voltage-gated_potassium_channel_activator  \\\n",
       "0                    0.0005                                     0.0005   \n",
       "1                    0.0005                                     0.0005   \n",
       "2                    0.0005                                     0.0005   \n",
       "3                    0.0005                                     0.0005   \n",
       "4                    0.0005                                     0.0005   \n",
       "...                     ...                                        ...   \n",
       "21943                0.0005                                     0.0005   \n",
       "21944                0.0005                                     0.0005   \n",
       "21945                0.0005                                     0.0005   \n",
       "21946                0.0005                                     0.0005   \n",
       "21947                0.0005                                     0.0005   \n",
       "\n",
       "       voltage-gated_sodium_channel_blocker  wdr5_mll_interaction_inhibitor  \\\n",
       "0                                    0.0005                          0.0005   \n",
       "1                                    0.0005                          0.0005   \n",
       "2                                    0.0005                          0.0005   \n",
       "3                                    0.0005                          0.0005   \n",
       "4                                    0.0005                          0.0005   \n",
       "...                                     ...                             ...   \n",
       "21943                                0.0005                          0.0005   \n",
       "21944                                0.0005                          0.0005   \n",
       "21945                                0.0005                          0.0005   \n",
       "21946                                0.0005                          0.0005   \n",
       "21947                                0.0005                          0.0005   \n",
       "\n",
       "       xanthine_oxidase_inhibitor  xiap_inhibitor  kfold  \n",
       "0                          0.0005          0.0005      0  \n",
       "1                          0.0005          0.0005      3  \n",
       "2                          0.0005          0.0005      4  \n",
       "3                          0.0005          0.0005      2  \n",
       "4                          0.0005          0.0005      1  \n",
       "...                           ...             ...    ...  \n",
       "21943                      0.0005          0.0005      0  \n",
       "21944                      0.0005          0.0005      2  \n",
       "21945                      0.0005          0.0005      0  \n",
       "21946                      0.0005          0.0005      3  \n",
       "21947                      0.0005          0.0005      1  \n",
       "\n",
       "[21948 rows x 1417 columns]"
      ]
     },
     "execution_count": 21,
     "metadata": {},
     "output_type": "execute_result"
    }
   ],
   "source": [
    "folds = train.copy()\n",
    "\n",
    "mskf = MultilabelStratifiedKFold(n_splits=NFOLDS)\n",
    "\n",
    "for f, (t_idx, v_idx) in enumerate(mskf.split(X=train, y=target)):\n",
    "    folds.loc[v_idx, 'kfold'] = int(f)\n",
    "\n",
    "folds['kfold'] = folds['kfold'].astype(int)\n",
    "folds"
   ]
  },
  {
   "cell_type": "code",
   "execution_count": 22,
   "metadata": {
    "execution": {
     "iopub.execute_input": "2020-11-26T05:28:09.433877Z",
     "iopub.status.busy": "2020-11-26T05:28:09.432883Z",
     "iopub.status.idle": "2020-11-26T05:28:09.442544Z",
     "shell.execute_reply": "2020-11-26T05:28:09.443132Z"
    },
    "papermill": {
     "duration": 0.091037,
     "end_time": "2020-11-26T05:28:09.443294",
     "exception": false,
     "start_time": "2020-11-26T05:28:09.352257",
     "status": "completed"
    },
    "tags": []
   },
   "outputs": [
    {
     "name": "stdout",
     "output_type": "stream",
     "text": [
      "(21948, 1416)\n",
      "(21948, 1417)\n",
      "(3624, 1085)\n",
      "(21948, 332)\n",
      "(3982, 207)\n"
     ]
    }
   ],
   "source": [
    "print(train.shape)\n",
    "print(folds.shape)\n",
    "print(test.shape)\n",
    "print(target.shape)\n",
    "print(sample_submission.shape)"
   ]
  },
  {
   "cell_type": "code",
   "execution_count": 23,
   "metadata": {
    "execution": {
     "iopub.execute_input": "2020-11-26T05:28:09.606553Z",
     "iopub.status.busy": "2020-11-26T05:28:09.604376Z",
     "iopub.status.idle": "2020-11-26T05:28:09.607372Z",
     "shell.execute_reply": "2020-11-26T05:28:09.608114Z"
    },
    "papermill": {
     "duration": 0.091446,
     "end_time": "2020-11-26T05:28:09.608267",
     "exception": false,
     "start_time": "2020-11-26T05:28:09.516821",
     "status": "completed"
    },
    "tags": []
   },
   "outputs": [],
   "source": [
    "class MoADataset:\n",
    "    def __init__(self, features, targets):\n",
    "        self.features = features\n",
    "        self.targets = targets\n",
    "\n",
    "    def __len__(self):\n",
    "        return (self.features.shape[0])\n",
    "\n",
    "    def __getitem__(self, idx):\n",
    "        dct = {\n",
    "            'x': torch.tensor(self.features[idx, :], dtype=torch.float),\n",
    "            'y': torch.tensor(self.targets[idx, :], dtype=torch.float)\n",
    "        }\n",
    "        return dct\n",
    "\n",
    "\n",
    "class TestDataset:\n",
    "    def __init__(self, features):\n",
    "        self.features = features\n",
    "\n",
    "    def __len__(self):\n",
    "        return (self.features.shape[0])\n",
    "\n",
    "    def __getitem__(self, idx):\n",
    "        dct = {'x': torch.tensor(self.features[idx, :], dtype=torch.float)}\n",
    "        return dct"
   ]
  },
  {
   "cell_type": "code",
   "execution_count": 24,
   "metadata": {
    "execution": {
     "iopub.execute_input": "2020-11-26T05:28:09.775708Z",
     "iopub.status.busy": "2020-11-26T05:28:09.774627Z",
     "iopub.status.idle": "2020-11-26T05:28:09.777291Z",
     "shell.execute_reply": "2020-11-26T05:28:09.777884Z"
    },
    "papermill": {
     "duration": 0.095633,
     "end_time": "2020-11-26T05:28:09.778024",
     "exception": false,
     "start_time": "2020-11-26T05:28:09.682391",
     "status": "completed"
    },
    "tags": []
   },
   "outputs": [],
   "source": [
    "def train_fn(model, optimizer, scheduler, loss_fn, dataloader, device):\n",
    "    model.train()\n",
    "    final_loss = 0\n",
    "\n",
    "    for data in dataloader:\n",
    "        optimizer.zero_grad()\n",
    "        inputs, targets = data['x'].to(device), data['y'].to(device)\n",
    "        #         print(inputs.shape)\n",
    "        outputs = model(inputs)\n",
    "        loss = loss_fn(outputs, targets)\n",
    "        loss.backward()\n",
    "        optimizer.step()\n",
    "        scheduler.step()\n",
    "\n",
    "        final_loss += loss.item()\n",
    "\n",
    "    final_loss /= len(dataloader)\n",
    "\n",
    "    return final_loss\n",
    "\n",
    "\n",
    "def valid_fn(model, loss_fn, dataloader, device):\n",
    "    model.eval()\n",
    "    final_loss = 0\n",
    "    valid_preds = []\n",
    "\n",
    "    for data in dataloader:\n",
    "        inputs, targets = data['x'].to(device), data['y'].to(device)\n",
    "        outputs = model(inputs)\n",
    "        loss = loss_fn(outputs, targets)\n",
    "\n",
    "        final_loss += loss.item()\n",
    "        valid_preds.append(outputs.sigmoid().detach().cpu().numpy())\n",
    "\n",
    "    final_loss /= len(dataloader)\n",
    "    valid_preds = np.concatenate(valid_preds)\n",
    "\n",
    "    return final_loss, valid_preds\n",
    "\n",
    "\n",
    "def inference_fn(model, dataloader, device):\n",
    "    model.eval()\n",
    "    preds = []\n",
    "\n",
    "    for data in dataloader:\n",
    "        inputs = data['x'].to(device)\n",
    "\n",
    "        with torch.no_grad():\n",
    "            outputs = model(inputs)\n",
    "\n",
    "        preds.append(outputs.sigmoid().detach().cpu().numpy())\n",
    "\n",
    "    preds = np.concatenate(preds)\n",
    "\n",
    "    return preds"
   ]
  },
  {
   "cell_type": "code",
   "execution_count": 25,
   "metadata": {
    "execution": {
     "iopub.execute_input": "2020-11-26T05:28:09.942018Z",
     "iopub.status.busy": "2020-11-26T05:28:09.940914Z",
     "iopub.status.idle": "2020-11-26T05:28:09.943651Z",
     "shell.execute_reply": "2020-11-26T05:28:09.944337Z"
    },
    "papermill": {
     "duration": 0.092238,
     "end_time": "2020-11-26T05:28:09.944483",
     "exception": false,
     "start_time": "2020-11-26T05:28:09.852245",
     "status": "completed"
    },
    "tags": []
   },
   "outputs": [],
   "source": [
    "class Model(nn.Module):\n",
    "    def __init__(self, num_features, num_targets, hidden_size):\n",
    "        super(Model, self).__init__()\n",
    "        self.batch_norm1 = nn.BatchNorm1d(num_features)\n",
    "        self.dropout1 = nn.Dropout(0.15)\n",
    "        self.dense1 = nn.utils.weight_norm(nn.Linear(num_features,\n",
    "                                                     hidden_size))\n",
    "\n",
    "        self.batch_norm2 = nn.BatchNorm1d(hidden_size)\n",
    "        self.dropout2 = nn.Dropout(0.3)\n",
    "        self.dense2 = nn.Linear(hidden_size, hidden_size)\n",
    "\n",
    "        self.batch_norm3 = nn.BatchNorm1d(hidden_size)\n",
    "        self.dropout3 = nn.Dropout(0.25)\n",
    "        self.dense3 = nn.utils.weight_norm(nn.Linear(hidden_size, num_targets))\n",
    "\n",
    "    def forward(self, x):\n",
    "        x = self.batch_norm1(x)\n",
    "        x = self.dropout1(x)\n",
    "        x = F.leaky_relu(self.dense1(x))\n",
    "\n",
    "        x = self.batch_norm2(x)\n",
    "        x = self.dropout2(x)\n",
    "        x = F.leaky_relu(self.dense2(x))\n",
    "\n",
    "        x = self.batch_norm3(x)\n",
    "        x = self.dropout3(x)\n",
    "        x = self.dense3(x)\n",
    "\n",
    "        return x"
   ]
  },
  {
   "cell_type": "code",
   "execution_count": 26,
   "metadata": {
    "execution": {
     "iopub.execute_input": "2020-11-26T05:28:10.323279Z",
     "iopub.status.busy": "2020-11-26T05:28:10.319718Z",
     "iopub.status.idle": "2020-11-26T05:28:10.324499Z",
     "shell.execute_reply": "2020-11-26T05:28:10.325376Z"
    },
    "papermill": {
     "duration": 0.125648,
     "end_time": "2020-11-26T05:28:10.325587",
     "exception": false,
     "start_time": "2020-11-26T05:28:10.199939",
     "status": "completed"
    },
    "tags": []
   },
   "outputs": [],
   "source": [
    "def process_data(data):\n",
    "\n",
    "    data = pd.get_dummies(data, columns=['cp_time', 'cp_dose'])\n",
    "    #     data.loc[:, 'cp_time'] = data.loc[:, 'cp_time'].map({24: 0, 48: 1, 72: 2})\n",
    "    #     data.loc[:, 'cp_dose'] = data.loc[:, 'cp_dose'].map({'D1': 0, 'D2': 1})\n",
    "\n",
    "    # --------------------- Normalize ---------------------\n",
    "    #     for col in GENES:\n",
    "    #         data[col] = (data[col]-np.mean(data[col])) / (np.std(data[col]))\n",
    "\n",
    "    #     for col in CELLS:\n",
    "    #         data[col] = (data[col]-np.mean(data[col])) / (np.std(data[col]))\n",
    "\n",
    "    #--------------------- Removing Skewness ---------------------\n",
    "    #     for col in GENES + CELLS:\n",
    "    #         if(abs(data[col].skew()) > 0.75):\n",
    "\n",
    "    #             if(data[col].skew() < 0): # neg-skewness\n",
    "    #                 data[col] = data[col].max() - data[col] + 1\n",
    "    #                 data[col] = np.sqrt(data[col])\n",
    "\n",
    "    #             else:\n",
    "    #                 data[col] = np.sqrt(data[col])\n",
    "\n",
    "    return data"
   ]
  },
  {
   "cell_type": "code",
   "execution_count": 27,
   "metadata": {
    "execution": {
     "iopub.execute_input": "2020-11-26T05:28:10.553740Z",
     "iopub.status.busy": "2020-11-26T05:28:10.552692Z",
     "iopub.status.idle": "2020-11-26T05:28:10.738373Z",
     "shell.execute_reply": "2020-11-26T05:28:10.739650Z"
    },
    "papermill": {
     "duration": 0.307386,
     "end_time": "2020-11-26T05:28:10.739875",
     "exception": false,
     "start_time": "2020-11-26T05:28:10.432489",
     "status": "completed"
    },
    "tags": []
   },
   "outputs": [
    {
     "data": {
      "text/plain": [
       "1087"
      ]
     },
     "execution_count": 27,
     "metadata": {},
     "output_type": "execute_result"
    }
   ],
   "source": [
    "feature_cols = [c for c in process_data(folds).columns if c not in target_cols]\n",
    "feature_cols = [c for c in feature_cols if c not in ['kfold', 'sig_id']]\n",
    "len(feature_cols)"
   ]
  },
  {
   "cell_type": "code",
   "execution_count": 28,
   "metadata": {
    "execution": {
     "iopub.execute_input": "2020-11-26T05:28:10.934351Z",
     "iopub.status.busy": "2020-11-26T05:28:10.933270Z",
     "iopub.status.idle": "2020-11-26T05:28:10.935958Z",
     "shell.execute_reply": "2020-11-26T05:28:10.936601Z"
    },
    "papermill": {
     "duration": 0.083777,
     "end_time": "2020-11-26T05:28:10.936745",
     "exception": false,
     "start_time": "2020-11-26T05:28:10.852968",
     "status": "completed"
    },
    "tags": []
   },
   "outputs": [],
   "source": [
    "num_features = len(feature_cols)\n",
    "num_targets = len(target_cols)\n",
    "hidden_size = 2048\n",
    "# hidden_size=4096\n",
    "# hidden_size=9192"
   ]
  },
  {
   "cell_type": "code",
   "execution_count": 29,
   "metadata": {
    "execution": {
     "iopub.execute_input": "2020-11-26T05:28:11.122808Z",
     "iopub.status.busy": "2020-11-26T05:28:11.121666Z",
     "iopub.status.idle": "2020-11-26T05:28:11.151735Z",
     "shell.execute_reply": "2020-11-26T05:28:11.151016Z"
    },
    "papermill": {
     "duration": 0.139806,
     "end_time": "2020-11-26T05:28:11.151872",
     "exception": false,
     "start_time": "2020-11-26T05:28:11.012066",
     "status": "completed"
    },
    "tags": []
   },
   "outputs": [],
   "source": [
    "def run_training(fold, seed):\n",
    "\n",
    "    seed_everything(seed)\n",
    "\n",
    "    train = process_data(folds)\n",
    "    test_ = process_data(test)\n",
    "\n",
    "    trn_idx = train[train['kfold'] != fold].index\n",
    "    val_idx = train[train['kfold'] == fold].index\n",
    "\n",
    "    train_df = train[train['kfold'] != fold].reset_index(drop=True)\n",
    "    valid_df = train[train['kfold'] == fold].reset_index(drop=True)\n",
    "\n",
    "    x_train, y_train = train_df[feature_cols].values, train_df[\n",
    "        target_cols].values\n",
    "    x_valid, y_valid = valid_df[feature_cols].values, valid_df[\n",
    "        target_cols].values\n",
    "\n",
    "    train_dataset = MoADataset(x_train, y_train)\n",
    "    valid_dataset = MoADataset(x_valid, y_valid)\n",
    "    trainloader = torch.utils.data.DataLoader(train_dataset,\n",
    "                                              batch_size=BATCH_SIZE,\n",
    "                                              shuffle=True)\n",
    "    validloader = torch.utils.data.DataLoader(valid_dataset,\n",
    "                                              batch_size=INFER_BATCH_SIZE,\n",
    "                                              shuffle=False)\n",
    "\n",
    "    model = Model(\n",
    "        num_features=num_features,\n",
    "        num_targets=num_targets,\n",
    "        hidden_size=hidden_size,\n",
    "    )\n",
    "\n",
    "    model.to(DEVICE)\n",
    "\n",
    "    optimizer = torch.optim.Adam(model.parameters(),\n",
    "                                 lr=5e-3,\n",
    "                                 weight_decay=WEIGHT_DECAY)\n",
    "    scheduler = optim.lr_scheduler.OneCycleLR(optimizer=optimizer,\n",
    "                                              pct_start=0.2,\n",
    "                                              div_factor=1e3,\n",
    "                                              max_lr=1e-2,\n",
    "                                              epochs=EPOCHS,\n",
    "                                              steps_per_epoch=len(trainloader))\n",
    "\n",
    "    loss_fn = nn.BCEWithLogitsLoss()\n",
    "\n",
    "    early_stopping_steps = EARLY_STOPPING_STEPS\n",
    "    early_step = 0\n",
    "    oof = np.zeros((len(train), target.iloc[:, 1:].shape[1]))\n",
    "    best_loss = np.inf\n",
    "\n",
    "    for epoch in range(EPOCHS):\n",
    "\n",
    "        train_loss = train_fn(model, optimizer, scheduler, loss_fn,\n",
    "                              trainloader, DEVICE)\n",
    "        print(\n",
    "            f\"SEED: {seed}, FOLD: {fold}, EPOCH: {epoch}, train_loss: {train_loss}\"\n",
    "        )\n",
    "        valid_loss, valid_preds = valid_fn(model, loss_fn, validloader, DEVICE)\n",
    "        print(\n",
    "            f\"SEED: {seed} ,FOLD: {fold}, EPOCH: {epoch}, valid_loss: {valid_loss}\"\n",
    "        )\n",
    "\n",
    "        if valid_loss < best_loss:\n",
    "\n",
    "            best_loss = valid_loss\n",
    "            oof[val_idx] = valid_preds\n",
    "            torch.save(model.state_dict(),\n",
    "                       f\"model/{NB}-nonscored1-SEED{seed}-FOLD{fold}_.pth\")\n",
    "\n",
    "        elif (EARLY_STOP == True):\n",
    "\n",
    "            early_step += 1\n",
    "            if (early_step >= early_stopping_steps):\n",
    "                break\n",
    "\n",
    "    #--------------------- PREDICTION---------------------\n",
    "    x_test = test_[feature_cols].values\n",
    "    testdataset = TestDataset(x_test)\n",
    "    testloader = torch.utils.data.DataLoader(testdataset,\n",
    "                                             batch_size=INFER_BATCH_SIZE,\n",
    "                                             shuffle=False)\n",
    "\n",
    "    model = Model(\n",
    "        num_features=num_features,\n",
    "        num_targets=num_targets,\n",
    "        hidden_size=hidden_size,\n",
    "    )\n",
    "\n",
    "    model.load_state_dict(\n",
    "        torch.load(f\"model/{NB}-nonscored1-SEED{seed}-FOLD{fold}_.pth\"))\n",
    "    model.to(DEVICE)\n",
    "\n",
    "    predictions = np.zeros((len(test_), target.iloc[:, 1:].shape[1]))\n",
    "    predictions = inference_fn(model, testloader, DEVICE)\n",
    "\n",
    "    return oof, predictions"
   ]
  },
  {
   "cell_type": "code",
   "execution_count": 30,
   "metadata": {
    "execution": {
     "iopub.execute_input": "2020-11-26T05:28:11.321952Z",
     "iopub.status.busy": "2020-11-26T05:28:11.321040Z",
     "iopub.status.idle": "2020-11-26T05:28:11.325097Z",
     "shell.execute_reply": "2020-11-26T05:28:11.325648Z"
    },
    "papermill": {
     "duration": 0.087906,
     "end_time": "2020-11-26T05:28:11.325803",
     "exception": false,
     "start_time": "2020-11-26T05:28:11.237897",
     "status": "completed"
    },
    "tags": []
   },
   "outputs": [],
   "source": [
    "def run_k_fold(NFOLDS, seed):\n",
    "    oof = np.zeros((len(train), len(target_cols)))\n",
    "    predictions = np.zeros((len(test), len(target_cols)))\n",
    "\n",
    "    for fold in range(NFOLDS):\n",
    "        oof_, pred_ = run_training(fold, seed)\n",
    "\n",
    "        predictions += pred_ / NFOLDS\n",
    "        oof += oof_\n",
    "\n",
    "    return oof, predictions"
   ]
  },
  {
   "cell_type": "code",
   "execution_count": null,
   "metadata": {
    "execution": {
     "iopub.execute_input": "2020-11-26T05:28:11.489483Z",
     "iopub.status.busy": "2020-11-26T05:28:11.487773Z",
     "iopub.status.idle": "2020-11-26T05:39:54.203525Z",
     "shell.execute_reply": "2020-11-26T05:39:54.204298Z"
    },
    "papermill": {
     "duration": 702.8027,
     "end_time": "2020-11-26T05:39:54.204518",
     "exception": false,
     "start_time": "2020-11-26T05:28:11.401818",
     "status": "completed"
    },
    "scrolled": true,
    "tags": []
   },
   "outputs": [
    {
     "name": "stdout",
     "output_type": "stream",
     "text": [
      "SEED: 940, FOLD: 0, EPOCH: 0, train_loss: 0.6458044633053351\n",
      "SEED: 940 ,FOLD: 0, EPOCH: 0, valid_loss: 0.23897353808085123\n",
      "SEED: 940, FOLD: 0, EPOCH: 1, train_loss: 0.03576180375302616\n",
      "SEED: 940 ,FOLD: 0, EPOCH: 1, valid_loss: 0.009251730516552925\n",
      "SEED: 940, FOLD: 0, EPOCH: 2, train_loss: 0.00939711653020071\n",
      "SEED: 940 ,FOLD: 0, EPOCH: 2, valid_loss: 0.009194845540655984\n",
      "SEED: 940, FOLD: 0, EPOCH: 3, train_loss: 0.00933286329002484\n",
      "SEED: 940 ,FOLD: 0, EPOCH: 3, valid_loss: 0.009400543756783009\n",
      "SEED: 940, FOLD: 0, EPOCH: 4, train_loss: 0.009148614589070929\n",
      "SEED: 940 ,FOLD: 0, EPOCH: 4, valid_loss: 0.009084091625279851\n",
      "SEED: 940, FOLD: 0, EPOCH: 5, train_loss: 0.008975854771130758\n",
      "SEED: 940 ,FOLD: 0, EPOCH: 5, valid_loss: 0.009017287960482968\n",
      "SEED: 940, FOLD: 0, EPOCH: 6, train_loss: 0.009263736951718296\n",
      "SEED: 940 ,FOLD: 0, EPOCH: 6, valid_loss: 0.010180441559188895\n",
      "SEED: 940, FOLD: 0, EPOCH: 7, train_loss: 0.009065507411740828\n",
      "SEED: 940 ,FOLD: 0, EPOCH: 7, valid_loss: 0.008972486377590232\n",
      "SEED: 940, FOLD: 0, EPOCH: 8, train_loss: 0.008866744635599678\n",
      "SEED: 940 ,FOLD: 0, EPOCH: 8, valid_loss: 0.008936521286765734\n",
      "SEED: 940, FOLD: 0, EPOCH: 9, train_loss: 0.008783842092784851\n",
      "SEED: 940 ,FOLD: 0, EPOCH: 9, valid_loss: 0.008880904772215419\n",
      "SEED: 940, FOLD: 0, EPOCH: 10, train_loss: 0.008700150200098322\n",
      "SEED: 940 ,FOLD: 0, EPOCH: 10, valid_loss: 0.00884173841526111\n",
      "SEED: 940, FOLD: 0, EPOCH: 11, train_loss: 0.008591166953893675\n",
      "SEED: 940 ,FOLD: 0, EPOCH: 11, valid_loss: 0.008801645392345058\n",
      "SEED: 940, FOLD: 0, EPOCH: 12, train_loss: 0.008462620683122372\n",
      "SEED: 940 ,FOLD: 0, EPOCH: 12, valid_loss: 0.008769266100393401\n",
      "SEED: 940, FOLD: 0, EPOCH: 13, train_loss: 0.008324480527822954\n",
      "SEED: 940 ,FOLD: 0, EPOCH: 13, valid_loss: 0.008744211763971381\n",
      "SEED: 940, FOLD: 0, EPOCH: 14, train_loss: 0.00823303283718617\n",
      "SEED: 940 ,FOLD: 0, EPOCH: 14, valid_loss: 0.008736305249234041\n",
      "SEED: 940, FOLD: 1, EPOCH: 0, train_loss: 0.6477137588072515\n",
      "SEED: 940 ,FOLD: 1, EPOCH: 0, valid_loss: 0.24678095844056872\n",
      "SEED: 940, FOLD: 1, EPOCH: 1, train_loss: 0.03698636745305165\n",
      "SEED: 940 ,FOLD: 1, EPOCH: 1, valid_loss: 0.011859886762168672\n",
      "SEED: 940, FOLD: 1, EPOCH: 2, train_loss: 0.009666460795678955\n",
      "SEED: 940 ,FOLD: 1, EPOCH: 2, valid_loss: 0.009119562183817228\n",
      "SEED: 940, FOLD: 1, EPOCH: 3, train_loss: 0.00933309460895649\n",
      "SEED: 940 ,FOLD: 1, EPOCH: 3, valid_loss: 0.009200091370277934\n",
      "SEED: 940, FOLD: 1, EPOCH: 4, train_loss: 0.009122749304641848\n",
      "SEED: 940 ,FOLD: 1, EPOCH: 4, valid_loss: 0.009111861284408305\n",
      "SEED: 940, FOLD: 1, EPOCH: 5, train_loss: 0.009010098726097225\n",
      "SEED: 940 ,FOLD: 1, EPOCH: 5, valid_loss: 0.009010520039333237\n",
      "SEED: 940, FOLD: 1, EPOCH: 6, train_loss: 0.009450300380695557\n",
      "SEED: 940 ,FOLD: 1, EPOCH: 6, valid_loss: 0.009647541162040498\n",
      "SEED: 940, FOLD: 1, EPOCH: 7, train_loss: 0.009037650257780932\n",
      "SEED: 940 ,FOLD: 1, EPOCH: 7, valid_loss: 0.00899433706783586\n",
      "SEED: 940, FOLD: 1, EPOCH: 8, train_loss: 0.008814863664894432\n",
      "SEED: 940 ,FOLD: 1, EPOCH: 8, valid_loss: 0.008962463691002794\n",
      "SEED: 940, FOLD: 1, EPOCH: 9, train_loss: 0.008728665556164755\n",
      "SEED: 940 ,FOLD: 1, EPOCH: 9, valid_loss: 0.008876010154684385\n",
      "SEED: 940, FOLD: 1, EPOCH: 10, train_loss: 0.008656405742563631\n",
      "SEED: 940 ,FOLD: 1, EPOCH: 10, valid_loss: 0.00900589550534884\n",
      "SEED: 940, FOLD: 1, EPOCH: 11, train_loss: 0.008550361790896757\n",
      "SEED: 940 ,FOLD: 1, EPOCH: 11, valid_loss: 0.008790804487135675\n",
      "SEED: 940, FOLD: 1, EPOCH: 12, train_loss: 0.008422809261558712\n",
      "SEED: 940 ,FOLD: 1, EPOCH: 12, valid_loss: 0.008761676856213145\n",
      "SEED: 940, FOLD: 1, EPOCH: 13, train_loss: 0.008280923623807621\n",
      "SEED: 940 ,FOLD: 1, EPOCH: 13, valid_loss: 0.008745687082409859\n",
      "SEED: 940, FOLD: 1, EPOCH: 14, train_loss: 0.008193413511026596\n",
      "SEED: 940 ,FOLD: 1, EPOCH: 14, valid_loss: 0.008753955467707582\n",
      "SEED: 940, FOLD: 2, EPOCH: 0, train_loss: 0.6474345613648926\n",
      "SEED: 940 ,FOLD: 2, EPOCH: 0, valid_loss: 0.24718117548359764\n",
      "SEED: 940, FOLD: 2, EPOCH: 1, train_loss: 0.036015446378808956\n",
      "SEED: 940 ,FOLD: 2, EPOCH: 1, valid_loss: 0.009472452518012788\n",
      "SEED: 940, FOLD: 2, EPOCH: 2, train_loss: 0.009350001110114914\n",
      "SEED: 940 ,FOLD: 2, EPOCH: 2, valid_loss: 0.00927402399894264\n",
      "SEED: 940, FOLD: 2, EPOCH: 3, train_loss: 0.010435396805405617\n",
      "SEED: 940 ,FOLD: 2, EPOCH: 3, valid_loss: 0.07162241472138299\n",
      "SEED: 940, FOLD: 2, EPOCH: 4, train_loss: 0.009671286936255468\n",
      "SEED: 940 ,FOLD: 2, EPOCH: 4, valid_loss: 0.009293084653715292\n",
      "SEED: 940, FOLD: 2, EPOCH: 5, train_loss: 0.009154647278289\n",
      "SEED: 940 ,FOLD: 2, EPOCH: 5, valid_loss: 0.009111957107153203\n",
      "SEED: 940, FOLD: 2, EPOCH: 6, train_loss: 0.008985500890707624\n",
      "SEED: 940 ,FOLD: 2, EPOCH: 6, valid_loss: 0.00908092295544015\n",
      "SEED: 940, FOLD: 2, EPOCH: 7, train_loss: 0.008894580598596645\n",
      "SEED: 940 ,FOLD: 2, EPOCH: 7, valid_loss: 0.008977582781679101\n",
      "SEED: 940, FOLD: 2, EPOCH: 8, train_loss: 0.00880554134188139\n",
      "SEED: 940 ,FOLD: 2, EPOCH: 8, valid_loss: 0.008938957937061787\n",
      "SEED: 940, FOLD: 2, EPOCH: 9, train_loss: 0.008704039652872345\n",
      "SEED: 940 ,FOLD: 2, EPOCH: 9, valid_loss: 0.008896002235511938\n",
      "SEED: 940, FOLD: 2, EPOCH: 10, train_loss: 0.008596178738103397\n",
      "SEED: 940 ,FOLD: 2, EPOCH: 10, valid_loss: 0.008865307913058333\n",
      "SEED: 940, FOLD: 2, EPOCH: 11, train_loss: 0.008473961168657179\n",
      "SEED: 940 ,FOLD: 2, EPOCH: 11, valid_loss: 0.008849200896090932\n",
      "SEED: 940, FOLD: 2, EPOCH: 12, train_loss: 0.008317837694092937\n",
      "SEED: 940 ,FOLD: 2, EPOCH: 12, valid_loss: 0.008790154113537736\n",
      "SEED: 940, FOLD: 2, EPOCH: 13, train_loss: 0.008138796166125416\n",
      "SEED: 940 ,FOLD: 2, EPOCH: 13, valid_loss: 0.008771178623040518\n",
      "SEED: 940, FOLD: 2, EPOCH: 14, train_loss: 0.008025707427304293\n",
      "SEED: 940 ,FOLD: 2, EPOCH: 14, valid_loss: 0.008766290317806933\n",
      "SEED: 940, FOLD: 3, EPOCH: 0, train_loss: 0.6477155689743982\n",
      "SEED: 940 ,FOLD: 3, EPOCH: 0, valid_loss: 0.22163094911310408\n",
      "SEED: 940, FOLD: 3, EPOCH: 1, train_loss: 0.03579381798002599\n",
      "SEED: 940 ,FOLD: 3, EPOCH: 1, valid_loss: 0.009586944141321711\n",
      "SEED: 940, FOLD: 3, EPOCH: 2, train_loss: 0.009310091899680918\n",
      "SEED: 940 ,FOLD: 3, EPOCH: 2, valid_loss: 0.009444273283912076\n",
      "SEED: 940, FOLD: 3, EPOCH: 3, train_loss: 0.009161718263952196\n",
      "SEED: 940 ,FOLD: 3, EPOCH: 3, valid_loss: 0.00958287850436237\n",
      "SEED: 940, FOLD: 3, EPOCH: 4, train_loss: 0.009089211892822514\n",
      "SEED: 940 ,FOLD: 3, EPOCH: 4, valid_loss: 0.009255505373908414\n",
      "SEED: 940, FOLD: 3, EPOCH: 5, train_loss: 0.008932867782541376\n",
      "SEED: 940 ,FOLD: 3, EPOCH: 5, valid_loss: 0.009978421032428741\n",
      "SEED: 940, FOLD: 3, EPOCH: 6, train_loss: 0.009957670355620592\n",
      "SEED: 940 ,FOLD: 3, EPOCH: 6, valid_loss: 0.009423555495838324\n",
      "SEED: 940, FOLD: 3, EPOCH: 7, train_loss: 0.008991553029720333\n",
      "SEED: 940 ,FOLD: 3, EPOCH: 7, valid_loss: 0.009234628329674402\n",
      "SEED: 940, FOLD: 3, EPOCH: 8, train_loss: 0.008843366272639538\n",
      "SEED: 940 ,FOLD: 3, EPOCH: 8, valid_loss: 0.00917897859795226\n",
      "SEED: 940, FOLD: 3, EPOCH: 9, train_loss: 0.008776218556137621\n",
      "SEED: 940 ,FOLD: 3, EPOCH: 9, valid_loss: 0.009132583315173784\n",
      "SEED: 940, FOLD: 3, EPOCH: 10, train_loss: 0.008690996237261139\n",
      "SEED: 940 ,FOLD: 3, EPOCH: 10, valid_loss: 0.00909921092291673\n",
      "SEED: 940, FOLD: 3, EPOCH: 11, train_loss: 0.008594615405182476\n",
      "SEED: 940 ,FOLD: 3, EPOCH: 11, valid_loss: 0.009033793066110875\n",
      "SEED: 940, FOLD: 3, EPOCH: 12, train_loss: 0.008492866922439873\n",
      "SEED: 940 ,FOLD: 3, EPOCH: 12, valid_loss: 0.00901813991367817\n",
      "SEED: 940, FOLD: 3, EPOCH: 13, train_loss: 0.008369828513620989\n",
      "SEED: 940 ,FOLD: 3, EPOCH: 13, valid_loss: 0.009007121332817607\n",
      "SEED: 940, FOLD: 3, EPOCH: 14, train_loss: 0.008284239321137253\n",
      "SEED: 940 ,FOLD: 3, EPOCH: 14, valid_loss: 0.009001679718494415\n",
      "SEED: 940, FOLD: 4, EPOCH: 0, train_loss: 0.6484441079091334\n",
      "SEED: 940 ,FOLD: 4, EPOCH: 0, valid_loss: 0.2503463609351052\n",
      "SEED: 940, FOLD: 4, EPOCH: 1, train_loss: 0.036489894937561905\n",
      "SEED: 940 ,FOLD: 4, EPOCH: 1, valid_loss: 0.009290416518019306\n",
      "SEED: 940, FOLD: 4, EPOCH: 2, train_loss: 0.009506371830576572\n",
      "SEED: 940 ,FOLD: 4, EPOCH: 2, valid_loss: 0.00905747784094678\n",
      "SEED: 940, FOLD: 4, EPOCH: 3, train_loss: 0.00928330800725498\n",
      "SEED: 940 ,FOLD: 4, EPOCH: 3, valid_loss: 0.009070809413161542\n",
      "SEED: 940, FOLD: 4, EPOCH: 4, train_loss: 0.00924446584953778\n",
      "SEED: 940 ,FOLD: 4, EPOCH: 4, valid_loss: 0.00888034070117606\n",
      "SEED: 940, FOLD: 4, EPOCH: 5, train_loss: 0.009125426512859438\n",
      "SEED: 940 ,FOLD: 4, EPOCH: 5, valid_loss: 0.008816383468608061\n"
     ]
    },
    {
     "name": "stdout",
     "output_type": "stream",
     "text": [
      "SEED: 940, FOLD: 4, EPOCH: 6, train_loss: 0.008952772339293058\n",
      "SEED: 940 ,FOLD: 4, EPOCH: 6, valid_loss: 0.008799775917496946\n",
      "SEED: 940, FOLD: 4, EPOCH: 7, train_loss: 0.008867254244514566\n",
      "SEED: 940 ,FOLD: 4, EPOCH: 7, valid_loss: 0.008773985422319837\n",
      "SEED: 940, FOLD: 4, EPOCH: 8, train_loss: 0.008817838045997896\n",
      "SEED: 940 ,FOLD: 4, EPOCH: 8, valid_loss: 0.008596631698310375\n",
      "SEED: 940, FOLD: 4, EPOCH: 9, train_loss: 0.008740798651200274\n",
      "SEED: 940 ,FOLD: 4, EPOCH: 9, valid_loss: 0.008562602930598788\n",
      "SEED: 940, FOLD: 4, EPOCH: 10, train_loss: 0.00861561261927304\n",
      "SEED: 940 ,FOLD: 4, EPOCH: 10, valid_loss: 0.00852917641815212\n",
      "SEED: 940, FOLD: 4, EPOCH: 11, train_loss: 0.00849586079383026\n",
      "SEED: 940 ,FOLD: 4, EPOCH: 11, valid_loss: 0.008476049225363467\n",
      "SEED: 940, FOLD: 4, EPOCH: 12, train_loss: 0.008363409399770308\n",
      "SEED: 940 ,FOLD: 4, EPOCH: 12, valid_loss: 0.00843964951733748\n",
      "SEED: 940, FOLD: 4, EPOCH: 13, train_loss: 0.008220767467350199\n",
      "SEED: 940 ,FOLD: 4, EPOCH: 13, valid_loss: 0.008420105920069747\n",
      "SEED: 940, FOLD: 4, EPOCH: 14, train_loss: 0.008141571406167055\n",
      "SEED: 940 ,FOLD: 4, EPOCH: 14, valid_loss: 0.008408820256590843\n",
      "elapsed time: 65.55636310577393\n",
      "SEED: 1513, FOLD: 0, EPOCH: 0, train_loss: 0.6470375767220622\n",
      "SEED: 1513 ,FOLD: 0, EPOCH: 0, valid_loss: 0.22874678671360016\n",
      "SEED: 1513, FOLD: 0, EPOCH: 1, train_loss: 0.03616981231270061\n",
      "SEED: 1513 ,FOLD: 0, EPOCH: 1, valid_loss: 0.009292941126558516\n",
      "SEED: 1513, FOLD: 0, EPOCH: 2, train_loss: 0.009460649473349686\n",
      "SEED: 1513 ,FOLD: 0, EPOCH: 2, valid_loss: 0.009140892264743647\n",
      "SEED: 1513, FOLD: 0, EPOCH: 3, train_loss: 0.009188946147543797\n",
      "SEED: 1513 ,FOLD: 0, EPOCH: 3, valid_loss: 0.00926200569503837\n",
      "SEED: 1513, FOLD: 0, EPOCH: 4, train_loss: 0.009175369698230339\n",
      "SEED: 1513 ,FOLD: 0, EPOCH: 4, valid_loss: 0.009185984937681092\n",
      "SEED: 1513, FOLD: 0, EPOCH: 5, train_loss: 0.009045202136579632\n",
      "SEED: 1513 ,FOLD: 0, EPOCH: 5, valid_loss: 0.008992398675117228\n",
      "SEED: 1513, FOLD: 0, EPOCH: 6, train_loss: 0.008876379943736221\n",
      "SEED: 1513 ,FOLD: 0, EPOCH: 6, valid_loss: 0.008958426718082693\n",
      "SEED: 1513, FOLD: 0, EPOCH: 7, train_loss: 0.009007618350881165\n",
      "SEED: 1513 ,FOLD: 0, EPOCH: 7, valid_loss: 0.008930156628290812\n",
      "SEED: 1513, FOLD: 0, EPOCH: 8, train_loss: 0.008820364629660828\n",
      "SEED: 1513 ,FOLD: 0, EPOCH: 8, valid_loss: 0.008903545327484608\n",
      "SEED: 1513, FOLD: 0, EPOCH: 9, train_loss: 0.008702535054012053\n",
      "SEED: 1513 ,FOLD: 0, EPOCH: 9, valid_loss: 0.008837774499422975\n",
      "SEED: 1513, FOLD: 0, EPOCH: 10, train_loss: 0.00860950371682428\n",
      "SEED: 1513 ,FOLD: 0, EPOCH: 10, valid_loss: 0.008801582165890269\n",
      "SEED: 1513, FOLD: 0, EPOCH: 11, train_loss: 0.008491145534629839\n",
      "SEED: 1513 ,FOLD: 0, EPOCH: 11, valid_loss: 0.008791529366539584\n",
      "SEED: 1513, FOLD: 0, EPOCH: 12, train_loss: 0.008380584499758223\n",
      "SEED: 1513 ,FOLD: 0, EPOCH: 12, valid_loss: 0.008782623646159967\n",
      "SEED: 1513, FOLD: 0, EPOCH: 13, train_loss: 0.008221172693900871\n",
      "SEED: 1513 ,FOLD: 0, EPOCH: 13, valid_loss: 0.008720064949658182\n",
      "SEED: 1513, FOLD: 0, EPOCH: 14, train_loss: 0.008123285400316767\n",
      "SEED: 1513 ,FOLD: 0, EPOCH: 14, valid_loss: 0.008694974188175466\n",
      "SEED: 1513, FOLD: 1, EPOCH: 0, train_loss: 0.6476947056210559\n",
      "SEED: 1513 ,FOLD: 1, EPOCH: 0, valid_loss: 0.24407338599363962\n",
      "SEED: 1513, FOLD: 1, EPOCH: 1, train_loss: 0.03597930911928415\n",
      "SEED: 1513 ,FOLD: 1, EPOCH: 1, valid_loss: 0.009347609451247586\n",
      "SEED: 1513, FOLD: 1, EPOCH: 2, train_loss: 0.009701230239285074\n",
      "SEED: 1513 ,FOLD: 1, EPOCH: 2, valid_loss: 0.010224829013976786\n",
      "SEED: 1513, FOLD: 1, EPOCH: 3, train_loss: 0.009465581346033276\n",
      "SEED: 1513 ,FOLD: 1, EPOCH: 3, valid_loss: 0.009116543146471182\n",
      "SEED: 1513, FOLD: 1, EPOCH: 4, train_loss: 0.00908145590590826\n",
      "SEED: 1513 ,FOLD: 1, EPOCH: 4, valid_loss: 0.009068419018553363\n",
      "SEED: 1513, FOLD: 1, EPOCH: 5, train_loss: 0.009144126221645569\n",
      "SEED: 1513 ,FOLD: 1, EPOCH: 5, valid_loss: 0.009018283026913801\n",
      "SEED: 1513, FOLD: 1, EPOCH: 6, train_loss: 0.008879837350568909\n",
      "SEED: 1513 ,FOLD: 1, EPOCH: 6, valid_loss: 0.008963716319865651\n",
      "SEED: 1513, FOLD: 1, EPOCH: 7, train_loss: 0.008792807793487673\n",
      "SEED: 1513 ,FOLD: 1, EPOCH: 7, valid_loss: 0.008921948158078723\n",
      "SEED: 1513, FOLD: 1, EPOCH: 8, train_loss: 0.008744474871596996\n",
      "SEED: 1513 ,FOLD: 1, EPOCH: 8, valid_loss: 0.008880470568935076\n",
      "SEED: 1513, FOLD: 1, EPOCH: 9, train_loss: 0.008647275029047243\n",
      "SEED: 1513 ,FOLD: 1, EPOCH: 9, valid_loss: 0.008826040041943392\n",
      "SEED: 1513, FOLD: 1, EPOCH: 10, train_loss: 0.008565470171363457\n",
      "SEED: 1513 ,FOLD: 1, EPOCH: 10, valid_loss: 0.008783545138107406\n",
      "SEED: 1513, FOLD: 1, EPOCH: 11, train_loss: 0.008418862383974634\n",
      "SEED: 1513 ,FOLD: 1, EPOCH: 11, valid_loss: 0.008753648027777672\n",
      "SEED: 1513, FOLD: 1, EPOCH: 12, train_loss: 0.008278566648832697\n",
      "SEED: 1513 ,FOLD: 1, EPOCH: 12, valid_loss: 0.008687980886962678\n",
      "SEED: 1513, FOLD: 1, EPOCH: 13, train_loss: 0.00811847167737458\n",
      "SEED: 1513 ,FOLD: 1, EPOCH: 13, valid_loss: 0.008668514692948924\n",
      "SEED: 1513, FOLD: 1, EPOCH: 14, train_loss: 0.008021864830853714\n",
      "SEED: 1513 ,FOLD: 1, EPOCH: 14, valid_loss: 0.008664842177596357\n",
      "SEED: 1513, FOLD: 2, EPOCH: 0, train_loss: 0.6476613479679909\n",
      "SEED: 1513 ,FOLD: 2, EPOCH: 0, valid_loss: 0.2546249396271176\n",
      "SEED: 1513, FOLD: 2, EPOCH: 1, train_loss: 0.03655196015007686\n",
      "SEED: 1513 ,FOLD: 2, EPOCH: 1, valid_loss: 0.009402332517007986\n",
      "SEED: 1513, FOLD: 2, EPOCH: 2, train_loss: 0.009374997484079306\n",
      "SEED: 1513 ,FOLD: 2, EPOCH: 2, valid_loss: 0.009246876566774316\n",
      "SEED: 1513, FOLD: 2, EPOCH: 3, train_loss: 0.00926189915533515\n",
      "SEED: 1513 ,FOLD: 2, EPOCH: 3, valid_loss: 0.010041669321556887\n",
      "SEED: 1513, FOLD: 2, EPOCH: 4, train_loss: 0.009295454788683117\n",
      "SEED: 1513 ,FOLD: 2, EPOCH: 4, valid_loss: 0.009264581319358613\n",
      "SEED: 1513, FOLD: 2, EPOCH: 5, train_loss: 0.008982936595229135\n",
      "SEED: 1513 ,FOLD: 2, EPOCH: 5, valid_loss: 0.00907520360002915\n",
      "SEED: 1513, FOLD: 2, EPOCH: 6, train_loss: 0.00932967504216493\n",
      "SEED: 1513 ,FOLD: 2, EPOCH: 6, valid_loss: 0.009264466456241079\n",
      "SEED: 1513, FOLD: 2, EPOCH: 7, train_loss: 0.008977551384410564\n",
      "SEED: 1513 ,FOLD: 2, EPOCH: 7, valid_loss: 0.009014625309242142\n",
      "SEED: 1513, FOLD: 2, EPOCH: 8, train_loss: 0.008836769309920677\n",
      "SEED: 1513 ,FOLD: 2, EPOCH: 8, valid_loss: 0.008991643682950072\n",
      "SEED: 1513, FOLD: 2, EPOCH: 9, train_loss: 0.00872663243174337\n",
      "SEED: 1513 ,FOLD: 2, EPOCH: 9, valid_loss: 0.008947508823540475\n",
      "SEED: 1513, FOLD: 2, EPOCH: 10, train_loss: 0.008659198191826757\n",
      "SEED: 1513 ,FOLD: 2, EPOCH: 10, valid_loss: 0.008896273250381151\n",
      "SEED: 1513, FOLD: 2, EPOCH: 11, train_loss: 0.008540928033113048\n",
      "SEED: 1513 ,FOLD: 2, EPOCH: 11, valid_loss: 0.008823563241296344\n",
      "SEED: 1513, FOLD: 2, EPOCH: 12, train_loss: 0.008407544182694477\n",
      "SEED: 1513 ,FOLD: 2, EPOCH: 12, valid_loss: 0.008800689751903215\n",
      "SEED: 1513, FOLD: 2, EPOCH: 13, train_loss: 0.008273440527905157\n",
      "SEED: 1513 ,FOLD: 2, EPOCH: 13, valid_loss: 0.008777291617459722\n",
      "SEED: 1513, FOLD: 2, EPOCH: 14, train_loss: 0.008206307955518148\n",
      "SEED: 1513 ,FOLD: 2, EPOCH: 14, valid_loss: 0.008770452812314034\n",
      "SEED: 1513, FOLD: 3, EPOCH: 0, train_loss: 0.6475926477839982\n",
      "SEED: 1513 ,FOLD: 3, EPOCH: 0, valid_loss: 0.2232153614362081\n",
      "SEED: 1513, FOLD: 3, EPOCH: 1, train_loss: 0.035922645618194256\n",
      "SEED: 1513 ,FOLD: 3, EPOCH: 1, valid_loss: 0.00965492996490664\n",
      "SEED: 1513, FOLD: 3, EPOCH: 2, train_loss: 0.009311277351841547\n",
      "SEED: 1513 ,FOLD: 3, EPOCH: 2, valid_loss: 0.009355619239310423\n",
      "SEED: 1513, FOLD: 3, EPOCH: 3, train_loss: 0.009152791003926077\n",
      "SEED: 1513 ,FOLD: 3, EPOCH: 3, valid_loss: 0.009492801916268136\n",
      "SEED: 1513, FOLD: 3, EPOCH: 4, train_loss: 0.009142016978475494\n",
      "SEED: 1513 ,FOLD: 3, EPOCH: 4, valid_loss: 0.009428186445600457\n",
      "SEED: 1513, FOLD: 3, EPOCH: 5, train_loss: 0.008938441370222448\n",
      "SEED: 1513 ,FOLD: 3, EPOCH: 5, valid_loss: 0.00929993949830532\n",
      "SEED: 1513, FOLD: 3, EPOCH: 6, train_loss: 0.008807674232546402\n",
      "SEED: 1513 ,FOLD: 3, EPOCH: 6, valid_loss: 0.00918732231689824\n",
      "SEED: 1513, FOLD: 3, EPOCH: 7, train_loss: 0.00872615105944915\n",
      "SEED: 1513 ,FOLD: 3, EPOCH: 7, valid_loss: 0.009164015038145913\n",
      "SEED: 1513, FOLD: 3, EPOCH: 8, train_loss: 0.00866387229061861\n",
      "SEED: 1513 ,FOLD: 3, EPOCH: 8, valid_loss: 0.009198001378940212\n",
      "SEED: 1513, FOLD: 3, EPOCH: 9, train_loss: 0.008618437367882849\n",
      "SEED: 1513 ,FOLD: 3, EPOCH: 9, valid_loss: 0.009044589371316962\n"
     ]
    },
    {
     "name": "stdout",
     "output_type": "stream",
     "text": [
      "SEED: 1513, FOLD: 3, EPOCH: 10, train_loss: 0.008510033444811901\n",
      "SEED: 1513 ,FOLD: 3, EPOCH: 10, valid_loss: 0.008998410672777228\n",
      "SEED: 1513, FOLD: 3, EPOCH: 11, train_loss: 0.008380469832353401\n",
      "SEED: 1513 ,FOLD: 3, EPOCH: 11, valid_loss: 0.008958581317630079\n",
      "SEED: 1513, FOLD: 3, EPOCH: 12, train_loss: 0.008260354055496662\n",
      "SEED: 1513 ,FOLD: 3, EPOCH: 12, valid_loss: 0.008916081446740363\n",
      "SEED: 1513, FOLD: 3, EPOCH: 13, train_loss: 0.008100920593015093\n",
      "SEED: 1513 ,FOLD: 3, EPOCH: 13, valid_loss: 0.008896990161803033\n",
      "SEED: 1513, FOLD: 3, EPOCH: 14, train_loss: 0.008023450394039568\n",
      "SEED: 1513 ,FOLD: 3, EPOCH: 14, valid_loss: 0.008887458696133561\n",
      "SEED: 1513, FOLD: 4, EPOCH: 0, train_loss: 0.6479944033899169\n",
      "SEED: 1513 ,FOLD: 4, EPOCH: 0, valid_loss: 0.25152041845851475\n",
      "SEED: 1513, FOLD: 4, EPOCH: 1, train_loss: 0.03594132327893074\n",
      "SEED: 1513 ,FOLD: 4, EPOCH: 1, valid_loss: 0.009253945408595933\n",
      "SEED: 1513, FOLD: 4, EPOCH: 2, train_loss: 0.009558766661886719\n",
      "SEED: 1513 ,FOLD: 4, EPOCH: 2, valid_loss: 0.009012790293329291\n",
      "SEED: 1513, FOLD: 4, EPOCH: 3, train_loss: 0.009263538478779188\n",
      "SEED: 1513 ,FOLD: 4, EPOCH: 3, valid_loss: 0.008970231749117374\n",
      "SEED: 1513, FOLD: 4, EPOCH: 4, train_loss: 0.009544019668322542\n",
      "SEED: 1513 ,FOLD: 4, EPOCH: 4, valid_loss: 0.008925099339750078\n",
      "SEED: 1513, FOLD: 4, EPOCH: 5, train_loss: 0.009131175006969252\n",
      "SEED: 1513 ,FOLD: 4, EPOCH: 5, valid_loss: 0.008839420042932034\n",
      "SEED: 1513, FOLD: 4, EPOCH: 6, train_loss: 0.00896714533260767\n",
      "SEED: 1513 ,FOLD: 4, EPOCH: 6, valid_loss: 0.008756407536566257\n",
      "SEED: 1513, FOLD: 4, EPOCH: 7, train_loss: 0.008898147962231567\n",
      "SEED: 1513 ,FOLD: 4, EPOCH: 7, valid_loss: 0.008705790258116193\n"
     ]
    }
   ],
   "source": [
    "SEED = [940, 1513, 1269, 1392, 1119, 1303]  #<-- Update\n",
    "oof = np.zeros((len(train), len(target_cols)))\n",
    "predictions = np.zeros((len(test), len(target_cols)))\n",
    "\n",
    "time_start = time.time()\n",
    "\n",
    "for seed in SEED:\n",
    "\n",
    "    oof_, predictions_ = run_k_fold(NFOLDS, seed)\n",
    "    oof += oof_ / len(SEED)\n",
    "    predictions += predictions_ / len(SEED)\n",
    "    print(f\"elapsed time: {time.time() - time_start}\")\n",
    "\n",
    "train[target_cols] = oof\n",
    "test[target_cols] = predictions\n",
    "\n",
    "print(oof.shape)\n",
    "print(predictions.shape)"
   ]
  },
  {
   "cell_type": "code",
   "execution_count": null,
   "metadata": {
    "execution": {
     "iopub.execute_input": "2020-11-26T05:39:54.777818Z",
     "iopub.status.busy": "2020-11-26T05:39:54.776738Z",
     "iopub.status.idle": "2020-11-26T05:39:55.452574Z",
     "shell.execute_reply": "2020-11-26T05:39:55.451908Z"
    },
    "papermill": {
     "duration": 0.957526,
     "end_time": "2020-11-26T05:39:55.452699",
     "exception": false,
     "start_time": "2020-11-26T05:39:54.495173",
     "status": "completed"
    },
    "tags": []
   },
   "outputs": [],
   "source": [
    "train.to_pickle(f\"{INT_DIR}/{NB}-train_nonscore_pred.pkl\")\n",
    "test.to_pickle(f\"{INT_DIR}/{NB}-test_nonscore_pred.pkl\")"
   ]
  },
  {
   "cell_type": "code",
   "execution_count": null,
   "metadata": {
    "execution": {
     "iopub.execute_input": "2020-11-26T05:39:56.014342Z",
     "iopub.status.busy": "2020-11-26T05:39:56.013570Z",
     "iopub.status.idle": "2020-11-26T05:39:56.019451Z",
     "shell.execute_reply": "2020-11-26T05:39:56.020058Z"
    },
    "papermill": {
     "duration": 0.289817,
     "end_time": "2020-11-26T05:39:56.020199",
     "exception": false,
     "start_time": "2020-11-26T05:39:55.730382",
     "status": "completed"
    },
    "tags": []
   },
   "outputs": [],
   "source": [
    "len(target_cols)"
   ]
  },
  {
   "cell_type": "code",
   "execution_count": null,
   "metadata": {
    "execution": {
     "iopub.execute_input": "2020-11-26T05:39:56.622292Z",
     "iopub.status.busy": "2020-11-26T05:39:56.621021Z",
     "iopub.status.idle": "2020-11-26T05:39:58.962147Z",
     "shell.execute_reply": "2020-11-26T05:39:58.962718Z"
    },
    "papermill": {
     "duration": 2.648271,
     "end_time": "2020-11-26T05:39:58.962876",
     "exception": false,
     "start_time": "2020-11-26T05:39:56.314605",
     "status": "completed"
    },
    "tags": []
   },
   "outputs": [],
   "source": [
    "train[target_cols] = np.maximum(PMIN, np.minimum(PMAX, train[target_cols]))\n",
    "valid_results = train_targets_nonscored.drop(columns=target_cols).merge(\n",
    "    train[['sig_id'] + target_cols], on='sig_id', how='left').fillna(0)\n",
    "\n",
    "y_true = train_targets_nonscored[target_cols].values\n",
    "y_true = y_true > 0.5\n",
    "y_pred = valid_results[target_cols].values\n",
    "\n",
    "score = 0\n",
    "for i in range(len(target_cols)):\n",
    "    score_ = log_loss(y_true[:, i], y_pred[:, i])\n",
    "    score += score_ / target.shape[1]\n",
    "\n",
    "print(\"CV log_loss: \", score)"
   ]
  },
  {
   "cell_type": "markdown",
   "metadata": {
    "papermill": {
     "duration": 0.279152,
     "end_time": "2020-11-26T05:39:59.520941",
     "exception": false,
     "start_time": "2020-11-26T05:39:59.241789",
     "status": "completed"
    },
    "tags": []
   },
   "source": [
    "CV log_loss:  0.014761779358699672\n",
    "CV log_loss:  0.014519859174255039\n",
    "CV log_loss:  0.014525173864593479\n",
    "CV log_loss:  0.014354930596928602 # 3 umap features\n",
    "CV log_loss:  0.014353604854355429 # more umap features\n",
    "CV log_loss:  0.01436484670778641 # more hidden nodes"
   ]
  },
  {
   "cell_type": "code",
   "execution_count": null,
   "metadata": {
    "execution": {
     "iopub.execute_input": "2020-11-26T05:40:00.092739Z",
     "iopub.status.busy": "2020-11-26T05:40:00.091533Z",
     "iopub.status.idle": "2020-11-26T05:40:00.093751Z",
     "shell.execute_reply": "2020-11-26T05:40:00.094316Z"
    },
    "papermill": {
     "duration": 0.286236,
     "end_time": "2020-11-26T05:40:00.094485",
     "exception": false,
     "start_time": "2020-11-26T05:39:59.808249",
     "status": "completed"
    },
    "tags": []
   },
   "outputs": [],
   "source": [
    "EPOCHS = 25\n",
    "# NFOLDS = 5"
   ]
  },
  {
   "cell_type": "code",
   "execution_count": null,
   "metadata": {
    "execution": {
     "iopub.execute_input": "2020-11-26T05:40:00.656315Z",
     "iopub.status.busy": "2020-11-26T05:40:00.655596Z",
     "iopub.status.idle": "2020-11-26T05:40:00.660126Z",
     "shell.execute_reply": "2020-11-26T05:40:00.660675Z"
    },
    "papermill": {
     "duration": 0.287198,
     "end_time": "2020-11-26T05:40:00.660831",
     "exception": false,
     "start_time": "2020-11-26T05:40:00.373633",
     "status": "completed"
    },
    "tags": []
   },
   "outputs": [],
   "source": [
    "# sub = sample_submission.drop(columns=target_cols).merge(test[['sig_id']+target_cols], on='sig_id', how='left').fillna(0)\n",
    "# sub.to_csv('submission.csv', index=False)"
   ]
  },
  {
   "cell_type": "code",
   "execution_count": null,
   "metadata": {
    "execution": {
     "iopub.execute_input": "2020-11-26T05:40:01.267098Z",
     "iopub.status.busy": "2020-11-26T05:40:01.265017Z",
     "iopub.status.idle": "2020-11-26T05:40:01.267881Z",
     "shell.execute_reply": "2020-11-26T05:40:01.268448Z"
    },
    "papermill": {
     "duration": 0.308938,
     "end_time": "2020-11-26T05:40:01.268604",
     "exception": false,
     "start_time": "2020-11-26T05:40:00.959666",
     "status": "completed"
    },
    "tags": []
   },
   "outputs": [],
   "source": [
    "nonscored_target = [\n",
    "    c for c in train[train_targets_nonscored.columns] if c != \"sig_id\"\n",
    "]"
   ]
  },
  {
   "cell_type": "code",
   "execution_count": null,
   "metadata": {
    "execution": {
     "iopub.execute_input": "2020-11-26T05:40:01.843910Z",
     "iopub.status.busy": "2020-11-26T05:40:01.842123Z",
     "iopub.status.idle": "2020-11-26T05:40:01.848048Z",
     "shell.execute_reply": "2020-11-26T05:40:01.848654Z"
    },
    "papermill": {
     "duration": 0.29991,
     "end_time": "2020-11-26T05:40:01.848817",
     "exception": false,
     "start_time": "2020-11-26T05:40:01.548907",
     "status": "completed"
    },
    "tags": []
   },
   "outputs": [],
   "source": [
    "nonscored_target"
   ]
  },
  {
   "cell_type": "code",
   "execution_count": null,
   "metadata": {
    "execution": {
     "iopub.execute_input": "2020-11-26T05:40:02.564050Z",
     "iopub.status.busy": "2020-11-26T05:40:02.562960Z",
     "iopub.status.idle": "2020-11-26T05:40:03.022693Z",
     "shell.execute_reply": "2020-11-26T05:40:03.023417Z"
    },
    "papermill": {
     "duration": 0.889915,
     "end_time": "2020-11-26T05:40:03.023643",
     "exception": false,
     "start_time": "2020-11-26T05:40:02.133728",
     "status": "completed"
    },
    "tags": []
   },
   "outputs": [],
   "source": [
    "train = pd.read_pickle(f\"{INT_DIR}/{NB}-train_nonscore_pred.pkl\")\n",
    "test = pd.read_pickle(f\"{INT_DIR}/{NB}-test_nonscore_pred.pkl\")"
   ]
  },
  {
   "cell_type": "code",
   "execution_count": null,
   "metadata": {
    "execution": {
     "iopub.execute_input": "2020-11-26T05:40:03.707055Z",
     "iopub.status.busy": "2020-11-26T05:40:03.705517Z",
     "iopub.status.idle": "2020-11-26T05:40:04.283291Z",
     "shell.execute_reply": "2020-11-26T05:40:04.282677Z"
    },
    "papermill": {
     "duration": 0.869438,
     "end_time": "2020-11-26T05:40:04.283456",
     "exception": false,
     "start_time": "2020-11-26T05:40:03.414018",
     "status": "completed"
    },
    "scrolled": true,
    "tags": []
   },
   "outputs": [],
   "source": [
    "# use nonscored target in the given file as feature\n",
    "# if comment out below, use predicted nonscored target\n",
    "# train = train.drop(nonscored_target, axis=1)\n",
    "# train = train.merge(train_targets_nonscored, on=\"sig_id\")\n",
    "# train = train_features.merge(train_targets_scored, on='sig_id')\n",
    "train = train.merge(train_targets_scored, on='sig_id')\n",
    "# train = train[train['cp_type']!='ctl_vehicle'].reset_index(drop=True)\n",
    "# test = test[test['cp_type']!='ctl_vehicle'].reset_index(drop=True)\n",
    "\n",
    "# target = train[train_targets_scored.columns]\n",
    "target = train[train_targets_scored.columns]"
   ]
  },
  {
   "cell_type": "code",
   "execution_count": null,
   "metadata": {
    "execution": {
     "iopub.execute_input": "2020-11-26T05:40:04.865551Z",
     "iopub.status.busy": "2020-11-26T05:40:04.864402Z",
     "iopub.status.idle": "2020-11-26T05:40:08.872837Z",
     "shell.execute_reply": "2020-11-26T05:40:08.872145Z"
    },
    "papermill": {
     "duration": 4.307941,
     "end_time": "2020-11-26T05:40:08.872977",
     "exception": false,
     "start_time": "2020-11-26T05:40:04.565036",
     "status": "completed"
    },
    "tags": []
   },
   "outputs": [],
   "source": [
    "# from sklearn.preprocessing import QuantileTransformer\n",
    "\n",
    "for col in (nonscored_target):\n",
    "\n",
    "    vec_len = len(train[col].values)\n",
    "    vec_len_test = len(test[col].values)\n",
    "    raw_vec = train[col].values.reshape(vec_len, 1)\n",
    "    if IS_TRAIN:\n",
    "        transformer = QuantileTransformer(n_quantiles=100,\n",
    "                                          random_state=0,\n",
    "                                          output_distribution=\"normal\")\n",
    "        transformer.fit(raw_vec)\n",
    "        pd.to_pickle(transformer,\n",
    "                     f\"{MODEL_DIR}/{NB}_{col}_quantile_nonscored.pkl\")\n",
    "    else:\n",
    "        transformer = pd.read_pickle(\n",
    "            f\"{MODEL_DIR}/{NB}_{col}_quantile_nonscored.pkl\")\n",
    "\n",
    "    train[col] = transformer.transform(raw_vec).reshape(1, vec_len)[0]\n",
    "    test[col] = transformer.transform(test[col].values.reshape(\n",
    "        vec_len_test, 1)).reshape(1, vec_len_test)[0]"
   ]
  },
  {
   "cell_type": "code",
   "execution_count": null,
   "metadata": {
    "execution": {
     "iopub.execute_input": "2020-11-26T05:40:09.653694Z",
     "iopub.status.busy": "2020-11-26T05:40:09.652673Z",
     "iopub.status.idle": "2020-11-26T05:40:09.658705Z",
     "shell.execute_reply": "2020-11-26T05:40:09.657606Z"
    },
    "papermill": {
     "duration": 0.445001,
     "end_time": "2020-11-26T05:40:09.658873",
     "exception": false,
     "start_time": "2020-11-26T05:40:09.213872",
     "status": "completed"
    },
    "tags": []
   },
   "outputs": [],
   "source": [
    "target_cols = target.drop('sig_id', axis=1).columns.values.tolist()"
   ]
  },
  {
   "cell_type": "code",
   "execution_count": null,
   "metadata": {
    "execution": {
     "iopub.execute_input": "2020-11-26T05:40:10.591487Z",
     "iopub.status.busy": "2020-11-26T05:40:10.590370Z",
     "iopub.status.idle": "2020-11-26T05:40:10.646480Z",
     "shell.execute_reply": "2020-11-26T05:40:10.647818Z"
    },
    "papermill": {
     "duration": 0.537008,
     "end_time": "2020-11-26T05:40:10.648040",
     "exception": false,
     "start_time": "2020-11-26T05:40:10.111032",
     "status": "completed"
    },
    "tags": []
   },
   "outputs": [],
   "source": [
    "train"
   ]
  },
  {
   "cell_type": "code",
   "execution_count": null,
   "metadata": {
    "execution": {
     "iopub.execute_input": "2020-11-26T05:40:11.348840Z",
     "iopub.status.busy": "2020-11-26T05:40:11.347393Z",
     "iopub.status.idle": "2020-11-26T05:40:15.029908Z",
     "shell.execute_reply": "2020-11-26T05:40:15.030560Z"
    },
    "papermill": {
     "duration": 4.014318,
     "end_time": "2020-11-26T05:40:15.030729",
     "exception": false,
     "start_time": "2020-11-26T05:40:11.016411",
     "status": "completed"
    },
    "tags": []
   },
   "outputs": [],
   "source": [
    "folds = train.copy()\n",
    "\n",
    "mskf = MultilabelStratifiedKFold(n_splits=NFOLDS)\n",
    "\n",
    "for f, (t_idx, v_idx) in enumerate(mskf.split(X=train, y=target)):\n",
    "    folds.loc[v_idx, 'kfold'] = int(f)\n",
    "\n",
    "folds['kfold'] = folds['kfold'].astype(int)\n",
    "folds"
   ]
  },
  {
   "cell_type": "code",
   "execution_count": null,
   "metadata": {
    "execution": {
     "iopub.execute_input": "2020-11-26T05:40:15.656087Z",
     "iopub.status.busy": "2020-11-26T05:40:15.655094Z",
     "iopub.status.idle": "2020-11-26T05:40:15.658947Z",
     "shell.execute_reply": "2020-11-26T05:40:15.656745Z"
    },
    "papermill": {
     "duration": 0.297372,
     "end_time": "2020-11-26T05:40:15.659108",
     "exception": false,
     "start_time": "2020-11-26T05:40:15.361736",
     "status": "completed"
    },
    "tags": []
   },
   "outputs": [],
   "source": [
    "print(train.shape)\n",
    "print(folds.shape)\n",
    "print(test.shape)\n",
    "print(target.shape)\n",
    "print(sample_submission.shape)"
   ]
  },
  {
   "cell_type": "code",
   "execution_count": null,
   "metadata": {
    "execution": {
     "iopub.execute_input": "2020-11-26T05:40:16.246436Z",
     "iopub.status.busy": "2020-11-26T05:40:16.245313Z",
     "iopub.status.idle": "2020-11-26T05:40:16.248611Z",
     "shell.execute_reply": "2020-11-26T05:40:16.248040Z"
    },
    "papermill": {
     "duration": 0.304774,
     "end_time": "2020-11-26T05:40:16.248739",
     "exception": false,
     "start_time": "2020-11-26T05:40:15.943965",
     "status": "completed"
    },
    "tags": []
   },
   "outputs": [],
   "source": [
    "def process_data(data):\n",
    "\n",
    "    data = pd.get_dummies(data, columns=['cp_time', 'cp_dose'])\n",
    "    #     data.loc[:, 'cp_time'] = data.loc[:, 'cp_time'].map({24: 0, 48: 1, 72: 2})\n",
    "    #     data.loc[:, 'cp_dose'] = data.loc[:, 'cp_dose'].map({'D1': 0, 'D2': 1})\n",
    "\n",
    "    # --------------------- Normalize ---------------------\n",
    "    #     for col in GENES:\n",
    "    #         data[col] = (data[col]-np.mean(data[col])) / (np.std(data[col]))\n",
    "\n",
    "    #     for col in CELLS:\n",
    "    #         data[col] = (data[col]-np.mean(data[col])) / (np.std(data[col]))\n",
    "\n",
    "    #--------------------- Removing Skewness ---------------------\n",
    "    #     for col in GENES + CELLS:\n",
    "    #         if(abs(data[col].skew()) > 0.75):\n",
    "\n",
    "    #             if(data[col].skew() < 0): # neg-skewness\n",
    "    #                 data[col] = data[col].max() - data[col] + 1\n",
    "    #                 data[col] = np.sqrt(data[col])\n",
    "\n",
    "    #             else:\n",
    "    #                 data[col] = np.sqrt(data[col])\n",
    "\n",
    "    return data"
   ]
  },
  {
   "cell_type": "code",
   "execution_count": null,
   "metadata": {
    "execution": {
     "iopub.execute_input": "2020-11-26T05:40:16.867521Z",
     "iopub.status.busy": "2020-11-26T05:40:16.865976Z",
     "iopub.status.idle": "2020-11-26T05:40:17.070140Z",
     "shell.execute_reply": "2020-11-26T05:40:17.070740Z"
    },
    "papermill": {
     "duration": 0.52829,
     "end_time": "2020-11-26T05:40:17.070889",
     "exception": false,
     "start_time": "2020-11-26T05:40:16.542599",
     "status": "completed"
    },
    "tags": []
   },
   "outputs": [],
   "source": [
    "feature_cols = [c for c in process_data(folds).columns if c not in target_cols]\n",
    "feature_cols = [c for c in feature_cols if c not in ['kfold','sig_id']]\n",
    "len(feature_cols)"
   ]
  },
  {
   "cell_type": "code",
   "execution_count": null,
   "metadata": {
    "execution": {
     "iopub.execute_input": "2020-11-26T05:40:17.675003Z",
     "iopub.status.busy": "2020-11-26T05:40:17.672841Z",
     "iopub.status.idle": "2020-11-26T05:40:17.675807Z",
     "shell.execute_reply": "2020-11-26T05:40:17.676377Z"
    },
    "papermill": {
     "duration": 0.296016,
     "end_time": "2020-11-26T05:40:17.676520",
     "exception": false,
     "start_time": "2020-11-26T05:40:17.380504",
     "status": "completed"
    },
    "tags": []
   },
   "outputs": [],
   "source": [
    "num_features=len(feature_cols)\n",
    "num_targets=len(target_cols)\n",
    "hidden_size=2048\n",
    "# hidden_size=4096\n",
    "# hidden_size=9192"
   ]
  },
  {
   "cell_type": "code",
   "execution_count": null,
   "metadata": {
    "execution": {
     "iopub.execute_input": "2020-11-26T05:40:18.279799Z",
     "iopub.status.busy": "2020-11-26T05:40:18.277743Z",
     "iopub.status.idle": "2020-11-26T05:40:18.280589Z",
     "shell.execute_reply": "2020-11-26T05:40:18.281147Z"
    },
    "papermill": {
     "duration": 0.31986,
     "end_time": "2020-11-26T05:40:18.281297",
     "exception": false,
     "start_time": "2020-11-26T05:40:17.961437",
     "status": "completed"
    },
    "tags": []
   },
   "outputs": [],
   "source": [
    "def run_training(fold, seed):\n",
    "\n",
    "    seed_everything(seed)\n",
    "\n",
    "    train = process_data(folds)\n",
    "    test_ = process_data(test)\n",
    "\n",
    "    trn_idx = train[train['kfold'] != fold].index\n",
    "    val_idx = train[train['kfold'] == fold].index\n",
    "\n",
    "    train_df = train[train['kfold'] != fold].reset_index(drop=True)\n",
    "    valid_df = train[train['kfold'] == fold].reset_index(drop=True)\n",
    "\n",
    "    x_train, y_train = train_df[feature_cols].values, train_df[\n",
    "        target_cols].values\n",
    "    x_valid, y_valid = valid_df[feature_cols].values, valid_df[\n",
    "        target_cols].values\n",
    "\n",
    "    train_dataset = MoADataset(x_train, y_train)\n",
    "    valid_dataset = MoADataset(x_valid, y_valid)\n",
    "    trainloader = torch.utils.data.DataLoader(train_dataset,\n",
    "                                              batch_size=BATCH_SIZE,\n",
    "                                              shuffle=True)\n",
    "    validloader = torch.utils.data.DataLoader(valid_dataset,\n",
    "                                              batch_size=BATCH_SIZE,\n",
    "                                              shuffle=False)\n",
    "\n",
    "    model = Model(\n",
    "        num_features=num_features,\n",
    "        num_targets=num_targets,\n",
    "        hidden_size=hidden_size,\n",
    "    )\n",
    "\n",
    "    model.to(DEVICE)\n",
    "\n",
    "    optimizer = torch.optim.Adam(model.parameters(),\n",
    "                                 lr=5e-3,\n",
    "                                 weight_decay=WEIGHT_DECAY)\n",
    "    scheduler = optim.lr_scheduler.OneCycleLR(optimizer=optimizer,\n",
    "                                              pct_start=0.2,\n",
    "                                              div_factor=1e3,\n",
    "                                              max_lr=1e-2,\n",
    "                                              epochs=EPOCHS,\n",
    "                                              steps_per_epoch=len(trainloader))\n",
    "\n",
    "    loss_fn = nn.BCEWithLogitsLoss()\n",
    "    early_stopping_steps = EARLY_STOPPING_STEPS\n",
    "    early_step = 0\n",
    "\n",
    "    oof = np.zeros((len(train), target.iloc[:, 1:].shape[1]))\n",
    "    best_loss = np.inf\n",
    "\n",
    "    for epoch in range(EPOCHS):\n",
    "\n",
    "        train_loss = train_fn(model, optimizer, scheduler, loss_fn,\n",
    "                              trainloader, DEVICE)\n",
    "        print(\n",
    "            f\"SEED: {seed}, FOLD: {fold}, EPOCH: {epoch}, train_loss: {train_loss}\"\n",
    "        )\n",
    "        valid_loss, valid_preds = valid_fn(model, loss_fn, validloader, DEVICE)\n",
    "        print(\n",
    "            f\"SEED: {seed} ,FOLD: {fold}, EPOCH: {epoch}, valid_loss: {valid_loss}\"\n",
    "        )\n",
    "\n",
    "        if valid_loss < best_loss:\n",
    "\n",
    "            best_loss = valid_loss\n",
    "            oof[val_idx] = valid_preds\n",
    "            torch.save(model.state_dict(),\n",
    "                       f\"model/{NB}-scored1-SEED{seed}-FOLD{fold}_.pth\")\n",
    "\n",
    "        elif (EARLY_STOP == True):\n",
    "\n",
    "            early_step += 1\n",
    "            if (early_step >= early_stopping_steps):\n",
    "                break\n",
    "\n",
    "    #--------------------- PREDICTION---------------------\n",
    "    x_test = test_[feature_cols].values\n",
    "    testdataset = TestDataset(x_test)\n",
    "    testloader = torch.utils.data.DataLoader(testdataset,\n",
    "                                             batch_size=BATCH_SIZE,\n",
    "                                             shuffle=False)\n",
    "\n",
    "    model = Model(\n",
    "        num_features=num_features,\n",
    "        num_targets=num_targets,\n",
    "        hidden_size=hidden_size,\n",
    "    )\n",
    "\n",
    "    model.load_state_dict(\n",
    "        torch.load(f\"model/{NB}-scored1-SEED{seed}-FOLD{fold}_.pth\"))\n",
    "    model.to(DEVICE)\n",
    "\n",
    "    predictions = np.zeros((len(test_), target.iloc[:, 1:].shape[1]))\n",
    "    predictions = inference_fn(model, testloader, DEVICE)\n",
    "\n",
    "    return oof, predictions"
   ]
  },
  {
   "cell_type": "code",
   "execution_count": null,
   "metadata": {
    "execution": {
     "iopub.execute_input": "2020-11-26T05:40:18.862848Z",
     "iopub.status.busy": "2020-11-26T05:40:18.860747Z",
     "iopub.status.idle": "2020-11-26T05:40:18.863656Z",
     "shell.execute_reply": "2020-11-26T05:40:18.864217Z"
    },
    "papermill": {
     "duration": 0.296551,
     "end_time": "2020-11-26T05:40:18.864383",
     "exception": false,
     "start_time": "2020-11-26T05:40:18.567832",
     "status": "completed"
    },
    "tags": []
   },
   "outputs": [],
   "source": [
    "def run_k_fold(NFOLDS, seed):\n",
    "    oof = np.zeros((len(train), len(target_cols)))\n",
    "    predictions = np.zeros((len(test), len(target_cols)))\n",
    "\n",
    "    for fold in range(NFOLDS):\n",
    "        oof_, pred_ = run_training(fold, seed)\n",
    "\n",
    "        predictions += pred_ / NFOLDS\n",
    "        oof += oof_\n",
    "\n",
    "    return oof, predictions"
   ]
  },
  {
   "cell_type": "code",
   "execution_count": null,
   "metadata": {
    "execution": {
     "iopub.execute_input": "2020-11-26T05:40:19.480852Z",
     "iopub.status.busy": "2020-11-26T05:40:19.479059Z",
     "iopub.status.idle": "2020-11-26T06:01:11.744701Z",
     "shell.execute_reply": "2020-11-26T06:01:11.743449Z"
    },
    "papermill": {
     "duration": 1252.594071,
     "end_time": "2020-11-26T06:01:11.744849",
     "exception": false,
     "start_time": "2020-11-26T05:40:19.150778",
     "status": "completed"
    },
    "scrolled": true,
    "tags": []
   },
   "outputs": [],
   "source": [
    "SEED = [940, 1513, 1269, 1392, 1119, 1303]  #<-- Update\n",
    "oof = np.zeros((len(train), len(target_cols)))\n",
    "predictions = np.zeros((len(test), len(target_cols)))\n",
    "\n",
    "time_start = time.time()\n",
    "\n",
    "for seed in SEED:\n",
    "\n",
    "    oof_, predictions_ = run_k_fold(NFOLDS, seed)\n",
    "    oof += oof_ / len(SEED)\n",
    "    predictions += predictions_ / len(SEED)\n",
    "    print(f\"elapsed time: {time.time() - time_start}\")\n",
    "\n",
    "train[target_cols] = oof\n",
    "test[target_cols] = predictions"
   ]
  },
  {
   "cell_type": "code",
   "execution_count": null,
   "metadata": {
    "execution": {
     "iopub.execute_input": "2020-11-26T06:01:13.616982Z",
     "iopub.status.busy": "2020-11-26T06:01:13.615723Z",
     "iopub.status.idle": "2020-11-26T06:01:14.398511Z",
     "shell.execute_reply": "2020-11-26T06:01:14.400153Z"
    },
    "papermill": {
     "duration": 1.997645,
     "end_time": "2020-11-26T06:01:14.400404",
     "exception": false,
     "start_time": "2020-11-26T06:01:12.402759",
     "status": "completed"
    },
    "tags": []
   },
   "outputs": [],
   "source": [
    "train.to_pickle(f\"{INT_DIR}/{NB}-train-score-pred.pkl\")\n",
    "test.to_pickle(f\"{INT_DIR}/{NB}-test-score-pred.pkl\")"
   ]
  },
  {
   "cell_type": "code",
   "execution_count": null,
   "metadata": {
    "execution": {
     "iopub.execute_input": "2020-11-26T06:01:16.325441Z",
     "iopub.status.busy": "2020-11-26T06:01:16.323178Z",
     "iopub.status.idle": "2020-11-26T06:01:16.328165Z",
     "shell.execute_reply": "2020-11-26T06:01:16.327557Z"
    },
    "papermill": {
     "duration": 0.859033,
     "end_time": "2020-11-26T06:01:16.328276",
     "exception": false,
     "start_time": "2020-11-26T06:01:15.469243",
     "status": "completed"
    },
    "tags": []
   },
   "outputs": [],
   "source": [
    "len(target_cols)"
   ]
  },
  {
   "cell_type": "code",
   "execution_count": null,
   "metadata": {
    "execution": {
     "iopub.execute_input": "2020-11-26T06:01:17.712118Z",
     "iopub.status.busy": "2020-11-26T06:01:17.710514Z",
     "iopub.status.idle": "2020-11-26T06:01:19.176359Z",
     "shell.execute_reply": "2020-11-26T06:01:19.177266Z"
    },
    "papermill": {
     "duration": 2.153899,
     "end_time": "2020-11-26T06:01:19.177502",
     "exception": false,
     "start_time": "2020-11-26T06:01:17.023603",
     "status": "completed"
    },
    "tags": []
   },
   "outputs": [],
   "source": [
    "train[target_cols] = np.maximum(PMIN, np.minimum(PMAX, train[target_cols]))\n",
    "\n",
    "valid_results = train_targets_scored.drop(columns=target_cols).merge(\n",
    "    train[['sig_id'] + target_cols], on='sig_id', how='left').fillna(0)\n",
    "\n",
    "y_true = train_targets_scored[target_cols].values\n",
    "y_true = y_true > 0.5\n",
    "y_pred = valid_results[target_cols].values\n",
    "\n",
    "score = 0\n",
    "for i in range(len(target_cols)):\n",
    "    score_ = log_loss(y_true[:, i], y_pred[:, i])\n",
    "    score += score_ / target.shape[1]\n",
    "\n",
    "print(\"CV log_loss: \", score)"
   ]
  },
  {
   "cell_type": "markdown",
   "metadata": {
    "papermill": {
     "duration": 0.627064,
     "end_time": "2020-11-26T06:01:20.507437",
     "exception": false,
     "start_time": "2020-11-26T06:01:19.880373",
     "status": "completed"
    },
    "tags": []
   },
   "source": [
    "- CV log_loss:  0.014761779358699672\n",
    "- CV log_loss:  0.014519859174255039\n",
    "- CV log_loss:  0.014525173864593479\n",
    "- CV log_loss:  0.014354930596928602 # 3 umap features\n",
    "- CV log_loss:  0.014353604854355429 # more umap features\n",
    "- CV log_loss:  0.01436484670778641 # more hidden nodes\n",
    "- CV log_loss:  0.014344688083211073\n",
    "  - using predicted unscored targets as feature \n",
    "- CV log_loss:  0.013368097791623873\n",
    "  - using given unscored targets as feature\n",
    "  - bad in public lb\n",
    "- CV log_loss:  0.01434373547175235\n",
    "  - rankgauss predicted unscored targets\n",
    "- CV log_loss:  0.014346100008158216\n",
    "  - unscored targets pca/umap\n",
    "- CV log_loss:  0.014328486629791769\n",
    "  - NFOLDS=10, Epoch=20\n",
    "- CV log_loss:  0.014299741080816082\n",
    "  - NFOLDS=10, Epoch=20, 25\n",
    "- CV log_loss:  0.014311301224480969\n",
    "  - NFOLDS=10, Epoch=25\n",
    "- CV log_loss:  0.01429269446076626\n",
    "  - NFOLDS=10, Epoch=15, 25"
   ]
  },
  {
   "cell_type": "code",
   "execution_count": null,
   "metadata": {
    "execution": {
     "iopub.execute_input": "2020-11-26T06:01:21.755147Z",
     "iopub.status.busy": "2020-11-26T06:01:21.754200Z",
     "iopub.status.idle": "2020-11-26T06:01:21.759141Z",
     "shell.execute_reply": "2020-11-26T06:01:21.758497Z"
    },
    "papermill": {
     "duration": 0.631618,
     "end_time": "2020-11-26T06:01:21.759258",
     "exception": false,
     "start_time": "2020-11-26T06:01:21.127640",
     "status": "completed"
    },
    "tags": []
   },
   "outputs": [],
   "source": [
    "# train = pd.read_pickle(f\"../interim/23-train-score-pred.pkl\")\n",
    "# test = pd.read_pickle(f\"../interim/23-test-score-pred.pkl\")"
   ]
  },
  {
   "cell_type": "code",
   "execution_count": null,
   "metadata": {
    "execution": {
     "iopub.execute_input": "2020-11-26T06:01:23.016410Z",
     "iopub.status.busy": "2020-11-26T06:01:23.015094Z",
     "iopub.status.idle": "2020-11-26T06:01:23.478577Z",
     "shell.execute_reply": "2020-11-26T06:01:23.477851Z"
    },
    "papermill": {
     "duration": 1.093868,
     "end_time": "2020-11-26T06:01:23.478713",
     "exception": false,
     "start_time": "2020-11-26T06:01:22.384845",
     "status": "completed"
    },
    "tags": []
   },
   "outputs": [],
   "source": [
    "train = pd.read_pickle(f\"{INT_DIR}/{NB}-train-score-pred.pkl\")\n",
    "test = pd.read_pickle(f\"{INT_DIR}/{NB}-test-score-pred.pkl\")"
   ]
  },
  {
   "cell_type": "code",
   "execution_count": null,
   "metadata": {
    "execution": {
     "iopub.execute_input": "2020-11-26T06:01:24.747114Z",
     "iopub.status.busy": "2020-11-26T06:01:24.746295Z",
     "iopub.status.idle": "2020-11-26T06:01:24.751826Z",
     "shell.execute_reply": "2020-11-26T06:01:24.751204Z"
    },
    "papermill": {
     "duration": 0.649495,
     "end_time": "2020-11-26T06:01:24.751946",
     "exception": false,
     "start_time": "2020-11-26T06:01:24.102451",
     "status": "completed"
    },
    "tags": []
   },
   "outputs": [],
   "source": [
    "EPOCHS = 25\n",
    "# NFOLDS = 5"
   ]
  },
  {
   "cell_type": "code",
   "execution_count": null,
   "metadata": {
    "execution": {
     "iopub.execute_input": "2020-11-26T06:01:26.284371Z",
     "iopub.status.busy": "2020-11-26T06:01:26.282269Z",
     "iopub.status.idle": "2020-11-26T06:01:27.208820Z",
     "shell.execute_reply": "2020-11-26T06:01:27.208112Z"
    },
    "papermill": {
     "duration": 1.719857,
     "end_time": "2020-11-26T06:01:27.208942",
     "exception": false,
     "start_time": "2020-11-26T06:01:25.489085",
     "status": "completed"
    },
    "tags": []
   },
   "outputs": [],
   "source": [
    "PMIN = 0.0005\n",
    "PMAX = 0.9995\n",
    "for c in train_targets_scored.columns:\n",
    "    if c != \"sig_id\":\n",
    "        train_targets_scored[c] = np.maximum(\n",
    "            PMIN, np.minimum(PMAX, train_targets_scored[c]))"
   ]
  },
  {
   "cell_type": "code",
   "execution_count": null,
   "metadata": {
    "execution": {
     "iopub.execute_input": "2020-11-26T06:01:28.464915Z",
     "iopub.status.busy": "2020-11-26T06:01:28.463868Z",
     "iopub.status.idle": "2020-11-26T06:01:28.468971Z",
     "shell.execute_reply": "2020-11-26T06:01:28.469665Z"
    },
    "papermill": {
     "duration": 0.638334,
     "end_time": "2020-11-26T06:01:28.469825",
     "exception": false,
     "start_time": "2020-11-26T06:01:27.831491",
     "status": "completed"
    },
    "tags": []
   },
   "outputs": [],
   "source": [
    "train_targets_scored.columns"
   ]
  },
  {
   "cell_type": "code",
   "execution_count": null,
   "metadata": {
    "execution": {
     "iopub.execute_input": "2020-11-26T06:01:29.738230Z",
     "iopub.status.busy": "2020-11-26T06:01:29.736762Z",
     "iopub.status.idle": "2020-11-26T06:01:30.082169Z",
     "shell.execute_reply": "2020-11-26T06:01:30.081567Z"
    },
    "papermill": {
     "duration": 0.989108,
     "end_time": "2020-11-26T06:01:30.082296",
     "exception": false,
     "start_time": "2020-11-26T06:01:29.093188",
     "status": "completed"
    },
    "tags": []
   },
   "outputs": [],
   "source": [
    "train = train[train_targets_scored.columns]\n",
    "train.columns = [\n",
    "    c + \"_pred\" if (c != 'sig_id' and c in train_targets_scored.columns) else c\n",
    "    for c in train.columns\n",
    "]"
   ]
  },
  {
   "cell_type": "code",
   "execution_count": null,
   "metadata": {
    "execution": {
     "iopub.execute_input": "2020-11-26T06:01:31.345699Z",
     "iopub.status.busy": "2020-11-26T06:01:31.343862Z",
     "iopub.status.idle": "2020-11-26T06:01:31.346544Z",
     "shell.execute_reply": "2020-11-26T06:01:31.347129Z"
    },
    "papermill": {
     "duration": 0.635984,
     "end_time": "2020-11-26T06:01:31.347288",
     "exception": false,
     "start_time": "2020-11-26T06:01:30.711304",
     "status": "completed"
    },
    "tags": []
   },
   "outputs": [],
   "source": [
    "test = test[train_targets_scored.columns]\n",
    "test.columns = [\n",
    "    c + \"_pred\" if (c != 'sig_id' and c in train_targets_scored.columns) else c\n",
    "    for c in test.columns\n",
    "]"
   ]
  },
  {
   "cell_type": "code",
   "execution_count": null,
   "metadata": {
    "execution": {
     "iopub.execute_input": "2020-11-26T06:01:32.598000Z",
     "iopub.status.busy": "2020-11-26T06:01:32.596935Z",
     "iopub.status.idle": "2020-11-26T06:01:32.639776Z",
     "shell.execute_reply": "2020-11-26T06:01:32.640437Z"
    },
    "papermill": {
     "duration": 0.673501,
     "end_time": "2020-11-26T06:01:32.640612",
     "exception": false,
     "start_time": "2020-11-26T06:01:31.967111",
     "status": "completed"
    },
    "tags": []
   },
   "outputs": [],
   "source": [
    "train"
   ]
  },
  {
   "cell_type": "code",
   "execution_count": null,
   "metadata": {
    "execution": {
     "iopub.execute_input": "2020-11-26T06:01:33.889150Z",
     "iopub.status.busy": "2020-11-26T06:01:33.887547Z",
     "iopub.status.idle": "2020-11-26T06:01:34.053938Z",
     "shell.execute_reply": "2020-11-26T06:01:34.053307Z"
    },
    "papermill": {
     "duration": 0.793132,
     "end_time": "2020-11-26T06:01:34.054077",
     "exception": false,
     "start_time": "2020-11-26T06:01:33.260945",
     "status": "completed"
    },
    "scrolled": true,
    "tags": []
   },
   "outputs": [],
   "source": [
    "# use nonscored target in the given file as feature\n",
    "# if comment out below, use predicted nonscored target\n",
    "# train = train.drop(nonscored_target, axis=1)\n",
    "# train = train.merge(train_targets_nonscored, on=\"sig_id\")\n",
    "# train = train_features.merge(train_targets_scored, on='sig_id')\n",
    "train = train.merge(train_targets_scored, on='sig_id')\n",
    "# train = train[train['cp_type']!='ctl_vehicle'].reset_index(drop=True)\n",
    "# test = test[test['cp_type']!='ctl_vehicle'].reset_index(drop=True)\n",
    "\n",
    "# target = train[train_targets_scored.columns]\n",
    "target = train[train_targets_scored.columns]"
   ]
  },
  {
   "cell_type": "code",
   "execution_count": null,
   "metadata": {
    "execution": {
     "iopub.execute_input": "2020-11-26T06:01:35.362823Z",
     "iopub.status.busy": "2020-11-26T06:01:35.360442Z",
     "iopub.status.idle": "2020-11-26T06:01:35.363705Z",
     "shell.execute_reply": "2020-11-26T06:01:35.364270Z"
    },
    "papermill": {
     "duration": 0.647934,
     "end_time": "2020-11-26T06:01:35.364469",
     "exception": false,
     "start_time": "2020-11-26T06:01:34.716535",
     "status": "completed"
    },
    "tags": []
   },
   "outputs": [],
   "source": [
    "# train[\"cp_time\"] = train_features[train_features[\"cp_type\"]==\"trt_cp\"].reset_index(drop=True)[\"cp_time\"]\n",
    "# train[\"cp_dose\"] = train_features[train_features[\"cp_type\"]==\"trt_cp\"].reset_index(drop=True)[\"cp_dose\"]\n",
    "# test[\"cp_time\"] = test_features[test_features[\"cp_type\"]==\"trt_cp\"].reset_index(drop=True)[\"cp_time\"]\n",
    "# test[\"cp_dose\"] = test_features[test_features[\"cp_type\"]==\"trt_cp\"].reset_index(drop=True)[\"cp_dose\"]"
   ]
  },
  {
   "cell_type": "code",
   "execution_count": null,
   "metadata": {
    "execution": {
     "iopub.execute_input": "2020-11-26T06:01:36.967386Z",
     "iopub.status.busy": "2020-11-26T06:01:36.965915Z",
     "iopub.status.idle": "2020-11-26T06:01:39.447702Z",
     "shell.execute_reply": "2020-11-26T06:01:39.446487Z"
    },
    "papermill": {
     "duration": 3.437977,
     "end_time": "2020-11-26T06:01:39.447830",
     "exception": false,
     "start_time": "2020-11-26T06:01:36.009853",
     "status": "completed"
    },
    "tags": []
   },
   "outputs": [],
   "source": [
    "from sklearn.preprocessing import QuantileTransformer\n",
    "\n",
    "scored_target_pred = [\n",
    "    c + \"_pred\" for c in train_targets_scored.columns if c != 'sig_id'\n",
    "]\n",
    "\n",
    "for col in (scored_target_pred):\n",
    "\n",
    "    #     transformer = QuantileTransformer(n_quantiles=100, random_state=0, output_distribution=\"normal\")\n",
    "    vec_len = len(train[col].values)\n",
    "    vec_len_test = len(test[col].values)\n",
    "    raw_vec = train[col].values.reshape(vec_len, 1)\n",
    "    #     transformer.fit(raw_vec)\n",
    "    if IS_TRAIN:\n",
    "        transformer = QuantileTransformer(n_quantiles=100,\n",
    "                                          random_state=0,\n",
    "                                          output_distribution=\"normal\")\n",
    "        transformer.fit(raw_vec)\n",
    "        pd.to_pickle(transformer,\n",
    "                     f\"{MODEL_DIR}/{NB}_{col}_quantile_scored.pkl\")\n",
    "    else:\n",
    "        transformer = pd.read_pickle(\n",
    "            f\"{MODEL_DIR}/{NB}_{col}_quantile_scored.pkl\")\n",
    "\n",
    "    train[col] = transformer.transform(raw_vec).reshape(1, vec_len)[0]\n",
    "    test[col] = transformer.transform(test[col].values.reshape(\n",
    "        vec_len_test, 1)).reshape(1, vec_len_test)[0]"
   ]
  },
  {
   "cell_type": "code",
   "execution_count": null,
   "metadata": {
    "execution": {
     "iopub.execute_input": "2020-11-26T06:01:40.709446Z",
     "iopub.status.busy": "2020-11-26T06:01:40.708681Z",
     "iopub.status.idle": "2020-11-26T06:01:40.713494Z",
     "shell.execute_reply": "2020-11-26T06:01:40.712838Z"
    },
    "papermill": {
     "duration": 0.630182,
     "end_time": "2020-11-26T06:01:40.713614",
     "exception": false,
     "start_time": "2020-11-26T06:01:40.083432",
     "status": "completed"
    },
    "tags": []
   },
   "outputs": [],
   "source": [
    "# train = train.drop('cp_type', axis=1)\n",
    "# test = test.drop('cp_type', axis=1)"
   ]
  },
  {
   "cell_type": "code",
   "execution_count": null,
   "metadata": {
    "execution": {
     "iopub.execute_input": "2020-11-26T06:01:41.982506Z",
     "iopub.status.busy": "2020-11-26T06:01:41.981605Z",
     "iopub.status.idle": "2020-11-26T06:01:41.985915Z",
     "shell.execute_reply": "2020-11-26T06:01:41.985342Z"
    },
    "papermill": {
     "duration": 0.647589,
     "end_time": "2020-11-26T06:01:41.986035",
     "exception": false,
     "start_time": "2020-11-26T06:01:41.338446",
     "status": "completed"
    },
    "tags": []
   },
   "outputs": [],
   "source": [
    "target_cols = target.drop('sig_id', axis=1).columns.values.tolist()"
   ]
  },
  {
   "cell_type": "code",
   "execution_count": null,
   "metadata": {
    "execution": {
     "iopub.execute_input": "2020-11-26T06:01:43.243692Z",
     "iopub.status.busy": "2020-11-26T06:01:43.242592Z",
     "iopub.status.idle": "2020-11-26T06:01:43.285461Z",
     "shell.execute_reply": "2020-11-26T06:01:43.286108Z"
    },
    "papermill": {
     "duration": 0.676294,
     "end_time": "2020-11-26T06:01:43.286273",
     "exception": false,
     "start_time": "2020-11-26T06:01:42.609979",
     "status": "completed"
    },
    "tags": []
   },
   "outputs": [],
   "source": [
    "train"
   ]
  },
  {
   "cell_type": "code",
   "execution_count": null,
   "metadata": {
    "execution": {
     "iopub.execute_input": "2020-11-26T06:01:44.641760Z",
     "iopub.status.busy": "2020-11-26T06:01:44.640258Z",
     "iopub.status.idle": "2020-11-26T06:01:46.859865Z",
     "shell.execute_reply": "2020-11-26T06:01:46.861281Z"
    },
    "papermill": {
     "duration": 2.856402,
     "end_time": "2020-11-26T06:01:46.861540",
     "exception": false,
     "start_time": "2020-11-26T06:01:44.005138",
     "status": "completed"
    },
    "tags": []
   },
   "outputs": [],
   "source": [
    "folds = train.copy()\n",
    "\n",
    "mskf = MultilabelStratifiedKFold(n_splits=NFOLDS)\n",
    "\n",
    "for f, (t_idx, v_idx) in enumerate(mskf.split(X=train, y=target)):\n",
    "    folds.loc[v_idx, 'kfold'] = int(f)\n",
    "\n",
    "folds['kfold'] = folds['kfold'].astype(int)\n",
    "folds"
   ]
  },
  {
   "cell_type": "code",
   "execution_count": null,
   "metadata": {
    "execution": {
     "iopub.execute_input": "2020-11-26T06:01:49.033106Z",
     "iopub.status.busy": "2020-11-26T06:01:49.030412Z",
     "iopub.status.idle": "2020-11-26T06:01:49.036620Z",
     "shell.execute_reply": "2020-11-26T06:01:49.035704Z"
    },
    "papermill": {
     "duration": 0.722189,
     "end_time": "2020-11-26T06:01:49.036794",
     "exception": false,
     "start_time": "2020-11-26T06:01:48.314605",
     "status": "completed"
    },
    "tags": []
   },
   "outputs": [],
   "source": [
    "print(train.shape)\n",
    "print(folds.shape)\n",
    "print(test.shape)\n",
    "print(target.shape)\n",
    "print(sample_submission.shape)"
   ]
  },
  {
   "cell_type": "code",
   "execution_count": null,
   "metadata": {
    "execution": {
     "iopub.execute_input": "2020-11-26T06:01:50.875719Z",
     "iopub.status.busy": "2020-11-26T06:01:50.874667Z",
     "iopub.status.idle": "2020-11-26T06:01:50.917423Z",
     "shell.execute_reply": "2020-11-26T06:01:50.918032Z"
    },
    "papermill": {
     "duration": 0.67909,
     "end_time": "2020-11-26T06:01:50.918187",
     "exception": false,
     "start_time": "2020-11-26T06:01:50.239097",
     "status": "completed"
    },
    "tags": []
   },
   "outputs": [],
   "source": [
    "folds"
   ]
  },
  {
   "cell_type": "code",
   "execution_count": null,
   "metadata": {
    "execution": {
     "iopub.execute_input": "2020-11-26T06:01:52.210363Z",
     "iopub.status.busy": "2020-11-26T06:01:52.209471Z",
     "iopub.status.idle": "2020-11-26T06:01:52.213450Z",
     "shell.execute_reply": "2020-11-26T06:01:52.212801Z"
    },
    "papermill": {
     "duration": 0.639638,
     "end_time": "2020-11-26T06:01:52.213592",
     "exception": false,
     "start_time": "2020-11-26T06:01:51.573954",
     "status": "completed"
    },
    "tags": []
   },
   "outputs": [],
   "source": [
    "def process_data(data):\n",
    "\n",
    "    #     data = pd.get_dummies(data, columns=['cp_time','cp_dose'])\n",
    "    #     data.loc[:, 'cp_time'] = data.loc[:, 'cp_time'].map({24: 0, 48: 1, 72: 2, 0:0, 1:1, 2:2})\n",
    "    #     data.loc[:, 'cp_dose'] = data.loc[:, 'cp_dose'].map({'D1': 0, 'D2': 1, 0:0, 1:1})\n",
    "\n",
    "    # --------------------- Normalize ---------------------\n",
    "    #     for col in GENES:\n",
    "    #         data[col] = (data[col]-np.mean(data[col])) / (np.std(data[col]))\n",
    "\n",
    "    #     for col in CELLS:\n",
    "    #         data[col] = (data[col]-np.mean(data[col])) / (np.std(data[col]))\n",
    "\n",
    "    #--------------------- Removing Skewness ---------------------\n",
    "    #     for col in GENES + CELLS:\n",
    "    #         if(abs(data[col].skew()) > 0.75):\n",
    "\n",
    "    #             if(data[col].skew() < 0): # neg-skewness\n",
    "    #                 data[col] = data[col].max() - data[col] + 1\n",
    "    #                 data[col] = np.sqrt(data[col])\n",
    "\n",
    "    #             else:\n",
    "    #                 data[col] = np.sqrt(data[col])\n",
    "\n",
    "    return data"
   ]
  },
  {
   "cell_type": "code",
   "execution_count": null,
   "metadata": {
    "execution": {
     "iopub.execute_input": "2020-11-26T06:01:53.483713Z",
     "iopub.status.busy": "2020-11-26T06:01:53.482223Z",
     "iopub.status.idle": "2020-11-26T06:01:53.486554Z",
     "shell.execute_reply": "2020-11-26T06:01:53.487086Z"
    },
    "papermill": {
     "duration": 0.642814,
     "end_time": "2020-11-26T06:01:53.487235",
     "exception": false,
     "start_time": "2020-11-26T06:01:52.844421",
     "status": "completed"
    },
    "tags": []
   },
   "outputs": [],
   "source": [
    "feature_cols = [c for c in folds.columns if c not in target_cols]\n",
    "feature_cols = [c for c in feature_cols if c not in ['kfold','sig_id']]\n",
    "len(feature_cols)"
   ]
  },
  {
   "cell_type": "code",
   "execution_count": null,
   "metadata": {
    "execution": {
     "iopub.execute_input": "2020-11-26T06:01:54.758540Z",
     "iopub.status.busy": "2020-11-26T06:01:54.757291Z",
     "iopub.status.idle": "2020-11-26T06:01:54.761658Z",
     "shell.execute_reply": "2020-11-26T06:01:54.762212Z"
    },
    "papermill": {
     "duration": 0.644469,
     "end_time": "2020-11-26T06:01:54.762394",
     "exception": false,
     "start_time": "2020-11-26T06:01:54.117925",
     "status": "completed"
    },
    "tags": []
   },
   "outputs": [],
   "source": [
    "feature_cols"
   ]
  },
  {
   "cell_type": "code",
   "execution_count": null,
   "metadata": {
    "execution": {
     "iopub.execute_input": "2020-11-26T06:01:56.048844Z",
     "iopub.status.busy": "2020-11-26T06:01:56.047773Z",
     "iopub.status.idle": "2020-11-26T06:01:56.091882Z",
     "shell.execute_reply": "2020-11-26T06:01:56.092691Z"
    },
    "papermill": {
     "duration": 0.683242,
     "end_time": "2020-11-26T06:01:56.092871",
     "exception": false,
     "start_time": "2020-11-26T06:01:55.409629",
     "status": "completed"
    },
    "tags": []
   },
   "outputs": [],
   "source": [
    "folds"
   ]
  },
  {
   "cell_type": "code",
   "execution_count": null,
   "metadata": {
    "execution": {
     "iopub.execute_input": "2020-11-26T06:01:57.384708Z",
     "iopub.status.busy": "2020-11-26T06:01:57.382570Z",
     "iopub.status.idle": "2020-11-26T06:01:57.385478Z",
     "shell.execute_reply": "2020-11-26T06:01:57.386058Z"
    },
    "papermill": {
     "duration": 0.643554,
     "end_time": "2020-11-26T06:01:57.386201",
     "exception": false,
     "start_time": "2020-11-26T06:01:56.742647",
     "status": "completed"
    },
    "tags": []
   },
   "outputs": [],
   "source": [
    "EPOCHS = 25\n",
    "num_features = len(feature_cols)\n",
    "num_targets = len(target_cols)\n",
    "hidden_size = 1024\n",
    "# hidden_size=4096\n",
    "# hidden_size=9192"
   ]
  },
  {
   "cell_type": "code",
   "execution_count": null,
   "metadata": {
    "execution": {
     "iopub.execute_input": "2020-11-26T06:01:58.909061Z",
     "iopub.status.busy": "2020-11-26T06:01:58.907747Z",
     "iopub.status.idle": "2020-11-26T06:01:58.951308Z",
     "shell.execute_reply": "2020-11-26T06:01:58.952159Z"
    },
    "papermill": {
     "duration": 0.937579,
     "end_time": "2020-11-26T06:01:58.952408",
     "exception": false,
     "start_time": "2020-11-26T06:01:58.014829",
     "status": "completed"
    },
    "tags": []
   },
   "outputs": [],
   "source": [
    "def run_training(fold, seed):\n",
    "\n",
    "    seed_everything(seed)\n",
    "\n",
    "    train = (folds)\n",
    "    test_ = (test)\n",
    "\n",
    "    trn_idx = train[train['kfold'] != fold].index\n",
    "    val_idx = train[train['kfold'] == fold].index\n",
    "\n",
    "    train_df = train[train['kfold'] != fold].reset_index(drop=True)\n",
    "    valid_df = train[train['kfold'] == fold].reset_index(drop=True)\n",
    "\n",
    "    x_train, y_train = train_df[feature_cols].values, train_df[\n",
    "        target_cols].values\n",
    "    x_valid, y_valid = valid_df[feature_cols].values, valid_df[\n",
    "        target_cols].values\n",
    "\n",
    "    train_dataset = MoADataset(x_train, y_train)\n",
    "    valid_dataset = MoADataset(x_valid, y_valid)\n",
    "    trainloader = torch.utils.data.DataLoader(train_dataset,\n",
    "                                              batch_size=BATCH_SIZE,\n",
    "                                              shuffle=True)\n",
    "    validloader = torch.utils.data.DataLoader(valid_dataset,\n",
    "                                              batch_size=BATCH_SIZE,\n",
    "                                              shuffle=False)\n",
    "\n",
    "    model = Model(\n",
    "        num_features=num_features,\n",
    "        num_targets=num_targets,\n",
    "        hidden_size=hidden_size,\n",
    "    )\n",
    "\n",
    "    model.to(DEVICE)\n",
    "\n",
    "    optimizer = torch.optim.Adam(model.parameters(),\n",
    "                                 lr=5e-3,\n",
    "                                 weight_decay=WEIGHT_DECAY)\n",
    "    scheduler = optim.lr_scheduler.OneCycleLR(optimizer=optimizer,\n",
    "                                              pct_start=0.2,\n",
    "                                              div_factor=1e3,\n",
    "                                              max_lr=1e-2,\n",
    "                                              epochs=EPOCHS,\n",
    "                                              steps_per_epoch=len(trainloader))\n",
    "\n",
    "    loss_fn = nn.BCEWithLogitsLoss()\n",
    "    early_stopping_steps = EARLY_STOPPING_STEPS\n",
    "    early_step = 0\n",
    "\n",
    "    oof = np.zeros((len(train), target.iloc[:, 1:].shape[1]))\n",
    "    best_loss = np.inf\n",
    "\n",
    "    for epoch in range(EPOCHS):\n",
    "\n",
    "        train_loss = train_fn(model, optimizer, scheduler, loss_fn,\n",
    "                              trainloader, DEVICE)\n",
    "        print(\n",
    "            f\"SEED: {seed}, FOLD: {fold}, EPOCH: {epoch}, train_loss: {train_loss}\"\n",
    "        )\n",
    "        valid_loss, valid_preds = valid_fn(model, loss_fn, validloader, DEVICE)\n",
    "        print(\n",
    "            f\"SEED: {seed} ,FOLD: {fold}, EPOCH: {epoch}, valid_loss: {valid_loss}\"\n",
    "        )\n",
    "\n",
    "        if valid_loss < best_loss:\n",
    "\n",
    "            best_loss = valid_loss\n",
    "            oof[val_idx] = valid_preds\n",
    "            torch.save(model.state_dict(),\n",
    "                       f\"model/{NB}-scored2-SEED{seed}-FOLD{fold}_.pth\")\n",
    "\n",
    "        elif (EARLY_STOP == True):\n",
    "\n",
    "            early_step += 1\n",
    "            if (early_step >= early_stopping_steps):\n",
    "                break\n",
    "\n",
    "    #--------------------- PREDICTION---------------------\n",
    "    x_test = test_[feature_cols].values\n",
    "    testdataset = TestDataset(x_test)\n",
    "    testloader = torch.utils.data.DataLoader(testdataset,\n",
    "                                             batch_size=BATCH_SIZE,\n",
    "                                             shuffle=False)\n",
    "\n",
    "    model = Model(\n",
    "        num_features=num_features,\n",
    "        num_targets=num_targets,\n",
    "        hidden_size=hidden_size,\n",
    "    )\n",
    "    model.load_state_dict(\n",
    "        torch.load(f\"model/{NB}-scored2-SEED{seed}-FOLD{fold}_.pth\"))\n",
    "    model.to(DEVICE)\n",
    "\n",
    "    #   if not IS_TRAIN:\n",
    "    # valid_loss, valid_preds = valid_fn(model, loss_fn, validloader, DEVICE)\n",
    "    # oof[val_idx] = valid_preds\n",
    "\n",
    "    predictions = np.zeros((len(test_), target.iloc[:, 1:].shape[1]))\n",
    "    predictions = inference_fn(model, testloader, DEVICE)\n",
    "\n",
    "    return oof, predictions"
   ]
  },
  {
   "cell_type": "code",
   "execution_count": null,
   "metadata": {
    "execution": {
     "iopub.execute_input": "2020-11-26T06:02:00.240084Z",
     "iopub.status.busy": "2020-11-26T06:02:00.239158Z",
     "iopub.status.idle": "2020-11-26T06:02:00.243802Z",
     "shell.execute_reply": "2020-11-26T06:02:00.243153Z"
    },
    "papermill": {
     "duration": 0.647174,
     "end_time": "2020-11-26T06:02:00.243920",
     "exception": false,
     "start_time": "2020-11-26T06:01:59.596746",
     "status": "completed"
    },
    "tags": []
   },
   "outputs": [],
   "source": [
    "def run_k_fold(NFOLDS, seed):\n",
    "    oof = np.zeros((len(train), len(target_cols)))\n",
    "    predictions = np.zeros((len(test), len(target_cols)))\n",
    "\n",
    "    for fold in range(NFOLDS):\n",
    "        oof_, pred_ = run_training(fold, seed)\n",
    "\n",
    "        predictions += pred_ / NFOLDS\n",
    "        oof += oof_\n",
    "\n",
    "    return oof, predictions"
   ]
  },
  {
   "cell_type": "code",
   "execution_count": null,
   "metadata": {
    "execution": {
     "iopub.execute_input": "2020-11-26T06:02:01.520384Z",
     "iopub.status.busy": "2020-11-26T06:02:01.518623Z",
     "iopub.status.idle": "2020-11-26T06:15:08.199092Z",
     "shell.execute_reply": "2020-11-26T06:15:08.198426Z"
    },
    "papermill": {
     "duration": 787.323857,
     "end_time": "2020-11-26T06:15:08.199235",
     "exception": false,
     "start_time": "2020-11-26T06:02:00.875378",
     "status": "completed"
    },
    "scrolled": true,
    "tags": []
   },
   "outputs": [],
   "source": [
    "SEED = [940, 1513, 1269, 1392, 1119, 1303]  #<-- Update\n",
    "oof = np.zeros((len(train), len(target_cols)))\n",
    "predictions = np.zeros((len(test), len(target_cols)))\n",
    "\n",
    "time_start = time.time()\n",
    "\n",
    "for seed in SEED:\n",
    "\n",
    "    oof_, predictions_ = run_k_fold(NFOLDS, seed)\n",
    "    oof += oof_ / len(SEED)\n",
    "    predictions += predictions_ / len(SEED)\n",
    "    print(f\"elapsed time: {time.time() - time_start}\")\n",
    "\n",
    "train[target_cols] = oof\n",
    "test[target_cols] = predictions"
   ]
  },
  {
   "cell_type": "code",
   "execution_count": null,
   "metadata": {
    "execution": {
     "iopub.execute_input": "2020-11-26T06:15:10.434067Z",
     "iopub.status.busy": "2020-11-26T06:15:10.432856Z",
     "iopub.status.idle": "2020-11-26T06:15:11.048605Z",
     "shell.execute_reply": "2020-11-26T06:15:11.036104Z"
    },
    "papermill": {
     "duration": 1.896525,
     "end_time": "2020-11-26T06:15:11.048797",
     "exception": false,
     "start_time": "2020-11-26T06:15:09.152272",
     "status": "completed"
    },
    "tags": []
   },
   "outputs": [],
   "source": [
    "train.to_pickle(f\"{INT_DIR}/{NB}-train-score-stack-pred.pkl\")\n",
    "test.to_pickle(f\"{INT_DIR}/{NB}-test-score-stack-pred.pkl\")"
   ]
  },
  {
   "cell_type": "code",
   "execution_count": null,
   "metadata": {
    "execution": {
     "iopub.execute_input": "2020-11-26T06:15:13.639130Z",
     "iopub.status.busy": "2020-11-26T06:15:13.637906Z",
     "iopub.status.idle": "2020-11-26T06:15:14.901819Z",
     "shell.execute_reply": "2020-11-26T06:15:14.900887Z"
    },
    "papermill": {
     "duration": 2.257493,
     "end_time": "2020-11-26T06:15:14.901943",
     "exception": false,
     "start_time": "2020-11-26T06:15:12.644450",
     "status": "completed"
    },
    "tags": []
   },
   "outputs": [],
   "source": [
    "train[target_cols] = np.maximum(PMIN, np.minimum(PMAX, train[target_cols]))\n",
    "valid_results = train_targets_scored.drop(columns=target_cols).merge(\n",
    "    train[['sig_id'] + target_cols], on='sig_id', how='left').fillna(0)\n",
    "\n",
    "y_true = train_targets_scored[target_cols].values\n",
    "y_true = y_true > 0.5\n",
    "y_pred = valid_results[target_cols].values\n",
    "\n",
    "y_pred = np.minimum(SMAX, np.maximum(SMIN, y_pred))\n",
    "\n",
    "score = 0\n",
    "for i in range(len(target_cols)):\n",
    "    score_ = log_loss(y_true[:, i], y_pred[:, i])\n",
    "    score += score_ / target.shape[1]\n",
    "\n",
    "print(\"CV log_loss: \", score)"
   ]
  },
  {
   "cell_type": "code",
   "execution_count": null,
   "metadata": {
    "execution": {
     "iopub.execute_input": "2020-11-26T06:15:17.085148Z",
     "iopub.status.busy": "2020-11-26T06:15:17.083691Z",
     "iopub.status.idle": "2020-11-26T06:15:19.335222Z",
     "shell.execute_reply": "2020-11-26T06:15:19.334277Z"
    },
    "papermill": {
     "duration": 3.451146,
     "end_time": "2020-11-26T06:15:19.335391",
     "exception": false,
     "start_time": "2020-11-26T06:15:15.884245",
     "status": "completed"
    },
    "tags": []
   },
   "outputs": [],
   "source": [
    "# for c in test.columns:\n",
    "#     if c != \"sig_id\":\n",
    "#         test[c] = np.maximum(PMIN, np.minimum(PMAX, test[c]))\n",
    "\n",
    "sub = sample_submission.drop(columns=target_cols).merge(test[['sig_id'] +\n",
    "                                                             target_cols],\n",
    "                                                        on='sig_id',\n",
    "                                                        how='left').fillna(0)\n",
    "# sub.to_csv('submission.csv', index=False)\n",
    "sub.to_csv('submission_2stageNN_with_ns_oldcv_0.01822.csv', index=False)"
   ]
  },
  {
   "cell_type": "code",
   "execution_count": null,
   "metadata": {
    "execution": {
     "iopub.execute_input": "2020-11-26T06:15:21.447491Z",
     "iopub.status.busy": "2020-11-26T06:15:21.444929Z",
     "iopub.status.idle": "2020-11-26T06:15:21.510280Z",
     "shell.execute_reply": "2020-11-26T06:15:21.511669Z"
    },
    "papermill": {
     "duration": 1.20979,
     "end_time": "2020-11-26T06:15:21.511971",
     "exception": false,
     "start_time": "2020-11-26T06:15:20.302181",
     "status": "completed"
    },
    "tags": []
   },
   "outputs": [],
   "source": [
    "sub"
   ]
  },
  {
   "cell_type": "code",
   "execution_count": null,
   "metadata": {
    "papermill": {
     "duration": 0.992223,
     "end_time": "2020-11-26T06:15:23.785992",
     "exception": false,
     "start_time": "2020-11-26T06:15:22.793769",
     "status": "completed"
    },
    "tags": []
   },
   "outputs": [],
   "source": []
  },
  {
   "cell_type": "code",
   "execution_count": null,
   "metadata": {
    "papermill": {
     "duration": 0.955568,
     "end_time": "2020-11-26T06:15:25.770268",
     "exception": false,
     "start_time": "2020-11-26T06:15:24.814700",
     "status": "completed"
    },
    "tags": []
   },
   "outputs": [],
   "source": []
  },
  {
   "cell_type": "code",
   "execution_count": null,
   "metadata": {
    "papermill": {
     "duration": 0.949747,
     "end_time": "2020-11-26T06:15:27.681528",
     "exception": false,
     "start_time": "2020-11-26T06:15:26.731781",
     "status": "completed"
    },
    "tags": []
   },
   "outputs": [],
   "source": []
  },
  {
   "cell_type": "code",
   "execution_count": null,
   "metadata": {
    "papermill": {
     "duration": 0.952765,
     "end_time": "2020-11-26T06:15:29.594300",
     "exception": false,
     "start_time": "2020-11-26T06:15:28.641535",
     "status": "completed"
    },
    "tags": []
   },
   "outputs": [],
   "source": []
  }
 ],
 "metadata": {
  "kernelspec": {
   "display_name": "Python 3",
   "language": "python",
   "name": "python3"
  },
  "language_info": {
   "codemirror_mode": {
    "name": "ipython",
    "version": 3
   },
   "file_extension": ".py",
   "mimetype": "text/x-python",
   "name": "python",
   "nbconvert_exporter": "python",
   "pygments_lexer": "ipython3",
   "version": "3.7.7"
  },
  "papermill": {
   "duration": 3351.245322,
   "end_time": "2020-11-26T06:15:31.060496",
   "environment_variables": {},
   "exception": null,
   "input_path": "__notebook__.ipynb",
   "output_path": "__notebook__.ipynb",
   "parameters": {},
   "start_time": "2020-11-26T05:19:39.815174",
   "version": "2.1.0"
  }
 },
 "nbformat": 4,
 "nbformat_minor": 4
}
