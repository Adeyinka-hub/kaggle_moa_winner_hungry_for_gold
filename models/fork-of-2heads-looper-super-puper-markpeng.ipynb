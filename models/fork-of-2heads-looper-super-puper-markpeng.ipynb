{
 "cells": [
  {
   "cell_type": "code",
   "execution_count": 1,
   "metadata": {},
   "outputs": [],
   "source": [
    "# Reference:\n",
    "# https://www.kaggle.com/demetrypascal/fork-of-2heads-looper-super-puper-plate/notebook\n",
    "\n",
    "kernel_mode = False"
   ]
  },
  {
   "cell_type": "markdown",
   "metadata": {
    "papermill": {
     "duration": 0.032594,
     "end_time": "2020-11-11T07:45:11.484416",
     "exception": false,
     "start_time": "2020-11-11T07:45:11.451822",
     "status": "completed"
    },
    "tags": []
   },
   "source": [
    "# Preparations"
   ]
  },
  {
   "cell_type": "markdown",
   "metadata": {
    "papermill": {
     "duration": 0.032435,
     "end_time": "2020-11-11T07:45:11.549966",
     "exception": false,
     "start_time": "2020-11-11T07:45:11.517531",
     "status": "completed"
    },
    "tags": []
   },
   "source": [
    "Let’s load the packages and provide some constants for our script:"
   ]
  },
  {
   "cell_type": "code",
   "execution_count": null,
   "metadata": {
    "execution": {
     "iopub.execute_input": "2020-11-11T07:45:11.624887Z",
     "iopub.status.busy": "2020-11-11T07:45:11.623973Z",
     "iopub.status.idle": "2020-11-11T07:45:18.923587Z",
     "shell.execute_reply": "2020-11-11T07:45:18.922330Z"
    },
    "papermill": {
     "duration": 7.340999,
     "end_time": "2020-11-11T07:45:18.923723",
     "exception": false,
     "start_time": "2020-11-11T07:45:11.582724",
     "status": "completed"
    },
    "tags": []
   },
   "outputs": [],
   "source": [
    "import numpy as np\n",
    "import pandas as pd\n",
    "import matplotlib.pyplot as plt\n",
    "from sklearn.model_selection import KFold\n",
    "from sklearn import preprocessing\n",
    "from sklearn.metrics import confusion_matrix\n",
    "from sklearn.feature_selection import VarianceThreshold\n",
    "from sklearn.decomposition import PCA\n",
    "from tensorflow.keras import layers, regularizers, Sequential, Model, backend, callbacks, optimizers, metrics, losses\n",
    "import tensorflow as tf\n",
    "import sys\n",
    "import random\n",
    "import json\n",
    "sys.path.append(\n",
    "    '../input/iterative-stratification/iterative-stratification-master')\n",
    "from iterstrat.ml_stratifiers import MultilabelStratifiedKFold\n",
    "\n",
    "import warnings\n",
    "warnings.filterwarnings('ignore')"
   ]
  },
  {
   "cell_type": "code",
   "execution_count": null,
   "metadata": {
    "_kg_hide-output": true,
    "execution": {
     "iopub.execute_input": "2020-11-11T07:45:19.006735Z",
     "iopub.status.busy": "2020-11-11T07:45:19.004625Z",
     "iopub.status.idle": "2020-11-11T07:45:19.007534Z",
     "shell.execute_reply": "2020-11-11T07:45:19.008095Z"
    },
    "papermill": {
     "duration": 0.050102,
     "end_time": "2020-11-11T07:45:19.008235",
     "exception": false,
     "start_time": "2020-11-11T07:45:18.958133",
     "status": "completed"
    },
    "tags": []
   },
   "outputs": [],
   "source": [
    "PATH = \"../input/lish-moa\" if kernel_mode else \"/workspace/Kaggle/MoA\"\n",
    "SEEDS = [23, 228, 1488, 1998, 2208, 2077, 404]\n",
    "KFOLDS = 10\n",
    "\n",
    "label_smoothing_alpha = 0.0005\n",
    "\n",
    "P_MIN = label_smoothing_alpha\n",
    "P_MAX = 1 - P_MIN"
   ]
  },
  {
   "cell_type": "code",
   "execution_count": null,
   "metadata": {
    "execution": {
     "iopub.execute_input": "2020-11-11T07:45:19.086097Z",
     "iopub.status.busy": "2020-11-11T07:45:19.084976Z",
     "iopub.status.idle": "2020-11-11T07:45:25.522055Z",
     "shell.execute_reply": "2020-11-11T07:45:25.518386Z"
    },
    "papermill": {
     "duration": 6.480782,
     "end_time": "2020-11-11T07:45:25.522253",
     "exception": false,
     "start_time": "2020-11-11T07:45:19.041471",
     "status": "completed"
    },
    "tags": []
   },
   "outputs": [],
   "source": [
    "# Import train data, drop sig_id, cp_type\n",
    "train_features = pd.read_csv(f'{PATH}/train_features.csv')\n",
    "\n",
    "non_ctl_idx = train_features.loc[\n",
    "    train_features['cp_type'] != 'ctl_vehicle'].index.to_list()\n",
    "\n",
    "# Drop training data with ctl vehicle\n",
    "tr = train_features.iloc[non_ctl_idx, :].reset_index(drop=True)\n",
    "\n",
    "te = pd.read_csv(f'{PATH}/test_features.csv')"
   ]
  },
  {
   "cell_type": "code",
   "execution_count": null,
   "metadata": {},
   "outputs": [],
   "source": [
    "train_targets_scored = pd.read_csv(f'{PATH}/train_targets_scored.csv')\n",
    "Y = train_targets_scored.drop('sig_id', axis=1)\n",
    "Y = Y.iloc[non_ctl_idx, :].copy().reset_index(drop=True).values\n",
    "\n",
    "train_targets_nonscored = pd.read_csv(f'{PATH}/train_targets_nonscored.csv')\n",
    "Y0 = train_targets_nonscored.drop('sig_id', axis=1)\n",
    "Y0 = Y0.iloc[non_ctl_idx, :].copy().reset_index(drop=True).values\n",
    "\n",
    "sub = pd.read_csv(f'{PATH}/sample_submission.csv')\n",
    "sub.iloc[:, 1:] = 0"
   ]
  },
  {
   "cell_type": "markdown",
   "metadata": {
    "papermill": {
     "duration": 0.03583,
     "end_time": "2020-11-11T07:45:28.303012",
     "exception": false,
     "start_time": "2020-11-11T07:45:28.267182",
     "status": "completed"
    },
    "tags": []
   },
   "source": [
    "# Features from t.test"
   ]
  },
  {
   "cell_type": "markdown",
   "metadata": {
    "papermill": {
     "duration": 0.036472,
     "end_time": "2020-11-11T07:45:28.375902",
     "exception": false,
     "start_time": "2020-11-11T07:45:28.339430",
     "status": "completed"
    },
    "tags": []
   },
   "source": [
    "Here I am getting most important predictors"
   ]
  },
  {
   "cell_type": "code",
   "execution_count": null,
   "metadata": {
    "execution": {
     "iopub.execute_input": "2020-11-11T07:45:28.455017Z",
     "iopub.status.busy": "2020-11-11T07:45:28.454184Z",
     "iopub.status.idle": "2020-11-11T07:45:28.461483Z",
     "shell.execute_reply": "2020-11-11T07:45:28.460844Z"
    },
    "papermill": {
     "duration": 0.049565,
     "end_time": "2020-11-11T07:45:28.461601",
     "exception": false,
     "start_time": "2020-11-11T07:45:28.412036",
     "status": "completed"
    },
    "tags": []
   },
   "outputs": [],
   "source": [
    "# Import predictors from public kernel\n",
    "json_file_path = '../input/t-test-pca-rfe-logistic-regression/main_predictors.json' if kernel_mode \\\n",
    "    else \"/workspace/Kaggle/MoA/t-test-pca-rfe-logistic-regression/main_predictors.json\"\n",
    "\n",
    "with open(json_file_path, 'r') as j:\n",
    "    predictors = json.loads(j.read())\n",
    "    predictors = predictors['start_predictors']"
   ]
  },
  {
   "cell_type": "code",
   "execution_count": null,
   "metadata": {
    "execution": {
     "iopub.execute_input": "2020-11-11T07:45:28.573031Z",
     "iopub.status.busy": "2020-11-11T07:45:28.565161Z",
     "iopub.status.idle": "2020-11-11T07:45:28.576452Z",
     "shell.execute_reply": "2020-11-11T07:45:28.577030Z"
    },
    "papermill": {
     "duration": 0.0786,
     "end_time": "2020-11-11T07:45:28.577177",
     "exception": false,
     "start_time": "2020-11-11T07:45:28.498577",
     "status": "completed"
    },
    "tags": []
   },
   "outputs": [],
   "source": [
    "second_Xtrain = tr[predictors].copy().values\n",
    "\n",
    "second_Xtest = te[predictors].copy().values\n",
    "second_Xtrain.shape"
   ]
  },
  {
   "cell_type": "markdown",
   "metadata": {
    "papermill": {
     "duration": 0.036297,
     "end_time": "2020-11-11T07:45:28.650577",
     "exception": false,
     "start_time": "2020-11-11T07:45:28.614280",
     "status": "completed"
    },
    "tags": []
   },
   "source": [
    "# Keras model"
   ]
  },
  {
   "cell_type": "markdown",
   "metadata": {
    "papermill": {
     "duration": 0.036666,
     "end_time": "2020-11-11T07:45:28.724069",
     "exception": false,
     "start_time": "2020-11-11T07:45:28.687403",
     "status": "completed"
    },
    "tags": []
   },
   "source": [
    "I got idea of **label smoothing** from this notebook: https://www.kaggle.com/kailex/moa-transfer-recipe-with-smoothing"
   ]
  },
  {
   "cell_type": "code",
   "execution_count": null,
   "metadata": {
    "execution": {
     "iopub.execute_input": "2020-11-11T07:45:28.804562Z",
     "iopub.status.busy": "2020-11-11T07:45:28.803696Z",
     "iopub.status.idle": "2020-11-11T07:45:28.808200Z",
     "shell.execute_reply": "2020-11-11T07:45:28.807569Z"
    },
    "papermill": {
     "duration": 0.047482,
     "end_time": "2020-11-11T07:45:28.808311",
     "exception": false,
     "start_time": "2020-11-11T07:45:28.760829",
     "status": "completed"
    },
    "tags": []
   },
   "outputs": [],
   "source": [
    "def logloss(y_true, y_pred):\n",
    "    y_pred = tf.clip_by_value(y_pred, P_MIN, P_MAX)\n",
    "    return -backend.mean(y_true * backend.log(y_pred) +\n",
    "                         (1 - y_true) * backend.log(1 - y_pred))"
   ]
  },
  {
   "cell_type": "markdown",
   "metadata": {
    "papermill": {
     "duration": 0.036797,
     "end_time": "2020-11-11T07:45:28.956193",
     "exception": false,
     "start_time": "2020-11-11T07:45:28.919396",
     "status": "completed"
    },
    "tags": []
   },
   "source": [
    "# Training"
   ]
  },
  {
   "cell_type": "code",
   "execution_count": null,
   "metadata": {},
   "outputs": [],
   "source": [
    "numeric_features = [c for c in train_features.columns if c != \"sig_id\"]\n",
    "gene_experssion_features = [c for c in numeric_features if c.startswith(\"g-\")]\n",
    "cell_viability_features = [c for c in numeric_features if c.startswith(\"c-\")]\n",
    "len(gene_experssion_features), len(cell_viability_features)"
   ]
  },
  {
   "cell_type": "code",
   "execution_count": null,
   "metadata": {},
   "outputs": [],
   "source": [
    "tr = tr.drop(['sig_id', 'cp_type', 'cp_time', 'cp_dose'], axis=1)\n",
    "te = te.drop(['sig_id', 'cp_type', 'cp_time', 'cp_dose'], axis=1)"
   ]
  },
  {
   "cell_type": "code",
   "execution_count": null,
   "metadata": {
    "execution": {
     "iopub.execute_input": "2020-11-11T07:45:29.048267Z",
     "iopub.status.busy": "2020-11-11T07:45:29.046389Z",
     "iopub.status.idle": "2020-11-11T07:45:29.049041Z",
     "shell.execute_reply": "2020-11-11T07:45:29.049614Z"
    },
    "papermill": {
     "duration": 0.056399,
     "end_time": "2020-11-11T07:45:29.049751",
     "exception": false,
     "start_time": "2020-11-11T07:45:28.993352",
     "status": "completed"
    },
    "tags": []
   },
   "outputs": [],
   "source": [
    "def preprocessor_1(train, valid, test, seed):\n",
    "    n_gs = 2\n",
    "    n_cs = 100\n",
    "\n",
    "    # g-mean, c-mean\n",
    "    train_g_mean = train[gene_experssion_features].mean(axis=1)\n",
    "    valid_g_mean = valid[gene_experssion_features].mean(axis=1)\n",
    "    test_g_mean = test[gene_experssion_features].mean(axis=1)\n",
    "\n",
    "    train_c_mean = train[cell_viability_features].mean(axis=1)\n",
    "    valid_c_mean = valid[cell_viability_features].mean(axis=1)\n",
    "    test_c_mean = test[cell_viability_features].mean(axis=1)\n",
    "\n",
    "    train = np.concatenate(\n",
    "        (train, train_g_mean[:, np.newaxis], train_c_mean[:, np.newaxis]),\n",
    "        axis=1)\n",
    "    valid = np.concatenate(\n",
    "        (valid, valid_g_mean[:, np.newaxis], valid_c_mean[:, np.newaxis]),\n",
    "        axis=1)\n",
    "    test = np.concatenate(\n",
    "        (test, test_g_mean[:, np.newaxis], test_c_mean[:, np.newaxis]), axis=1)\n",
    "\n",
    "    # Standard Scaler for Numerical Values\n",
    "    scaler = preprocessing.StandardScaler()\n",
    "    train = scaler.fit_transform(train)\n",
    "    valid = scaler.transform(valid)\n",
    "    test = scaler.transform(test)\n",
    "\n",
    "    pca_gs = PCA(n_components=n_gs, random_state=seed)\n",
    "    train_pca_gs = pca_gs.fit_transform(train[gene_experssion_features])\n",
    "    valid_pca_gs = pca_gs.transform(valid[gene_experssion_features])\n",
    "    test_pca_gs = pca_gs.transform(test[gene_experssion_features])\n",
    "\n",
    "    pca_cs = PCA(n_components=n_cs, random_state=seed)\n",
    "    train_pca_cs = pca_cs.fit_transform(train[cell_viability_features])\n",
    "    valid_pca_cs = pca_cs.transform(valid[cell_viability_features])\n",
    "    test_pca_cs = pca_cs.transform(test[cell_viability_features])\n",
    "\n",
    "    # Append Features\n",
    "    train = np.concatenate((train, train_pca_gs, train_pca_cs), axis=1)\n",
    "    valid = np.concatenate((valid, valid_pca_gs, valid_pca_cs), axis=1)\n",
    "    test = np.concatenate((test, test_pca_gs, test_pca_cs), axis=1)\n",
    "\n",
    "    return train, valid, test, scaler, pca_gs, pca_cs\n",
    "\n",
    "\n",
    "def preprocessor_2(train, valid, test):\n",
    "    # Standard Scaler for Numerical Values\n",
    "    scaler = preprocessing.StandardScaler()\n",
    "    train = scaler.fit_transform(train)\n",
    "    valid = scaler.transform(valid)\n",
    "    test = scaler.transform(test)\n",
    "\n",
    "    return train, valid, test, scaler\n",
    "\n",
    "\n",
    "def mean_logloss(y_pred, y_true):\n",
    "    logloss = (1 - y_true) * np.log(1 - y_pred +\n",
    "                                    1e-15) + y_true * np.log(y_pred + 1e-15)\n",
    "    return np.mean(-logloss)"
   ]
  },
  {
   "cell_type": "code",
   "execution_count": null,
   "metadata": {},
   "outputs": [],
   "source": [
    "tr.shape, te.shape"
   ]
  },
  {
   "cell_type": "code",
   "execution_count": null,
   "metadata": {
    "execution": {
     "iopub.execute_input": "2020-11-11T07:45:30.295979Z",
     "iopub.status.busy": "2020-11-11T07:45:30.274930Z",
     "iopub.status.idle": "2020-11-11T08:45:30.221121Z",
     "shell.execute_reply": "2020-11-11T08:45:30.220025Z"
    },
    "papermill": {
     "duration": 3600.006513,
     "end_time": "2020-11-11T08:45:30.221259",
     "exception": false,
     "start_time": "2020-11-11T07:45:30.214746",
     "status": "completed"
    },
    "tags": []
   },
   "outputs": [],
   "source": [
    "oof_predictions = np.zeros((tr.shape[0], Y.shape[1]))\n",
    "\n",
    "y_pred = np.zeros((te.shape[0], 206))\n",
    "for s in SEEDS:\n",
    "\n",
    "    random.seed(s)\n",
    "    np.random.seed(s)\n",
    "    tf.random.set_seed(s)\n",
    "\n",
    "    k = 0\n",
    "    kf = KFold(n_splits=KFOLDS, shuffle=True, random_state=s)\n",
    "    for train_index, valid_index in kf.split(tr):\n",
    "        file_name = f\"seed{s}_fold{k}\"\n",
    "\n",
    "        X_train_1, X_valid_1, X_test_1, scaler_1, pca_gs, pca_cs = preprocessor_1(\n",
    "            tr.iloc[train_index, :], tr.iloc[valid_index, :], te, s)\n",
    "\n",
    "        X_train_2, X_valid_2, X_test_2, scaler_2 = preprocessor_2(\n",
    "            second_Xtrain.iloc[train_index, :],\n",
    "            second_Xtrain.iloc[valid_index, :], second_Xtest, s)\n",
    "\n",
    "        y_train_1, y_valid_1 = Y[train_index, :], Y[valid_index, :]\n",
    "        y_train_2, y_valid_2 = Y0[train_index, :], Y0[valid_index, :]\n",
    "\n",
    "        n_features = X_train_1.shape[1]\n",
    "        n_features_2 = X_train_2.shape[1]\n",
    "\n",
    "        early_stopping = callbacks.EarlyStopping(min_delta=1e-5,\n",
    "                                                 patience=10,\n",
    "                                                 mode='min',\n",
    "                                                 restore_best_weights=True)\n",
    "        check_point = callbacks.ModelCheckpoint(f\"{file_name}_nonscore.h5\",\n",
    "                                                save_best_only=True,\n",
    "                                                verbose=0,\n",
    "                                                mode=\"min\")\n",
    "        reduce_lr = callbacks.ReduceLROnPlateau(factor=0.5,\n",
    "                                                patience=4,\n",
    "                                                verbose=0,\n",
    "                                                mode=\"auto\")\n",
    "\n",
    "        # start configuration\n",
    "        input1_ = layers.Input(shape=(n_features, ))\n",
    "        input2_ = layers.Input(shape=(n_features_2, ))\n",
    "\n",
    "        output1 = Sequential([\n",
    "            layers.BatchNormalization(),\n",
    "            layers.Dropout(0.2),\n",
    "            layers.Dense(512, activation=\"elu\"),\n",
    "            layers.BatchNormalization(),\n",
    "            layers.Dense(256, activation=\"elu\")\n",
    "        ])(input1_)\n",
    "\n",
    "        answer1 = Sequential([\n",
    "            layers.BatchNormalization(),\n",
    "            layers.Dropout(0.3),\n",
    "            layers.Dense(512, \"relu\")\n",
    "        ])(layers.Concatenate()([output1, input2_]))\n",
    "\n",
    "        answer2 = Sequential([\n",
    "            layers.BatchNormalization(),\n",
    "            layers.Dense(512, \"elu\"),\n",
    "            layers.BatchNormalization(),\n",
    "            layers.Dense(256, \"relu\")\n",
    "        ])(layers.Concatenate()([output1, input2_, answer1]))\n",
    "\n",
    "        answer3 = Sequential(\n",
    "            [layers.BatchNormalization(),\n",
    "             layers.Dense(256,\n",
    "                          \"elu\")])(layers.Concatenate()([answer1, answer2]))\n",
    "\n",
    "        answer3_ = Sequential([\n",
    "            layers.BatchNormalization(),\n",
    "            layers.Dense(256, \"relu\")\n",
    "        ])(layers.Concatenate()([answer1, answer2, answer3]))\n",
    "\n",
    "        answer4 = Sequential([\n",
    "            layers.BatchNormalization(),\n",
    "            layers.Dense(\n",
    "                256,\n",
    "                kernel_initializer=tf.keras.initializers.LecunNormal(seed=s),\n",
    "                activation='selu',\n",
    "                name='last_frozen'),\n",
    "            layers.BatchNormalization(),\n",
    "            layers.Dense(206, kernel_initializer=init, activation='selu')\n",
    "        ])(layers.Concatenate()([output1, answer2, answer3, answer3_]))\n",
    "\n",
    "        # Non-scored Training #\n",
    "\n",
    "        answer5 = Sequential([\n",
    "            layers.BatchNormalization(),\n",
    "            layers.Dense(Y0.shape[1], \"sigmoid\")\n",
    "        ])(answer4)\n",
    "\n",
    "        m_nn = tf.keras.Model([input1_, input2_], answer5)\n",
    "\n",
    "        m_nn.compile(optimizer=optimizers.Adam(learning_rate=0.001),\n",
    "                     loss=losses.BinaryCrossentropy(\n",
    "                         label_smoothing=label_smoothing_alpha),\n",
    "                     metrics=logloss)\n",
    "\n",
    "        history = m_nn.fit([X_train_1, X_train_2],\n",
    "                           y_train_2,\n",
    "                           epochs=50,\n",
    "                           batch_size=128,\n",
    "                           validation_data=([X_valid_1, X_valid_2], y_valid_2),\n",
    "                           callbacks=[check_point, early_stopping, reduce_lr],\n",
    "                           verbose=1)\n",
    "        m_nn = tf.keras.models.load_model(f\"{file_name}_nonscore.h5\")\n",
    "\n",
    "        # Scored Training #\n",
    "\n",
    "        answer5 = Sequential(\n",
    "            [layers.BatchNormalization(),\n",
    "             layers.Dense(Y.shape[1], \"sigmoid\")])(answer4)\n",
    "\n",
    "        m_nn = tf.keras.Model([input1_, input2_], answer5)\n",
    "\n",
    "        m_nn.compile(optimizer=optimizers.Adam(learning_rate=0.001),\n",
    "                     loss=losses.BinaryCrossentropy(\n",
    "                         label_smoothing=label_smoothing_alpha),\n",
    "                     metrics=logloss)\n",
    "\n",
    "        early_stopping = callbacks.EarlyStopping(min_delta=1e-5,\n",
    "                                                 patience=10,\n",
    "                                                 mode='min',\n",
    "                                                 restore_best_weights=True)\n",
    "        check_point = callbacks.ModelCheckpoint(f\"{file_name}.h5\",\n",
    "                                                save_best_only=True,\n",
    "                                                verbose=0,\n",
    "                                                mode=\"min\")\n",
    "        reduce_lr = callbacks.ReduceLROnPlateau(factor=0.5,\n",
    "                                                patience=4,\n",
    "                                                verbose=0,\n",
    "                                                mode=\"auto\")\n",
    "\n",
    "        history = m_nn.fit([X_train_1, X_train_2],\n",
    "                           y_train_1,\n",
    "                           epochs=50,\n",
    "                           batch_size=128,\n",
    "                           validation_data=([X_valid_1, X_valid_2], y_valid_1),\n",
    "                           callbacks=[check_point, early_stopping, reduce_lr],\n",
    "                           verbose=0)\n",
    "        m_nn = tf.keras.models.load_model(f\"{file_name}.h5\")\n",
    "\n",
    "        val_old = m_nn.predict([X_valid_1, X_valid_2])\n",
    "        valid_metric_old = mean_logloss(val_old, y_valid_1)\n",
    "        print('After non-scored training: validation_loss =', valid_metric_old)\n",
    "\n",
    "        m_nn.save('tmp.h5')\n",
    "\n",
    "        # big loop\n",
    "        loop = 1\n",
    "        while (loop < 3):\n",
    "            # Freeze_weights(m_nn, to = 'last_frozen')\n",
    "            for i, layer in enumerate(m_nn.layers):\n",
    "                if layer.name == \"last_frozen\":\n",
    "                    layer.trainable = False\n",
    "                    break\n",
    "                else:\n",
    "                    layer.trainable = False\n",
    "\n",
    "            m_nn.compile(optimizer=tf.keras.optimizers.Adadelta(lr=0.001 / 3),\n",
    "                         loss=tf.losses.BinaryCrossentropy(\n",
    "                             label_smoothing=label_smoothing_alpha),\n",
    "                         metrics=logloss)\n",
    "\n",
    "            # Frozen Mode #\n",
    "\n",
    "            reps = 0\n",
    "            while (reps < 2):\n",
    "                history = m_nn.fit([X_valid_1, X_valid_2],\n",
    "                                   y_valid_1,\n",
    "                                   epochs=1,\n",
    "                                   batch_size=128,\n",
    "                                   verbose=1)\n",
    "\n",
    "                val_preds = m_nn.predict([X_valid_1, X_valid_2])\n",
    "                valid_metric = mean_logloss(val_preds, y_valid_1)\n",
    "\n",
    "                if (valid_metric_old > valid_metric):\n",
    "                    print('Improved!')\n",
    "                    reps = reps + 1\n",
    "                    valid_metric_old = valid_metric\n",
    "                    print(loop, 'loop ---> After frozen-step best valid =',\n",
    "                          valid_metric_old, 'after', reps, 'epochs \\n')\n",
    "\n",
    "                    m_nn.save('tmp.h5')\n",
    "                else:\n",
    "                    print('No Improvement')\n",
    "                    m_nn = tf.keras.models.load_model(\n",
    "                        'tmp.h5', custom_objects={'logloss': logloss})\n",
    "                    print(loop, 'loop ---> After frozen-step best valid =',\n",
    "                          valid_metric, 'after', reps, 'epochs \\n')\n",
    "\n",
    "                    break\n",
    "\n",
    "            if (reps == 0):  # no progress? STOP!\n",
    "                break\n",
    "\n",
    "            # Unfreeze all layers\n",
    "            for i, layer in enumerate(m_nn.layers):\n",
    "                layer.trainable = True\n",
    "\n",
    "            m_nn.compile(optimizer=tf.keras.optimizers.Adadelta(lr=0.001 / 5),\n",
    "                         loss=tf.losses.BinaryCrossentropy(\n",
    "                             label_smoothing=label_smoothing_alpha),\n",
    "                         metrics=logloss)\n",
    "\n",
    "            # Unfrozen Mode #\n",
    "\n",
    "            reps = 0\n",
    "            while (reps < 2):\n",
    "                history = m_nn.fit([X_valid_1, X_valid_2],\n",
    "                                   y_valid_1,\n",
    "                                   epochs=1,\n",
    "                                   batch_size=128,\n",
    "                                   verbose=1)\n",
    "\n",
    "                val_preds = m_nn.predict([X_valid_1, X_valid_2])\n",
    "                valid_metric = mean_logloss(val_preds, y_valid_1)\n",
    "\n",
    "                if (valid_metric_old > valid_metric):\n",
    "                    print('Improved!')\n",
    "                    reps = reps + 1\n",
    "                    valid_metric_old = valid_metric\n",
    "                    print(loop, 'loop ---> After frozen-step best valid =',\n",
    "                          valid_metric_old, 'after', reps, 'epochs \\n')\n",
    "\n",
    "                    m_nn.save('tmp.h5')\n",
    "                else:\n",
    "                    print('No Improvement')\n",
    "                    m_nn = tf.keras.models.load_model(\n",
    "                        'tmp.h5', custom_objects={'logloss': logloss})\n",
    "                    print(loop, 'loop ---> After Non-frozen-step best valid =',\n",
    "                          valid_metric, 'after', reps, 'epochs \\n')\n",
    "\n",
    "                    break\n",
    "\n",
    "            if (reps == 0):\n",
    "                break\n",
    "\n",
    "            loop = loop + 1\n",
    "\n",
    "        # Save Final Model\n",
    "        m_nn.save(f'{file_name}_final.h5')\n",
    "\n",
    "        # OOF Predictions and Score #\n",
    "\n",
    "        val_preds = m_nn.predict([X_valid_1, X_valid_2])\n",
    "        fold_valid_score = mean_logloss(val_preds, y_valid_1)\n",
    "\n",
    "        oof_predictions[valid_index, :] += fold_valid_score / (KFOLDS *\n",
    "                                                               len(SEEDS))\n",
    "        print('Seed:', s, 'Fold :', k, 'score:', fold_valid_score)\n",
    "\n",
    "        # Generate Submission Prediction #\n",
    "\n",
    "        y_pred += m_nn.predict([X_test_1, X_test_2]) / (KFOLDS * len(SEEDS))\n",
    "\n",
    "        k += 1\n",
    "\n",
    "        print('\\n')"
   ]
  },
  {
   "cell_type": "code",
   "execution_count": null,
   "metadata": {
    "execution": {
     "iopub.execute_input": "2020-11-11T08:46:27.991646Z",
     "iopub.status.busy": "2020-11-11T08:46:27.990901Z",
     "iopub.status.idle": "2020-11-11T08:46:28.000205Z",
     "shell.execute_reply": "2020-11-11T08:46:28.002353Z"
    },
    "papermill": {
     "duration": 14.092036,
     "end_time": "2020-11-11T08:46:28.002567",
     "exception": false,
     "start_time": "2020-11-11T08:46:13.910531",
     "status": "completed"
    },
    "tags": []
   },
   "outputs": [],
   "source": [
    "oof_loss = mean_logloss(oof_predictions, Y)\n",
    "print(f\"OOF Validation Loss: {oof_loss:.6f}\")"
   ]
  },
  {
   "cell_type": "code",
   "execution_count": null,
   "metadata": {},
   "outputs": [],
   "source": [
    "with open(f'oof_{oof_loss}.npy', 'wb') as f:\n",
    "    np.save(f, oof_predictions)\n",
    "\n",
    "with open(f'oof_{oof_loss}.npy', 'rb') as f:\n",
    "    tmp = np.load(f)\n",
    "    print(tmp.shape)"
   ]
  },
  {
   "cell_type": "markdown",
   "metadata": {
    "papermill": {
     "duration": 13.933663,
     "end_time": "2020-11-11T08:46:56.745720",
     "exception": false,
     "start_time": "2020-11-11T08:46:42.812057",
     "status": "completed"
    },
    "tags": []
   },
   "source": [
    "# Submission"
   ]
  },
  {
   "cell_type": "code",
   "execution_count": null,
   "metadata": {
    "execution": {
     "iopub.execute_input": "2020-11-11T08:48:54.311631Z",
     "iopub.status.busy": "2020-11-11T08:48:54.310535Z",
     "iopub.status.idle": "2020-11-11T08:48:54.916705Z",
     "shell.execute_reply": "2020-11-11T08:48:54.916073Z"
    },
    "papermill": {
     "duration": 14.67484,
     "end_time": "2020-11-11T08:48:54.916824",
     "exception": false,
     "start_time": "2020-11-11T08:48:40.241984",
     "status": "completed"
    },
    "tags": []
   },
   "outputs": [],
   "source": [
    "sub.iloc[:, 1:] = np.clip(y_pred, P_MIN, P_MAX)"
   ]
  },
  {
   "cell_type": "code",
   "execution_count": null,
   "metadata": {
    "execution": {
     "iopub.execute_input": "2020-11-11T08:49:24.916192Z",
     "iopub.status.busy": "2020-11-11T08:49:24.915133Z",
     "iopub.status.idle": "2020-11-11T08:49:24.955202Z",
     "shell.execute_reply": "2020-11-11T08:49:24.955799Z"
    },
    "papermill": {
     "duration": 14.848436,
     "end_time": "2020-11-11T08:49:24.955970",
     "exception": false,
     "start_time": "2020-11-11T08:49:10.107534",
     "status": "completed"
    },
    "tags": []
   },
   "outputs": [],
   "source": [
    "sub"
   ]
  },
  {
   "cell_type": "code",
   "execution_count": null,
   "metadata": {
    "execution": {
     "iopub.execute_input": "2020-11-11T08:50:23.604717Z",
     "iopub.status.busy": "2020-11-11T08:50:23.601559Z",
     "iopub.status.idle": "2020-11-11T08:50:26.002857Z",
     "shell.execute_reply": "2020-11-11T08:50:26.001634Z"
    },
    "papermill": {
     "duration": 16.925683,
     "end_time": "2020-11-11T08:50:26.003039",
     "exception": false,
     "start_time": "2020-11-11T08:50:09.077356",
     "status": "completed"
    },
    "tags": []
   },
   "outputs": [],
   "source": [
    "# Set ctl_vehicle to 0\n",
    "sub.iloc[te['cp_type'] == 'ctl_vehicle', 1:] = 0\n",
    "\n",
    "# Save Submission\n",
    "sub.to_csv('submission.csv', index=False)"
   ]
  },
  {
   "cell_type": "code",
   "execution_count": null,
   "metadata": {
    "execution": {
     "iopub.execute_input": "2020-11-11T08:50:54.604220Z",
     "iopub.status.busy": "2020-11-11T08:50:54.602918Z",
     "iopub.status.idle": "2020-11-11T08:50:54.644669Z",
     "shell.execute_reply": "2020-11-11T08:50:54.645356Z"
    },
    "papermill": {
     "duration": 14.756009,
     "end_time": "2020-11-11T08:50:54.645529",
     "exception": false,
     "start_time": "2020-11-11T08:50:39.889520",
     "status": "completed"
    },
    "tags": []
   },
   "outputs": [],
   "source": [
    "sub"
   ]
  }
 ],
 "metadata": {
  "kernelspec": {
   "display_name": "Python 3",
   "language": "python",
   "name": "python3"
  },
  "language_info": {
   "codemirror_mode": {
    "name": "ipython",
    "version": 3
   },
   "file_extension": ".py",
   "mimetype": "text/x-python",
   "name": "python",
   "nbconvert_exporter": "python",
   "pygments_lexer": "ipython3",
   "version": "3.7.7"
  },
  "papermill": {
   "duration": 3964.293061,
   "end_time": "2020-11-11T08:51:10.704042",
   "environment_variables": {},
   "exception": null,
   "input_path": "__notebook__.ipynb",
   "output_path": "__notebook__.ipynb",
   "parameters": {},
   "start_time": "2020-11-11T07:45:06.410981",
   "version": "2.1.0"
  }
 },
 "nbformat": 4,
 "nbformat_minor": 4
}
