{
 "cells": [
  {
   "cell_type": "markdown",
   "metadata": {
    "papermill": {
     "duration": 0.039377,
     "end_time": "2020-11-27T16:01:59.813124",
     "exception": false,
     "start_time": "2020-11-27T16:01:59.773747",
     "status": "completed"
    },
    "tags": []
   },
   "source": [
    "## 101-preprocess.ipynb"
   ]
  },
  {
   "cell_type": "code",
   "execution_count": 1,
   "metadata": {
    "_cell_guid": "b1076dfc-b9ad-4769-8c92-a6c4dae69d19",
    "_uuid": "8f2839f25d086af736a60e9eeb907d3b93b6e0e5",
    "execution": {
     "iopub.execute_input": "2020-11-27T16:01:59.916302Z",
     "iopub.status.busy": "2020-11-27T16:01:59.915465Z",
     "iopub.status.idle": "2020-11-27T16:02:06.260293Z",
     "shell.execute_reply": "2020-11-27T16:02:06.260967Z"
    },
    "papermill": {
     "duration": 6.410988,
     "end_time": "2020-11-27T16:02:06.261172",
     "exception": false,
     "start_time": "2020-11-27T16:01:59.850184",
     "status": "completed"
    },
    "tags": []
   },
   "outputs": [
    {
     "name": "stdout",
     "output_type": "stream",
     "text": [
      "is cuda available: True\n"
     ]
    }
   ],
   "source": [
    "import sys\n",
    "\n",
    "# for kaggle kernel\n",
    "# add datasets iterative-stratification and umaplearn\n",
    "\n",
    "sys.path.append('../input/iterative-stratification/iterative-stratification-master')\n",
    "sys.path.append('../input/umaplearn/umap')\n",
    "%mkdir model\n",
    "%mkdir interim\n",
    "\n",
    "from scipy.sparse.csgraph import connected_components\n",
    "from umap import UMAP\n",
    "from iterstrat.ml_stratifiers import MultilabelStratifiedKFold, RepeatedMultilabelStratifiedKFold\n",
    "\n",
    "import numpy as np\n",
    "import scipy as sp\n",
    "import random\n",
    "import pandas as pd\n",
    "import matplotlib.pyplot as plt\n",
    "import os\n",
    "import copy\n",
    "import seaborn as sns\n",
    "import time\n",
    "# import joblib\n",
    "\n",
    "from sklearn import preprocessing\n",
    "from sklearn.metrics import log_loss\n",
    "from sklearn.preprocessing import StandardScaler\n",
    "from sklearn.decomposition import PCA, FactorAnalysis\n",
    "from sklearn.manifold import TSNE\n",
    "\n",
    "import torch\n",
    "import torch.nn as nn\n",
    "import torch.nn.functional as F\n",
    "import torch.optim as optim\n",
    "\n",
    "print(f\"is cuda available: {torch.cuda.is_available()}\")\n",
    "\n",
    "import warnings\n",
    "# warnings.filterwarnings('ignore')\n",
    "\n",
    "def seed_everything(seed_value):\n",
    "    random.seed(seed_value)\n",
    "    np.random.seed(seed_value)\n",
    "    torch.manual_seed(seed_value)\n",
    "    os.environ['PYTHONHASHSEED'] = str(seed_value)\n",
    "    \n",
    "    if torch.cuda.is_available(): \n",
    "        torch.cuda.manual_seed(seed_value)\n",
    "        torch.cuda.manual_seed_all(seed_value)\n",
    "        torch.backends.cudnn.deterministic = True\n",
    "        torch.backends.cudnn.benchmark = False\n",
    "\n",
    "DEFAULT_SEED = 512\n",
    "seed_everything(seed_value=DEFAULT_SEED)"
   ]
  },
  {
   "cell_type": "code",
   "execution_count": 2,
   "metadata": {
    "_cell_guid": "79c7e3d0-c299-4dcb-8224-4455121ee9b0",
    "_uuid": "d629ff2d2480ee46fbb7e2d37f6b5fab8052498a",
    "execution": {
     "iopub.execute_input": "2020-11-27T16:02:06.344407Z",
     "iopub.status.busy": "2020-11-27T16:02:06.343688Z",
     "iopub.status.idle": "2020-11-27T16:02:06.347613Z",
     "shell.execute_reply": "2020-11-27T16:02:06.347064Z"
    },
    "papermill": {
     "duration": 0.047435,
     "end_time": "2020-11-27T16:02:06.347704",
     "exception": false,
     "start_time": "2020-11-27T16:02:06.300269",
     "status": "completed"
    },
    "tags": []
   },
   "outputs": [],
   "source": [
    "# file name prefix\n",
    "NB = '101'\n",
    "\n",
    "IS_TRAIN = True\n",
    "\n",
    "MODEL_DIR = \"model\" # \"../model\"\n",
    "INT_DIR = \"interim\" # \"../interim\"\n",
    "\n",
    "DEVICE = ('cuda' if torch.cuda.is_available() else 'cpu')\n",
    "\n",
    "# label smoothing\n",
    "PMIN = 0.0\n",
    "PMAX = 1.0\n",
    "\n",
    "# submission smoothing\n",
    "SMIN = 0.0\n",
    "SMAX = 1.0"
   ]
  },
  {
   "cell_type": "code",
   "execution_count": 3,
   "metadata": {
    "execution": {
     "iopub.execute_input": "2020-11-27T16:02:06.430322Z",
     "iopub.status.busy": "2020-11-27T16:02:06.429305Z",
     "iopub.status.idle": "2020-11-27T16:02:12.290983Z",
     "shell.execute_reply": "2020-11-27T16:02:12.289866Z"
    },
    "papermill": {
     "duration": 5.905818,
     "end_time": "2020-11-27T16:02:12.291105",
     "exception": false,
     "start_time": "2020-11-27T16:02:06.385287",
     "status": "completed"
    },
    "tags": []
   },
   "outputs": [],
   "source": [
    "train_features = pd.read_csv('../input/lish-moa/train_features.csv')\n",
    "train_targets_scored = pd.read_csv('../input/lish-moa/train_targets_scored.csv')\n",
    "train_targets_nonscored = pd.read_csv('../input/lish-moa/train_targets_nonscored.csv')\n",
    "\n",
    "test_features = pd.read_csv('../input/lish-moa/test_features.csv')\n",
    "sample_submission = pd.read_csv('../input/lish-moa/sample_submission.csv')"
   ]
  },
  {
   "cell_type": "code",
   "execution_count": 4,
   "metadata": {
    "execution": {
     "iopub.execute_input": "2020-11-27T16:02:12.382342Z",
     "iopub.status.busy": "2020-11-27T16:02:12.381735Z",
     "iopub.status.idle": "2020-11-27T16:03:19.443429Z",
     "shell.execute_reply": "2020-11-27T16:03:19.442359Z"
    },
    "papermill": {
     "duration": 67.11483,
     "end_time": "2020-11-27T16:03:19.443565",
     "exception": false,
     "start_time": "2020-11-27T16:02:12.328735",
     "status": "completed"
    },
    "tags": []
   },
   "outputs": [],
   "source": [
    "from sklearn.preprocessing import QuantileTransformer\n",
    "\n",
    "GENES = [col for col in train_features.columns if col.startswith('g-')]\n",
    "CELLS = [col for col in train_features.columns if col.startswith('c-')]\n",
    "\n",
    "for col in (GENES + CELLS):\n",
    "    vec_len = len(train_features[col].values)\n",
    "    vec_len_test = len(test_features[col].values)\n",
    "    raw_vec = pd.concat([train_features, test_features])[col].values.reshape(vec_len+vec_len_test, 1)\n",
    "    if IS_TRAIN:\n",
    "        transformer = QuantileTransformer(n_quantiles=100, random_state=0, output_distribution=\"normal\")\n",
    "        transformer.fit(raw_vec)\n",
    "        pd.to_pickle(transformer, f'{MODEL_DIR}/{NB}_{col}_quantile_transformer.pkl')\n",
    "    else:\n",
    "        transformer = pd.read_pickle(f'{MODEL_DIR}/{NB}_{col}_quantile_transformer.pkl')        \n",
    "\n",
    "    train_features[col] = transformer.transform(train_features[col].values.reshape(vec_len, 1)).reshape(1, vec_len)[0]\n",
    "    test_features[col] = transformer.transform(test_features[col].values.reshape(vec_len_test, 1)).reshape(1, vec_len_test)[0]"
   ]
  },
  {
   "cell_type": "code",
   "execution_count": 5,
   "metadata": {
    "execution": {
     "iopub.execute_input": "2020-11-27T16:03:19.547041Z",
     "iopub.status.busy": "2020-11-27T16:03:19.542968Z",
     "iopub.status.idle": "2020-11-27T16:07:34.250295Z",
     "shell.execute_reply": "2020-11-27T16:07:34.249644Z"
    },
    "papermill": {
     "duration": 254.76861,
     "end_time": "2020-11-27T16:07:34.250425",
     "exception": false,
     "start_time": "2020-11-27T16:03:19.481815",
     "status": "completed"
    },
    "tags": []
   },
   "outputs": [],
   "source": [
    "# GENES\n",
    "n_comp = 50\n",
    "n_dim = 15\n",
    "\n",
    "data = pd.concat([pd.DataFrame(train_features[GENES]), pd.DataFrame(test_features[GENES])])\n",
    "\n",
    "if IS_TRAIN:\n",
    "    pca = PCA(n_components=n_comp, random_state=DEFAULT_SEED).fit(train_features[GENES])\n",
    "    umap = UMAP(n_components=n_dim, random_state=DEFAULT_SEED).fit(train_features[GENES])\n",
    "    pd.to_pickle(pca, f\"{MODEL_DIR}/{NB}_pca_g.pkl\")\n",
    "    pd.to_pickle(umap, f\"{MODEL_DIR}/{NB}_umap_g.pkl\")\n",
    "else:\n",
    "    pca = pd.read_pickle(f\"{MODEL_DIR}/{MB}_pca_g.pkl\")\n",
    "    umap = pd.read_pickle(f\"{MODEL_DIR}/{NB}_umap_g.pkl\")\n",
    "    \n",
    "data2 = pca.transform(data[GENES])\n",
    "data3 = umap.transform(data[GENES])\n",
    "\n",
    "train2 = data2[:train_features.shape[0]]\n",
    "test2 = data2[-test_features.shape[0]:]\n",
    "train3 = data3[:train_features.shape[0]]\n",
    "test3 = data3[-test_features.shape[0]:]\n",
    "\n",
    "train2 = pd.DataFrame(train2, columns=[f'pca_G-{i}' for i in range(n_comp)])\n",
    "train3 = pd.DataFrame(train3, columns=[f'umap_G-{i}' for i in range(n_dim)])\n",
    "test2 = pd.DataFrame(test2, columns=[f'pca_G-{i}' for i in range(n_comp)])\n",
    "test3 = pd.DataFrame(test3, columns=[f'umap_G-{i}' for i in range(n_dim)])\n",
    "\n",
    "train_features = pd.concat((train_features, train2, train3), axis=1)\n",
    "test_features = pd.concat((test_features, test2, test3), axis=1)\n",
    "\n",
    "#CELLS\n",
    "n_comp = 15\n",
    "n_dim = 5\n",
    "\n",
    "data = pd.concat([pd.DataFrame(train_features[CELLS]), pd.DataFrame(test_features[CELLS])])\n",
    "\n",
    "\n",
    "if IS_TRAIN:\n",
    "    pca = PCA(n_components=n_comp, random_state=DEFAULT_SEED).fit(train_features[CELLS])\n",
    "    umap = UMAP(n_components=n_dim, random_state=DEFAULT_SEED).fit(train_features[CELLS])\n",
    "    pd.to_pickle(pca, f\"{MODEL_DIR}/{NB}_pca_c.pkl\")\n",
    "    pd.to_pickle(umap, f\"{MODEL_DIR}/{NB}_umap_c.pkl\")\n",
    "else:\n",
    "    pca = pd.read_pickle(f\"{MODEL_DIR}/{NB}_pca_c.pkl\")\n",
    "    umap = pd.read_pickle(f\"{MODEL_DIR}/{NB}_umap_c.pkl\")   \n",
    "\n",
    "data2 = pca.transform(data[CELLS])\n",
    "data3 = umap.transform(data[CELLS])\n",
    "\n",
    "train2 = data2[:train_features.shape[0]]\n",
    "test2 = data2[-test_features.shape[0]:]\n",
    "train3 = data3[:train_features.shape[0]]\n",
    "test3 = data3[-test_features.shape[0]:]\n",
    "\n",
    "train2 = pd.DataFrame(train2, columns=[f'pca_C-{i}' for i in range(n_comp)])\n",
    "train3 = pd.DataFrame(train3, columns=[f'umap_C-{i}' for i in range(n_dim)])\n",
    "test2 = pd.DataFrame(test2, columns=[f'pca_C-{i}' for i in range(n_comp)])\n",
    "test3 = pd.DataFrame(test3, columns=[f'umap_C-{i}' for i in range(n_dim)])\n",
    "\n",
    "train_features = pd.concat((train_features, train2, train3), axis=1)\n",
    "test_features = pd.concat((test_features, test2, test3), axis=1)\n",
    "\n",
    "# drop_cols = [f'c-{i}' for i in range(n_comp,len(CELLS))]"
   ]
  },
  {
   "cell_type": "code",
   "execution_count": 6,
   "metadata": {
    "execution": {
     "iopub.execute_input": "2020-11-27T16:07:34.394154Z",
     "iopub.status.busy": "2020-11-27T16:07:34.393158Z",
     "iopub.status.idle": "2020-11-27T16:07:35.602512Z",
     "shell.execute_reply": "2020-11-27T16:07:35.603142Z"
    },
    "papermill": {
     "duration": 1.296609,
     "end_time": "2020-11-27T16:07:35.603317",
     "exception": false,
     "start_time": "2020-11-27T16:07:34.306708",
     "status": "completed"
    },
    "tags": []
   },
   "outputs": [
    {
     "name": "stdout",
     "output_type": "stream",
     "text": [
      "(23814, 953)\n",
      "(3982, 953)\n"
     ]
    }
   ],
   "source": [
    "from sklearn.feature_selection import VarianceThreshold\n",
    "\n",
    "if IS_TRAIN:\n",
    "    var_thresh = VarianceThreshold(threshold=0.5).fit(train_features.iloc[:, 4:])\n",
    "    pd.to_pickle(var_thresh, f\"{MODEL_DIR}/{NB}_variance_thresh0_5.pkl\")\n",
    "else:\n",
    "    var_thresh = pd.read_pickle(f\"{MODEL_DIR}/{NB}_variance_thresh0_5.pkl\")\n",
    "                                \n",
    "data = train_features.append(test_features)\n",
    "data_transformed = var_thresh.transform(data.iloc[:, 4:])\n",
    "\n",
    "train_features_transformed = data_transformed[ : train_features.shape[0]]\n",
    "test_features_transformed = data_transformed[-test_features.shape[0] : ]\n",
    "\n",
    "\n",
    "train_features = pd.DataFrame(train_features[['sig_id','cp_type','cp_time','cp_dose']].values.reshape(-1, 4),\\\n",
    "                              columns=['sig_id','cp_type','cp_time','cp_dose'])\n",
    "\n",
    "train_features = pd.concat([train_features, pd.DataFrame(train_features_transformed)], axis=1)\n",
    "\n",
    "\n",
    "test_features = pd.DataFrame(test_features[['sig_id','cp_type','cp_time','cp_dose']].values.reshape(-1, 4),\\\n",
    "                             columns=['sig_id','cp_type','cp_time','cp_dose'])\n",
    "\n",
    "test_features = pd.concat([test_features, pd.DataFrame(test_features_transformed)], axis=1)\n",
    "\n",
    "print(train_features.shape)\n",
    "print(test_features.shape)"
   ]
  },
  {
   "cell_type": "code",
   "execution_count": 7,
   "metadata": {
    "execution": {
     "iopub.execute_input": "2020-11-27T16:07:35.692243Z",
     "iopub.status.busy": "2020-11-27T16:07:35.691423Z",
     "iopub.status.idle": "2020-11-27T16:07:35.886971Z",
     "shell.execute_reply": "2020-11-27T16:07:35.886438Z"
    },
    "papermill": {
     "duration": 0.244739,
     "end_time": "2020-11-27T16:07:35.887094",
     "exception": false,
     "start_time": "2020-11-27T16:07:35.642355",
     "status": "completed"
    },
    "tags": []
   },
   "outputs": [],
   "source": [
    "train = train_features[train_features['cp_type']!='ctl_vehicle'].reset_index(drop=True)\n",
    "test = test_features[test_features['cp_type']!='ctl_vehicle'].reset_index(drop=True)\n",
    "\n",
    "train = train.drop('cp_type', axis=1)\n",
    "test = test.drop('cp_type', axis=1)"
   ]
  },
  {
   "cell_type": "code",
   "execution_count": 8,
   "metadata": {
    "execution": {
     "iopub.execute_input": "2020-11-27T16:07:36.222794Z",
     "iopub.status.busy": "2020-11-27T16:07:36.215072Z",
     "iopub.status.idle": "2020-11-27T16:07:36.386251Z",
     "shell.execute_reply": "2020-11-27T16:07:36.385625Z"
    },
    "papermill": {
     "duration": 0.460364,
     "end_time": "2020-11-27T16:07:36.386365",
     "exception": false,
     "start_time": "2020-11-27T16:07:35.926001",
     "status": "completed"
    },
    "tags": []
   },
   "outputs": [],
   "source": [
    "train.to_pickle(f\"{INT_DIR}/{NB}_train_preprocessed.pkl\")\n",
    "test.to_pickle(f\"{INT_DIR}/{NB}_test_preprocessed.pkl\")"
   ]
  },
  {
   "cell_type": "markdown",
   "metadata": {
    "papermill": {
     "duration": 0.038456,
     "end_time": "2020-11-27T16:07:36.463472",
     "exception": false,
     "start_time": "2020-11-27T16:07:36.425016",
     "status": "completed"
    },
    "tags": []
   },
   "source": [
    "## 203-101-nonscored-pred-2layers.ipynb"
   ]
  },
  {
   "cell_type": "code",
   "execution_count": 9,
   "metadata": {
    "execution": {
     "iopub.execute_input": "2020-11-27T16:07:36.564626Z",
     "iopub.status.busy": "2020-11-27T16:07:36.562746Z",
     "iopub.status.idle": "2020-11-27T16:07:36.565315Z",
     "shell.execute_reply": "2020-11-27T16:07:36.565778Z"
    },
    "papermill": {
     "duration": 0.06385,
     "end_time": "2020-11-27T16:07:36.565891",
     "exception": false,
     "start_time": "2020-11-27T16:07:36.502041",
     "status": "completed"
    },
    "tags": []
   },
   "outputs": [],
   "source": [
    "# file name prefix\n",
    "NB = '203'\n",
    "\n",
    "# IS_TRAIN = True\n",
    "\n",
    "# MODEL_DIR = \"model\" # \"../model\"\n",
    "# INT_DIR = \"interim\" # \"../interim\"\n",
    "\n",
    "DEVICE = ('cuda' if torch.cuda.is_available() else 'cpu')\n",
    "\n",
    "# label smoothing\n",
    "PMIN = 0.0\n",
    "PMAX = 1.0\n",
    "\n",
    "# submission smoothing\n",
    "SMIN = 0.0\n",
    "SMAX = 1.0\n",
    "\n",
    "# model hyper params\n",
    "HIDDEN_SIZE = 2048\n",
    "\n",
    "# training hyper params\n",
    "EPOCHS = 15\n",
    "BATCH_SIZE = 256\n",
    "NFOLDS = 10 # 10\n",
    "NREPEATS = 1\n",
    "NSEEDS = 5 # 5\n",
    "\n",
    "# Adam hyper params\n",
    "LEARNING_RATE = 5e-4\n",
    "WEIGHT_DECAY = 1e-5\n",
    "\n",
    "# scheduler hyper params\n",
    "PCT_START = 0.2\n",
    "DIV_FACS = 1e3\n",
    "MAX_LR = 1e-2"
   ]
  },
  {
   "cell_type": "code",
   "execution_count": 10,
   "metadata": {
    "execution": {
     "iopub.execute_input": "2020-11-27T16:07:36.668466Z",
     "iopub.status.busy": "2020-11-27T16:07:36.652909Z",
     "iopub.status.idle": "2020-11-27T16:07:36.676254Z",
     "shell.execute_reply": "2020-11-27T16:07:36.675707Z"
    },
    "papermill": {
     "duration": 0.071358,
     "end_time": "2020-11-27T16:07:36.676371",
     "exception": false,
     "start_time": "2020-11-27T16:07:36.605013",
     "status": "completed"
    },
    "tags": []
   },
   "outputs": [],
   "source": [
    "def process_data(data):    \n",
    "    data = pd.get_dummies(data, columns=['cp_time','cp_dose'])\n",
    "    return data\n",
    "\n",
    "class MoADataset:\n",
    "    def __init__(self, features, targets):\n",
    "        self.features = features\n",
    "        self.targets = targets\n",
    "        \n",
    "    def __len__(self):\n",
    "        return (self.features.shape[0])\n",
    "    \n",
    "    def __getitem__(self, idx):\n",
    "        dct = {\n",
    "            'x' : torch.tensor(self.features[idx, :], dtype=torch.float),\n",
    "            'y' : torch.tensor(self.targets[idx, :], dtype=torch.float)            \n",
    "        }\n",
    "        return dct\n",
    "    \n",
    "class TestDataset:\n",
    "    def __init__(self, features):\n",
    "        self.features = features\n",
    "        \n",
    "    def __len__(self):\n",
    "        return (self.features.shape[0])\n",
    "    \n",
    "    def __getitem__(self, idx):\n",
    "        dct = {\n",
    "            'x' : torch.tensor(self.features[idx, :], dtype=torch.float)\n",
    "        }\n",
    "        return dct\n",
    "\n",
    "def train_fn(model, optimizer, scheduler, loss_fn, dataloader, device):\n",
    "    model.train()\n",
    "    final_loss = 0\n",
    "    \n",
    "    for data in dataloader:\n",
    "        optimizer.zero_grad()\n",
    "        inputs, targets = data['x'].to(device), data['y'].to(device)\n",
    "#         print(inputs.shape)\n",
    "        outputs = model(inputs)\n",
    "        loss = loss_fn(outputs, targets)\n",
    "        loss.backward()\n",
    "        optimizer.step()\n",
    "        scheduler.step()\n",
    "        \n",
    "        final_loss += loss.item()\n",
    "        \n",
    "    final_loss /= len(dataloader)\n",
    "    \n",
    "    return final_loss\n",
    "\n",
    "\n",
    "def valid_fn(model, loss_fn, dataloader, device):\n",
    "    model.eval()\n",
    "    final_loss = 0\n",
    "    valid_preds = []\n",
    "    \n",
    "    for data in dataloader:\n",
    "        inputs, targets = data['x'].to(device), data['y'].to(device)\n",
    "        outputs = model(inputs)\n",
    "        loss = loss_fn(outputs, targets)\n",
    "        \n",
    "        final_loss += loss.item()\n",
    "        valid_preds.append(outputs.sigmoid().detach().cpu().numpy())\n",
    "        \n",
    "    final_loss /= len(dataloader)\n",
    "    valid_preds = np.concatenate(valid_preds)\n",
    "    \n",
    "    return final_loss, valid_preds\n",
    "\n",
    "def inference_fn(model, dataloader, device):\n",
    "    model.eval()\n",
    "    preds = []\n",
    "    \n",
    "    for data in dataloader:\n",
    "        inputs = data['x'].to(device)\n",
    "\n",
    "        with torch.no_grad():\n",
    "            outputs = model(inputs)\n",
    "        \n",
    "        preds.append(outputs.sigmoid().detach().cpu().numpy())\n",
    "        \n",
    "    preds = np.concatenate(preds)\n",
    "    \n",
    "    return preds\n",
    "\n",
    "def calc_valid_log_loss(train, target, target_cols):\n",
    "    y_pred = train[target_cols].values\n",
    "    y_true = target[target_cols].values\n",
    "    \n",
    "    y_true_t = torch.from_numpy(y_true.astype(np.float64)).clone()\n",
    "    y_pred_t = torch.from_numpy(y_pred.astype(np.float64)).clone()\n",
    "    \n",
    "    return torch.nn.BCELoss()(y_pred_t, y_true_t).to('cpu').detach().numpy().copy()"
   ]
  },
  {
   "cell_type": "code",
   "execution_count": 11,
   "metadata": {
    "execution": {
     "iopub.execute_input": "2020-11-27T16:07:36.765784Z",
     "iopub.status.busy": "2020-11-27T16:07:36.764590Z",
     "iopub.status.idle": "2020-11-27T16:07:36.767191Z",
     "shell.execute_reply": "2020-11-27T16:07:36.767657Z"
    },
    "papermill": {
     "duration": 0.051713,
     "end_time": "2020-11-27T16:07:36.767763",
     "exception": false,
     "start_time": "2020-11-27T16:07:36.716050",
     "status": "completed"
    },
    "tags": []
   },
   "outputs": [],
   "source": [
    "class Model(nn.Module):\n",
    "    def __init__(self, num_features, num_targets, hidden_size=HIDDEN_SIZE):\n",
    "        super(Model, self).__init__()\n",
    "        self.batch_norm1 = nn.BatchNorm1d(num_features)\n",
    "        self.dropout1 = nn.Dropout(0.2)\n",
    "        self.dense1 = nn.utils.weight_norm(nn.Linear(num_features, hidden_size))\n",
    "               \n",
    "        self.batch_norm3 = nn.BatchNorm1d(hidden_size)\n",
    "        self.dropout3 = nn.Dropout(0.25)\n",
    "        self.dense3 = nn.utils.weight_norm(nn.Linear(hidden_size, num_targets))\n",
    "    \n",
    "    def forward(self, x):\n",
    "        x = self.batch_norm1(x)\n",
    "        x = self.dropout1(x)\n",
    "        x = F.relu(self.dense1(x))\n",
    "                \n",
    "        x = self.batch_norm3(x)\n",
    "        x = self.dropout3(x)\n",
    "        x = self.dense3(x)\n",
    "        \n",
    "        return x"
   ]
  },
  {
   "cell_type": "code",
   "execution_count": 12,
   "metadata": {
    "execution": {
     "iopub.execute_input": "2020-11-27T16:07:36.871113Z",
     "iopub.status.busy": "2020-11-27T16:07:36.869328Z",
     "iopub.status.idle": "2020-11-27T16:07:36.871844Z",
     "shell.execute_reply": "2020-11-27T16:07:36.872334Z"
    },
    "papermill": {
     "duration": 0.066009,
     "end_time": "2020-11-27T16:07:36.872440",
     "exception": false,
     "start_time": "2020-11-27T16:07:36.806431",
     "status": "completed"
    },
    "tags": []
   },
   "outputs": [],
   "source": [
    "def run_training(train, test, trn_idx, val_idx, feature_cols, target_cols, fold, seed):\n",
    "    \n",
    "    seed_everything(seed)\n",
    "    \n",
    "    train_ = process_data(train)\n",
    "    test_ = process_data(test)\n",
    "    \n",
    "    train_df = train_.loc[trn_idx,:].reset_index(drop=True)\n",
    "    valid_df = train_.loc[val_idx,:].reset_index(drop=True)\n",
    "    \n",
    "    x_train, y_train  = train_df[feature_cols].values, train_df[target_cols].values\n",
    "    x_valid, y_valid =  valid_df[feature_cols].values, valid_df[target_cols].values\n",
    "    \n",
    "    train_dataset = MoADataset(x_train, y_train)\n",
    "    valid_dataset = MoADataset(x_valid, y_valid)\n",
    "\n",
    "    trainloader = torch.utils.data.DataLoader(train_dataset, batch_size=BATCH_SIZE, shuffle=True)\n",
    "    validloader = torch.utils.data.DataLoader(valid_dataset, batch_size=BATCH_SIZE, shuffle=False)\n",
    "    \n",
    "    model = Model(\n",
    "        num_features=len(feature_cols),\n",
    "        num_targets=len(target_cols),\n",
    "    )\n",
    "    \n",
    "    model.to(DEVICE)\n",
    "       \n",
    "    optimizer = torch.optim.Adam(model.parameters(), lr=LEARNING_RATE, weight_decay=WEIGHT_DECAY)\n",
    "    scheduler = optim.lr_scheduler.OneCycleLR(optimizer=optimizer, pct_start=PCT_START, div_factor=DIV_FACS, \n",
    "                                              max_lr=MAX_LR, epochs=EPOCHS, steps_per_epoch=len(trainloader))\n",
    "    loss_fn = nn.BCEWithLogitsLoss()\n",
    "\n",
    "    oof = np.zeros((len(train), target.iloc[:, 1:].shape[1]))\n",
    "    best_loss = np.inf\n",
    "    best_loss_epoch = -1\n",
    "    \n",
    "    if IS_TRAIN:\n",
    "        for epoch in range(EPOCHS):\n",
    "\n",
    "            train_loss = train_fn(model, optimizer, scheduler, loss_fn, trainloader, DEVICE)\n",
    "            valid_loss, valid_preds = valid_fn(model, loss_fn, validloader, DEVICE)\n",
    "\n",
    "            if valid_loss < best_loss:            \n",
    "                best_loss = valid_loss\n",
    "                best_loss_epoch = epoch\n",
    "                oof[val_idx] = valid_preds\n",
    "                model.to('cpu')\n",
    "                torch.save(model.state_dict(), f\"{MODEL_DIR}/{NB}_nonscored_SEED{seed}_FOLD{fold}_.pth\")\n",
    "                model.to(DEVICE)\n",
    "\n",
    "            if epoch % 10 == 0 or epoch == EPOCHS-1:\n",
    "                print(f\"seed: {seed}, FOLD: {fold}, EPOCH: {epoch}, train_loss: {train_loss:.6f}, valid_loss: {valid_loss:.6f}, best_loss: {best_loss:.6f}, best_loss_epoch: {best_loss_epoch}\")                           \n",
    "    \n",
    "    #--------------------- PREDICTION---------------------\n",
    "    x_test = test_[feature_cols].values\n",
    "    testdataset = TestDataset(x_test)\n",
    "    testloader = torch.utils.data.DataLoader(testdataset, batch_size=BATCH_SIZE, shuffle=False)\n",
    "    \n",
    "    model = Model(\n",
    "        num_features=len(feature_cols),\n",
    "        num_targets=len(target_cols),\n",
    "    )\n",
    "    \n",
    "    model.load_state_dict(torch.load(f\"{MODEL_DIR}/{NB}_nonscored_SEED{seed}_FOLD{fold}_.pth\"))\n",
    "    model.to(DEVICE)\n",
    "    \n",
    "    if not IS_TRAIN:\n",
    "        valid_loss, valid_preds = valid_fn(model, loss_fn, validloader, DEVICE)\n",
    "        oof[val_idx] = valid_preds\n",
    "\n",
    "    predictions = np.zeros((len(test_), target.iloc[:, 1:].shape[1]))\n",
    "    predictions = inference_fn(model, testloader, DEVICE)\n",
    "    \n",
    "    return oof, predictions"
   ]
  },
  {
   "cell_type": "code",
   "execution_count": 13,
   "metadata": {
    "execution": {
     "iopub.execute_input": "2020-11-27T16:07:36.959812Z",
     "iopub.status.busy": "2020-11-27T16:07:36.958700Z",
     "iopub.status.idle": "2020-11-27T16:07:36.961406Z",
     "shell.execute_reply": "2020-11-27T16:07:36.961869Z"
    },
    "papermill": {
     "duration": 0.050778,
     "end_time": "2020-11-27T16:07:36.961993",
     "exception": false,
     "start_time": "2020-11-27T16:07:36.911215",
     "status": "completed"
    },
    "tags": []
   },
   "outputs": [],
   "source": [
    "def run_k_fold(train, test, feature_cols, target_cols, NFOLDS, seed):\n",
    "    oof = np.zeros((len(train), len(target_cols)))\n",
    "    predictions = np.zeros((len(test), len(target_cols)))\n",
    "    \n",
    "    mskf = RepeatedMultilabelStratifiedKFold(n_splits=NFOLDS, n_repeats=NREPEATS, random_state=None)\n",
    "    \n",
    "    for f, (t_idx, v_idx) in enumerate(mskf.split(X=train, y=target)):\n",
    "        oof_, pred_ = run_training(train, test, t_idx, v_idx, feature_cols, target_cols, f, seed)\n",
    "        \n",
    "        predictions += pred_ / NFOLDS / NREPEATS\n",
    "        oof += oof_ / NREPEATS\n",
    "        \n",
    "    return oof, predictions"
   ]
  },
  {
   "cell_type": "code",
   "execution_count": 14,
   "metadata": {
    "execution": {
     "iopub.execute_input": "2020-11-27T16:07:37.048391Z",
     "iopub.status.busy": "2020-11-27T16:07:37.047658Z",
     "iopub.status.idle": "2020-11-27T16:07:37.051016Z",
     "shell.execute_reply": "2020-11-27T16:07:37.051445Z"
    },
    "papermill": {
     "duration": 0.050383,
     "end_time": "2020-11-27T16:07:37.051555",
     "exception": false,
     "start_time": "2020-11-27T16:07:37.001172",
     "status": "completed"
    },
    "tags": []
   },
   "outputs": [],
   "source": [
    "def run_seeds(train, test, feature_cols, target_cols, nfolds=NFOLDS, nseed=NSEEDS):\n",
    "    seed_list = range(nseed)\n",
    "    oof = np.zeros((len(train), len(target_cols)))\n",
    "    predictions = np.zeros((len(test), len(target_cols)))\n",
    "\n",
    "    time_start = time.time()\n",
    "\n",
    "    for seed in seed_list:\n",
    "\n",
    "        oof_, predictions_ = run_k_fold(train, test, feature_cols, target_cols, nfolds, seed)\n",
    "        oof += oof_ / nseed\n",
    "        predictions += predictions_ / nseed\n",
    "        print(f\"seed {seed}, elapsed time: {time.time() - time_start}\")\n",
    "\n",
    "    train[target_cols] = oof\n",
    "    test[target_cols] = predictions"
   ]
  },
  {
   "cell_type": "code",
   "execution_count": 15,
   "metadata": {
    "execution": {
     "iopub.execute_input": "2020-11-27T16:07:37.139132Z",
     "iopub.status.busy": "2020-11-27T16:07:37.138332Z",
     "iopub.status.idle": "2020-11-27T16:07:41.986357Z",
     "shell.execute_reply": "2020-11-27T16:07:41.985198Z"
    },
    "papermill": {
     "duration": 4.895053,
     "end_time": "2020-11-27T16:07:41.986487",
     "exception": false,
     "start_time": "2020-11-27T16:07:37.091434",
     "status": "completed"
    },
    "tags": []
   },
   "outputs": [],
   "source": [
    "train_features = pd.read_csv('../input/lish-moa/train_features.csv')\n",
    "train_targets_scored = pd.read_csv('../input/lish-moa/train_targets_scored.csv')\n",
    "train_targets_nonscored = pd.read_csv('../input/lish-moa/train_targets_nonscored.csv')\n",
    "\n",
    "test_features = pd.read_csv('../input/lish-moa/test_features.csv')\n",
    "sample_submission = pd.read_csv('../input/lish-moa/sample_submission.csv')"
   ]
  },
  {
   "cell_type": "code",
   "execution_count": 16,
   "metadata": {
    "execution": {
     "iopub.execute_input": "2020-11-27T16:07:42.071292Z",
     "iopub.status.busy": "2020-11-27T16:07:42.070202Z",
     "iopub.status.idle": "2020-11-27T16:07:42.324171Z",
     "shell.execute_reply": "2020-11-27T16:07:42.323293Z"
    },
    "papermill": {
     "duration": 0.297439,
     "end_time": "2020-11-27T16:07:42.324286",
     "exception": false,
     "start_time": "2020-11-27T16:07:42.026847",
     "status": "completed"
    },
    "tags": []
   },
   "outputs": [],
   "source": [
    "train = pd.read_pickle(f\"{INT_DIR}/101_train_preprocessed.pkl\")\n",
    "test = pd.read_pickle(f\"{INT_DIR}/101_test_preprocessed.pkl\")"
   ]
  },
  {
   "cell_type": "markdown",
   "metadata": {
    "papermill": {
     "duration": 0.039628,
     "end_time": "2020-11-27T16:07:42.404150",
     "exception": false,
     "start_time": "2020-11-27T16:07:42.364522",
     "status": "completed"
    },
    "tags": []
   },
   "source": [
    "### non-scored labels prediction"
   ]
  },
  {
   "cell_type": "code",
   "execution_count": 17,
   "metadata": {
    "execution": {
     "iopub.execute_input": "2020-11-27T16:07:42.490184Z",
     "iopub.status.busy": "2020-11-27T16:07:42.489541Z",
     "iopub.status.idle": "2020-11-27T16:07:42.828901Z",
     "shell.execute_reply": "2020-11-27T16:07:42.828215Z"
    },
    "papermill": {
     "duration": 0.385223,
     "end_time": "2020-11-27T16:07:42.829054",
     "exception": false,
     "start_time": "2020-11-27T16:07:42.443831",
     "status": "completed"
    },
    "tags": []
   },
   "outputs": [
    {
     "name": "stdout",
     "output_type": "stream",
     "text": [
      "(23814, 332)\n"
     ]
    }
   ],
   "source": [
    "# remove nonscored labels if all values == 0\n",
    "train_targets_nonscored = train_targets_nonscored.loc[:, train_targets_nonscored.sum() != 0]\n",
    "print(train_targets_nonscored.shape)\n",
    "\n",
    "train = train.merge(train_targets_nonscored, on='sig_id')"
   ]
  },
  {
   "cell_type": "code",
   "execution_count": 18,
   "metadata": {
    "execution": {
     "iopub.execute_input": "2020-11-27T16:07:42.936353Z",
     "iopub.status.busy": "2020-11-27T16:07:42.935254Z",
     "iopub.status.idle": "2020-11-27T16:07:43.119680Z",
     "shell.execute_reply": "2020-11-27T16:07:43.119130Z"
    },
    "papermill": {
     "duration": 0.249006,
     "end_time": "2020-11-27T16:07:43.119789",
     "exception": false,
     "start_time": "2020-11-27T16:07:42.870783",
     "status": "completed"
    },
    "tags": []
   },
   "outputs": [],
   "source": [
    "target = train[train_targets_nonscored.columns]\n",
    "target_cols = target.drop('sig_id', axis=1).columns.values.tolist()\n",
    "feature_cols = [c for c in process_data(train).columns if c not in target_cols and c not in ['kfold','sig_id']]"
   ]
  },
  {
   "cell_type": "code",
   "execution_count": 19,
   "metadata": {
    "execution": {
     "iopub.execute_input": "2020-11-27T16:07:43.207446Z",
     "iopub.status.busy": "2020-11-27T16:07:43.205950Z",
     "iopub.status.idle": "2020-11-27T16:23:20.833289Z",
     "shell.execute_reply": "2020-11-27T16:23:20.832171Z"
    },
    "papermill": {
     "duration": 937.672644,
     "end_time": "2020-11-27T16:23:20.833424",
     "exception": false,
     "start_time": "2020-11-27T16:07:43.160780",
     "status": "completed"
    },
    "tags": []
   },
   "outputs": [
    {
     "name": "stderr",
     "output_type": "stream",
     "text": [
      "/opt/conda/lib/python3.7/site-packages/sklearn/utils/validation.py:70: FutureWarning: Pass n_repeats=1, random_state=None as keyword args. From version 0.25 passing these as positional arguments will result in an error\n",
      "  FutureWarning)\n",
      "/opt/conda/lib/python3.7/site-packages/sklearn/utils/validation.py:70: FutureWarning: Pass shuffle=True, random_state=RandomState(MT19937) as keyword args. From version 0.25 passing these as positional arguments will result in an error\n",
      "  FutureWarning)\n"
     ]
    },
    {
     "name": "stdout",
     "output_type": "stream",
     "text": [
      "seed: 0, FOLD: 0, EPOCH: 0, train_loss: 0.625589, valid_loss: 0.145258, best_loss: 0.145258, best_loss_epoch: 0\n",
      "seed: 0, FOLD: 0, EPOCH: 10, train_loss: 0.004348, valid_loss: 0.004921, best_loss: 0.004921, best_loss_epoch: 10\n",
      "seed: 0, FOLD: 0, EPOCH: 14, train_loss: 0.003576, valid_loss: 0.004847, best_loss: 0.004840, best_loss_epoch: 13\n",
      "seed: 0, FOLD: 1, EPOCH: 0, train_loss: 0.626727, valid_loss: 0.147911, best_loss: 0.147911, best_loss_epoch: 0\n",
      "seed: 0, FOLD: 1, EPOCH: 10, train_loss: 0.004377, valid_loss: 0.004965, best_loss: 0.004965, best_loss_epoch: 10\n",
      "seed: 0, FOLD: 1, EPOCH: 14, train_loss: 0.003606, valid_loss: 0.004863, best_loss: 0.004862, best_loss_epoch: 13\n",
      "seed: 0, FOLD: 2, EPOCH: 0, train_loss: 0.625984, valid_loss: 0.143439, best_loss: 0.143439, best_loss_epoch: 0\n",
      "seed: 0, FOLD: 2, EPOCH: 10, train_loss: 0.004410, valid_loss: 0.005002, best_loss: 0.005002, best_loss_epoch: 10\n",
      "seed: 0, FOLD: 2, EPOCH: 14, train_loss: 0.003702, valid_loss: 0.004908, best_loss: 0.004908, best_loss_epoch: 14\n",
      "seed: 0, FOLD: 3, EPOCH: 0, train_loss: 0.626441, valid_loss: 0.142040, best_loss: 0.142040, best_loss_epoch: 0\n",
      "seed: 0, FOLD: 3, EPOCH: 10, train_loss: 0.004368, valid_loss: 0.004895, best_loss: 0.004895, best_loss_epoch: 10\n",
      "seed: 0, FOLD: 3, EPOCH: 14, train_loss: 0.003609, valid_loss: 0.004842, best_loss: 0.004839, best_loss_epoch: 13\n",
      "seed: 0, FOLD: 4, EPOCH: 0, train_loss: 0.625740, valid_loss: 0.160520, best_loss: 0.160520, best_loss_epoch: 0\n",
      "seed: 0, FOLD: 4, EPOCH: 10, train_loss: 0.004227, valid_loss: 0.005046, best_loss: 0.005046, best_loss_epoch: 10\n",
      "seed: 0, FOLD: 4, EPOCH: 14, train_loss: 0.003407, valid_loss: 0.004977, best_loss: 0.004977, best_loss_epoch: 14\n",
      "seed: 0, FOLD: 5, EPOCH: 0, train_loss: 0.626324, valid_loss: 0.146610, best_loss: 0.146610, best_loss_epoch: 0\n",
      "seed: 0, FOLD: 5, EPOCH: 10, train_loss: 0.004382, valid_loss: 0.004998, best_loss: 0.004998, best_loss_epoch: 10\n",
      "seed: 0, FOLD: 5, EPOCH: 14, train_loss: 0.003652, valid_loss: 0.004922, best_loss: 0.004922, best_loss_epoch: 14\n",
      "seed: 0, FOLD: 6, EPOCH: 0, train_loss: 0.625414, valid_loss: 0.159975, best_loss: 0.159975, best_loss_epoch: 0\n",
      "seed: 0, FOLD: 6, EPOCH: 10, train_loss: 0.004372, valid_loss: 0.004880, best_loss: 0.004880, best_loss_epoch: 10\n",
      "seed: 0, FOLD: 6, EPOCH: 14, train_loss: 0.003598, valid_loss: 0.004801, best_loss: 0.004800, best_loss_epoch: 13\n",
      "seed: 0, FOLD: 7, EPOCH: 0, train_loss: 0.625526, valid_loss: 0.143935, best_loss: 0.143935, best_loss_epoch: 0\n",
      "seed: 0, FOLD: 7, EPOCH: 10, train_loss: 0.004392, valid_loss: 0.005028, best_loss: 0.005028, best_loss_epoch: 10\n",
      "seed: 0, FOLD: 7, EPOCH: 14, train_loss: 0.003604, valid_loss: 0.004922, best_loss: 0.004919, best_loss_epoch: 13\n",
      "seed: 0, FOLD: 8, EPOCH: 0, train_loss: 0.626088, valid_loss: 0.147790, best_loss: 0.147790, best_loss_epoch: 0\n",
      "seed: 0, FOLD: 8, EPOCH: 10, train_loss: 0.004389, valid_loss: 0.005041, best_loss: 0.005039, best_loss_epoch: 9\n",
      "seed: 0, FOLD: 8, EPOCH: 14, train_loss: 0.003605, valid_loss: 0.004903, best_loss: 0.004903, best_loss_epoch: 14\n",
      "seed: 0, FOLD: 9, EPOCH: 0, train_loss: 0.625929, valid_loss: 0.143629, best_loss: 0.143629, best_loss_epoch: 0\n",
      "seed: 0, FOLD: 9, EPOCH: 10, train_loss: 0.004394, valid_loss: 0.004900, best_loss: 0.004900, best_loss_epoch: 10\n",
      "seed: 0, FOLD: 9, EPOCH: 14, train_loss: 0.003602, valid_loss: 0.004794, best_loss: 0.004794, best_loss_epoch: 14\n",
      "seed 0, elapsed time: 185.32681012153625\n"
     ]
    },
    {
     "name": "stderr",
     "output_type": "stream",
     "text": [
      "/opt/conda/lib/python3.7/site-packages/sklearn/utils/validation.py:70: FutureWarning: Pass n_repeats=1, random_state=None as keyword args. From version 0.25 passing these as positional arguments will result in an error\n",
      "  FutureWarning)\n",
      "/opt/conda/lib/python3.7/site-packages/sklearn/utils/validation.py:70: FutureWarning: Pass shuffle=True, random_state=RandomState(MT19937) as keyword args. From version 0.25 passing these as positional arguments will result in an error\n",
      "  FutureWarning)\n"
     ]
    },
    {
     "name": "stdout",
     "output_type": "stream",
     "text": [
      "seed: 1, FOLD: 0, EPOCH: 0, train_loss: 0.626629, valid_loss: 0.162794, best_loss: 0.162794, best_loss_epoch: 0\n",
      "seed: 1, FOLD: 0, EPOCH: 10, train_loss: 0.004345, valid_loss: 0.005001, best_loss: 0.005001, best_loss_epoch: 10\n",
      "seed: 1, FOLD: 0, EPOCH: 14, train_loss: 0.003588, valid_loss: 0.004908, best_loss: 0.004908, best_loss_epoch: 14\n",
      "seed: 1, FOLD: 1, EPOCH: 0, train_loss: 0.625327, valid_loss: 0.145472, best_loss: 0.145472, best_loss_epoch: 0\n",
      "seed: 1, FOLD: 1, EPOCH: 10, train_loss: 0.004316, valid_loss: 0.004904, best_loss: 0.004904, best_loss_epoch: 10\n",
      "seed: 1, FOLD: 1, EPOCH: 14, train_loss: 0.003556, valid_loss: 0.004796, best_loss: 0.004795, best_loss_epoch: 13\n",
      "seed: 1, FOLD: 2, EPOCH: 0, train_loss: 0.625290, valid_loss: 0.163181, best_loss: 0.163181, best_loss_epoch: 0\n",
      "seed: 1, FOLD: 2, EPOCH: 10, train_loss: 0.004329, valid_loss: 0.004923, best_loss: 0.004923, best_loss_epoch: 10\n",
      "seed: 1, FOLD: 2, EPOCH: 14, train_loss: 0.003525, valid_loss: 0.004823, best_loss: 0.004823, best_loss_epoch: 14\n",
      "seed: 1, FOLD: 3, EPOCH: 0, train_loss: 0.626908, valid_loss: 0.136376, best_loss: 0.136376, best_loss_epoch: 0\n",
      "seed: 1, FOLD: 3, EPOCH: 10, train_loss: 0.004374, valid_loss: 0.004898, best_loss: 0.004898, best_loss_epoch: 10\n",
      "seed: 1, FOLD: 3, EPOCH: 14, train_loss: 0.003639, valid_loss: 0.004816, best_loss: 0.004816, best_loss_epoch: 14\n",
      "seed: 1, FOLD: 4, EPOCH: 0, train_loss: 0.627214, valid_loss: 0.158020, best_loss: 0.158020, best_loss_epoch: 0\n",
      "seed: 1, FOLD: 4, EPOCH: 10, train_loss: 0.004346, valid_loss: 0.004980, best_loss: 0.004980, best_loss_epoch: 10\n",
      "seed: 1, FOLD: 4, EPOCH: 14, train_loss: 0.003636, valid_loss: 0.004886, best_loss: 0.004886, best_loss_epoch: 13\n",
      "seed: 1, FOLD: 5, EPOCH: 0, train_loss: 0.625444, valid_loss: 0.135971, best_loss: 0.135971, best_loss_epoch: 0\n",
      "seed: 1, FOLD: 5, EPOCH: 10, train_loss: 0.004369, valid_loss: 0.004993, best_loss: 0.004993, best_loss_epoch: 10\n",
      "seed: 1, FOLD: 5, EPOCH: 14, train_loss: 0.003593, valid_loss: 0.004920, best_loss: 0.004917, best_loss_epoch: 13\n",
      "seed: 1, FOLD: 6, EPOCH: 0, train_loss: 0.625371, valid_loss: 0.149088, best_loss: 0.149088, best_loss_epoch: 0\n",
      "seed: 1, FOLD: 6, EPOCH: 10, train_loss: 0.004419, valid_loss: 0.004925, best_loss: 0.004925, best_loss_epoch: 10\n",
      "seed: 1, FOLD: 6, EPOCH: 14, train_loss: 0.003737, valid_loss: 0.004847, best_loss: 0.004844, best_loss_epoch: 12\n",
      "seed: 1, FOLD: 7, EPOCH: 0, train_loss: 0.625072, valid_loss: 0.150943, best_loss: 0.150943, best_loss_epoch: 0\n",
      "seed: 1, FOLD: 7, EPOCH: 10, train_loss: 0.004366, valid_loss: 0.005106, best_loss: 0.005106, best_loss_epoch: 10\n",
      "seed: 1, FOLD: 7, EPOCH: 14, train_loss: 0.003629, valid_loss: 0.005020, best_loss: 0.005019, best_loss_epoch: 13\n",
      "seed: 1, FOLD: 8, EPOCH: 0, train_loss: 0.625158, valid_loss: 0.146278, best_loss: 0.146278, best_loss_epoch: 0\n",
      "seed: 1, FOLD: 8, EPOCH: 10, train_loss: 0.004360, valid_loss: 0.005029, best_loss: 0.005029, best_loss_epoch: 10\n",
      "seed: 1, FOLD: 8, EPOCH: 14, train_loss: 0.003643, valid_loss: 0.004961, best_loss: 0.004959, best_loss_epoch: 12\n",
      "seed: 1, FOLD: 9, EPOCH: 0, train_loss: 0.623768, valid_loss: 0.133613, best_loss: 0.133613, best_loss_epoch: 0\n",
      "seed: 1, FOLD: 9, EPOCH: 10, train_loss: 0.004421, valid_loss: 0.004999, best_loss: 0.004999, best_loss_epoch: 10\n",
      "seed: 1, FOLD: 9, EPOCH: 14, train_loss: 0.003712, valid_loss: 0.004931, best_loss: 0.004931, best_loss_epoch: 14\n",
      "seed 1, elapsed time: 365.83295583724976\n"
     ]
    },
    {
     "name": "stderr",
     "output_type": "stream",
     "text": [
      "/opt/conda/lib/python3.7/site-packages/sklearn/utils/validation.py:70: FutureWarning: Pass n_repeats=1, random_state=None as keyword args. From version 0.25 passing these as positional arguments will result in an error\n",
      "  FutureWarning)\n",
      "/opt/conda/lib/python3.7/site-packages/sklearn/utils/validation.py:70: FutureWarning: Pass shuffle=True, random_state=RandomState(MT19937) as keyword args. From version 0.25 passing these as positional arguments will result in an error\n",
      "  FutureWarning)\n"
     ]
    },
    {
     "name": "stdout",
     "output_type": "stream",
     "text": [
      "seed: 2, FOLD: 0, EPOCH: 0, train_loss: 0.624807, valid_loss: 0.142575, best_loss: 0.142575, best_loss_epoch: 0\n",
      "seed: 2, FOLD: 0, EPOCH: 10, train_loss: 0.004395, valid_loss: 0.004968, best_loss: 0.004968, best_loss_epoch: 10\n",
      "seed: 2, FOLD: 0, EPOCH: 14, train_loss: 0.003619, valid_loss: 0.004843, best_loss: 0.004843, best_loss_epoch: 14\n",
      "seed: 2, FOLD: 1, EPOCH: 0, train_loss: 0.625905, valid_loss: 0.137156, best_loss: 0.137156, best_loss_epoch: 0\n",
      "seed: 2, FOLD: 1, EPOCH: 10, train_loss: 0.004395, valid_loss: 0.004991, best_loss: 0.004991, best_loss_epoch: 10\n",
      "seed: 2, FOLD: 1, EPOCH: 14, train_loss: 0.003667, valid_loss: 0.004879, best_loss: 0.004879, best_loss_epoch: 14\n",
      "seed: 2, FOLD: 2, EPOCH: 0, train_loss: 0.623764, valid_loss: 0.137303, best_loss: 0.137303, best_loss_epoch: 0\n",
      "seed: 2, FOLD: 2, EPOCH: 10, train_loss: 0.004329, valid_loss: 0.004978, best_loss: 0.004978, best_loss_epoch: 10\n",
      "seed: 2, FOLD: 2, EPOCH: 14, train_loss: 0.003520, valid_loss: 0.004898, best_loss: 0.004898, best_loss_epoch: 14\n",
      "seed: 2, FOLD: 3, EPOCH: 0, train_loss: 0.625192, valid_loss: 0.143893, best_loss: 0.143893, best_loss_epoch: 0\n",
      "seed: 2, FOLD: 3, EPOCH: 10, train_loss: 0.004363, valid_loss: 0.004926, best_loss: 0.004926, best_loss_epoch: 10\n",
      "seed: 2, FOLD: 3, EPOCH: 14, train_loss: 0.003593, valid_loss: 0.004884, best_loss: 0.004884, best_loss_epoch: 14\n",
      "seed: 2, FOLD: 4, EPOCH: 0, train_loss: 0.625817, valid_loss: 0.145371, best_loss: 0.145371, best_loss_epoch: 0\n",
      "seed: 2, FOLD: 4, EPOCH: 10, train_loss: 0.004303, valid_loss: 0.004981, best_loss: 0.004981, best_loss_epoch: 10\n",
      "seed: 2, FOLD: 4, EPOCH: 14, train_loss: 0.003529, valid_loss: 0.004920, best_loss: 0.004920, best_loss_epoch: 14\n",
      "seed: 2, FOLD: 5, EPOCH: 0, train_loss: 0.623740, valid_loss: 0.142525, best_loss: 0.142525, best_loss_epoch: 0\n",
      "seed: 2, FOLD: 5, EPOCH: 10, train_loss: 0.004415, valid_loss: 0.005068, best_loss: 0.005068, best_loss_epoch: 10\n",
      "seed: 2, FOLD: 5, EPOCH: 14, train_loss: 0.003681, valid_loss: 0.004973, best_loss: 0.004973, best_loss_epoch: 14\n",
      "seed: 2, FOLD: 6, EPOCH: 0, train_loss: 0.624535, valid_loss: 0.139647, best_loss: 0.139647, best_loss_epoch: 0\n",
      "seed: 2, FOLD: 6, EPOCH: 10, train_loss: 0.004419, valid_loss: 0.004933, best_loss: 0.004933, best_loss_epoch: 10\n",
      "seed: 2, FOLD: 6, EPOCH: 14, train_loss: 0.003670, valid_loss: 0.004878, best_loss: 0.004878, best_loss_epoch: 14\n",
      "seed: 2, FOLD: 7, EPOCH: 0, train_loss: 0.623244, valid_loss: 0.151091, best_loss: 0.151091, best_loss_epoch: 0\n",
      "seed: 2, FOLD: 7, EPOCH: 10, train_loss: 0.004352, valid_loss: 0.005033, best_loss: 0.005033, best_loss_epoch: 10\n",
      "seed: 2, FOLD: 7, EPOCH: 14, train_loss: 0.003568, valid_loss: 0.004924, best_loss: 0.004923, best_loss_epoch: 13\n",
      "seed: 2, FOLD: 8, EPOCH: 0, train_loss: 0.623474, valid_loss: 0.135383, best_loss: 0.135383, best_loss_epoch: 0\n",
      "seed: 2, FOLD: 8, EPOCH: 10, train_loss: 0.004400, valid_loss: 0.004877, best_loss: 0.004877, best_loss_epoch: 10\n",
      "seed: 2, FOLD: 8, EPOCH: 14, train_loss: 0.003631, valid_loss: 0.004806, best_loss: 0.004805, best_loss_epoch: 13\n",
      "seed: 2, FOLD: 9, EPOCH: 0, train_loss: 0.623550, valid_loss: 0.142547, best_loss: 0.142547, best_loss_epoch: 0\n",
      "seed: 2, FOLD: 9, EPOCH: 10, train_loss: 0.004377, valid_loss: 0.004923, best_loss: 0.004923, best_loss_epoch: 10\n",
      "seed: 2, FOLD: 9, EPOCH: 14, train_loss: 0.003589, valid_loss: 0.004853, best_loss: 0.004853, best_loss_epoch: 14\n",
      "seed 2, elapsed time: 546.282541513443\n"
     ]
    },
    {
     "name": "stderr",
     "output_type": "stream",
     "text": [
      "/opt/conda/lib/python3.7/site-packages/sklearn/utils/validation.py:70: FutureWarning: Pass n_repeats=1, random_state=None as keyword args. From version 0.25 passing these as positional arguments will result in an error\n",
      "  FutureWarning)\n",
      "/opt/conda/lib/python3.7/site-packages/sklearn/utils/validation.py:70: FutureWarning: Pass shuffle=True, random_state=RandomState(MT19937) as keyword args. From version 0.25 passing these as positional arguments will result in an error\n",
      "  FutureWarning)\n"
     ]
    },
    {
     "name": "stdout",
     "output_type": "stream",
     "text": [
      "seed: 3, FOLD: 0, EPOCH: 0, train_loss: 0.625962, valid_loss: 0.150671, best_loss: 0.150671, best_loss_epoch: 0\n",
      "seed: 3, FOLD: 0, EPOCH: 10, train_loss: 0.004404, valid_loss: 0.004978, best_loss: 0.004978, best_loss_epoch: 10\n",
      "seed: 3, FOLD: 0, EPOCH: 14, train_loss: 0.003657, valid_loss: 0.004879, best_loss: 0.004877, best_loss_epoch: 13\n",
      "seed: 3, FOLD: 1, EPOCH: 0, train_loss: 0.624707, valid_loss: 0.151418, best_loss: 0.151418, best_loss_epoch: 0\n",
      "seed: 3, FOLD: 1, EPOCH: 10, train_loss: 0.004377, valid_loss: 0.004945, best_loss: 0.004945, best_loss_epoch: 10\n",
      "seed: 3, FOLD: 1, EPOCH: 14, train_loss: 0.003581, valid_loss: 0.004866, best_loss: 0.004851, best_loss_epoch: 13\n",
      "seed: 3, FOLD: 2, EPOCH: 0, train_loss: 0.624146, valid_loss: 0.146016, best_loss: 0.146016, best_loss_epoch: 0\n",
      "seed: 3, FOLD: 2, EPOCH: 10, train_loss: 0.004326, valid_loss: 0.005005, best_loss: 0.005005, best_loss_epoch: 10\n",
      "seed: 3, FOLD: 2, EPOCH: 14, train_loss: 0.003587, valid_loss: 0.004940, best_loss: 0.004937, best_loss_epoch: 13\n",
      "seed: 3, FOLD: 3, EPOCH: 0, train_loss: 0.626734, valid_loss: 0.163143, best_loss: 0.163143, best_loss_epoch: 0\n",
      "seed: 3, FOLD: 3, EPOCH: 10, train_loss: 0.004287, valid_loss: 0.004927, best_loss: 0.004927, best_loss_epoch: 10\n",
      "seed: 3, FOLD: 3, EPOCH: 14, train_loss: 0.003442, valid_loss: 0.004840, best_loss: 0.004840, best_loss_epoch: 14\n",
      "seed: 3, FOLD: 4, EPOCH: 0, train_loss: 0.625078, valid_loss: 0.134139, best_loss: 0.134139, best_loss_epoch: 0\n",
      "seed: 3, FOLD: 4, EPOCH: 10, train_loss: 0.004408, valid_loss: 0.004964, best_loss: 0.004964, best_loss_epoch: 10\n",
      "seed: 3, FOLD: 4, EPOCH: 14, train_loss: 0.003684, valid_loss: 0.004887, best_loss: 0.004887, best_loss_epoch: 14\n",
      "seed: 3, FOLD: 5, EPOCH: 0, train_loss: 0.624785, valid_loss: 0.159204, best_loss: 0.159204, best_loss_epoch: 0\n",
      "seed: 3, FOLD: 5, EPOCH: 10, train_loss: 0.004367, valid_loss: 0.005034, best_loss: 0.005034, best_loss_epoch: 10\n",
      "seed: 3, FOLD: 5, EPOCH: 14, train_loss: 0.003546, valid_loss: 0.004942, best_loss: 0.004942, best_loss_epoch: 14\n",
      "seed: 3, FOLD: 6, EPOCH: 0, train_loss: 0.625213, valid_loss: 0.152926, best_loss: 0.152926, best_loss_epoch: 0\n",
      "seed: 3, FOLD: 6, EPOCH: 10, train_loss: 0.004482, valid_loss: 0.004916, best_loss: 0.004916, best_loss_epoch: 10\n",
      "seed: 3, FOLD: 6, EPOCH: 14, train_loss: 0.003770, valid_loss: 0.004856, best_loss: 0.004856, best_loss_epoch: 14\n",
      "seed: 3, FOLD: 7, EPOCH: 0, train_loss: 0.626219, valid_loss: 0.149571, best_loss: 0.149571, best_loss_epoch: 0\n",
      "seed: 3, FOLD: 7, EPOCH: 10, train_loss: 0.004455, valid_loss: 0.004997, best_loss: 0.004997, best_loss_epoch: 10\n",
      "seed: 3, FOLD: 7, EPOCH: 14, train_loss: 0.003735, valid_loss: 0.004920, best_loss: 0.004920, best_loss_epoch: 14\n",
      "seed: 3, FOLD: 8, EPOCH: 0, train_loss: 0.625228, valid_loss: 0.153178, best_loss: 0.153178, best_loss_epoch: 0\n",
      "seed: 3, FOLD: 8, EPOCH: 10, train_loss: 0.004382, valid_loss: 0.004847, best_loss: 0.004847, best_loss_epoch: 10\n",
      "seed: 3, FOLD: 8, EPOCH: 14, train_loss: 0.003628, valid_loss: 0.004759, best_loss: 0.004757, best_loss_epoch: 12\n",
      "seed: 3, FOLD: 9, EPOCH: 0, train_loss: 0.623458, valid_loss: 0.148990, best_loss: 0.148990, best_loss_epoch: 0\n",
      "seed: 3, FOLD: 9, EPOCH: 10, train_loss: 0.004396, valid_loss: 0.005010, best_loss: 0.005010, best_loss_epoch: 10\n",
      "seed: 3, FOLD: 9, EPOCH: 14, train_loss: 0.003648, valid_loss: 0.004947, best_loss: 0.004947, best_loss_epoch: 14\n",
      "seed 3, elapsed time: 735.4341871738434\n"
     ]
    },
    {
     "name": "stderr",
     "output_type": "stream",
     "text": [
      "/opt/conda/lib/python3.7/site-packages/sklearn/utils/validation.py:70: FutureWarning: Pass n_repeats=1, random_state=None as keyword args. From version 0.25 passing these as positional arguments will result in an error\n",
      "  FutureWarning)\n",
      "/opt/conda/lib/python3.7/site-packages/sklearn/utils/validation.py:70: FutureWarning: Pass shuffle=True, random_state=RandomState(MT19937) as keyword args. From version 0.25 passing these as positional arguments will result in an error\n",
      "  FutureWarning)\n"
     ]
    },
    {
     "name": "stdout",
     "output_type": "stream",
     "text": [
      "seed: 4, FOLD: 0, EPOCH: 0, train_loss: 0.625116, valid_loss: 0.147751, best_loss: 0.147751, best_loss_epoch: 0\n",
      "seed: 4, FOLD: 0, EPOCH: 10, train_loss: 0.004355, valid_loss: 0.004986, best_loss: 0.004986, best_loss_epoch: 10\n",
      "seed: 4, FOLD: 0, EPOCH: 14, train_loss: 0.003631, valid_loss: 0.004912, best_loss: 0.004912, best_loss_epoch: 13\n",
      "seed: 4, FOLD: 1, EPOCH: 0, train_loss: 0.625736, valid_loss: 0.148603, best_loss: 0.148603, best_loss_epoch: 0\n",
      "seed: 4, FOLD: 1, EPOCH: 10, train_loss: 0.004307, valid_loss: 0.005006, best_loss: 0.005006, best_loss_epoch: 10\n",
      "seed: 4, FOLD: 1, EPOCH: 14, train_loss: 0.003519, valid_loss: 0.004945, best_loss: 0.004945, best_loss_epoch: 14\n",
      "seed: 4, FOLD: 2, EPOCH: 0, train_loss: 0.625672, valid_loss: 0.152923, best_loss: 0.152923, best_loss_epoch: 0\n",
      "seed: 4, FOLD: 2, EPOCH: 10, train_loss: 0.004297, valid_loss: 0.004911, best_loss: 0.004911, best_loss_epoch: 10\n",
      "seed: 4, FOLD: 2, EPOCH: 14, train_loss: 0.003514, valid_loss: 0.004846, best_loss: 0.004843, best_loss_epoch: 12\n",
      "seed: 4, FOLD: 3, EPOCH: 0, train_loss: 0.626200, valid_loss: 0.154026, best_loss: 0.154026, best_loss_epoch: 0\n",
      "seed: 4, FOLD: 3, EPOCH: 10, train_loss: 0.004394, valid_loss: 0.004895, best_loss: 0.004895, best_loss_epoch: 10\n",
      "seed: 4, FOLD: 3, EPOCH: 14, train_loss: 0.003631, valid_loss: 0.004808, best_loss: 0.004808, best_loss_epoch: 14\n",
      "seed: 4, FOLD: 4, EPOCH: 0, train_loss: 0.626380, valid_loss: 0.144786, best_loss: 0.144786, best_loss_epoch: 0\n",
      "seed: 4, FOLD: 4, EPOCH: 10, train_loss: 0.004409, valid_loss: 0.005043, best_loss: 0.005043, best_loss_epoch: 10\n",
      "seed: 4, FOLD: 4, EPOCH: 14, train_loss: 0.003668, valid_loss: 0.004948, best_loss: 0.004948, best_loss_epoch: 14\n",
      "seed: 4, FOLD: 5, EPOCH: 0, train_loss: 0.626517, valid_loss: 0.138103, best_loss: 0.138103, best_loss_epoch: 0\n",
      "seed: 4, FOLD: 5, EPOCH: 10, train_loss: 0.004400, valid_loss: 0.004963, best_loss: 0.004963, best_loss_epoch: 10\n",
      "seed: 4, FOLD: 5, EPOCH: 14, train_loss: 0.003691, valid_loss: 0.004875, best_loss: 0.004873, best_loss_epoch: 13\n",
      "seed: 4, FOLD: 6, EPOCH: 0, train_loss: 0.626327, valid_loss: 0.142892, best_loss: 0.142892, best_loss_epoch: 0\n",
      "seed: 4, FOLD: 6, EPOCH: 10, train_loss: 0.004340, valid_loss: 0.004969, best_loss: 0.004969, best_loss_epoch: 10\n",
      "seed: 4, FOLD: 6, EPOCH: 14, train_loss: 0.003607, valid_loss: 0.004883, best_loss: 0.004883, best_loss_epoch: 14\n",
      "seed: 4, FOLD: 7, EPOCH: 0, train_loss: 0.625145, valid_loss: 0.167252, best_loss: 0.167252, best_loss_epoch: 0\n",
      "seed: 4, FOLD: 7, EPOCH: 10, train_loss: 0.004402, valid_loss: 0.004913, best_loss: 0.004913, best_loss_epoch: 10\n",
      "seed: 4, FOLD: 7, EPOCH: 14, train_loss: 0.003677, valid_loss: 0.004838, best_loss: 0.004838, best_loss_epoch: 14\n",
      "seed: 4, FOLD: 8, EPOCH: 0, train_loss: 0.627271, valid_loss: 0.142884, best_loss: 0.142884, best_loss_epoch: 0\n",
      "seed: 4, FOLD: 8, EPOCH: 10, train_loss: 0.004364, valid_loss: 0.004975, best_loss: 0.004975, best_loss_epoch: 10\n",
      "seed: 4, FOLD: 8, EPOCH: 14, train_loss: 0.003622, valid_loss: 0.004873, best_loss: 0.004873, best_loss_epoch: 14\n",
      "seed: 4, FOLD: 9, EPOCH: 0, train_loss: 0.625687, valid_loss: 0.143240, best_loss: 0.143240, best_loss_epoch: 0\n",
      "seed: 4, FOLD: 9, EPOCH: 10, train_loss: 0.004379, valid_loss: 0.005013, best_loss: 0.005013, best_loss_epoch: 10\n",
      "seed: 4, FOLD: 9, EPOCH: 14, train_loss: 0.003692, valid_loss: 0.004946, best_loss: 0.004945, best_loss_epoch: 13\n",
      "seed 4, elapsed time: 930.6483161449432\n"
     ]
    }
   ],
   "source": [
    "run_seeds(train, test, feature_cols, target_cols)"
   ]
  },
  {
   "cell_type": "code",
   "execution_count": 20,
   "metadata": {
    "execution": {
     "iopub.execute_input": "2020-11-27T16:23:21.071092Z",
     "iopub.status.busy": "2020-11-27T16:23:21.070111Z",
     "iopub.status.idle": "2020-11-27T16:23:21.083044Z",
     "shell.execute_reply": "2020-11-27T16:23:21.083900Z"
    },
    "papermill": {
     "duration": 0.151227,
     "end_time": "2020-11-27T16:23:21.084496",
     "exception": false,
     "start_time": "2020-11-27T16:23:20.933269",
     "status": "completed"
    },
    "tags": []
   },
   "outputs": [
    {
     "name": "stdout",
     "output_type": "stream",
     "text": [
      "train shape: (21948, 1283)\n",
      "test  shape: (3624, 1283)\n",
      "features : 954\n",
      "targets  : 331\n"
     ]
    }
   ],
   "source": [
    "print(f\"train shape: {train.shape}\")\n",
    "print(f\"test  shape: {test.shape}\")\n",
    "print(f\"features : {len(feature_cols)}\")\n",
    "print(f\"targets  : {len(target_cols)}\")"
   ]
  },
  {
   "cell_type": "code",
   "execution_count": 21,
   "metadata": {
    "execution": {
     "iopub.execute_input": "2020-11-27T16:23:21.445348Z",
     "iopub.status.busy": "2020-11-27T16:23:21.444083Z",
     "iopub.status.idle": "2020-11-27T16:23:22.143326Z",
     "shell.execute_reply": "2020-11-27T16:23:22.142610Z"
    },
    "papermill": {
     "duration": 0.857849,
     "end_time": "2020-11-27T16:23:22.143484",
     "exception": false,
     "start_time": "2020-11-27T16:23:21.285635",
     "status": "completed"
    },
    "tags": []
   },
   "outputs": [
    {
     "name": "stdout",
     "output_type": "stream",
     "text": [
      "CV loss: 0.004845937477804196\n"
     ]
    }
   ],
   "source": [
    "valid_loss_total = calc_valid_log_loss(train, target, target_cols)\n",
    "print(f\"CV loss: {valid_loss_total}\")"
   ]
  },
  {
   "cell_type": "code",
   "execution_count": 22,
   "metadata": {
    "execution": {
     "iopub.execute_input": "2020-11-27T16:23:22.738402Z",
     "iopub.status.busy": "2020-11-27T16:23:22.737674Z",
     "iopub.status.idle": "2020-11-27T16:23:22.978289Z",
     "shell.execute_reply": "2020-11-27T16:23:22.977153Z"
    },
    "papermill": {
     "duration": 0.731516,
     "end_time": "2020-11-27T16:23:22.978419",
     "exception": false,
     "start_time": "2020-11-27T16:23:22.246903",
     "status": "completed"
    },
    "tags": []
   },
   "outputs": [],
   "source": [
    "train.to_pickle(f\"{INT_DIR}/{NB}_train_nonscored_pred.pkl\")\n",
    "test.to_pickle(f\"{INT_DIR}/{NB}_test_nonscored_pred.pkl\")"
   ]
  },
  {
   "cell_type": "code",
   "execution_count": 23,
   "metadata": {
    "execution": {
     "iopub.execute_input": "2020-11-27T16:23:23.212159Z",
     "iopub.status.busy": "2020-11-27T16:23:23.211170Z",
     "iopub.status.idle": "2020-11-27T16:23:25.006781Z",
     "shell.execute_reply": "2020-11-27T16:23:25.007281Z"
    },
    "papermill": {
     "duration": 1.90844,
     "end_time": "2020-11-27T16:23:25.007431",
     "exception": false,
     "start_time": "2020-11-27T16:23:23.098991",
     "status": "completed"
    },
    "tags": []
   },
   "outputs": [
    {
     "name": "stdout",
     "output_type": "stream",
     "text": [
      "CV log_loss:  0.004452770573033244\n"
     ]
    }
   ],
   "source": [
    "valid_results = train_targets_nonscored.drop(columns=target_cols).merge(train[['sig_id']+target_cols], on='sig_id', how='left').fillna(0)\n",
    "\n",
    "y_true = train_targets_nonscored[target_cols].values\n",
    "y_true = y_true > 0.5\n",
    "y_pred = valid_results[target_cols].values\n",
    "\n",
    "score = 0\n",
    "for i in range(len(target_cols)):\n",
    "    score_ = log_loss(y_true[:, i], y_pred[:, i])\n",
    "    score += score_ / target.shape[1]\n",
    "    \n",
    "print(\"CV log_loss: \", score)"
   ]
  },
  {
   "cell_type": "markdown",
   "metadata": {
    "papermill": {
     "duration": 0.102303,
     "end_time": "2020-11-27T16:23:25.214319",
     "exception": false,
     "start_time": "2020-11-27T16:23:25.112016",
     "status": "completed"
    },
    "tags": []
   },
   "source": [
    "## 503-203-tabnet-with-nonscored-features-10fold3seed"
   ]
  },
  {
   "cell_type": "code",
   "execution_count": 24,
   "metadata": {
    "execution": {
     "iopub.execute_input": "2020-11-27T16:23:25.422035Z",
     "iopub.status.busy": "2020-11-27T16:23:25.421382Z",
     "iopub.status.idle": "2020-11-27T16:23:34.847865Z",
     "shell.execute_reply": "2020-11-27T16:23:34.846740Z"
    },
    "papermill": {
     "duration": 9.532644,
     "end_time": "2020-11-27T16:23:34.848023",
     "exception": false,
     "start_time": "2020-11-27T16:23:25.315379",
     "status": "completed"
    },
    "tags": []
   },
   "outputs": [
    {
     "name": "stdout",
     "output_type": "stream",
     "text": [
      "Looking in links: /kaggle/input/pytorchtabnet/pytorch_tabnet-2.0.0-py3-none-any.whl\r\n",
      "Processing /kaggle/input/pytorchtabnet/pytorch_tabnet-2.0.0-py3-none-any.whl\r\n",
      "Requirement already satisfied: scipy>1.4 in /opt/conda/lib/python3.7/site-packages (from pytorch-tabnet) (1.4.1)\r\n",
      "Requirement already satisfied: scikit_learn>0.21 in /opt/conda/lib/python3.7/site-packages (from pytorch-tabnet) (0.23.2)\r\n",
      "Requirement already satisfied: numpy<2.0,>=1.17 in /opt/conda/lib/python3.7/site-packages (from pytorch-tabnet) (1.18.5)\r\n",
      "Requirement already satisfied: tqdm<5.0,>=4.36 in /opt/conda/lib/python3.7/site-packages (from pytorch-tabnet) (4.45.0)\r\n",
      "Requirement already satisfied: torch<2.0,>=1.2 in /opt/conda/lib/python3.7/site-packages (from pytorch-tabnet) (1.6.0)\r\n",
      "Requirement already satisfied: joblib>=0.11 in /opt/conda/lib/python3.7/site-packages (from scikit_learn>0.21->pytorch-tabnet) (0.14.1)\r\n",
      "Requirement already satisfied: threadpoolctl>=2.0.0 in /opt/conda/lib/python3.7/site-packages (from scikit_learn>0.21->pytorch-tabnet) (2.1.0)\r\n",
      "Requirement already satisfied: future in /opt/conda/lib/python3.7/site-packages (from torch<2.0,>=1.2->pytorch-tabnet) (0.18.2)\r\n",
      "Installing collected packages: pytorch-tabnet\r\n",
      "Successfully installed pytorch-tabnet-2.0.0\r\n"
     ]
    }
   ],
   "source": [
    "!pip install --no-index --find-links /kaggle/input/pytorchtabnet/pytorch_tabnet-2.0.0-py3-none-any.whl pytorch-tabnet"
   ]
  },
  {
   "cell_type": "code",
   "execution_count": 25,
   "metadata": {
    "execution": {
     "iopub.execute_input": "2020-11-27T16:23:35.065574Z",
     "iopub.status.busy": "2020-11-27T16:23:35.064688Z",
     "iopub.status.idle": "2020-11-27T16:23:35.083032Z",
     "shell.execute_reply": "2020-11-27T16:23:35.082299Z"
    },
    "papermill": {
     "duration": 0.1299,
     "end_time": "2020-11-27T16:23:35.083152",
     "exception": false,
     "start_time": "2020-11-27T16:23:34.953252",
     "status": "completed"
    },
    "tags": []
   },
   "outputs": [],
   "source": [
    "from pytorch_tabnet.tab_model import TabNetRegressor"
   ]
  },
  {
   "cell_type": "code",
   "execution_count": 26,
   "metadata": {
    "execution": {
     "iopub.execute_input": "2020-11-27T16:23:35.305266Z",
     "iopub.status.busy": "2020-11-27T16:23:35.304300Z",
     "iopub.status.idle": "2020-11-27T16:23:35.306791Z",
     "shell.execute_reply": "2020-11-27T16:23:35.307406Z"
    },
    "papermill": {
     "duration": 0.116502,
     "end_time": "2020-11-27T16:23:35.307543",
     "exception": false,
     "start_time": "2020-11-27T16:23:35.191041",
     "status": "completed"
    },
    "tags": []
   },
   "outputs": [],
   "source": [
    "def seed_everything(seed_value):\n",
    "    random.seed(seed_value)\n",
    "    np.random.seed(seed_value)\n",
    "    torch.manual_seed(seed_value)\n",
    "    os.environ['PYTHONHASHSEED'] = str(seed_value)\n",
    "    \n",
    "    if torch.cuda.is_available(): \n",
    "        torch.cuda.manual_seed(seed_value)\n",
    "        torch.cuda.manual_seed_all(seed_value)\n",
    "        torch.backends.cudnn.deterministic = True\n",
    "        torch.backends.cudnn.benchmark = False\n",
    "        \n",
    "seed_everything(42)"
   ]
  },
  {
   "cell_type": "code",
   "execution_count": 27,
   "metadata": {
    "execution": {
     "iopub.execute_input": "2020-11-27T16:23:35.524364Z",
     "iopub.status.busy": "2020-11-27T16:23:35.523537Z",
     "iopub.status.idle": "2020-11-27T16:23:35.526587Z",
     "shell.execute_reply": "2020-11-27T16:23:35.525981Z"
    },
    "papermill": {
     "duration": 0.114535,
     "end_time": "2020-11-27T16:23:35.526680",
     "exception": false,
     "start_time": "2020-11-27T16:23:35.412145",
     "status": "completed"
    },
    "tags": []
   },
   "outputs": [],
   "source": [
    "# file name prefix\n",
    "NB = '503'\n",
    "NB_PREV = '203'\n",
    "\n",
    "# IS_TRAIN = False\n",
    "\n",
    "# MODEL_DIR = \"../input/moa503/503-tabnet\" # \"../model\"\n",
    "# INT_DIR = \"../input/moa503/203-nonscored-pred\" # \"../interim\"\n",
    "\n",
    "DEVICE = ('cuda' if torch.cuda.is_available() else 'cpu')\n",
    "\n",
    "# label smoothing\n",
    "PMIN = 0.0\n",
    "PMAX = 1.0\n",
    "\n",
    "# submission smoothing\n",
    "SMIN = 0.0\n",
    "SMAX = 1.0\n",
    "\n",
    "# model hyper params\n",
    "\n",
    "# training hyper params\n",
    "# EPOCHS = 25\n",
    "# BATCH_SIZE = 256\n",
    "NFOLDS = 10 # 10\n",
    "NREPEATS = 1\n",
    "NSEEDS = 3 # 5\n",
    "\n",
    "# Adam hyper params\n",
    "LEARNING_RATE = 5e-4\n",
    "WEIGHT_DECAY = 1e-5\n",
    "\n",
    "# scheduler hyper params\n",
    "PCT_START = 0.2\n",
    "DIV_FACS = 1e3\n",
    "MAX_LR = 1e-2"
   ]
  },
  {
   "cell_type": "code",
   "execution_count": 28,
   "metadata": {
    "execution": {
     "iopub.execute_input": "2020-11-27T16:23:35.769967Z",
     "iopub.status.busy": "2020-11-27T16:23:35.768708Z",
     "iopub.status.idle": "2020-11-27T16:23:41.152589Z",
     "shell.execute_reply": "2020-11-27T16:23:41.151344Z"
    },
    "papermill": {
     "duration": 5.501514,
     "end_time": "2020-11-27T16:23:41.152715",
     "exception": false,
     "start_time": "2020-11-27T16:23:35.651201",
     "status": "completed"
    },
    "tags": []
   },
   "outputs": [],
   "source": [
    "train_features = pd.read_csv('../input/lish-moa/train_features.csv')\n",
    "train_targets_scored = pd.read_csv('../input/lish-moa/train_targets_scored.csv')\n",
    "train_targets_nonscored = pd.read_csv('../input/lish-moa/train_targets_nonscored.csv')\n",
    "\n",
    "test_features = pd.read_csv('../input/lish-moa/test_features.csv')\n",
    "sample_submission = pd.read_csv('../input/lish-moa/sample_submission.csv')"
   ]
  },
  {
   "cell_type": "code",
   "execution_count": 29,
   "metadata": {
    "execution": {
     "iopub.execute_input": "2020-11-27T16:23:41.375702Z",
     "iopub.status.busy": "2020-11-27T16:23:41.375026Z",
     "iopub.status.idle": "2020-11-27T16:23:41.383795Z",
     "shell.execute_reply": "2020-11-27T16:23:41.383316Z"
    },
    "papermill": {
     "duration": 0.122226,
     "end_time": "2020-11-27T16:23:41.383896",
     "exception": false,
     "start_time": "2020-11-27T16:23:41.261670",
     "status": "completed"
    },
    "tags": []
   },
   "outputs": [
    {
     "name": "stdout",
     "output_type": "stream",
     "text": [
      "(nsamples, nfeatures)\n",
      "(23814, 876)\n",
      "(23814, 207)\n",
      "(23814, 403)\n",
      "(3982, 876)\n",
      "(3982, 207)\n"
     ]
    }
   ],
   "source": [
    "print(\"(nsamples, nfeatures)\")\n",
    "print(train_features.shape)\n",
    "print(train_targets_scored.shape)\n",
    "print(train_targets_nonscored.shape)\n",
    "print(test_features.shape)\n",
    "print(sample_submission.shape)"
   ]
  },
  {
   "cell_type": "code",
   "execution_count": 30,
   "metadata": {
    "execution": {
     "iopub.execute_input": "2020-11-27T16:23:41.603335Z",
     "iopub.status.busy": "2020-11-27T16:23:41.602642Z",
     "iopub.status.idle": "2020-11-27T16:23:41.606438Z",
     "shell.execute_reply": "2020-11-27T16:23:41.605889Z"
    },
    "papermill": {
     "duration": 0.115971,
     "end_time": "2020-11-27T16:23:41.606541",
     "exception": false,
     "start_time": "2020-11-27T16:23:41.490570",
     "status": "completed"
    },
    "tags": []
   },
   "outputs": [],
   "source": [
    "GENES = [col for col in train_features.columns if col.startswith('g-')]\n",
    "CELLS = [col for col in train_features.columns if col.startswith('c-')]"
   ]
  },
  {
   "cell_type": "code",
   "execution_count": 31,
   "metadata": {
    "execution": {
     "iopub.execute_input": "2020-11-27T16:23:41.848471Z",
     "iopub.status.busy": "2020-11-27T16:23:41.847550Z",
     "iopub.status.idle": "2020-11-27T16:23:51.375651Z",
     "shell.execute_reply": "2020-11-27T16:23:51.374541Z"
    },
    "papermill": {
     "duration": 9.654172,
     "end_time": "2020-11-27T16:23:51.375810",
     "exception": false,
     "start_time": "2020-11-27T16:23:41.721638",
     "status": "completed"
    },
    "tags": []
   },
   "outputs": [],
   "source": [
    "from sklearn.preprocessing import QuantileTransformer\n",
    "\n",
    "use_test_for_preprocessing = False\n",
    "\n",
    "for col in (GENES + CELLS):\n",
    "\n",
    "    if IS_TRAIN:\n",
    "        transformer = QuantileTransformer(n_quantiles=100, random_state=0, output_distribution=\"normal\")\n",
    "        if use_test_for_preprocessing:\n",
    "            raw_vec = pd.concat([train_features, test_features])[col].values.reshape(vec_len+vec_len_test, 1)\n",
    "            transformer.fit(raw_vec)\n",
    "        else:\n",
    "            raw_vec = train_features[col].values.reshape(vec_len, 1)\n",
    "            transformer.fit(raw_vec)\n",
    "        pd.to_pickle(transformer, f'{MODEL_DIR}/{NB}_{col}_quantile_transformer.pkl')\n",
    "    else:\n",
    "        transformer = pd.read_pickle(f'{MODEL_DIR}/{NB}_{col}_quantile_transformer.pkl') \n",
    "\n",
    "    vec_len = len(train_features[col].values)\n",
    "    vec_len_test = len(test_features[col].values)\n",
    "\n",
    "\n",
    "    train_features[col] = transformer.transform(train_features[col].values.reshape(vec_len, 1)).reshape(1, vec_len)[0]\n",
    "    test_features[col] = transformer.transform(test_features[col].values.reshape(vec_len_test, 1)).reshape(1, vec_len_test)[0]"
   ]
  },
  {
   "cell_type": "code",
   "execution_count": 32,
   "metadata": {
    "execution": {
     "iopub.execute_input": "2020-11-27T16:23:51.940782Z",
     "iopub.status.busy": "2020-11-27T16:23:51.894701Z",
     "iopub.status.idle": "2020-11-27T16:24:02.397593Z",
     "shell.execute_reply": "2020-11-27T16:24:02.397076Z"
    },
    "papermill": {
     "duration": 10.904409,
     "end_time": "2020-11-27T16:24:02.397729",
     "exception": false,
     "start_time": "2020-11-27T16:23:51.493320",
     "status": "completed"
    },
    "tags": []
   },
   "outputs": [],
   "source": [
    "# GENES\n",
    "\n",
    "n_comp = 90\n",
    "\n",
    "data = pd.concat([pd.DataFrame(train_features[GENES]), pd.DataFrame(test_features[GENES])])\n",
    "if IS_TRAIN:\n",
    "    fa = FactorAnalysis(n_components=n_comp, random_state=42).fit(data[GENES])\n",
    "    pd.to_pickle(fa, f'{MODEL_DIR}/{NB}_factor_analysis_g.pkl')\n",
    "else:\n",
    "    fa = pd.read_pickle(f'{MODEL_DIR}/{NB}_factor_analysis_g.pkl')\n",
    "    \n",
    "data2 = (fa.transform(data[GENES]))\n",
    "train2 = data2[:train_features.shape[0]]; test2 = data2[-test_features.shape[0]:]\n",
    "\n",
    "train2 = pd.DataFrame(train2, columns=[f'pca_G-{i}' for i in range(n_comp)])\n",
    "test2 = pd.DataFrame(test2, columns=[f'pca_G-{i}' for i in range(n_comp)])\n",
    "\n",
    "# drop_cols = [f'c-{i}' for i in range(n_comp,len(GENES))]\n",
    "train_features = pd.concat((train_features, train2), axis=1)\n",
    "test_features = pd.concat((test_features, test2), axis=1)\n",
    "\n",
    "#CELLS\n",
    "\n",
    "n_comp = 50\n",
    "\n",
    "data = pd.concat([pd.DataFrame(train_features[CELLS]), pd.DataFrame(test_features[CELLS])])\n",
    "\n",
    "if IS_TRAIN:\n",
    "    fa = FactorAnalysis(n_components=n_comp, random_state=42).fit(data[CELLS])\n",
    "    pd.to_pickle(fa, f'{MODEL_DIR}/{NB}_factor_analysis_c.pkl')\n",
    "else:\n",
    "    fa = pd.read_pickle(f'{MODEL_DIR}/{NB}_factor_analysis_c.pkl')\n",
    "\n",
    "data2 = (fa.transform(data[CELLS]))\n",
    "train2 = data2[:train_features.shape[0]]; test2 = data2[-test_features.shape[0]:]\n",
    "\n",
    "train2 = pd.DataFrame(train2, columns=[f'pca_C-{i}' for i in range(n_comp)])\n",
    "test2 = pd.DataFrame(test2, columns=[f'pca_C-{i}' for i in range(n_comp)])\n",
    "\n",
    "# drop_cols = [f'c-{i}' for i in range(n_comp,len(CELLS))]\n",
    "train_features = pd.concat((train_features, train2), axis=1)\n",
    "test_features = pd.concat((test_features, test2), axis=1)"
   ]
  },
  {
   "cell_type": "code",
   "execution_count": 33,
   "metadata": {
    "execution": {
     "iopub.execute_input": "2020-11-27T16:24:02.627340Z",
     "iopub.status.busy": "2020-11-27T16:24:02.626552Z",
     "iopub.status.idle": "2020-11-27T16:25:21.521325Z",
     "shell.execute_reply": "2020-11-27T16:25:21.520044Z"
    },
    "papermill": {
     "duration": 79.017647,
     "end_time": "2020-11-27T16:25:21.521474",
     "exception": false,
     "start_time": "2020-11-27T16:24:02.503827",
     "status": "completed"
    },
    "tags": []
   },
   "outputs": [],
   "source": [
    "from sklearn.cluster import KMeans\n",
    "def fe_cluster(train, test, n_clusters_g = 35, n_clusters_c = 5, SEED = 123):\n",
    "    \n",
    "    features_g = list(train.columns[4:776])\n",
    "    features_c = list(train.columns[776:876])\n",
    "    \n",
    "    def create_cluster(train, test, features, kind = 'g', n_clusters = n_clusters_g):\n",
    "        train_ = train[features].copy()\n",
    "        test_ = test[features].copy()\n",
    "        data = pd.concat([train_, test_], axis = 0)\n",
    "        \n",
    "        if IS_TRAIN:\n",
    "            kmeans = KMeans(n_clusters = n_clusters, random_state = SEED).fit(data)\n",
    "            pd.to_pickle(kmeans, f\"{MODEL_DIR}/{NB}_kmeans_{kind}.pkl\")\n",
    "        else:\n",
    "            kmeans = pd.read_pickle(f\"{MODEL_DIR}/{NB}_kmeans_{kind}.pkl\")\n",
    "            \n",
    "        train[f'clusters_{kind}'] = kmeans.predict(train_)\n",
    "        test[f'clusters_{kind}'] = kmeans.predict(test_)\n",
    "        train = pd.get_dummies(train, columns = [f'clusters_{kind}'])\n",
    "        test = pd.get_dummies(test, columns = [f'clusters_{kind}'])\n",
    "        return train, test\n",
    "    \n",
    "    train, test = create_cluster(train, test, features_g, kind = 'g', n_clusters = n_clusters_g)\n",
    "    train, test = create_cluster(train, test, features_c, kind = 'c', n_clusters = n_clusters_c)\n",
    "    return train, test\n",
    "\n",
    "train_features ,test_features=fe_cluster(train_features,test_features)"
   ]
  },
  {
   "cell_type": "code",
   "execution_count": 34,
   "metadata": {
    "execution": {
     "iopub.execute_input": "2020-11-27T16:25:21.762514Z",
     "iopub.status.busy": "2020-11-27T16:25:21.761474Z",
     "iopub.status.idle": "2020-11-27T16:25:21.768337Z",
     "shell.execute_reply": "2020-11-27T16:25:21.769660Z"
    },
    "papermill": {
     "duration": 0.139803,
     "end_time": "2020-11-27T16:25:21.769960",
     "exception": false,
     "start_time": "2020-11-27T16:25:21.630157",
     "status": "completed"
    },
    "tags": []
   },
   "outputs": [
    {
     "name": "stdout",
     "output_type": "stream",
     "text": [
      "(23814, 1056)\n",
      "(3982, 1056)\n"
     ]
    }
   ],
   "source": [
    "print(train_features.shape)\n",
    "print(test_features.shape)"
   ]
  },
  {
   "cell_type": "code",
   "execution_count": 35,
   "metadata": {
    "execution": {
     "iopub.execute_input": "2020-11-27T16:25:22.045513Z",
     "iopub.status.busy": "2020-11-27T16:25:22.044224Z",
     "iopub.status.idle": "2020-11-27T16:25:26.981709Z",
     "shell.execute_reply": "2020-11-27T16:25:26.980611Z"
    },
    "papermill": {
     "duration": 5.068487,
     "end_time": "2020-11-27T16:25:26.981842",
     "exception": false,
     "start_time": "2020-11-27T16:25:21.913355",
     "status": "completed"
    },
    "tags": []
   },
   "outputs": [],
   "source": [
    "def fe_stats(train, test):\n",
    "    \n",
    "    features_g = list(train.columns[4:776])\n",
    "    features_c = list(train.columns[776:876])\n",
    "    \n",
    "    for df in train, test:\n",
    "#         df['g_sum'] = df[features_g].sum(axis = 1)\n",
    "        df['g_mean'] = df[features_g].mean(axis = 1)\n",
    "        df['g_std'] = df[features_g].std(axis = 1)\n",
    "        df['g_kurt'] = df[features_g].kurtosis(axis = 1)\n",
    "        df['g_skew'] = df[features_g].skew(axis = 1)\n",
    "#         df['c_sum'] = df[features_c].sum(axis = 1)\n",
    "        df['c_mean'] = df[features_c].mean(axis = 1)\n",
    "        df['c_std'] = df[features_c].std(axis = 1)\n",
    "        df['c_kurt'] = df[features_c].kurtosis(axis = 1)\n",
    "        df['c_skew'] = df[features_c].skew(axis = 1)\n",
    "#         df['gc_sum'] = df[features_g + features_c].sum(axis = 1)\n",
    "        df['gc_mean'] = df[features_g + features_c].mean(axis = 1)\n",
    "        df['gc_std'] = df[features_g + features_c].std(axis = 1)\n",
    "        df['gc_kurt'] = df[features_g + features_c].kurtosis(axis = 1)\n",
    "        df['gc_skew'] = df[features_g + features_c].skew(axis = 1)\n",
    "        \n",
    "    return train, test\n",
    "\n",
    "train_features,test_features=fe_stats(train_features,test_features)"
   ]
  },
  {
   "cell_type": "code",
   "execution_count": 36,
   "metadata": {
    "execution": {
     "iopub.execute_input": "2020-11-27T16:25:27.213395Z",
     "iopub.status.busy": "2020-11-27T16:25:27.212423Z",
     "iopub.status.idle": "2020-11-27T16:25:27.215956Z",
     "shell.execute_reply": "2020-11-27T16:25:27.216683Z"
    },
    "papermill": {
     "duration": 0.122281,
     "end_time": "2020-11-27T16:25:27.216861",
     "exception": false,
     "start_time": "2020-11-27T16:25:27.094580",
     "status": "completed"
    },
    "tags": []
   },
   "outputs": [
    {
     "name": "stdout",
     "output_type": "stream",
     "text": [
      "(23814, 1068)\n",
      "(3982, 1068)\n"
     ]
    }
   ],
   "source": [
    "print(train_features.shape)\n",
    "print(test_features.shape)"
   ]
  },
  {
   "cell_type": "code",
   "execution_count": 37,
   "metadata": {
    "execution": {
     "iopub.execute_input": "2020-11-27T16:25:27.455450Z",
     "iopub.status.busy": "2020-11-27T16:25:27.454106Z",
     "iopub.status.idle": "2020-11-27T16:25:27.813623Z",
     "shell.execute_reply": "2020-11-27T16:25:27.813015Z"
    },
    "papermill": {
     "duration": 0.483918,
     "end_time": "2020-11-27T16:25:27.813765",
     "exception": false,
     "start_time": "2020-11-27T16:25:27.329847",
     "status": "completed"
    },
    "tags": []
   },
   "outputs": [],
   "source": [
    "remove_vehicle = True\n",
    "\n",
    "if remove_vehicle:\n",
    "    trt_idx = train_features['cp_type']=='trt_cp'\n",
    "    train_features = train_features.loc[trt_idx].reset_index(drop=True)\n",
    "    train_targets_scored = train_targets_scored.loc[trt_idx].reset_index(drop=True)\n",
    "    train_targets_nonscored = train_targets_nonscored.loc[trt_idx].reset_index(drop=True)\n",
    "else:\n",
    "    pass"
   ]
  },
  {
   "cell_type": "code",
   "execution_count": 38,
   "metadata": {
    "execution": {
     "iopub.execute_input": "2020-11-27T16:25:28.050508Z",
     "iopub.status.busy": "2020-11-27T16:25:28.049093Z",
     "iopub.status.idle": "2020-11-27T16:25:28.706438Z",
     "shell.execute_reply": "2020-11-27T16:25:28.707008Z"
    },
    "papermill": {
     "duration": 0.779184,
     "end_time": "2020-11-27T16:25:28.707175",
     "exception": false,
     "start_time": "2020-11-27T16:25:27.927991",
     "status": "completed"
    },
    "tags": []
   },
   "outputs": [],
   "source": [
    "# train = train_features.merge(train_targets_scored, on='sig_id')\n",
    "train = train_features.merge(train_targets_scored, on='sig_id')\n",
    "train = train[train['cp_type']!='ctl_vehicle'].reset_index(drop=True)\n",
    "test = test_features[test_features['cp_type']!='ctl_vehicle'].reset_index(drop=True)\n",
    "\n",
    "# target = train[train_targets_scored.columns]\n",
    "target = train[train_targets_scored.columns]\n",
    "target_cols = target.drop('sig_id', axis=1).columns.values.tolist()\n",
    "\n",
    "train = train.drop('cp_type', axis=1)\n",
    "test = test.drop('cp_type', axis=1)"
   ]
  },
  {
   "cell_type": "code",
   "execution_count": 39,
   "metadata": {
    "execution": {
     "iopub.execute_input": "2020-11-27T16:25:28.941632Z",
     "iopub.status.busy": "2020-11-27T16:25:28.940775Z",
     "iopub.status.idle": "2020-11-27T16:25:28.946059Z",
     "shell.execute_reply": "2020-11-27T16:25:28.946604Z"
    },
    "papermill": {
     "duration": 0.126899,
     "end_time": "2020-11-27T16:25:28.946745",
     "exception": false,
     "start_time": "2020-11-27T16:25:28.819846",
     "status": "completed"
    },
    "tags": []
   },
   "outputs": [
    {
     "name": "stdout",
     "output_type": "stream",
     "text": [
      "(21948, 207)\n",
      "(21948, 1068)\n",
      "(3982, 1068)\n",
      "(21948, 1273)\n",
      "(3624, 1067)\n"
     ]
    }
   ],
   "source": [
    "print(target.shape)\n",
    "print(train_features.shape)\n",
    "print(test_features.shape)\n",
    "print(train.shape)\n",
    "print(test.shape)"
   ]
  },
  {
   "cell_type": "code",
   "execution_count": 40,
   "metadata": {
    "execution": {
     "iopub.execute_input": "2020-11-27T16:25:29.182462Z",
     "iopub.status.busy": "2020-11-27T16:25:29.181462Z",
     "iopub.status.idle": "2020-11-27T16:25:29.550331Z",
     "shell.execute_reply": "2020-11-27T16:25:29.549695Z"
    },
    "papermill": {
     "duration": 0.489304,
     "end_time": "2020-11-27T16:25:29.550465",
     "exception": false,
     "start_time": "2020-11-27T16:25:29.061161",
     "status": "completed"
    },
    "tags": []
   },
   "outputs": [],
   "source": [
    "train_nonscored_pred = pd.read_pickle(f'{INT_DIR}/{NB_PREV}_train_nonscored_pred.pkl')\n",
    "test_nonscored_pred = pd.read_pickle(f'{INT_DIR}/{NB_PREV}_test_nonscored_pred.pkl')"
   ]
  },
  {
   "cell_type": "code",
   "execution_count": 41,
   "metadata": {
    "execution": {
     "iopub.execute_input": "2020-11-27T16:25:29.891808Z",
     "iopub.status.busy": "2020-11-27T16:25:29.785342Z",
     "iopub.status.idle": "2020-11-27T16:25:29.967281Z",
     "shell.execute_reply": "2020-11-27T16:25:29.966667Z"
    },
    "papermill": {
     "duration": 0.303389,
     "end_time": "2020-11-27T16:25:29.967425",
     "exception": false,
     "start_time": "2020-11-27T16:25:29.664036",
     "status": "completed"
    },
    "tags": []
   },
   "outputs": [],
   "source": [
    "# remove nonscored labels if all values == 0\n",
    "train_targets_nonscored = train_targets_nonscored.loc[:, train_targets_nonscored.sum() != 0]\n",
    "\n",
    "# nonscored_targets = [c for c in train_targets_nonscored.columns if c != \"sig_id\"]"
   ]
  },
  {
   "cell_type": "code",
   "execution_count": 42,
   "metadata": {
    "execution": {
     "iopub.execute_input": "2020-11-27T16:25:30.222736Z",
     "iopub.status.busy": "2020-11-27T16:25:30.221358Z",
     "iopub.status.idle": "2020-11-27T16:25:30.555133Z",
     "shell.execute_reply": "2020-11-27T16:25:30.555672Z"
    },
    "papermill": {
     "duration": 0.474319,
     "end_time": "2020-11-27T16:25:30.555825",
     "exception": false,
     "start_time": "2020-11-27T16:25:30.081506",
     "status": "completed"
    },
    "tags": []
   },
   "outputs": [],
   "source": [
    "train = train.merge(train_nonscored_pred[train_targets_nonscored.columns], on='sig_id')\n",
    "test = test.merge(test_nonscored_pred[train_targets_nonscored.columns], on='sig_id')"
   ]
  },
  {
   "cell_type": "code",
   "execution_count": 43,
   "metadata": {
    "execution": {
     "iopub.execute_input": "2020-11-27T16:25:30.792486Z",
     "iopub.status.busy": "2020-11-27T16:25:30.791454Z",
     "iopub.status.idle": "2020-11-27T16:25:34.513498Z",
     "shell.execute_reply": "2020-11-27T16:25:34.512830Z"
    },
    "papermill": {
     "duration": 3.845228,
     "end_time": "2020-11-27T16:25:34.513643",
     "exception": false,
     "start_time": "2020-11-27T16:25:30.668415",
     "status": "completed"
    },
    "tags": []
   },
   "outputs": [],
   "source": [
    "from sklearn.preprocessing import QuantileTransformer\n",
    "\n",
    "nonscored_target = [c for c in train_targets_nonscored.columns if c != \"sig_id\"]\n",
    "\n",
    "for col in (nonscored_target):\n",
    "\n",
    "    vec_len = len(train[col].values)\n",
    "    vec_len_test = len(test[col].values)\n",
    "#     raw_vec = pd.concat([train, test])[col].values.reshape(vec_len+vec_len_test, 1)\n",
    "    raw_vec = train[col].values.reshape(vec_len, 1)\n",
    "    if IS_TRAIN:\n",
    "        transformer = QuantileTransformer(n_quantiles=100, random_state=0, output_distribution=\"normal\")\n",
    "        transformer.fit(raw_vec)\n",
    "        pd.to_pickle(transformer, f'{MODEL_DIR}/{NB}_{col}_quantile_transformer.pkl')\n",
    "    else:\n",
    "        transformer = pd.read_pickle(f'{MODEL_DIR}/{NB}_{col}_quantile_transformer.pkl')        \n",
    "\n",
    "    train[col] = transformer.transform(raw_vec).reshape(1, vec_len)[0]\n",
    "    test[col] = transformer.transform(test[col].values.reshape(vec_len_test, 1)).reshape(1, vec_len_test)[0]"
   ]
  },
  {
   "cell_type": "code",
   "execution_count": 44,
   "metadata": {
    "execution": {
     "iopub.execute_input": "2020-11-27T16:25:34.768795Z",
     "iopub.status.busy": "2020-11-27T16:25:34.767767Z",
     "iopub.status.idle": "2020-11-27T16:25:34.773517Z",
     "shell.execute_reply": "2020-11-27T16:25:34.772861Z"
    },
    "papermill": {
     "duration": 0.139916,
     "end_time": "2020-11-27T16:25:34.773629",
     "exception": false,
     "start_time": "2020-11-27T16:25:34.633713",
     "status": "completed"
    },
    "tags": []
   },
   "outputs": [
    {
     "data": {
      "text/plain": [
       "1397"
      ]
     },
     "execution_count": 44,
     "metadata": {},
     "output_type": "execute_result"
    }
   ],
   "source": [
    "feature_cols = [c for c in train.columns if c not in target_cols]\n",
    "feature_cols = [c for c in feature_cols if c not in ['sig_id']]\n",
    "len(feature_cols)"
   ]
  },
  {
   "cell_type": "code",
   "execution_count": 45,
   "metadata": {
    "execution": {
     "iopub.execute_input": "2020-11-27T16:25:35.016048Z",
     "iopub.status.busy": "2020-11-27T16:25:35.014096Z",
     "iopub.status.idle": "2020-11-27T16:25:35.016762Z",
     "shell.execute_reply": "2020-11-27T16:25:35.017268Z"
    },
    "papermill": {
     "duration": 0.123255,
     "end_time": "2020-11-27T16:25:35.017392",
     "exception": false,
     "start_time": "2020-11-27T16:25:34.894137",
     "status": "completed"
    },
    "tags": []
   },
   "outputs": [],
   "source": [
    "num_features=len(feature_cols)\n",
    "num_targets=len(target_cols)"
   ]
  },
  {
   "cell_type": "code",
   "execution_count": 46,
   "metadata": {
    "execution": {
     "iopub.execute_input": "2020-11-27T16:25:35.305555Z",
     "iopub.status.busy": "2020-11-27T16:25:35.304691Z",
     "iopub.status.idle": "2020-11-27T16:25:35.309011Z",
     "shell.execute_reply": "2020-11-27T16:25:35.308400Z"
    },
    "papermill": {
     "duration": 0.177248,
     "end_time": "2020-11-27T16:25:35.309118",
     "exception": false,
     "start_time": "2020-11-27T16:25:35.131870",
     "status": "completed"
    },
    "tags": []
   },
   "outputs": [],
   "source": [
    "import torch\n",
    "import torch.nn as nn\n",
    "from pytorch_tabnet.metrics import Metric\n",
    "\n",
    "class LabelSmoothing(nn.Module):\n",
    "    \"\"\"\n",
    "    NLL loss with label smoothing.\n",
    "    \"\"\"\n",
    "    def __init__(self, smoothing=0.0, n_cls=2):\n",
    "        \"\"\"\n",
    "        Constructor for the LabelSmoothing module.\n",
    "        :param smoothing: label smoothing factor\n",
    "        \"\"\"\n",
    "        super(LabelSmoothing, self).__init__()\n",
    "        self.confidence = 1.0 - smoothing + smoothing / n_cls\n",
    "        self.smoothing = smoothing / n_cls\n",
    "\n",
    "    def forward(self, x, target):\n",
    "        probs = torch.nn.functional.sigmoid(x,)\n",
    "        # ylogy + (1-y)log(1-y)\n",
    "        #with torch.no_grad():\n",
    "        target1 = self.confidence * target + (1-target) * self.smoothing\n",
    "        #print(target1.cpu())\n",
    "        loss = -(torch.log(probs+1e-15) * target1 + (1-target1) * torch.log(1-probs+1e-15))\n",
    "        #print(loss.cpu())\n",
    "        #nll_loss = -logprobs.gather(dim=-1, index=target.unsqueeze(1))\n",
    "        #nll_loss = nll_loss.squeeze(1)\n",
    "        #smooth_loss = -logprobs.mean(dim=-1)\n",
    "        #loss = self.confidence * nll_loss + self.smoothing * smooth_loss\n",
    "        return loss.mean()\n",
    "    \n",
    "class SmoothedLogLossMetric(Metric):\n",
    "    \"\"\"\n",
    "    BCE with logit loss\n",
    "    \"\"\"\n",
    "    def __init__(self, smoothing=0.001):\n",
    "        self._name = f\"{smoothing:.3f}\" # write an understandable name here\n",
    "        self._maximize = False\n",
    "        self._lossfn = LabelSmoothing(smoothing)\n",
    "\n",
    "    def __call__(self, y_true, y_score):\n",
    "        \"\"\"\n",
    "        \"\"\"\n",
    "        y_true = torch.from_numpy(y_true.astype(np.float32)).clone()\n",
    "        y_score = torch.from_numpy(y_score.astype(np.float32)).clone()\n",
    "#         print(\"smoothed log loss metric: \", self._lossfn(y_score, y_true).to('cpu').detach().numpy().copy())\n",
    "        return self._lossfn(y_score, y_true).to('cpu').detach().numpy().copy().take(0)\n",
    "    \n",
    "class LogLossMetric(Metric):\n",
    "    \"\"\"\n",
    "    BCE with logit loss\n",
    "    \"\"\"\n",
    "    def __init__(self, smoothing=0.0):\n",
    "        self._name = f\"{smoothing:.3f}\" # write an understandable name here\n",
    "        self._maximize = False\n",
    "        self._lossfn = LabelSmoothing(smoothing)\n",
    "\n",
    "    def __call__(self, y_true, y_score):\n",
    "        \"\"\"\n",
    "        \"\"\"\n",
    "        y_true = torch.from_numpy(y_true.astype(np.float32)).clone()\n",
    "        y_score = torch.from_numpy(y_score.astype(np.float32)).clone()\n",
    "#         print(\"log loss metric: \", self._lossfn(y_score, y_true).to('cpu').detach().numpy().copy())\n",
    "        return self._lossfn(y_score, y_true).to('cpu').detach().numpy().copy().take(0)"
   ]
  },
  {
   "cell_type": "code",
   "execution_count": 47,
   "metadata": {
    "execution": {
     "iopub.execute_input": "2020-11-27T16:25:35.558943Z",
     "iopub.status.busy": "2020-11-27T16:25:35.554740Z",
     "iopub.status.idle": "2020-11-27T16:25:35.561730Z",
     "shell.execute_reply": "2020-11-27T16:25:35.561132Z"
    },
    "papermill": {
     "duration": 0.141063,
     "end_time": "2020-11-27T16:25:35.561830",
     "exception": false,
     "start_time": "2020-11-27T16:25:35.420767",
     "status": "completed"
    },
    "tags": []
   },
   "outputs": [],
   "source": [
    "def process_data(data):\n",
    "#     data = pd.get_dummies(data, columns=['cp_time','cp_dose'])\n",
    "    data.loc[:, 'cp_time'] = data.loc[:, 'cp_time'].map({24: 0, 48: 1, 72: 2, 0: 0, 1: 1, 2: 2})\n",
    "    data.loc[:, 'cp_dose'] = data.loc[:, 'cp_dose'].map({'D1': 0, 'D2': 1, 0: 0, 1: 1})   \n",
    "    return data\n",
    "\n",
    "def run_training_tabnet(train, test, trn_idx, val_idx, feature_cols, target_cols, fold, seed, filename=\"tabnet\"):\n",
    "    \n",
    "    seed_everything(seed)\n",
    "    \n",
    "    train_ = process_data(train)\n",
    "    test_ = process_data(test)\n",
    "    \n",
    "    train_df = train_.loc[trn_idx,:].reset_index(drop=True)\n",
    "    valid_df = train_.loc[val_idx,:].reset_index(drop=True)\n",
    "    \n",
    "    x_train, y_train  = train_df[feature_cols].values, train_df[target_cols].values\n",
    "    x_valid, y_valid =  valid_df[feature_cols].values, valid_df[target_cols].values\n",
    "        \n",
    "    model = TabNetRegressor(n_d=32, n_a=32, n_steps=1, lambda_sparse=0,\n",
    "                            cat_dims=[3, 2], cat_emb_dim=[1, 1], cat_idxs=[0, 1],\n",
    "                            optimizer_fn=torch.optim.Adam, optimizer_params=dict(lr=2e-2, weight_decay=1e-5),\n",
    "                            mask_type='entmax',  # device_name=DEVICE,\n",
    "                            scheduler_params=dict(milestones=[100, 150], gamma=0.9),#)\n",
    "                            scheduler_fn=torch.optim.lr_scheduler.MultiStepLR,\n",
    "                            verbose=10,\n",
    "                            seed = seed)\n",
    "    \n",
    "    loss_fn = LabelSmoothing(0.001)\n",
    "#     eval_metric = SmoothedLogLossMetric(0.001)\n",
    "#     eval_metric_nosmoothing = SmoothedLogLossMetric(0.)\n",
    "       \n",
    "    oof = np.zeros((len(train), target.iloc[:, 1:].shape[1]))\n",
    "    \n",
    "    if IS_TRAIN:\n",
    "#         print(\"isnan\", np.any(np.isnan(x_train)))\n",
    "        model.fit(X_train=x_train, y_train=y_train,\n",
    "                  eval_set=[(x_valid, y_valid)], eval_metric=[LogLossMetric, SmoothedLogLossMetric],\n",
    "                  max_epochs=200, patience=50, batch_size=1024, virtual_batch_size=128,\n",
    "                    num_workers=0, drop_last=False, loss_fn=loss_fn\n",
    "                  )\n",
    "        model.save_model(f\"{MODEL_DIR}/{NB}_{filename}_SEED{seed}_FOLD{fold}\")\n",
    "            \n",
    "    #--------------------- PREDICTION---------------------\n",
    "    x_test = test_[feature_cols].values\n",
    "    \n",
    "    model = TabNetRegressor(n_d=32, n_a=32, n_steps=1, lambda_sparse=0,\n",
    "                            cat_dims=[3, 2], cat_emb_dim=[1, 1], cat_idxs=[0, 1],\n",
    "                            optimizer_fn=torch.optim.Adam, optimizer_params=dict(lr=2e-2, weight_decay=1e-5),\n",
    "                            mask_type='entmax',  # device_name=DEVICE,\n",
    "                            scheduler_params=dict(milestones=[100, 150], gamma=0.9),#)\n",
    "                            scheduler_fn=torch.optim.lr_scheduler.MultiStepLR,\n",
    "                            verbose=10,\n",
    "                            seed = seed)\n",
    "    \n",
    "    model.load_model(f\"{MODEL_DIR}/{NB}_{filename}_SEED{seed}_FOLD{fold}.zip\")\n",
    "\n",
    "    valid_preds = model.predict(x_valid)\n",
    "\n",
    "    valid_preds = torch.sigmoid(torch.as_tensor(valid_preds)).detach().cpu().numpy()\n",
    "    oof[val_idx] = valid_preds\n",
    "        \n",
    "    predictions = model.predict(x_test)\n",
    "    predictions = torch.sigmoid(torch.as_tensor(predictions)).detach().cpu().numpy()\n",
    "    \n",
    "    return oof, predictions"
   ]
  },
  {
   "cell_type": "code",
   "execution_count": 48,
   "metadata": {
    "execution": {
     "iopub.execute_input": "2020-11-27T16:25:35.799076Z",
     "iopub.status.busy": "2020-11-27T16:25:35.798224Z",
     "iopub.status.idle": "2020-11-27T16:25:35.801534Z",
     "shell.execute_reply": "2020-11-27T16:25:35.801013Z"
    },
    "papermill": {
     "duration": 0.12881,
     "end_time": "2020-11-27T16:25:35.801645",
     "exception": false,
     "start_time": "2020-11-27T16:25:35.672835",
     "status": "completed"
    },
    "tags": []
   },
   "outputs": [],
   "source": [
    "def run_k_fold(train, test, feature_cols, target_cols, NFOLDS, seed):\n",
    "    oof = np.zeros((len(train), len(target_cols)))\n",
    "    predictions = np.zeros((len(test), len(target_cols)))\n",
    "    \n",
    "    mskf = MultilabelStratifiedKFold(n_splits=NFOLDS, shuffle=True, random_state = seed)\n",
    "    \n",
    "    for f, (t_idx, v_idx) in enumerate(mskf.split(X=train, y=target)):\n",
    "        oof_, pred_ = run_training_tabnet(train, test, t_idx, v_idx, feature_cols, target_cols, f, seed)\n",
    "        \n",
    "        predictions += pred_ / NFOLDS / NREPEATS\n",
    "        oof += oof_ / NREPEATS\n",
    "        \n",
    "    return oof, predictions\n",
    "\n",
    "def run_seeds(train, test, feature_cols, target_cols, nfolds=NFOLDS, nseed=NSEEDS):\n",
    "    seed_list = range(nseed)\n",
    "    oof = np.zeros((len(train), len(target_cols)))\n",
    "    predictions = np.zeros((len(test), len(target_cols)))\n",
    "\n",
    "    time_start = time.time()\n",
    "\n",
    "    for seed in seed_list:\n",
    "\n",
    "        oof_, predictions_ = run_k_fold(train, test, feature_cols, target_cols, nfolds, seed)\n",
    "        oof += oof_ / nseed\n",
    "        predictions += predictions_ / nseed\n",
    "        print(f\"seed {seed}, elapsed time: {time.time() - time_start}\")\n",
    "\n",
    "    train[target_cols] = oof\n",
    "    test[target_cols] = predictions"
   ]
  },
  {
   "cell_type": "code",
   "execution_count": 49,
   "metadata": {
    "execution": {
     "iopub.execute_input": "2020-11-27T16:25:36.448748Z",
     "iopub.status.busy": "2020-11-27T16:25:36.031898Z",
     "iopub.status.idle": "2020-11-27T16:25:36.718475Z",
     "shell.execute_reply": "2020-11-27T16:25:36.717873Z"
    },
    "papermill": {
     "duration": 0.804842,
     "end_time": "2020-11-27T16:25:36.718599",
     "exception": false,
     "start_time": "2020-11-27T16:25:35.913757",
     "status": "completed"
    },
    "tags": []
   },
   "outputs": [],
   "source": [
    "train.to_pickle(f\"{INT_DIR}/{NB}_pre_train.pkl\")\n",
    "test.to_pickle(f\"{INT_DIR}/{NB}_pre_test.pkl\")"
   ]
  },
  {
   "cell_type": "code",
   "execution_count": 50,
   "metadata": {
    "execution": {
     "iopub.execute_input": "2020-11-27T16:25:36.945605Z",
     "iopub.status.busy": "2020-11-27T16:25:36.944055Z",
     "iopub.status.idle": "2020-11-27T19:21:57.136255Z",
     "shell.execute_reply": "2020-11-27T19:21:57.135169Z"
    },
    "papermill": {
     "duration": 10580.306856,
     "end_time": "2020-11-27T19:21:57.136401",
     "exception": false,
     "start_time": "2020-11-27T16:25:36.829545",
     "status": "completed"
    },
    "tags": []
   },
   "outputs": [
    {
     "name": "stderr",
     "output_type": "stream",
     "text": [
      "/opt/conda/lib/python3.7/site-packages/sklearn/utils/validation.py:70: FutureWarning: Pass shuffle=True, random_state=0 as keyword args. From version 0.25 passing these as positional arguments will result in an error\n",
      "  FutureWarning)\n"
     ]
    },
    {
     "name": "stdout",
     "output_type": "stream",
     "text": [
      "Device used : cuda\n"
     ]
    },
    {
     "name": "stderr",
     "output_type": "stream",
     "text": [
      "/opt/conda/lib/python3.7/site-packages/torch/nn/functional.py:1625: UserWarning: nn.functional.sigmoid is deprecated. Use torch.sigmoid instead.\n",
      "  warnings.warn(\"nn.functional.sigmoid is deprecated. Use torch.sigmoid instead.\")\n"
     ]
    },
    {
     "name": "stdout",
     "output_type": "stream",
     "text": [
      "epoch 0  | loss: 0.31162 | val_0_0.000: 0.031530000269412994| val_0_0.001: 0.034619998186826706|  0:00:02s\n",
      "epoch 10 | loss: 0.0214  | val_0_0.000: 0.0215000007301569| val_0_0.001: 0.024210000410676003|  0:00:23s\n",
      "epoch 20 | loss: 0.02027 | val_0_0.000: 0.01844000071287155| val_0_0.001: 0.021449999883770943|  0:00:46s\n",
      "epoch 30 | loss: 0.01985 | val_0_0.000: 0.01744999922811985| val_0_0.001: 0.02044999971985817|  0:01:06s\n",
      "epoch 40 | loss: 0.01967 | val_0_0.000: 0.016939999535679817| val_0_0.001: 0.020080000162124634|  0:01:28s\n",
      "epoch 50 | loss: 0.01941 | val_0_0.000: 0.01720000058412552| val_0_0.001: 0.020320000126957893|  0:01:50s\n",
      "epoch 60 | loss: 0.01932 | val_0_0.000: 0.01688000001013279| val_0_0.001: 0.02005000039935112|  0:02:10s\n",
      "epoch 70 | loss: 0.01921 | val_0_0.000: 0.01671000011265278| val_0_0.001: 0.01981000043451786|  0:02:31s\n",
      "epoch 80 | loss: 0.01928 | val_0_0.000: 0.01795000024139881| val_0_0.001: 0.021129999309778214|  0:02:53s\n",
      "epoch 90 | loss: 0.01921 | val_0_0.000: 0.016939999535679817| val_0_0.001: 0.020109999924898148|  0:03:14s\n",
      "epoch 100| loss: 0.01912 | val_0_0.000: 0.01689000055193901| val_0_0.001: 0.020010000094771385|  0:03:35s\n",
      "epoch 110| loss: 0.01909 | val_0_0.000: 0.01706000044941902| val_0_0.001: 0.020230000838637352|  0:03:57s\n",
      "epoch 120| loss: 0.01899 | val_0_0.000: 0.016930000856518745| val_0_0.001: 0.020059999078512192|  0:04:18s\n",
      "\n",
      "Early stopping occured at epoch 120 with best_epoch = 70 and best_val_0_0.001 = 0.01981000043451786\n",
      "Best weights from best epoch are automatically used!\n",
      "Successfully saved model at model/503_tabnet_SEED0_FOLD0.zip\n",
      "Device used : cuda\n",
      "Device used : cuda\n",
      "Device used : cuda\n",
      "epoch 0  | loss: 0.31272 | val_0_0.000: 0.03013000078499317| val_0_0.001: 0.0333000011742115|  0:00:02s\n",
      "epoch 10 | loss: 0.0212  | val_0_0.000: 0.018650000914931297| val_0_0.001: 0.021560000255703926|  0:00:23s\n",
      "epoch 20 | loss: 0.02032 | val_0_0.000: 0.01891000010073185| val_0_0.001: 0.021730000153183937|  0:00:44s\n",
      "epoch 30 | loss: 0.01988 | val_0_0.000: 0.017330000177025795| val_0_0.001: 0.0203000009059906|  0:01:05s\n",
      "epoch 40 | loss: 0.01954 | val_0_0.000: 0.016990000382065773| val_0_0.001: 0.02012000046670437|  0:01:26s\n",
      "epoch 50 | loss: 0.01947 | val_0_0.000: 0.01688000001013279| val_0_0.001: 0.020020000636577606|  0:01:47s\n",
      "epoch 60 | loss: 0.01933 | val_0_0.000: 0.016780000180006027| val_0_0.001: 0.01995999924838543|  0:02:07s\n",
      "epoch 70 | loss: 0.01927 | val_0_0.000: 0.017109999433159828| val_0_0.001: 0.020269999280571938|  0:02:29s\n",
      "epoch 80 | loss: 0.01925 | val_0_0.000: 0.01728999987244606| val_0_0.001: 0.02053000032901764|  0:02:49s\n",
      "epoch 90 | loss: 0.01925 | val_0_0.000: 0.016939999535679817| val_0_0.001: 0.020059999078512192|  0:03:10s\n",
      "epoch 100| loss: 0.01906 | val_0_0.000: 0.016680000349879265| val_0_0.001: 0.019869999960064888|  0:03:31s\n",
      "epoch 110| loss: 0.01902 | val_0_0.000: 0.016829999163746834| val_0_0.001: 0.019950000569224358|  0:03:52s\n",
      "\n",
      "Early stopping occured at epoch 117 with best_epoch = 67 and best_val_0_0.001 = 0.019780000671744347\n",
      "Best weights from best epoch are automatically used!\n",
      "Successfully saved model at model/503_tabnet_SEED0_FOLD1.zip\n",
      "Device used : cuda\n",
      "Device used : cuda\n",
      "Device used : cuda\n",
      "epoch 0  | loss: 0.31216 | val_0_0.000: 0.03207999840378761| val_0_0.001: 0.03511999920010567|  0:00:01s\n",
      "epoch 10 | loss: 0.02113 | val_0_0.000: 0.0195700004696846| val_0_0.001: 0.02247999981045723|  0:00:23s\n",
      "epoch 20 | loss: 0.02017 | val_0_0.000: 0.01827000081539154| val_0_0.001: 0.021309999749064445|  0:00:43s\n",
      "epoch 30 | loss: 0.01985 | val_0_0.000: 0.017340000718832016| val_0_0.001: 0.02047000080347061|  0:01:04s\n",
      "epoch 40 | loss: 0.0196  | val_0_0.000: 0.017260000109672546| val_0_0.001: 0.0203000009059906|  0:01:26s\n",
      "epoch 50 | loss: 0.01952 | val_0_0.000: 0.01720000058412552| val_0_0.001: 0.020360000431537628|  0:01:46s\n",
      "epoch 60 | loss: 0.01937 | val_0_0.000: 0.01728999987244606| val_0_0.001: 0.020500000566244125|  0:02:07s\n",
      "epoch 70 | loss: 0.01939 | val_0_0.000: 0.017139999195933342| val_0_0.001: 0.02027999982237816|  0:02:28s\n",
      "epoch 80 | loss: 0.0193  | val_0_0.000: 0.017069999128580093| val_0_0.001: 0.020230000838637352|  0:02:49s\n",
      "epoch 90 | loss: 0.01928 | val_0_0.000: 0.01711999997496605| val_0_0.001: 0.020250000059604645|  0:03:10s\n",
      "epoch 100| loss: 0.0193  | val_0_0.000: 0.017100000753998756| val_0_0.001: 0.020239999517798424|  0:03:31s\n",
      "epoch 110| loss: 0.0191  | val_0_0.000: 0.017090000212192535| val_0_0.001: 0.020239999517798424|  0:03:51s\n",
      "epoch 120| loss: 0.01901 | val_0_0.000: 0.017009999603033066| val_0_0.001: 0.020150000229477882|  0:04:13s\n",
      "epoch 130| loss: 0.01912 | val_0_0.000: 0.016899999231100082| val_0_0.001: 0.02012999914586544|  0:04:34s\n",
      "epoch 140| loss: 0.01896 | val_0_0.000: 0.017160000279545784| val_0_0.001: 0.0203000009059906|  0:04:55s\n",
      "epoch 150| loss: 0.01899 | val_0_0.000: 0.016979999840259552| val_0_0.001: 0.02012000046670437|  0:05:16s\n",
      "epoch 160| loss: 0.01891 | val_0_0.000: 0.018200000748038292| val_0_0.001: 0.021460000425577164|  0:05:37s\n",
      "epoch 170| loss: 0.01886 | val_0_0.000: 0.017030000686645508| val_0_0.001: 0.020190000534057617|  0:05:59s\n",
      "epoch 180| loss: 0.01908 | val_0_0.000: 0.017079999670386314| val_0_0.001: 0.020239999517798424|  0:06:22s\n",
      "epoch 190| loss: 0.01871 | val_0_0.000: 0.017020000144839287| val_0_0.001: 0.02013999968767166|  0:06:44s\n",
      "Stop training because you reached max_epochs = 200 with best_epoch = 188 and best_val_0_0.001 = 0.019869999960064888\n",
      "Best weights from best epoch are automatically used!\n",
      "Successfully saved model at model/503_tabnet_SEED0_FOLD2.zip\n",
      "Device used : cuda\n",
      "Device used : cuda\n",
      "Device used : cuda\n",
      "epoch 0  | loss: 0.31609 | val_0_0.000: 0.032249998301267624| val_0_0.001: 0.03539999946951866|  0:00:02s\n",
      "epoch 10 | loss: 0.02133 | val_0_0.000: 0.01906999945640564| val_0_0.001: 0.021870000287890434|  0:00:24s\n",
      "epoch 20 | loss: 0.02025 | val_0_0.000: 0.017410000786185265| val_0_0.001: 0.02047000080347061|  0:00:46s\n",
      "epoch 30 | loss: 0.01977 | val_0_0.000: 0.017309999093413353| val_0_0.001: 0.020330000668764114|  0:01:08s\n",
      "epoch 40 | loss: 0.01958 | val_0_0.000: 0.016950000077486038| val_0_0.001: 0.020099999383091927|  0:01:29s\n",
      "epoch 50 | loss: 0.01939 | val_0_0.000: 0.01689000055193901| val_0_0.001: 0.0200399998575449|  0:01:51s\n",
      "epoch 60 | loss: 0.01936 | val_0_0.000: 0.01689000055193901| val_0_0.001: 0.02012000046670437|  0:02:12s\n",
      "epoch 70 | loss: 0.01935 | val_0_0.000: 0.017170000821352005| val_0_0.001: 0.020239999517798424|  0:02:34s\n",
      "epoch 80 | loss: 0.0193  | val_0_0.000: 0.017009999603033066| val_0_0.001: 0.02013999968767166|  0:02:56s\n",
      "epoch 90 | loss: 0.01923 | val_0_0.000: 0.016829999163746834| val_0_0.001: 0.020020000636577606|  0:03:18s\n",
      "epoch 100| loss: 0.0191  | val_0_0.000: 0.016780000180006027| val_0_0.001: 0.01998000033199787|  0:03:39s\n",
      "epoch 110| loss: 0.01903 | val_0_0.000: 0.017090000212192535| val_0_0.001: 0.020260000601410866|  0:04:02s\n",
      "epoch 120| loss: 0.01898 | val_0_0.000: 0.016829999163746834| val_0_0.001: 0.019990000873804092|  0:04:23s\n",
      "epoch 130| loss: 0.01906 | val_0_0.000: 0.016820000484585762| val_0_0.001: 0.020069999620318413|  0:04:45s\n",
      "epoch 140| loss: 0.01908 | val_0_0.000: 0.01679999940097332| val_0_0.001: 0.020059999078512192|  0:05:07s\n",
      "epoch 150| loss: 0.01889 | val_0_0.000: 0.016750000417232513| val_0_0.001: 0.019910000264644623|  0:05:28s\n",
      "epoch 160| loss: 0.01878 | val_0_0.000: 0.016820000484585762| val_0_0.001: 0.02005000039935112|  0:05:50s\n",
      "epoch 170| loss: 0.01871 | val_0_0.000: 0.01737000048160553| val_0_0.001: 0.02054000087082386|  0:06:12s\n",
      "epoch 180| loss: 0.01871 | val_0_0.000: 0.017000000923871994| val_0_0.001: 0.020190000534057617|  0:06:33s\n",
      "epoch 190| loss: 0.01869 | val_0_0.000: 0.016860000789165497| val_0_0.001: 0.019999999552965164|  0:06:54s\n",
      "Stop training because you reached max_epochs = 200 with best_epoch = 151 and best_val_0_0.001 = 0.019819999113678932\n",
      "Best weights from best epoch are automatically used!\n",
      "Successfully saved model at model/503_tabnet_SEED0_FOLD3.zip\n",
      "Device used : cuda\n",
      "Device used : cuda\n",
      "Device used : cuda\n",
      "epoch 0  | loss: 0.31223 | val_0_0.000: 0.030959999188780785| val_0_0.001: 0.03401000052690506|  0:00:02s\n",
      "epoch 10 | loss: 0.02115 | val_0_0.000: 0.01899999938905239| val_0_0.001: 0.02181999944150448|  0:00:22s\n",
      "epoch 20 | loss: 0.02011 | val_0_0.000: 0.02181999944150448| val_0_0.001: 0.02459999918937683|  0:00:45s\n",
      "epoch 30 | loss: 0.01986 | val_0_0.000: 0.017249999567866325| val_0_0.001: 0.02037999965250492|  0:01:06s\n",
      "epoch 40 | loss: 0.01962 | val_0_0.000: 0.01688000001013279| val_0_0.001: 0.02012000046670437|  0:01:28s\n",
      "epoch 50 | loss: 0.01943 | val_0_0.000: 0.01721999980509281| val_0_0.001: 0.020390000194311142|  0:01:50s\n",
      "epoch 60 | loss: 0.01944 | val_0_0.000: 0.016850000247359276| val_0_0.001: 0.0200399998575449|  0:02:11s\n",
      "epoch 70 | loss: 0.01928 | val_0_0.000: 0.017000000923871994| val_0_0.001: 0.020150000229477882|  0:02:33s\n",
      "epoch 80 | loss: 0.01934 | val_0_0.000: 0.01689000055193901| val_0_0.001: 0.02005000039935112|  0:02:55s\n",
      "epoch 90 | loss: 0.01919 | val_0_0.000: 0.01680999994277954| val_0_0.001: 0.01995999924838543|  0:03:16s\n",
      "epoch 100| loss: 0.01914 | val_0_0.000: 0.01672999933362007| val_0_0.001: 0.019899999722838402|  0:03:37s\n",
      "epoch 110| loss: 0.01907 | val_0_0.000: 0.016790000721812248| val_0_0.001: 0.01996999979019165|  0:03:59s\n",
      "epoch 120| loss: 0.019   | val_0_0.000: 0.016979999840259552| val_0_0.001: 0.020169999450445175|  0:04:21s\n",
      "epoch 130| loss: 0.01903 | val_0_0.000: 0.016979999840259552| val_0_0.001: 0.02020999975502491|  0:04:43s\n",
      "epoch 140| loss: 0.01898 | val_0_0.000: 0.017009999603033066| val_0_0.001: 0.020169999450445175|  0:05:04s\n",
      "epoch 150| loss: 0.01887 | val_0_0.000: 0.017030000686645508| val_0_0.001: 0.020190000534057617|  0:05:25s\n",
      "epoch 160| loss: 0.0188  | val_0_0.000: 0.01744999922811985| val_0_0.001: 0.020600000396370888|  0:05:48s\n",
      "epoch 170| loss: 0.01887 | val_0_0.000: 0.017190000042319298| val_0_0.001: 0.020349999889731407|  0:06:08s\n",
      "epoch 180| loss: 0.01879 | val_0_0.000: 0.016909999772906303| val_0_0.001: 0.020109999924898148|  0:06:29s\n",
      "epoch 190| loss: 0.01883 | val_0_0.000: 0.016860000789165497| val_0_0.001: 0.020029999315738678|  0:06:51s\n",
      "Stop training because you reached max_epochs = 200 with best_epoch = 162 and best_val_0_0.001 = 0.019850000739097595\n",
      "Best weights from best epoch are automatically used!\n",
      "Successfully saved model at model/503_tabnet_SEED0_FOLD4.zip\n",
      "Device used : cuda\n",
      "Device used : cuda\n",
      "Device used : cuda\n",
      "epoch 0  | loss: 0.31607 | val_0_0.000: 0.031069999560713768| val_0_0.001: 0.03412000089883804|  0:00:01s\n",
      "epoch 10 | loss: 0.02125 | val_0_0.000: 0.01899000070989132| val_0_0.001: 0.02184000052511692|  0:00:22s\n",
      "epoch 20 | loss: 0.02017 | val_0_0.000: 0.017260000109672546| val_0_0.001: 0.02027999982237816|  0:00:44s\n",
      "epoch 30 | loss: 0.02014 | val_0_0.000: 0.017580000683665276| val_0_0.001: 0.02078999951481819|  0:01:04s\n",
      "epoch 40 | loss: 0.01978 | val_0_0.000: 0.016909999772906303| val_0_0.001: 0.020029999315738678|  0:01:26s\n",
      "epoch 50 | loss: 0.01944 | val_0_0.000: 0.016790000721812248| val_0_0.001: 0.019920000806450844|  0:01:47s\n",
      "epoch 60 | loss: 0.0194  | val_0_0.000: 0.01680999994277954| val_0_0.001: 0.01998000033199787|  0:02:07s\n",
      "epoch 70 | loss: 0.01929 | val_0_0.000: 0.016769999638199806| val_0_0.001: 0.019940000027418137|  0:02:29s\n",
      "epoch 80 | loss: 0.01936 | val_0_0.000: 0.016669999808073044| val_0_0.001: 0.019840000197291374|  0:02:50s\n",
      "epoch 90 | loss: 0.01927 | val_0_0.000: 0.01680999994277954| val_0_0.001: 0.019950000569224358|  0:03:10s\n",
      "epoch 100| loss: 0.01912 | val_0_0.000: 0.016750000417232513| val_0_0.001: 0.019840000197291374|  0:03:32s\n",
      "epoch 110| loss: 0.01921 | val_0_0.000: 0.01656999997794628| val_0_0.001: 0.019759999588131905|  0:03:53s\n",
      "epoch 120| loss: 0.0191  | val_0_0.000: 0.01671000011265278| val_0_0.001: 0.01988999918103218|  0:04:13s\n",
      "epoch 130| loss: 0.01913 | val_0_0.000: 0.016690000891685486| val_0_0.001: 0.019859999418258667|  0:04:35s\n",
      "epoch 140| loss: 0.01912 | val_0_0.000: 0.017139999195933342| val_0_0.001: 0.02019999921321869|  0:04:56s\n",
      "epoch 150| loss: 0.01903 | val_0_0.000: 0.016529999673366547| val_0_0.001: 0.019780000671744347|  0:05:16s\n",
      "epoch 160| loss: 0.01883 | val_0_0.000: 0.01664000004529953| val_0_0.001: 0.01981000043451786|  0:05:38s\n",
      "epoch 170| loss: 0.01881 | val_0_0.000: 0.016690000891685486| val_0_0.001: 0.019829999655485153|  0:05:58s\n",
      "epoch 180| loss: 0.01886 | val_0_0.000: 0.016580000519752502| val_0_0.001: 0.019740000367164612|  0:06:20s\n",
      "epoch 190| loss: 0.01883 | val_0_0.000: 0.01720999926328659| val_0_0.001: 0.020400000736117363|  0:06:43s\n",
      "Stop training because you reached max_epochs = 200 with best_epoch = 157 and best_val_0_0.001 = 0.01964999921619892\n",
      "Best weights from best epoch are automatically used!\n",
      "Successfully saved model at model/503_tabnet_SEED0_FOLD5.zip\n",
      "Device used : cuda\n",
      "Device used : cuda\n",
      "Device used : cuda\n",
      "epoch 0  | loss: 0.31445 | val_0_0.000: 0.03203999996185303| val_0_0.001: 0.035110000520944595|  0:00:02s\n",
      "epoch 10 | loss: 0.02133 | val_0_0.000: 0.018619999289512634| val_0_0.001: 0.021560000255703926|  0:00:24s\n",
      "epoch 20 | loss: 0.02039 | val_0_0.000: 0.01816999912261963| val_0_0.001: 0.021090000867843628|  0:00:47s\n",
      "epoch 30 | loss: 0.02002 | val_0_0.000: 0.01727999933063984| val_0_0.001: 0.020349999889731407|  0:01:08s\n",
      "epoch 40 | loss: 0.01985 | val_0_0.000: 0.01696000061929226| val_0_0.001: 0.020109999924898148|  0:01:30s\n",
      "epoch 50 | loss: 0.01964 | val_0_0.000: 0.016990000382065773| val_0_0.001: 0.020059999078512192|  0:01:51s\n",
      "epoch 60 | loss: 0.0196  | val_0_0.000: 0.01688000001013279| val_0_0.001: 0.020090000703930855|  0:02:12s\n",
      "epoch 70 | loss: 0.0195  | val_0_0.000: 0.017079999670386314| val_0_0.001: 0.02020999975502491|  0:02:34s\n",
      "epoch 80 | loss: 0.01934 | val_0_0.000: 0.016759999096393585| val_0_0.001: 0.019940000027418137|  0:02:55s\n",
      "epoch 90 | loss: 0.01938 | val_0_0.000: 0.016790000721812248| val_0_0.001: 0.01998000033199787|  0:03:17s\n",
      "epoch 100| loss: 0.01927 | val_0_0.000: 0.016780000180006027| val_0_0.001: 0.019929999485611916|  0:03:38s\n",
      "epoch 110| loss: 0.01915 | val_0_0.000: 0.016699999570846558| val_0_0.001: 0.019850000739097595|  0:04:00s\n",
      "epoch 120| loss: 0.0191  | val_0_0.000: 0.01686999946832657| val_0_0.001: 0.020029999315738678|  0:04:22s\n",
      "\n",
      "Early stopping occured at epoch 125 with best_epoch = 75 and best_val_0_0.001 = 0.019780000671744347\n",
      "Best weights from best epoch are automatically used!\n",
      "Successfully saved model at model/503_tabnet_SEED0_FOLD6.zip\n",
      "Device used : cuda\n",
      "Device used : cuda\n",
      "Device used : cuda\n",
      "epoch 0  | loss: 0.31326 | val_0_0.000: 0.031120000407099724| val_0_0.001: 0.03418999910354614|  0:00:02s\n",
      "epoch 10 | loss: 0.02134 | val_0_0.000: 0.019440000876784325| val_0_0.001: 0.02225000038743019|  0:00:23s\n",
      "epoch 20 | loss: 0.02018 | val_0_0.000: 0.020400000736117363| val_0_0.001: 0.023240000009536743|  0:00:44s\n",
      "epoch 30 | loss: 0.01981 | val_0_0.000: 0.017430000007152557| val_0_0.001: 0.020509999245405197|  0:01:06s\n",
      "epoch 40 | loss: 0.01956 | val_0_0.000: 0.01768999919295311| val_0_0.001: 0.0207700002938509|  0:01:27s\n",
      "epoch 50 | loss: 0.01941 | val_0_0.000: 0.017430000007152557| val_0_0.001: 0.020490000024437904|  0:01:48s\n",
      "epoch 60 | loss: 0.01933 | val_0_0.000: 0.017090000212192535| val_0_0.001: 0.020179999992251396|  0:02:10s\n",
      "epoch 70 | loss: 0.0194  | val_0_0.000: 0.016990000382065773| val_0_0.001: 0.02012000046670437|  0:02:30s\n",
      "epoch 80 | loss: 0.01937 | val_0_0.000: 0.016909999772906303| val_0_0.001: 0.020059999078512192|  0:02:52s\n",
      "epoch 90 | loss: 0.01935 | val_0_0.000: 0.017249999567866325| val_0_0.001: 0.0203699991106987|  0:03:13s\n",
      "epoch 100| loss: 0.01918 | val_0_0.000: 0.017000000923871994| val_0_0.001: 0.020169999450445175|  0:03:35s\n",
      "epoch 110| loss: 0.01907 | val_0_0.000: 0.016920000314712524| val_0_0.001: 0.020099999383091927|  0:03:56s\n",
      "epoch 120| loss: 0.01908 | val_0_0.000: 0.016899999231100082| val_0_0.001: 0.0200399998575449|  0:04:17s\n",
      "epoch 130| loss: 0.0191  | val_0_0.000: 0.016990000382065773| val_0_0.001: 0.020090000703930855|  0:04:38s\n",
      "epoch 140| loss: 0.01908 | val_0_0.000: 0.017020000144839287| val_0_0.001: 0.020160000771284103|  0:05:00s\n",
      "epoch 150| loss: 0.01895 | val_0_0.000: 0.017009999603033066| val_0_0.001: 0.020160000771284103|  0:05:21s\n",
      "epoch 160| loss: 0.01887 | val_0_0.000: 0.017079999670386314| val_0_0.001: 0.020230000838637352|  0:05:41s\n",
      "epoch 170| loss: 0.01883 | val_0_0.000: 0.016950000077486038| val_0_0.001: 0.02012999914586544|  0:06:03s\n",
      "epoch 180| loss: 0.01885 | val_0_0.000: 0.016899999231100082| val_0_0.001: 0.020090000703930855|  0:06:24s\n",
      "\n",
      "Early stopping occured at epoch 181 with best_epoch = 131 and best_val_0_0.001 = 0.019920000806450844\n",
      "Best weights from best epoch are automatically used!\n",
      "Successfully saved model at model/503_tabnet_SEED0_FOLD7.zip\n",
      "Device used : cuda\n",
      "Device used : cuda\n",
      "Device used : cuda\n",
      "epoch 0  | loss: 0.31493 | val_0_0.000: 0.03167999908328056| val_0_0.001: 0.03480000048875809|  0:00:02s\n",
      "epoch 10 | loss: 0.02125 | val_0_0.000: 0.01858000084757805| val_0_0.001: 0.021539999172091484|  0:00:23s\n",
      "epoch 20 | loss: 0.02042 | val_0_0.000: 0.019020000472664833| val_0_0.001: 0.021950000897049904|  0:00:44s\n",
      "epoch 30 | loss: 0.01992 | val_0_0.000: 0.017389999702572823| val_0_0.001: 0.02046000026166439|  0:01:05s\n",
      "epoch 40 | loss: 0.0196  | val_0_0.000: 0.017330000177025795| val_0_0.001: 0.020360000431537628|  0:01:27s\n",
      "epoch 50 | loss: 0.01954 | val_0_0.000: 0.017330000177025795| val_0_0.001: 0.020509999245405197|  0:01:48s\n",
      "epoch 60 | loss: 0.0194  | val_0_0.000: 0.017000000923871994| val_0_0.001: 0.02012999914586544|  0:02:09s\n",
      "epoch 70 | loss: 0.0194  | val_0_0.000: 0.01680999994277954| val_0_0.001: 0.02005000039935112|  0:02:30s\n",
      "epoch 80 | loss: 0.01922 | val_0_0.000: 0.01689000055193901| val_0_0.001: 0.020059999078512192|  0:02:51s\n",
      "epoch 90 | loss: 0.01938 | val_0_0.000: 0.016990000382065773| val_0_0.001: 0.020169999450445175|  0:03:12s\n",
      "epoch 100| loss: 0.01911 | val_0_0.000: 0.016950000077486038| val_0_0.001: 0.020010000094771385|  0:03:34s\n",
      "epoch 110| loss: 0.01909 | val_0_0.000: 0.016659999266266823| val_0_0.001: 0.019780000671744347|  0:03:56s\n",
      "epoch 120| loss: 0.01896 | val_0_0.000: 0.01686999946832657| val_0_0.001: 0.02012000046670437|  0:04:17s\n",
      "epoch 130| loss: 0.01909 | val_0_0.000: 0.016720000654459| val_0_0.001: 0.019929999485611916|  0:04:38s\n",
      "epoch 140| loss: 0.01898 | val_0_0.000: 0.016979999840259552| val_0_0.001: 0.020080000162124634|  0:05:00s\n",
      "epoch 150| loss: 0.01902 | val_0_0.000: 0.01688000001013279| val_0_0.001: 0.01998000033199787|  0:05:22s\n",
      "epoch 160| loss: 0.01884 | val_0_0.000: 0.016950000077486038| val_0_0.001: 0.02012999914586544|  0:05:43s\n",
      "\n",
      "Early stopping occured at epoch 160 with best_epoch = 110 and best_val_0_0.001 = 0.019780000671744347\n",
      "Best weights from best epoch are automatically used!\n",
      "Successfully saved model at model/503_tabnet_SEED0_FOLD8.zip\n",
      "Device used : cuda\n",
      "Device used : cuda\n",
      "Device used : cuda\n",
      "epoch 0  | loss: 0.31329 | val_0_0.000: 0.030880000442266464| val_0_0.001: 0.033890001475811005|  0:00:02s\n",
      "epoch 10 | loss: 0.02138 | val_0_0.000: 0.019419999793171883| val_0_0.001: 0.022299999371170998|  0:00:23s\n",
      "epoch 20 | loss: 0.02025 | val_0_0.000: 0.017890000715851784| val_0_0.001: 0.020880000665783882|  0:00:45s\n",
      "epoch 30 | loss: 0.01989 | val_0_0.000: 0.017419999465346336| val_0_0.001: 0.02053000032901764|  0:01:06s\n",
      "epoch 40 | loss: 0.01953 | val_0_0.000: 0.017659999430179596| val_0_0.001: 0.020600000396370888|  0:01:27s\n",
      "epoch 50 | loss: 0.01947 | val_0_0.000: 0.017230000346899033| val_0_0.001: 0.020409999415278435|  0:01:49s\n",
      "epoch 60 | loss: 0.0194  | val_0_0.000: 0.016950000077486038| val_0_0.001: 0.020109999924898148|  0:02:10s\n",
      "epoch 70 | loss: 0.01925 | val_0_0.000: 0.017139999195933342| val_0_0.001: 0.020260000601410866|  0:02:32s\n",
      "epoch 80 | loss: 0.01944 | val_0_0.000: 0.017020000144839287| val_0_0.001: 0.02019999921321869|  0:02:54s\n",
      "epoch 90 | loss: 0.0192  | val_0_0.000: 0.017069999128580093| val_0_0.001: 0.020250000059604645|  0:03:15s\n",
      "epoch 100| loss: 0.0192  | val_0_0.000: 0.016899999231100082| val_0_0.001: 0.020069999620318413|  0:03:37s\n",
      "epoch 110| loss: 0.01906 | val_0_0.000: 0.01703999936580658| val_0_0.001: 0.02012999914586544|  0:03:58s\n",
      "epoch 120| loss: 0.01906 | val_0_0.000: 0.016850000247359276| val_0_0.001: 0.020010000094771385|  0:04:20s\n",
      "epoch 130| loss: 0.01904 | val_0_0.000: 0.016939999535679817| val_0_0.001: 0.02012000046670437|  0:04:42s\n",
      "epoch 140| loss: 0.01893 | val_0_0.000: 0.017009999603033066| val_0_0.001: 0.02012000046670437|  0:05:03s\n",
      "epoch 150| loss: 0.01884 | val_0_0.000: 0.016739999875426292| val_0_0.001: 0.01995999924838543|  0:05:24s\n",
      "epoch 160| loss: 0.01881 | val_0_0.000: 0.01689000055193901| val_0_0.001: 0.02012999914586544|  0:05:47s\n",
      "epoch 170| loss: 0.01883 | val_0_0.000: 0.016909999772906303| val_0_0.001: 0.02005000039935112|  0:06:08s\n",
      "epoch 180| loss: 0.01874 | val_0_0.000: 0.016839999705553055| val_0_0.001: 0.020010000094771385|  0:06:29s\n",
      "epoch 190| loss: 0.01869 | val_0_0.000: 0.016930000856518745| val_0_0.001: 0.020069999620318413|  0:06:51s\n",
      "Stop training because you reached max_epochs = 200 with best_epoch = 172 and best_val_0_0.001 = 0.019859999418258667\n",
      "Best weights from best epoch are automatically used!\n",
      "Successfully saved model at model/503_tabnet_SEED0_FOLD9.zip\n",
      "Device used : cuda\n",
      "Device used : cuda\n",
      "seed 0, elapsed time: 3682.355008125305\n"
     ]
    },
    {
     "name": "stderr",
     "output_type": "stream",
     "text": [
      "/opt/conda/lib/python3.7/site-packages/sklearn/utils/validation.py:70: FutureWarning: Pass shuffle=True, random_state=1 as keyword args. From version 0.25 passing these as positional arguments will result in an error\n",
      "  FutureWarning)\n"
     ]
    },
    {
     "name": "stdout",
     "output_type": "stream",
     "text": [
      "Device used : cuda\n"
     ]
    },
    {
     "name": "stderr",
     "output_type": "stream",
     "text": [
      "/opt/conda/lib/python3.7/site-packages/torch/nn/functional.py:1625: UserWarning: nn.functional.sigmoid is deprecated. Use torch.sigmoid instead.\n",
      "  warnings.warn(\"nn.functional.sigmoid is deprecated. Use torch.sigmoid instead.\")\n"
     ]
    },
    {
     "name": "stdout",
     "output_type": "stream",
     "text": [
      "epoch 0  | loss: 0.33746 | val_0_0.000: 0.03554999828338623| val_0_0.001: 0.03830000013113022|  0:00:02s\n",
      "epoch 10 | loss: 0.02145 | val_0_0.000: 0.01909000054001808| val_0_0.001: 0.021980000659823418|  0:00:23s\n",
      "epoch 20 | loss: 0.02015 | val_0_0.000: 0.017810000106692314| val_0_0.001: 0.020729999989271164|  0:00:44s\n",
      "epoch 30 | loss: 0.01983 | val_0_0.000: 0.017149999737739563| val_0_0.001: 0.020260000601410866|  0:01:06s\n",
      "epoch 40 | loss: 0.01949 | val_0_0.000: 0.017100000753998756| val_0_0.001: 0.020179999992251396|  0:01:28s\n",
      "epoch 50 | loss: 0.01935 | val_0_0.000: 0.016860000789165497| val_0_0.001: 0.0200399998575449|  0:01:49s\n",
      "epoch 60 | loss: 0.01918 | val_0_0.000: 0.01672999933362007| val_0_0.001: 0.01996999979019165|  0:02:10s\n",
      "epoch 70 | loss: 0.01926 | val_0_0.000: 0.016790000721812248| val_0_0.001: 0.019950000569224358|  0:02:32s\n",
      "epoch 80 | loss: 0.01918 | val_0_0.000: 0.016759999096393585| val_0_0.001: 0.01996999979019165|  0:02:53s\n",
      "epoch 90 | loss: 0.01904 | val_0_0.000: 0.01680999994277954| val_0_0.001: 0.020020000636577606|  0:03:14s\n",
      "epoch 100| loss: 0.01909 | val_0_0.000: 0.017009999603033066| val_0_0.001: 0.020150000229477882|  0:03:36s\n",
      "epoch 110| loss: 0.01898 | val_0_0.000: 0.01679999940097332| val_0_0.001: 0.01995999924838543|  0:03:56s\n",
      "epoch 120| loss: 0.01895 | val_0_0.000: 0.016920000314712524| val_0_0.001: 0.020090000703930855|  0:04:19s\n",
      "epoch 130| loss: 0.01882 | val_0_0.000: 0.01696999929845333| val_0_0.001: 0.020169999450445175|  0:04:40s\n",
      "epoch 140| loss: 0.01895 | val_0_0.000: 0.016979999840259552| val_0_0.001: 0.020109999924898148|  0:05:01s\n",
      "epoch 150| loss: 0.01879 | val_0_0.000: 0.017000000923871994| val_0_0.001: 0.020059999078512192|  0:05:23s\n",
      "\n",
      "Early stopping occured at epoch 153 with best_epoch = 103 and best_val_0_0.001 = 0.019850000739097595\n",
      "Best weights from best epoch are automatically used!\n",
      "Successfully saved model at model/503_tabnet_SEED1_FOLD0.zip\n",
      "Device used : cuda\n",
      "Device used : cuda\n",
      "Device used : cuda\n",
      "epoch 0  | loss: 0.33273 | val_0_0.000: 0.03280000016093254| val_0_0.001: 0.0357000008225441|  0:00:02s\n",
      "epoch 10 | loss: 0.02133 | val_0_0.000: 0.018629999831318855| val_0_0.001: 0.021539999172091484|  0:00:23s\n",
      "epoch 20 | loss: 0.02055 | val_0_0.000: 0.017729999497532845| val_0_0.001: 0.020719999447464943|  0:00:44s\n",
      "epoch 30 | loss: 0.01985 | val_0_0.000: 0.01955999992787838| val_0_0.001: 0.022590000182390213|  0:01:05s\n",
      "epoch 40 | loss: 0.01964 | val_0_0.000: 0.01706000044941902| val_0_0.001: 0.020109999924898148|  0:01:26s\n",
      "epoch 50 | loss: 0.0196  | val_0_0.000: 0.017100000753998756| val_0_0.001: 0.020230000838637352|  0:01:48s\n",
      "epoch 60 | loss: 0.01942 | val_0_0.000: 0.01696999929845333| val_0_0.001: 0.0200399998575449|  0:02:08s\n",
      "epoch 70 | loss: 0.01933 | val_0_0.000: 0.016939999535679817| val_0_0.001: 0.02005000039935112|  0:02:29s\n",
      "epoch 80 | loss: 0.01928 | val_0_0.000: 0.016920000314712524| val_0_0.001: 0.020099999383091927|  0:02:51s\n",
      "epoch 90 | loss: 0.01928 | val_0_0.000: 0.016699999570846558| val_0_0.001: 0.019859999418258667|  0:03:10s\n",
      "epoch 100| loss: 0.01917 | val_0_0.000: 0.01672999933362007| val_0_0.001: 0.01988999918103218|  0:03:31s\n",
      "epoch 110| loss: 0.01922 | val_0_0.000: 0.016820000484585762| val_0_0.001: 0.01998000033199787|  0:03:52s\n",
      "epoch 120| loss: 0.01912 | val_0_0.000: 0.016739999875426292| val_0_0.001: 0.019859999418258667|  0:04:12s\n",
      "epoch 130| loss: 0.01909 | val_0_0.000: 0.01680999994277954| val_0_0.001: 0.01996999979019165|  0:04:32s\n",
      "epoch 140| loss: 0.01905 | val_0_0.000: 0.01679999940097332| val_0_0.001: 0.019940000027418137|  0:04:53s\n",
      "epoch 150| loss: 0.01907 | val_0_0.000: 0.016739999875426292| val_0_0.001: 0.019910000264644623|  0:05:13s\n",
      "epoch 160| loss: 0.01882 | val_0_0.000: 0.016950000077486038| val_0_0.001: 0.02012999914586544|  0:05:33s\n",
      "\n",
      "Early stopping occured at epoch 162 with best_epoch = 112 and best_val_0_0.001 = 0.019770000129938126\n",
      "Best weights from best epoch are automatically used!\n",
      "Successfully saved model at model/503_tabnet_SEED1_FOLD1.zip\n",
      "Device used : cuda\n",
      "Device used : cuda\n",
      "Device used : cuda\n",
      "epoch 0  | loss: 0.33622 | val_0_0.000: 0.037629999220371246| val_0_0.001: 0.04016999900341034|  0:00:01s\n",
      "epoch 10 | loss: 0.02147 | val_0_0.000: 0.01889999955892563| val_0_0.001: 0.021870000287890434|  0:00:22s\n",
      "epoch 20 | loss: 0.02017 | val_0_0.000: 0.01816999912261963| val_0_0.001: 0.021050000563263893|  0:00:42s\n",
      "epoch 30 | loss: 0.01977 | val_0_0.000: 0.017249999567866325| val_0_0.001: 0.0203699991106987|  0:01:03s\n",
      "epoch 40 | loss: 0.01957 | val_0_0.000: 0.01776999980211258| val_0_0.001: 0.02095000073313713|  0:01:24s\n",
      "epoch 50 | loss: 0.01945 | val_0_0.000: 0.017400000244379044| val_0_0.001: 0.020390000194311142|  0:01:44s\n",
      "epoch 60 | loss: 0.01934 | val_0_0.000: 0.01730000041425228| val_0_0.001: 0.020430000498890877|  0:02:05s\n",
      "epoch 70 | loss: 0.01925 | val_0_0.000: 0.017079999670386314| val_0_0.001: 0.020260000601410866|  0:02:25s\n",
      "epoch 80 | loss: 0.01913 | val_0_0.000: 0.01703999936580658| val_0_0.001: 0.02022000029683113|  0:02:45s\n",
      "epoch 90 | loss: 0.01915 | val_0_0.000: 0.01759999990463257| val_0_0.001: 0.020679999142885208|  0:03:07s\n",
      "epoch 100| loss: 0.01908 | val_0_0.000: 0.016930000856518745| val_0_0.001: 0.020029999315738678|  0:03:27s\n",
      "epoch 110| loss: 0.01902 | val_0_0.000: 0.017020000144839287| val_0_0.001: 0.020160000771284103|  0:03:47s\n",
      "epoch 120| loss: 0.01894 | val_0_0.000: 0.016950000077486038| val_0_0.001: 0.020150000229477882|  0:04:08s\n",
      "epoch 130| loss: 0.01889 | val_0_0.000: 0.017820000648498535| val_0_0.001: 0.021050000563263893|  0:04:28s\n",
      "epoch 140| loss: 0.0188  | val_0_0.000: 0.016850000247359276| val_0_0.001: 0.020059999078512192|  0:04:48s\n",
      "epoch 150| loss: 0.01878 | val_0_0.000: 0.016860000789165497| val_0_0.001: 0.019999999552965164|  0:05:09s\n",
      "\n",
      "Early stopping occured at epoch 151 with best_epoch = 101 and best_val_0_0.001 = 0.01988999918103218\n",
      "Best weights from best epoch are automatically used!\n",
      "Successfully saved model at model/503_tabnet_SEED1_FOLD2.zip\n",
      "Device used : cuda\n",
      "Device used : cuda\n",
      "Device used : cuda\n",
      "epoch 0  | loss: 0.33606 | val_0_0.000: 0.03660999983549118| val_0_0.001: 0.039250001311302185|  0:00:02s\n",
      "epoch 10 | loss: 0.02129 | val_0_0.000: 0.019099999219179153| val_0_0.001: 0.022019999101758003|  0:00:22s\n",
      "epoch 20 | loss: 0.02032 | val_0_0.000: 0.01802000030875206| val_0_0.001: 0.02101000025868416|  0:00:42s\n",
      "epoch 30 | loss: 0.0201  | val_0_0.000: 0.018239999189972878| val_0_0.001: 0.02118000015616417|  0:01:03s\n",
      "epoch 40 | loss: 0.01979 | val_0_0.000: 0.017430000007152557| val_0_0.001: 0.02047000080347061|  0:01:24s\n",
      "epoch 50 | loss: 0.01957 | val_0_0.000: 0.017160000279545784| val_0_0.001: 0.020309999585151672|  0:01:45s\n",
      "epoch 60 | loss: 0.01942 | val_0_0.000: 0.017149999737739563| val_0_0.001: 0.020269999280571938|  0:02:06s\n",
      "epoch 70 | loss: 0.01933 | val_0_0.000: 0.017249999567866325| val_0_0.001: 0.020360000431537628|  0:02:27s\n",
      "epoch 80 | loss: 0.01925 | val_0_0.000: 0.017160000279545784| val_0_0.001: 0.020250000059604645|  0:02:48s\n",
      "epoch 90 | loss: 0.01926 | val_0_0.000: 0.017079999670386314| val_0_0.001: 0.020230000838637352|  0:03:09s\n",
      "epoch 100| loss: 0.01903 | val_0_0.000: 0.016990000382065773| val_0_0.001: 0.020090000703930855|  0:03:29s\n",
      "epoch 110| loss: 0.01906 | val_0_0.000: 0.016909999772906303| val_0_0.001: 0.020059999078512192|  0:03:50s\n",
      "epoch 120| loss: 0.01909 | val_0_0.000: 0.017090000212192535| val_0_0.001: 0.02020999975502491|  0:04:11s\n",
      "\n",
      "Early stopping occured at epoch 121 with best_epoch = 71 and best_val_0_0.001 = 0.0200399998575449\n",
      "Best weights from best epoch are automatically used!\n",
      "Successfully saved model at model/503_tabnet_SEED1_FOLD3.zip\n",
      "Device used : cuda\n",
      "Device used : cuda\n",
      "Device used : cuda\n",
      "epoch 0  | loss: 0.33431 | val_0_0.000: 0.03412000089883804| val_0_0.001: 0.03686999902129173|  0:00:01s\n",
      "epoch 10 | loss: 0.02149 | val_0_0.000: 0.018729999661445618| val_0_0.001: 0.02166000008583069|  0:00:22s\n",
      "epoch 20 | loss: 0.02028 | val_0_0.000: 0.02175999991595745| val_0_0.001: 0.024660000577569008|  0:00:43s\n",
      "epoch 30 | loss: 0.01994 | val_0_0.000: 0.017270000651478767| val_0_0.001: 0.020330000668764114|  0:01:04s\n",
      "epoch 40 | loss: 0.01962 | val_0_0.000: 0.01706000044941902| val_0_0.001: 0.02019999921321869|  0:01:24s\n",
      "epoch 50 | loss: 0.01932 | val_0_0.000: 0.017079999670386314| val_0_0.001: 0.02013999968767166|  0:01:45s\n",
      "epoch 60 | loss: 0.01934 | val_0_0.000: 0.016899999231100082| val_0_0.001: 0.0200399998575449|  0:02:06s\n",
      "epoch 70 | loss: 0.01927 | val_0_0.000: 0.016899999231100082| val_0_0.001: 0.0200399998575449|  0:02:26s\n",
      "epoch 80 | loss: 0.01922 | val_0_0.000: 0.017030000686645508| val_0_0.001: 0.02012999914586544|  0:02:49s\n",
      "epoch 90 | loss: 0.01921 | val_0_0.000: 0.017000000923871994| val_0_0.001: 0.02012000046670437|  0:03:11s\n",
      "epoch 100| loss: 0.01902 | val_0_0.000: 0.016899999231100082| val_0_0.001: 0.020059999078512192|  0:03:34s\n",
      "epoch 110| loss: 0.01895 | val_0_0.000: 0.016790000721812248| val_0_0.001: 0.019990000873804092|  0:03:56s\n",
      "epoch 120| loss: 0.0189  | val_0_0.000: 0.01696000061929226| val_0_0.001: 0.02012000046670437|  0:04:18s\n",
      "epoch 130| loss: 0.01899 | val_0_0.000: 0.016839999705553055| val_0_0.001: 0.019950000569224358|  0:04:40s\n",
      "epoch 140| loss: 0.01888 | val_0_0.000: 0.01686999946832657| val_0_0.001: 0.019990000873804092|  0:05:00s\n",
      "epoch 150| loss: 0.01877 | val_0_0.000: 0.016839999705553055| val_0_0.001: 0.02005000039935112|  0:05:21s\n",
      "epoch 160| loss: 0.01872 | val_0_0.000: 0.016829999163746834| val_0_0.001: 0.020029999315738678|  0:05:43s\n",
      "epoch 170| loss: 0.01866 | val_0_0.000: 0.016839999705553055| val_0_0.001: 0.0200399998575449|  0:06:04s\n",
      "epoch 180| loss: 0.01869 | val_0_0.000: 0.017230000346899033| val_0_0.001: 0.020430000498890877|  0:06:24s\n",
      "epoch 190| loss: 0.01867 | val_0_0.000: 0.016839999705553055| val_0_0.001: 0.0200399998575449|  0:06:46s\n",
      "\n",
      "Early stopping occured at epoch 194 with best_epoch = 144 and best_val_0_0.001 = 0.01988000050187111\n",
      "Best weights from best epoch are automatically used!\n",
      "Successfully saved model at model/503_tabnet_SEED1_FOLD4.zip\n",
      "Device used : cuda\n",
      "Device used : cuda\n",
      "Device used : cuda\n",
      "epoch 0  | loss: 0.3385  | val_0_0.000: 0.03771999850869179| val_0_0.001: 0.04019999876618385|  0:00:02s\n",
      "epoch 10 | loss: 0.02153 | val_0_0.000: 0.01874000020325184| val_0_0.001: 0.021700000390410423|  0:00:23s\n",
      "epoch 20 | loss: 0.02032 | val_0_0.000: 0.01810000091791153| val_0_0.001: 0.021080000326037407|  0:00:44s\n",
      "epoch 30 | loss: 0.01977 | val_0_0.000: 0.01730000041425228| val_0_0.001: 0.020330000668764114|  0:01:05s\n",
      "epoch 40 | loss: 0.01947 | val_0_0.000: 0.017340000718832016| val_0_0.001: 0.020390000194311142|  0:01:25s\n",
      "epoch 50 | loss: 0.01945 | val_0_0.000: 0.017090000212192535| val_0_0.001: 0.02029000036418438|  0:01:47s\n",
      "epoch 60 | loss: 0.0193  | val_0_0.000: 0.017160000279545784| val_0_0.001: 0.020330000668764114|  0:02:08s\n",
      "epoch 70 | loss: 0.0192  | val_0_0.000: 0.016839999705553055| val_0_0.001: 0.020029999315738678|  0:02:28s\n",
      "epoch 80 | loss: 0.01913 | val_0_0.000: 0.016769999638199806| val_0_0.001: 0.01988999918103218|  0:02:49s\n",
      "epoch 90 | loss: 0.01903 | val_0_0.000: 0.016750000417232513| val_0_0.001: 0.01988000050187111|  0:03:10s\n",
      "epoch 100| loss: 0.01909 | val_0_0.000: 0.016829999163746834| val_0_0.001: 0.020029999315738678|  0:03:31s\n",
      "epoch 110| loss: 0.01891 | val_0_0.000: 0.01662999950349331| val_0_0.001: 0.01979999989271164|  0:03:52s\n",
      "epoch 120| loss: 0.01885 | val_0_0.000: 0.016780000180006027| val_0_0.001: 0.019929999485611916|  0:04:12s\n",
      "epoch 130| loss: 0.01889 | val_0_0.000: 0.016720000654459| val_0_0.001: 0.01988999918103218|  0:04:34s\n",
      "epoch 140| loss: 0.01893 | val_0_0.000: 0.016750000417232513| val_0_0.001: 0.019910000264644623|  0:04:55s\n",
      "epoch 150| loss: 0.01886 | val_0_0.000: 0.016580000519752502| val_0_0.001: 0.019780000671744347|  0:05:16s\n",
      "epoch 160| loss: 0.01874 | val_0_0.000: 0.016529999673366547| val_0_0.001: 0.01979999989271164|  0:05:37s\n",
      "epoch 170| loss: 0.0187  | val_0_0.000: 0.01665000058710575| val_0_0.001: 0.01979999989271164|  0:05:58s\n",
      "epoch 180| loss: 0.01864 | val_0_0.000: 0.01655999943614006| val_0_0.001: 0.019819999113678932|  0:06:18s\n",
      "epoch 190| loss: 0.01861 | val_0_0.000: 0.01665000058710575| val_0_0.001: 0.019940000027418137|  0:06:40s\n",
      "Stop training because you reached max_epochs = 200 with best_epoch = 194 and best_val_0_0.001 = 0.019710000604391098\n",
      "Best weights from best epoch are automatically used!\n",
      "Successfully saved model at model/503_tabnet_SEED1_FOLD5.zip\n",
      "Device used : cuda\n",
      "Device used : cuda\n",
      "Device used : cuda\n",
      "epoch 0  | loss: 0.33516 | val_0_0.000: 0.035190001130104065| val_0_0.001: 0.03787999972701073|  0:00:01s\n",
      "epoch 10 | loss: 0.02139 | val_0_0.000: 0.019869999960064888| val_0_0.001: 0.022779999300837517|  0:00:22s\n",
      "epoch 20 | loss: 0.02024 | val_0_0.000: 0.017340000718832016| val_0_0.001: 0.02046000026166439|  0:00:44s\n",
      "epoch 30 | loss: 0.01991 | val_0_0.000: 0.017270000651478767| val_0_0.001: 0.020390000194311142|  0:01:04s\n",
      "epoch 40 | loss: 0.01958 | val_0_0.000: 0.017090000212192535| val_0_0.001: 0.02020999975502491|  0:01:25s\n",
      "epoch 50 | loss: 0.01936 | val_0_0.000: 0.017069999128580093| val_0_0.001: 0.020150000229477882|  0:01:47s\n",
      "epoch 60 | loss: 0.0193  | val_0_0.000: 0.016759999096393585| val_0_0.001: 0.02005000039935112|  0:02:07s\n",
      "epoch 70 | loss: 0.01916 | val_0_0.000: 0.01696999929845333| val_0_0.001: 0.02012000046670437|  0:02:28s\n",
      "epoch 80 | loss: 0.01919 | val_0_0.000: 0.016909999772906303| val_0_0.001: 0.0200399998575449|  0:02:50s\n",
      "epoch 90 | loss: 0.01928 | val_0_0.000: 0.016860000789165497| val_0_0.001: 0.019950000569224358|  0:03:10s\n",
      "epoch 100| loss: 0.01906 | val_0_0.000: 0.01860000006854534| val_0_0.001: 0.021719999611377716|  0:03:30s\n",
      "epoch 110| loss: 0.01901 | val_0_0.000: 0.01671000011265278| val_0_0.001: 0.019910000264644623|  0:03:52s\n",
      "epoch 120| loss: 0.01897 | val_0_0.000: 0.016850000247359276| val_0_0.001: 0.01998000033199787|  0:04:12s\n",
      "epoch 130| loss: 0.01891 | val_0_0.000: 0.016899999231100082| val_0_0.001: 0.020069999620318413|  0:04:33s\n",
      "epoch 140| loss: 0.01891 | val_0_0.000: 0.01662999950349331| val_0_0.001: 0.019899999722838402|  0:04:54s\n",
      "epoch 150| loss: 0.01884 | val_0_0.000: 0.016769999638199806| val_0_0.001: 0.01988000050187111|  0:05:15s\n",
      "epoch 160| loss: 0.01869 | val_0_0.000: 0.016790000721812248| val_0_0.001: 0.01998000033199787|  0:05:37s\n",
      "epoch 170| loss: 0.01875 | val_0_0.000: 0.016780000180006027| val_0_0.001: 0.020010000094771385|  0:05:57s\n",
      "\n",
      "Early stopping occured at epoch 171 with best_epoch = 121 and best_val_0_0.001 = 0.019829999655485153\n",
      "Best weights from best epoch are automatically used!\n",
      "Successfully saved model at model/503_tabnet_SEED1_FOLD6.zip\n",
      "Device used : cuda\n",
      "Device used : cuda\n",
      "Device used : cuda\n",
      "epoch 0  | loss: 0.33522 | val_0_0.000: 0.03488999977707863| val_0_0.001: 0.03757999837398529|  0:00:01s\n",
      "epoch 10 | loss: 0.02141 | val_0_0.000: 0.020560000091791153| val_0_0.001: 0.02346000075340271|  0:00:22s\n",
      "epoch 20 | loss: 0.02029 | val_0_0.000: 0.01868000067770481| val_0_0.001: 0.021619999781250954|  0:00:45s\n",
      "epoch 30 | loss: 0.01991 | val_0_0.000: 0.019449999555945396| val_0_0.001: 0.022439999505877495|  0:01:07s\n",
      "epoch 40 | loss: 0.01976 | val_0_0.000: 0.0177800003439188| val_0_0.001: 0.02068999968469143|  0:01:28s\n",
      "epoch 50 | loss: 0.01947 | val_0_0.000: 0.017090000212192535| val_0_0.001: 0.020309999585151672|  0:01:50s\n",
      "epoch 60 | loss: 0.0193  | val_0_0.000: 0.017030000686645508| val_0_0.001: 0.02019999921321869|  0:02:10s\n",
      "epoch 70 | loss: 0.01943 | val_0_0.000: 0.017470000311732292| val_0_0.001: 0.02060999907553196|  0:02:31s\n",
      "epoch 80 | loss: 0.01929 | val_0_0.000: 0.017090000212192535| val_0_0.001: 0.020260000601410866|  0:02:52s\n",
      "epoch 90 | loss: 0.01926 | val_0_0.000: 0.017000000923871994| val_0_0.001: 0.02013999968767166|  0:03:13s\n",
      "epoch 100| loss: 0.01926 | val_0_0.000: 0.01696999929845333| val_0_0.001: 0.020150000229477882|  0:03:34s\n",
      "epoch 110| loss: 0.01913 | val_0_0.000: 0.016979999840259552| val_0_0.001: 0.020099999383091927|  0:03:54s\n",
      "epoch 120| loss: 0.01897 | val_0_0.000: 0.016899999231100082| val_0_0.001: 0.020080000162124634|  0:04:15s\n",
      "epoch 130| loss: 0.01895 | val_0_0.000: 0.016699999570846558| val_0_0.001: 0.01988000050187111|  0:04:36s\n",
      "epoch 140| loss: 0.01892 | val_0_0.000: 0.016899999231100082| val_0_0.001: 0.020099999383091927|  0:04:57s\n",
      "epoch 150| loss: 0.01886 | val_0_0.000: 0.01696999929845333| val_0_0.001: 0.020160000771284103|  0:05:17s\n",
      "epoch 160| loss: 0.01879 | val_0_0.000: 0.017400000244379044| val_0_0.001: 0.020589999854564667|  0:05:38s\n",
      "epoch 170| loss: 0.01879 | val_0_0.000: 0.016930000856518745| val_0_0.001: 0.020090000703930855|  0:05:59s\n",
      "epoch 180| loss: 0.01873 | val_0_0.000: 0.016909999772906303| val_0_0.001: 0.020069999620318413|  0:06:19s\n",
      "\n",
      "Early stopping occured at epoch 180 with best_epoch = 130 and best_val_0_0.001 = 0.01988000050187111\n",
      "Best weights from best epoch are automatically used!\n",
      "Successfully saved model at model/503_tabnet_SEED1_FOLD7.zip\n",
      "Device used : cuda\n",
      "Device used : cuda\n",
      "Device used : cuda\n",
      "epoch 0  | loss: 0.33371 | val_0_0.000: 0.03589000180363655| val_0_0.001: 0.03852999955415726|  0:00:01s\n",
      "epoch 10 | loss: 0.02148 | val_0_0.000: 0.018939999863505363| val_0_0.001: 0.021870000287890434|  0:00:23s\n",
      "epoch 20 | loss: 0.02038 | val_0_0.000: 0.01962999999523163| val_0_0.001: 0.0225600004196167|  0:00:43s\n",
      "epoch 30 | loss: 0.0199  | val_0_0.000: 0.017580000683665276| val_0_0.001: 0.02054000087082386|  0:01:04s\n",
      "epoch 40 | loss: 0.01957 | val_0_0.000: 0.01713000051677227| val_0_0.001: 0.020179999992251396|  0:01:25s\n",
      "epoch 50 | loss: 0.01949 | val_0_0.000: 0.01688000001013279| val_0_0.001: 0.01998000033199787|  0:01:46s\n",
      "epoch 60 | loss: 0.01941 | val_0_0.000: 0.017319999635219574| val_0_0.001: 0.02047000080347061|  0:02:07s\n",
      "epoch 70 | loss: 0.01921 | val_0_0.000: 0.017020000144839287| val_0_0.001: 0.020230000838637352|  0:02:28s\n",
      "epoch 80 | loss: 0.0192  | val_0_0.000: 0.016839999705553055| val_0_0.001: 0.01998000033199787|  0:02:49s\n",
      "epoch 90 | loss: 0.01918 | val_0_0.000: 0.016850000247359276| val_0_0.001: 0.01998000033199787|  0:03:10s\n",
      "epoch 100| loss: 0.01913 | val_0_0.000: 0.01671000011265278| val_0_0.001: 0.01988000050187111|  0:03:31s\n",
      "epoch 110| loss: 0.01899 | val_0_0.000: 0.016680000349879265| val_0_0.001: 0.019819999113678932|  0:03:52s\n",
      "epoch 120| loss: 0.019   | val_0_0.000: 0.016669999808073044| val_0_0.001: 0.019829999655485153|  0:04:14s\n",
      "epoch 130| loss: 0.019   | val_0_0.000: 0.016790000721812248| val_0_0.001: 0.019950000569224358|  0:04:34s\n",
      "epoch 140| loss: 0.01888 | val_0_0.000: 0.016820000484585762| val_0_0.001: 0.019999999552965164|  0:04:54s\n",
      "epoch 150| loss: 0.01884 | val_0_0.000: 0.016820000484585762| val_0_0.001: 0.019929999485611916|  0:05:14s\n",
      "epoch 160| loss: 0.01886 | val_0_0.000: 0.017030000686645508| val_0_0.001: 0.02019999921321869|  0:05:34s\n",
      "epoch 170| loss: 0.0188  | val_0_0.000: 0.016750000417232513| val_0_0.001: 0.019859999418258667|  0:05:54s\n",
      "epoch 180| loss: 0.01868 | val_0_0.000: 0.016720000654459| val_0_0.001: 0.019910000264644623|  0:06:15s\n",
      "epoch 190| loss: 0.01871 | val_0_0.000: 0.01679999940097332| val_0_0.001: 0.019999999552965164|  0:06:35s\n",
      "Stop training because you reached max_epochs = 200 with best_epoch = 156 and best_val_0_0.001 = 0.01971999928355217\n",
      "Best weights from best epoch are automatically used!\n",
      "Successfully saved model at model/503_tabnet_SEED1_FOLD8.zip\n",
      "Device used : cuda\n",
      "Device used : cuda\n",
      "Device used : cuda\n",
      "epoch 0  | loss: 0.33586 | val_0_0.000: 0.03531999886035919| val_0_0.001: 0.03799999877810478|  0:00:01s\n",
      "epoch 10 | loss: 0.02139 | val_0_0.000: 0.01875999942421913| val_0_0.001: 0.021719999611377716|  0:00:21s\n",
      "epoch 20 | loss: 0.02034 | val_0_0.000: 0.018869999796152115| val_0_0.001: 0.021779999136924744|  0:00:41s\n",
      "epoch 30 | loss: 0.02002 | val_0_0.000: 0.01769999973475933| val_0_0.001: 0.020670000463724136|  0:01:00s\n",
      "epoch 40 | loss: 0.01975 | val_0_0.000: 0.017309999093413353| val_0_0.001: 0.020409999415278435|  0:01:21s\n",
      "epoch 50 | loss: 0.01962 | val_0_0.000: 0.016979999840259552| val_0_0.001: 0.02022000029683113|  0:01:40s\n",
      "epoch 60 | loss: 0.01953 | val_0_0.000: 0.017090000212192535| val_0_0.001: 0.020239999517798424|  0:01:59s\n",
      "epoch 70 | loss: 0.01933 | val_0_0.000: 0.01696000061929226| val_0_0.001: 0.02012000046670437|  0:02:20s\n",
      "epoch 80 | loss: 0.01934 | val_0_0.000: 0.016930000856518745| val_0_0.001: 0.020099999383091927|  0:02:40s\n",
      "epoch 90 | loss: 0.01931 | val_0_0.000: 0.01713000051677227| val_0_0.001: 0.020260000601410866|  0:02:59s\n",
      "epoch 100| loss: 0.01929 | val_0_0.000: 0.0170499999076128| val_0_0.001: 0.020190000534057617|  0:03:20s\n",
      "epoch 110| loss: 0.01942 | val_0_0.000: 0.016930000856518745| val_0_0.001: 0.02012000046670437|  0:03:39s\n",
      "epoch 120| loss: 0.01912 | val_0_0.000: 0.01703999936580658| val_0_0.001: 0.02012999914586544|  0:03:59s\n",
      "epoch 130| loss: 0.01915 | val_0_0.000: 0.017069999128580093| val_0_0.001: 0.02019999921321869|  0:04:19s\n",
      "epoch 140| loss: 0.01914 | val_0_0.000: 0.01706000044941902| val_0_0.001: 0.020160000771284103|  0:04:39s\n",
      "epoch 150| loss: 0.01907 | val_0_0.000: 0.016829999163746834| val_0_0.001: 0.01995999924838543|  0:04:59s\n",
      "epoch 160| loss: 0.01896 | val_0_0.000: 0.01688000001013279| val_0_0.001: 0.02005000039935112|  0:05:20s\n",
      "epoch 170| loss: 0.0189  | val_0_0.000: 0.017069999128580093| val_0_0.001: 0.020269999280571938|  0:05:39s\n",
      "epoch 180| loss: 0.01883 | val_0_0.000: 0.017349999397993088| val_0_0.001: 0.020509999245405197|  0:05:59s\n",
      "epoch 190| loss: 0.01877 | val_0_0.000: 0.016759999096393585| val_0_0.001: 0.01995999924838543|  0:06:20s\n",
      "Stop training because you reached max_epochs = 200 with best_epoch = 161 and best_val_0_0.001 = 0.019940000027418137\n",
      "Best weights from best epoch are automatically used!\n",
      "Successfully saved model at model/503_tabnet_SEED1_FOLD9.zip\n",
      "Device used : cuda\n",
      "Device used : cuda\n",
      "seed 1, elapsed time: 7328.107635736465\n"
     ]
    },
    {
     "name": "stderr",
     "output_type": "stream",
     "text": [
      "/opt/conda/lib/python3.7/site-packages/sklearn/utils/validation.py:70: FutureWarning: Pass shuffle=True, random_state=2 as keyword args. From version 0.25 passing these as positional arguments will result in an error\n",
      "  FutureWarning)\n"
     ]
    },
    {
     "name": "stdout",
     "output_type": "stream",
     "text": [
      "Device used : cuda\n"
     ]
    },
    {
     "name": "stderr",
     "output_type": "stream",
     "text": [
      "/opt/conda/lib/python3.7/site-packages/torch/nn/functional.py:1625: UserWarning: nn.functional.sigmoid is deprecated. Use torch.sigmoid instead.\n",
      "  warnings.warn(\"nn.functional.sigmoid is deprecated. Use torch.sigmoid instead.\")\n"
     ]
    },
    {
     "name": "stdout",
     "output_type": "stream",
     "text": [
      "epoch 0  | loss: 0.32476 | val_0_0.000: 0.03412000089883804| val_0_0.001: 0.03674999997019768|  0:00:02s\n",
      "epoch 10 | loss: 0.02133 | val_0_0.000: 0.01858000084757805| val_0_0.001: 0.0215000007301569|  0:00:21s\n",
      "epoch 20 | loss: 0.02029 | val_0_0.000: 0.01759999990463257| val_0_0.001: 0.020670000463724136|  0:00:42s\n",
      "epoch 30 | loss: 0.01991 | val_0_0.000: 0.01720999926328659| val_0_0.001: 0.02027999982237816|  0:01:01s\n",
      "epoch 40 | loss: 0.01961 | val_0_0.000: 0.016979999840259552| val_0_0.001: 0.0200399998575449|  0:01:21s\n",
      "epoch 50 | loss: 0.01944 | val_0_0.000: 0.01696999929845333| val_0_0.001: 0.020099999383091927|  0:01:40s\n",
      "epoch 60 | loss: 0.01932 | val_0_0.000: 0.016839999705553055| val_0_0.001: 0.019940000027418137|  0:02:00s\n",
      "epoch 70 | loss: 0.01936 | val_0_0.000: 0.016769999638199806| val_0_0.001: 0.019950000569224358|  0:02:20s\n",
      "epoch 80 | loss: 0.0192  | val_0_0.000: 0.01696999929845333| val_0_0.001: 0.020059999078512192|  0:02:40s\n",
      "epoch 90 | loss: 0.01921 | val_0_0.000: 0.016990000382065773| val_0_0.001: 0.02020999975502491|  0:03:00s\n",
      "epoch 100| loss: 0.01915 | val_0_0.000: 0.01679999940097332| val_0_0.001: 0.01996999979019165|  0:03:19s\n",
      "epoch 110| loss: 0.01897 | val_0_0.000: 0.016909999772906303| val_0_0.001: 0.0200399998575449|  0:03:39s\n",
      "epoch 120| loss: 0.01902 | val_0_0.000: 0.017149999737739563| val_0_0.001: 0.020339999347925186|  0:03:59s\n",
      "epoch 130| loss: 0.01899 | val_0_0.000: 0.016680000349879265| val_0_0.001: 0.019869999960064888|  0:04:18s\n",
      "epoch 140| loss: 0.0189  | val_0_0.000: 0.016839999705553055| val_0_0.001: 0.019990000873804092|  0:04:40s\n",
      "epoch 150| loss: 0.01891 | val_0_0.000: 0.016759999096393585| val_0_0.001: 0.019950000569224358|  0:05:00s\n",
      "epoch 160| loss: 0.01878 | val_0_0.000: 0.016820000484585762| val_0_0.001: 0.01995999924838543|  0:05:19s\n",
      "epoch 170| loss: 0.0187  | val_0_0.000: 0.016720000654459| val_0_0.001: 0.01988999918103218|  0:05:40s\n",
      "epoch 180| loss: 0.01878 | val_0_0.000: 0.01672999933362007| val_0_0.001: 0.019929999485611916|  0:06:00s\n",
      "epoch 190| loss: 0.01869 | val_0_0.000: 0.017330000177025795| val_0_0.001: 0.02044999971985817|  0:06:19s\n",
      "Stop training because you reached max_epochs = 200 with best_epoch = 162 and best_val_0_0.001 = 0.01971999928355217\n",
      "Best weights from best epoch are automatically used!\n",
      "Successfully saved model at model/503_tabnet_SEED2_FOLD0.zip\n",
      "Device used : cuda\n",
      "Device used : cuda\n",
      "Device used : cuda\n",
      "epoch 0  | loss: 0.32498 | val_0_0.000: 0.03517000004649162| val_0_0.001: 0.03779999911785126|  0:00:01s\n",
      "epoch 10 | loss: 0.02123 | val_0_0.000: 0.018640000373125076| val_0_0.001: 0.02157999947667122|  0:00:20s\n",
      "epoch 20 | loss: 0.02023 | val_0_0.000: 0.01826000027358532| val_0_0.001: 0.021209999918937683|  0:00:40s\n",
      "epoch 30 | loss: 0.01978 | val_0_0.000: 0.0173799991607666| val_0_0.001: 0.02047000080347061|  0:01:01s\n",
      "epoch 40 | loss: 0.01962 | val_0_0.000: 0.01720999926328659| val_0_0.001: 0.0203000009059906|  0:01:20s\n",
      "epoch 50 | loss: 0.01945 | val_0_0.000: 0.017020000144839287| val_0_0.001: 0.020169999450445175|  0:01:39s\n",
      "epoch 60 | loss: 0.01935 | val_0_0.000: 0.017020000144839287| val_0_0.001: 0.020150000229477882|  0:02:00s\n",
      "epoch 70 | loss: 0.01941 | val_0_0.000: 0.017030000686645508| val_0_0.001: 0.020109999924898148|  0:02:19s\n",
      "epoch 80 | loss: 0.0193  | val_0_0.000: 0.01696999929845333| val_0_0.001: 0.02012999914586544|  0:02:39s\n",
      "epoch 90 | loss: 0.0192  | val_0_0.000: 0.01721999980509281| val_0_0.001: 0.020349999889731407|  0:02:59s\n",
      "epoch 100| loss: 0.01921 | val_0_0.000: 0.016930000856518745| val_0_0.001: 0.020090000703930855|  0:03:18s\n",
      "epoch 110| loss: 0.01916 | val_0_0.000: 0.017079999670386314| val_0_0.001: 0.020230000838637352|  0:03:38s\n",
      "epoch 120| loss: 0.01898 | val_0_0.000: 0.01686999946832657| val_0_0.001: 0.020059999078512192|  0:03:58s\n",
      "epoch 130| loss: 0.01918 | val_0_0.000: 0.017160000279545784| val_0_0.001: 0.02029000036418438|  0:04:17s\n",
      "epoch 140| loss: 0.01908 | val_0_0.000: 0.017030000686645508| val_0_0.001: 0.02020999975502491|  0:04:37s\n",
      "epoch 150| loss: 0.01888 | val_0_0.000: 0.016739999875426292| val_0_0.001: 0.019920000806450844|  0:04:57s\n",
      "epoch 160| loss: 0.01884 | val_0_0.000: 0.017109999433159828| val_0_0.001: 0.020239999517798424|  0:05:16s\n",
      "epoch 170| loss: 0.01877 | val_0_0.000: 0.016950000077486038| val_0_0.001: 0.020160000771284103|  0:05:35s\n",
      "\n",
      "Early stopping occured at epoch 174 with best_epoch = 124 and best_val_0_0.001 = 0.019920000806450844\n",
      "Best weights from best epoch are automatically used!\n",
      "Successfully saved model at model/503_tabnet_SEED2_FOLD1.zip\n",
      "Device used : cuda\n",
      "Device used : cuda\n",
      "Device used : cuda\n",
      "epoch 0  | loss: 0.32682 | val_0_0.000: 0.03382999822497368| val_0_0.001: 0.036559998989105225|  0:00:01s\n",
      "epoch 10 | loss: 0.02136 | val_0_0.000: 0.02087000012397766| val_0_0.001: 0.023770000785589218|  0:00:21s\n",
      "epoch 20 | loss: 0.02039 | val_0_0.000: 0.018130000680685043| val_0_0.001: 0.021080000326037407|  0:00:41s\n",
      "epoch 30 | loss: 0.02003 | val_0_0.000: 0.01769999973475933| val_0_0.001: 0.020719999447464943|  0:01:01s\n",
      "epoch 40 | loss: 0.01967 | val_0_0.000: 0.01713000051677227| val_0_0.001: 0.020230000838637352|  0:01:20s\n",
      "epoch 50 | loss: 0.01938 | val_0_0.000: 0.017580000683665276| val_0_0.001: 0.020589999854564667|  0:01:40s\n",
      "epoch 60 | loss: 0.01954 | val_0_0.000: 0.01730000041425228| val_0_0.001: 0.020409999415278435|  0:01:59s\n",
      "epoch 70 | loss: 0.01929 | val_0_0.000: 0.01696999929845333| val_0_0.001: 0.02012000046670437|  0:02:20s\n",
      "epoch 80 | loss: 0.01921 | val_0_0.000: 0.016780000180006027| val_0_0.001: 0.01998000033199787|  0:02:39s\n",
      "epoch 90 | loss: 0.01916 | val_0_0.000: 0.01686999946832657| val_0_0.001: 0.020029999315738678|  0:02:58s\n",
      "epoch 100| loss: 0.01911 | val_0_0.000: 0.016699999570846558| val_0_0.001: 0.01988999918103218|  0:03:18s\n",
      "epoch 110| loss: 0.019   | val_0_0.000: 0.016850000247359276| val_0_0.001: 0.0200399998575449|  0:03:37s\n",
      "epoch 120| loss: 0.01896 | val_0_0.000: 0.016790000721812248| val_0_0.001: 0.01998000033199787|  0:03:56s\n",
      "epoch 130| loss: 0.01902 | val_0_0.000: 0.016939999535679817| val_0_0.001: 0.020160000771284103|  0:04:17s\n",
      "epoch 140| loss: 0.01904 | val_0_0.000: 0.017090000212192535| val_0_0.001: 0.020179999992251396|  0:04:35s\n",
      "epoch 150| loss: 0.01886 | val_0_0.000: 0.016820000484585762| val_0_0.001: 0.019990000873804092|  0:04:55s\n",
      "\n",
      "Early stopping occured at epoch 150 with best_epoch = 100 and best_val_0_0.001 = 0.01988999918103218\n",
      "Best weights from best epoch are automatically used!\n",
      "Successfully saved model at model/503_tabnet_SEED2_FOLD2.zip\n",
      "Device used : cuda\n",
      "Device used : cuda\n",
      "Device used : cuda\n",
      "epoch 0  | loss: 0.32463 | val_0_0.000: 0.03499000146985054| val_0_0.001: 0.037620000541210175|  0:00:02s\n",
      "epoch 10 | loss: 0.0214  | val_0_0.000: 0.02092999964952469| val_0_0.001: 0.02379000000655651|  0:00:22s\n",
      "epoch 20 | loss: 0.02012 | val_0_0.000: 0.017710000276565552| val_0_0.001: 0.020749999210238457|  0:00:41s\n",
      "epoch 30 | loss: 0.01967 | val_0_0.000: 0.01754000037908554| val_0_0.001: 0.02061999961733818|  0:01:01s\n",
      "epoch 40 | loss: 0.01942 | val_0_0.000: 0.017100000753998756| val_0_0.001: 0.020150000229477882|  0:01:21s\n",
      "epoch 50 | loss: 0.01937 | val_0_0.000: 0.01688000001013279| val_0_0.001: 0.020010000094771385|  0:01:40s\n",
      "epoch 60 | loss: 0.01925 | val_0_0.000: 0.016860000789165497| val_0_0.001: 0.020059999078512192|  0:02:00s\n",
      "epoch 70 | loss: 0.01918 | val_0_0.000: 0.01706000044941902| val_0_0.001: 0.020260000601410866|  0:02:20s\n",
      "epoch 80 | loss: 0.01914 | val_0_0.000: 0.016839999705553055| val_0_0.001: 0.01998000033199787|  0:02:39s\n",
      "epoch 90 | loss: 0.01914 | val_0_0.000: 0.01713000051677227| val_0_0.001: 0.02027999982237816|  0:02:59s\n",
      "epoch 100| loss: 0.01893 | val_0_0.000: 0.01689000055193901| val_0_0.001: 0.020020000636577606|  0:03:19s\n",
      "epoch 110| loss: 0.01882 | val_0_0.000: 0.016850000247359276| val_0_0.001: 0.019999999552965164|  0:03:38s\n",
      "epoch 120| loss: 0.01882 | val_0_0.000: 0.016990000382065773| val_0_0.001: 0.020190000534057617|  0:03:57s\n",
      "\n",
      "Early stopping occured at epoch 125 with best_epoch = 75 and best_val_0_0.001 = 0.019920000806450844\n",
      "Best weights from best epoch are automatically used!\n",
      "Successfully saved model at model/503_tabnet_SEED2_FOLD3.zip\n",
      "Device used : cuda\n",
      "Device used : cuda\n",
      "Device used : cuda\n",
      "epoch 0  | loss: 0.32625 | val_0_0.000: 0.0350399985909462| val_0_0.001: 0.03765000030398369|  0:00:01s\n",
      "epoch 10 | loss: 0.02127 | val_0_0.000: 0.019300000742077827| val_0_0.001: 0.02215000055730343|  0:00:21s\n",
      "epoch 20 | loss: 0.02022 | val_0_0.000: 0.020519999787211418| val_0_0.001: 0.023479999974370003|  0:00:40s\n",
      "epoch 30 | loss: 0.01985 | val_0_0.000: 0.019440000876784325| val_0_0.001: 0.022439999505877495|  0:01:00s\n",
      "epoch 40 | loss: 0.01956 | val_0_0.000: 0.01720000058412552| val_0_0.001: 0.02027999982237816|  0:01:19s\n",
      "epoch 50 | loss: 0.01942 | val_0_0.000: 0.017340000718832016| val_0_0.001: 0.020349999889731407|  0:01:38s\n",
      "epoch 60 | loss: 0.01942 | val_0_0.000: 0.016790000721812248| val_0_0.001: 0.019929999485611916|  0:01:59s\n",
      "epoch 70 | loss: 0.0194  | val_0_0.000: 0.016839999705553055| val_0_0.001: 0.02005000039935112|  0:02:18s\n",
      "epoch 80 | loss: 0.01936 | val_0_0.000: 0.016939999535679817| val_0_0.001: 0.020090000703930855|  0:02:37s\n",
      "epoch 90 | loss: 0.01932 | val_0_0.000: 0.01696999929845333| val_0_0.001: 0.02012999914586544|  0:02:57s\n",
      "epoch 100| loss: 0.01917 | val_0_0.000: 0.016820000484585762| val_0_0.001: 0.01996999979019165|  0:03:17s\n",
      "epoch 110| loss: 0.01905 | val_0_0.000: 0.017020000144839287| val_0_0.001: 0.02012000046670437|  0:03:36s\n",
      "epoch 120| loss: 0.01911 | val_0_0.000: 0.016820000484585762| val_0_0.001: 0.01995999924838543|  0:03:56s\n",
      "epoch 130| loss: 0.01906 | val_0_0.000: 0.01680999994277954| val_0_0.001: 0.019990000873804092|  0:04:15s\n",
      "epoch 140| loss: 0.01907 | val_0_0.000: 0.017090000212192535| val_0_0.001: 0.02022000029683113|  0:04:35s\n",
      "epoch 150| loss: 0.0189  | val_0_0.000: 0.016850000247359276| val_0_0.001: 0.01995999924838543|  0:04:54s\n",
      "epoch 160| loss: 0.01879 | val_0_0.000: 0.016739999875426292| val_0_0.001: 0.01995999924838543|  0:05:14s\n",
      "\n",
      "Early stopping occured at epoch 165 with best_epoch = 115 and best_val_0_0.001 = 0.019759999588131905\n",
      "Best weights from best epoch are automatically used!\n",
      "Successfully saved model at model/503_tabnet_SEED2_FOLD4.zip\n",
      "Device used : cuda\n",
      "Device used : cuda\n",
      "Device used : cuda\n",
      "epoch 0  | loss: 0.32866 | val_0_0.000: 0.03666999936103821| val_0_0.001: 0.039159998297691345|  0:00:01s\n",
      "epoch 10 | loss: 0.02115 | val_0_0.000: 0.019279999658465385| val_0_0.001: 0.02215000055730343|  0:00:21s\n",
      "epoch 20 | loss: 0.02005 | val_0_0.000: 0.017820000648498535| val_0_0.001: 0.020829999819397926|  0:00:41s\n",
      "epoch 30 | loss: 0.0197  | val_0_0.000: 0.017559999600052834| val_0_0.001: 0.02060999907553196|  0:01:01s\n",
      "epoch 40 | loss: 0.01944 | val_0_0.000: 0.017330000177025795| val_0_0.001: 0.020419999957084656|  0:01:20s\n",
      "epoch 50 | loss: 0.01923 | val_0_0.000: 0.017000000923871994| val_0_0.001: 0.020160000771284103|  0:01:40s\n",
      "epoch 60 | loss: 0.01908 | val_0_0.000: 0.017170000821352005| val_0_0.001: 0.0203699991106987|  0:02:00s\n",
      "epoch 70 | loss: 0.01913 | val_0_0.000: 0.0170499999076128| val_0_0.001: 0.02012999914586544|  0:02:19s\n",
      "epoch 80 | loss: 0.01903 | val_0_0.000: 0.016909999772906303| val_0_0.001: 0.02012000046670437|  0:02:39s\n",
      "epoch 90 | loss: 0.01899 | val_0_0.000: 0.01720999926328659| val_0_0.001: 0.0203699991106987|  0:02:58s\n",
      "epoch 100| loss: 0.01888 | val_0_0.000: 0.01679999940097332| val_0_0.001: 0.020029999315738678|  0:03:17s\n",
      "epoch 110| loss: 0.01886 | val_0_0.000: 0.01706000044941902| val_0_0.001: 0.020230000838637352|  0:03:37s\n",
      "epoch 120| loss: 0.01883 | val_0_0.000: 0.017270000651478767| val_0_0.001: 0.020409999415278435|  0:03:56s\n",
      "\n",
      "Early stopping occured at epoch 129 with best_epoch = 79 and best_val_0_0.001 = 0.019999999552965164\n",
      "Best weights from best epoch are automatically used!\n",
      "Successfully saved model at model/503_tabnet_SEED2_FOLD5.zip\n",
      "Device used : cuda\n",
      "Device used : cuda\n",
      "Device used : cuda\n",
      "epoch 0  | loss: 0.32838 | val_0_0.000: 0.035339999943971634| val_0_0.001: 0.0379600003361702|  0:00:01s\n",
      "epoch 10 | loss: 0.0214  | val_0_0.000: 0.019050000235438347| val_0_0.001: 0.021889999508857727|  0:00:22s\n",
      "epoch 20 | loss: 0.02027 | val_0_0.000: 0.01964999921619892| val_0_0.001: 0.02256999909877777|  0:00:41s\n",
      "epoch 30 | loss: 0.01993 | val_0_0.000: 0.017659999430179596| val_0_0.001: 0.0206300001591444|  0:01:00s\n",
      "epoch 40 | loss: 0.0198  | val_0_0.000: 0.0175199992954731| val_0_0.001: 0.020570000633597374|  0:01:20s\n",
      "epoch 50 | loss: 0.01948 | val_0_0.000: 0.01720999926328659| val_0_0.001: 0.020230000838637352|  0:01:39s\n",
      "epoch 60 | loss: 0.01946 | val_0_0.000: 0.017090000212192535| val_0_0.001: 0.020239999517798424|  0:01:59s\n",
      "epoch 70 | loss: 0.01931 | val_0_0.000: 0.016920000314712524| val_0_0.001: 0.020029999315738678|  0:02:19s\n",
      "epoch 80 | loss: 0.01931 | val_0_0.000: 0.017090000212192535| val_0_0.001: 0.020230000838637352|  0:02:38s\n",
      "epoch 90 | loss: 0.01924 | val_0_0.000: 0.016920000314712524| val_0_0.001: 0.020090000703930855|  0:02:57s\n",
      "epoch 100| loss: 0.01928 | val_0_0.000: 0.016680000349879265| val_0_0.001: 0.019850000739097595|  0:03:18s\n",
      "epoch 110| loss: 0.01905 | val_0_0.000: 0.016659999266266823| val_0_0.001: 0.019819999113678932|  0:03:38s\n",
      "epoch 120| loss: 0.01906 | val_0_0.000: 0.016739999875426292| val_0_0.001: 0.019899999722838402|  0:03:57s\n",
      "epoch 130| loss: 0.01896 | val_0_0.000: 0.01686999946832657| val_0_0.001: 0.01998000033199787|  0:04:17s\n",
      "epoch 140| loss: 0.01893 | val_0_0.000: 0.016829999163746834| val_0_0.001: 0.019940000027418137|  0:04:37s\n",
      "epoch 150| loss: 0.0189  | val_0_0.000: 0.016739999875426292| val_0_0.001: 0.019929999485611916|  0:04:56s\n",
      "epoch 160| loss: 0.01888 | val_0_0.000: 0.016599999740719795| val_0_0.001: 0.01978999935090542|  0:05:16s\n",
      "epoch 170| loss: 0.01888 | val_0_0.000: 0.01703999936580658| val_0_0.001: 0.02013999968767166|  0:05:35s\n",
      "epoch 180| loss: 0.01876 | val_0_0.000: 0.016850000247359276| val_0_0.001: 0.01995999924838543|  0:05:55s\n",
      "epoch 190| loss: 0.01876 | val_0_0.000: 0.016759999096393585| val_0_0.001: 0.01998000033199787|  0:06:15s\n",
      "Stop training because you reached max_epochs = 200 with best_epoch = 160 and best_val_0_0.001 = 0.01978999935090542\n",
      "Best weights from best epoch are automatically used!\n",
      "Successfully saved model at model/503_tabnet_SEED2_FOLD6.zip\n",
      "Device used : cuda\n",
      "Device used : cuda\n",
      "Device used : cuda\n",
      "epoch 0  | loss: 0.32333 | val_0_0.000: 0.03325999900698662| val_0_0.001: 0.035829998552799225|  0:00:01s\n",
      "epoch 10 | loss: 0.0213  | val_0_0.000: 0.018729999661445618| val_0_0.001: 0.02167000062763691|  0:00:21s\n",
      "epoch 20 | loss: 0.02032 | val_0_0.000: 0.017969999462366104| val_0_0.001: 0.020980000495910645|  0:00:41s\n",
      "epoch 30 | loss: 0.01977 | val_0_0.000: 0.017249999567866325| val_0_0.001: 0.020349999889731407|  0:01:00s\n",
      "epoch 40 | loss: 0.01971 | val_0_0.000: 0.01727999933063984| val_0_0.001: 0.020349999889731407|  0:01:20s\n",
      "epoch 50 | loss: 0.01946 | val_0_0.000: 0.017079999670386314| val_0_0.001: 0.020169999450445175|  0:01:40s\n",
      "epoch 60 | loss: 0.01929 | val_0_0.000: 0.017419999465346336| val_0_0.001: 0.020570000633597374|  0:02:00s\n",
      "epoch 70 | loss: 0.01925 | val_0_0.000: 0.017009999603033066| val_0_0.001: 0.020160000771284103|  0:02:20s\n",
      "epoch 80 | loss: 0.01927 | val_0_0.000: 0.017109999433159828| val_0_0.001: 0.02020999975502491|  0:02:39s\n",
      "epoch 90 | loss: 0.01929 | val_0_0.000: 0.017149999737739563| val_0_0.001: 0.020330000668764114|  0:02:59s\n",
      "epoch 100| loss: 0.01913 | val_0_0.000: 0.01688000001013279| val_0_0.001: 0.019999999552965164|  0:03:18s\n",
      "epoch 110| loss: 0.01901 | val_0_0.000: 0.017100000753998756| val_0_0.001: 0.020230000838637352|  0:03:38s\n",
      "epoch 120| loss: 0.019   | val_0_0.000: 0.016829999163746834| val_0_0.001: 0.019999999552965164|  0:03:57s\n",
      "epoch 130| loss: 0.01892 | val_0_0.000: 0.0170499999076128| val_0_0.001: 0.02019999921321869|  0:04:16s\n",
      "epoch 140| loss: 0.01903 | val_0_0.000: 0.01696999929845333| val_0_0.001: 0.020059999078512192|  0:04:36s\n",
      "epoch 150| loss: 0.01884 | val_0_0.000: 0.016930000856518745| val_0_0.001: 0.020099999383091927|  0:04:56s\n",
      "epoch 160| loss: 0.01874 | val_0_0.000: 0.017000000923871994| val_0_0.001: 0.020230000838637352|  0:05:15s\n",
      "\n",
      "Early stopping occured at epoch 168 with best_epoch = 118 and best_val_0_0.001 = 0.019920000806450844\n",
      "Best weights from best epoch are automatically used!\n",
      "Successfully saved model at model/503_tabnet_SEED2_FOLD7.zip\n",
      "Device used : cuda\n",
      "Device used : cuda\n",
      "Device used : cuda\n",
      "epoch 0  | loss: 0.32568 | val_0_0.000: 0.03376000002026558| val_0_0.001: 0.03635000064969063|  0:00:02s\n",
      "epoch 10 | loss: 0.0215  | val_0_0.000: 0.01931999996304512| val_0_0.001: 0.02215000055730343|  0:00:21s\n",
      "epoch 20 | loss: 0.02035 | val_0_0.000: 0.01860000006854534| val_0_0.001: 0.021490000188350677|  0:00:40s\n",
      "epoch 30 | loss: 0.01994 | val_0_0.000: 0.0177800003439188| val_0_0.001: 0.020819999277591705|  0:01:00s\n",
      "epoch 40 | loss: 0.01963 | val_0_0.000: 0.01727999933063984| val_0_0.001: 0.020360000431537628|  0:01:19s\n",
      "epoch 50 | loss: 0.01953 | val_0_0.000: 0.017030000686645508| val_0_0.001: 0.02012999914586544|  0:01:39s\n",
      "epoch 60 | loss: 0.01939 | val_0_0.000: 0.017389999702572823| val_0_0.001: 0.020509999245405197|  0:01:58s\n",
      "epoch 70 | loss: 0.01935 | val_0_0.000: 0.01711999997496605| val_0_0.001: 0.0203000009059906|  0:02:18s\n",
      "epoch 80 | loss: 0.01926 | val_0_0.000: 0.016899999231100082| val_0_0.001: 0.020069999620318413|  0:02:38s\n",
      "epoch 90 | loss: 0.01921 | val_0_0.000: 0.0173799991607666| val_0_0.001: 0.020589999854564667|  0:02:57s\n",
      "epoch 100| loss: 0.01917 | val_0_0.000: 0.016950000077486038| val_0_0.001: 0.02012999914586544|  0:03:17s\n",
      "epoch 110| loss: 0.019   | val_0_0.000: 0.017500000074505806| val_0_0.001: 0.0206300001591444|  0:03:36s\n",
      "epoch 120| loss: 0.01897 | val_0_0.000: 0.017090000212192535| val_0_0.001: 0.020260000601410866|  0:03:55s\n",
      "\n",
      "Early stopping occured at epoch 123 with best_epoch = 73 and best_val_0_0.001 = 0.0200399998575449\n",
      "Best weights from best epoch are automatically used!\n",
      "Successfully saved model at model/503_tabnet_SEED2_FOLD8.zip\n",
      "Device used : cuda\n",
      "Device used : cuda\n",
      "Device used : cuda\n",
      "epoch 0  | loss: 0.32223 | val_0_0.000: 0.032430000603199005| val_0_0.001: 0.035179998725652695|  0:00:01s\n",
      "epoch 10 | loss: 0.02125 | val_0_0.000: 0.01858000084757805| val_0_0.001: 0.021469999104738235|  0:00:21s\n",
      "epoch 20 | loss: 0.02023 | val_0_0.000: 0.017720000818371773| val_0_0.001: 0.02070000022649765|  0:00:40s\n",
      "epoch 30 | loss: 0.01991 | val_0_0.000: 0.0182499997317791| val_0_0.001: 0.021330000832676888|  0:01:00s\n",
      "epoch 40 | loss: 0.01952 | val_0_0.000: 0.016920000314712524| val_0_0.001: 0.020059999078512192|  0:01:19s\n",
      "epoch 50 | loss: 0.01944 | val_0_0.000: 0.016759999096393585| val_0_0.001: 0.019910000264644623|  0:01:38s\n",
      "epoch 60 | loss: 0.01932 | val_0_0.000: 0.016759999096393585| val_0_0.001: 0.019999999552965164|  0:01:58s\n",
      "epoch 70 | loss: 0.0193  | val_0_0.000: 0.016909999772906303| val_0_0.001: 0.01998000033199787|  0:02:18s\n",
      "epoch 80 | loss: 0.01926 | val_0_0.000: 0.016739999875426292| val_0_0.001: 0.019920000806450844|  0:02:37s\n",
      "epoch 90 | loss: 0.01918 | val_0_0.000: 0.016720000654459| val_0_0.001: 0.01995999924838543|  0:02:57s\n",
      "epoch 100| loss: 0.01906 | val_0_0.000: 0.016699999570846558| val_0_0.001: 0.019829999655485153|  0:03:16s\n",
      "epoch 110| loss: 0.01913 | val_0_0.000: 0.016899999231100082| val_0_0.001: 0.019999999552965164|  0:03:35s\n",
      "epoch 120| loss: 0.01909 | val_0_0.000: 0.01689000055193901| val_0_0.001: 0.020059999078512192|  0:03:55s\n",
      "epoch 130| loss: 0.01896 | val_0_0.000: 0.01680999994277954| val_0_0.001: 0.020010000094771385|  0:04:14s\n",
      "epoch 140| loss: 0.01896 | val_0_0.000: 0.016669999808073044| val_0_0.001: 0.01988000050187111|  0:04:34s\n",
      "epoch 150| loss: 0.01894 | val_0_0.000: 0.016850000247359276| val_0_0.001: 0.020010000094771385|  0:04:53s\n",
      "epoch 160| loss: 0.01881 | val_0_0.000: 0.016739999875426292| val_0_0.001: 0.01988999918103218|  0:05:13s\n",
      "epoch 170| loss: 0.01872 | val_0_0.000: 0.016829999163746834| val_0_0.001: 0.0200399998575449|  0:05:32s\n",
      "epoch 180| loss: 0.01889 | val_0_0.000: 0.01672999933362007| val_0_0.001: 0.019929999485611916|  0:05:52s\n",
      "epoch 190| loss: 0.01865 | val_0_0.000: 0.016519999131560326| val_0_0.001: 0.019750000908970833|  0:06:12s\n",
      "Stop training because you reached max_epochs = 200 with best_epoch = 199 and best_val_0_0.001 = 0.01971999928355217\n",
      "Best weights from best epoch are automatically used!\n",
      "Successfully saved model at model/503_tabnet_SEED2_FOLD9.zip\n",
      "Device used : cuda\n",
      "Device used : cuda\n",
      "seed 2, elapsed time: 10577.18304681778\n"
     ]
    }
   ],
   "source": [
    "run_seeds(train, test, feature_cols, target_cols, NFOLDS, NSEEDS)"
   ]
  },
  {
   "cell_type": "code",
   "execution_count": 51,
   "metadata": {
    "execution": {
     "iopub.execute_input": "2020-11-27T19:21:58.167877Z",
     "iopub.status.busy": "2020-11-27T19:21:58.152428Z",
     "iopub.status.idle": "2020-11-27T19:21:58.445384Z",
     "shell.execute_reply": "2020-11-27T19:21:58.444757Z"
    },
    "papermill": {
     "duration": 0.994491,
     "end_time": "2020-11-27T19:21:58.445504",
     "exception": false,
     "start_time": "2020-11-27T19:21:57.451013",
     "status": "completed"
    },
    "tags": []
   },
   "outputs": [],
   "source": [
    "train.to_pickle(f\"{INT_DIR}/{NB}_train.pkl\")\n",
    "test.to_pickle(f\"{INT_DIR}/{NB}_test.pkl\")"
   ]
  },
  {
   "cell_type": "code",
   "execution_count": 52,
   "metadata": {
    "execution": {
     "iopub.execute_input": "2020-11-27T19:21:59.088262Z",
     "iopub.status.busy": "2020-11-27T19:21:59.087231Z",
     "iopub.status.idle": "2020-11-27T19:22:00.564658Z",
     "shell.execute_reply": "2020-11-27T19:22:00.563653Z"
    },
    "papermill": {
     "duration": 1.804559,
     "end_time": "2020-11-27T19:22:00.564767",
     "exception": false,
     "start_time": "2020-11-27T19:21:58.760208",
     "status": "completed"
    },
    "tags": []
   },
   "outputs": [
    {
     "name": "stdout",
     "output_type": "stream",
     "text": [
      "CV log_loss:  0.01615536388933484\n"
     ]
    }
   ],
   "source": [
    "# train[target_cols] = np.maximum(PMIN, np.minimum(PMAX, train[target_cols]))\n",
    "valid_results = train_targets_scored.drop(columns=target_cols).merge(train[['sig_id']+target_cols], on='sig_id', how='left').fillna(0)\n",
    "\n",
    "y_true = train_targets_scored[target_cols].values\n",
    "y_true = y_true > 0.5\n",
    "y_pred = valid_results[target_cols].values\n",
    "\n",
    "score = 0\n",
    "for i in range(len(target_cols)):\n",
    "    score_ = log_loss(y_true[:, i], y_pred[:, i])\n",
    "    score += score_ / target.shape[1]\n",
    "    \n",
    "print(\"CV log_loss: \", score)"
   ]
  },
  {
   "cell_type": "code",
   "execution_count": 53,
   "metadata": {
    "execution": {
     "iopub.execute_input": "2020-11-27T19:22:01.211991Z",
     "iopub.status.busy": "2020-11-27T19:22:01.210596Z",
     "iopub.status.idle": "2020-11-27T19:22:03.010195Z",
     "shell.execute_reply": "2020-11-27T19:22:03.009637Z"
    },
    "papermill": {
     "duration": 2.125236,
     "end_time": "2020-11-27T19:22:03.010303",
     "exception": false,
     "start_time": "2020-11-27T19:22:00.885067",
     "status": "completed"
    },
    "tags": []
   },
   "outputs": [],
   "source": [
    "sub = sample_submission.drop(columns=target_cols).merge(test[['sig_id']+target_cols], on='sig_id', how='left').fillna(0)\n",
    "sub.to_csv('submission.csv', index=False)"
   ]
  },
  {
   "cell_type": "code",
   "execution_count": 54,
   "metadata": {
    "execution": {
     "iopub.execute_input": "2020-11-27T19:22:03.656061Z",
     "iopub.status.busy": "2020-11-27T19:22:03.655159Z",
     "iopub.status.idle": "2020-11-27T19:22:03.687760Z",
     "shell.execute_reply": "2020-11-27T19:22:03.688329Z"
    },
    "papermill": {
     "duration": 0.36185,
     "end_time": "2020-11-27T19:22:03.688471",
     "exception": false,
     "start_time": "2020-11-27T19:22:03.326621",
     "status": "completed"
    },
    "tags": []
   },
   "outputs": [
    {
     "data": {
      "text/html": [
       "<div>\n",
       "<style scoped>\n",
       "    .dataframe tbody tr th:only-of-type {\n",
       "        vertical-align: middle;\n",
       "    }\n",
       "\n",
       "    .dataframe tbody tr th {\n",
       "        vertical-align: top;\n",
       "    }\n",
       "\n",
       "    .dataframe thead th {\n",
       "        text-align: right;\n",
       "    }\n",
       "</style>\n",
       "<table border=\"1\" class=\"dataframe\">\n",
       "  <thead>\n",
       "    <tr style=\"text-align: right;\">\n",
       "      <th></th>\n",
       "      <th>sig_id</th>\n",
       "      <th>5-alpha_reductase_inhibitor</th>\n",
       "      <th>11-beta-hsd1_inhibitor</th>\n",
       "      <th>acat_inhibitor</th>\n",
       "      <th>acetylcholine_receptor_agonist</th>\n",
       "      <th>acetylcholine_receptor_antagonist</th>\n",
       "      <th>acetylcholinesterase_inhibitor</th>\n",
       "      <th>adenosine_receptor_agonist</th>\n",
       "      <th>adenosine_receptor_antagonist</th>\n",
       "      <th>adenylyl_cyclase_activator</th>\n",
       "      <th>...</th>\n",
       "      <th>tropomyosin_receptor_kinase_inhibitor</th>\n",
       "      <th>trpv_agonist</th>\n",
       "      <th>trpv_antagonist</th>\n",
       "      <th>tubulin_inhibitor</th>\n",
       "      <th>tyrosine_kinase_inhibitor</th>\n",
       "      <th>ubiquitin_specific_protease_inhibitor</th>\n",
       "      <th>vegfr_inhibitor</th>\n",
       "      <th>vitamin_b</th>\n",
       "      <th>vitamin_d_receptor_agonist</th>\n",
       "      <th>wnt_inhibitor</th>\n",
       "    </tr>\n",
       "  </thead>\n",
       "  <tbody>\n",
       "    <tr>\n",
       "      <th>0</th>\n",
       "      <td>id_0004d9e33</td>\n",
       "      <td>0.001479</td>\n",
       "      <td>0.001614</td>\n",
       "      <td>0.002448</td>\n",
       "      <td>0.017262</td>\n",
       "      <td>0.022049</td>\n",
       "      <td>0.004694</td>\n",
       "      <td>0.003065</td>\n",
       "      <td>0.006627</td>\n",
       "      <td>0.000667</td>\n",
       "      <td>...</td>\n",
       "      <td>0.001245</td>\n",
       "      <td>0.001421</td>\n",
       "      <td>0.004148</td>\n",
       "      <td>0.001380</td>\n",
       "      <td>0.001331</td>\n",
       "      <td>0.001086</td>\n",
       "      <td>0.001518</td>\n",
       "      <td>0.002656</td>\n",
       "      <td>0.004353</td>\n",
       "      <td>0.002378</td>\n",
       "    </tr>\n",
       "    <tr>\n",
       "      <th>1</th>\n",
       "      <td>id_001897cda</td>\n",
       "      <td>0.000953</td>\n",
       "      <td>0.001477</td>\n",
       "      <td>0.002578</td>\n",
       "      <td>0.003219</td>\n",
       "      <td>0.001509</td>\n",
       "      <td>0.001807</td>\n",
       "      <td>0.003771</td>\n",
       "      <td>0.011833</td>\n",
       "      <td>0.004668</td>\n",
       "      <td>...</td>\n",
       "      <td>0.001544</td>\n",
       "      <td>0.002179</td>\n",
       "      <td>0.004351</td>\n",
       "      <td>0.001128</td>\n",
       "      <td>0.007466</td>\n",
       "      <td>0.001158</td>\n",
       "      <td>0.014556</td>\n",
       "      <td>0.001841</td>\n",
       "      <td>0.008543</td>\n",
       "      <td>0.003475</td>\n",
       "    </tr>\n",
       "    <tr>\n",
       "      <th>2</th>\n",
       "      <td>id_002429b5b</td>\n",
       "      <td>0.000000</td>\n",
       "      <td>0.000000</td>\n",
       "      <td>0.000000</td>\n",
       "      <td>0.000000</td>\n",
       "      <td>0.000000</td>\n",
       "      <td>0.000000</td>\n",
       "      <td>0.000000</td>\n",
       "      <td>0.000000</td>\n",
       "      <td>0.000000</td>\n",
       "      <td>...</td>\n",
       "      <td>0.000000</td>\n",
       "      <td>0.000000</td>\n",
       "      <td>0.000000</td>\n",
       "      <td>0.000000</td>\n",
       "      <td>0.000000</td>\n",
       "      <td>0.000000</td>\n",
       "      <td>0.000000</td>\n",
       "      <td>0.000000</td>\n",
       "      <td>0.000000</td>\n",
       "      <td>0.000000</td>\n",
       "    </tr>\n",
       "    <tr>\n",
       "      <th>3</th>\n",
       "      <td>id_00276f245</td>\n",
       "      <td>0.001483</td>\n",
       "      <td>0.001580</td>\n",
       "      <td>0.001745</td>\n",
       "      <td>0.012090</td>\n",
       "      <td>0.021173</td>\n",
       "      <td>0.005086</td>\n",
       "      <td>0.003205</td>\n",
       "      <td>0.005100</td>\n",
       "      <td>0.000547</td>\n",
       "      <td>...</td>\n",
       "      <td>0.000976</td>\n",
       "      <td>0.001483</td>\n",
       "      <td>0.002524</td>\n",
       "      <td>0.007928</td>\n",
       "      <td>0.003451</td>\n",
       "      <td>0.001066</td>\n",
       "      <td>0.001644</td>\n",
       "      <td>0.002220</td>\n",
       "      <td>0.000791</td>\n",
       "      <td>0.002300</td>\n",
       "    </tr>\n",
       "    <tr>\n",
       "      <th>4</th>\n",
       "      <td>id_0027f1083</td>\n",
       "      <td>0.001721</td>\n",
       "      <td>0.001817</td>\n",
       "      <td>0.002053</td>\n",
       "      <td>0.015295</td>\n",
       "      <td>0.017612</td>\n",
       "      <td>0.004373</td>\n",
       "      <td>0.004153</td>\n",
       "      <td>0.002963</td>\n",
       "      <td>0.000801</td>\n",
       "      <td>...</td>\n",
       "      <td>0.001175</td>\n",
       "      <td>0.001278</td>\n",
       "      <td>0.003233</td>\n",
       "      <td>0.003005</td>\n",
       "      <td>0.002026</td>\n",
       "      <td>0.001157</td>\n",
       "      <td>0.001295</td>\n",
       "      <td>0.002373</td>\n",
       "      <td>0.000968</td>\n",
       "      <td>0.002317</td>\n",
       "    </tr>\n",
       "    <tr>\n",
       "      <th>...</th>\n",
       "      <td>...</td>\n",
       "      <td>...</td>\n",
       "      <td>...</td>\n",
       "      <td>...</td>\n",
       "      <td>...</td>\n",
       "      <td>...</td>\n",
       "      <td>...</td>\n",
       "      <td>...</td>\n",
       "      <td>...</td>\n",
       "      <td>...</td>\n",
       "      <td>...</td>\n",
       "      <td>...</td>\n",
       "      <td>...</td>\n",
       "      <td>...</td>\n",
       "      <td>...</td>\n",
       "      <td>...</td>\n",
       "      <td>...</td>\n",
       "      <td>...</td>\n",
       "      <td>...</td>\n",
       "      <td>...</td>\n",
       "      <td>...</td>\n",
       "    </tr>\n",
       "    <tr>\n",
       "      <th>3977</th>\n",
       "      <td>id_ff7004b87</td>\n",
       "      <td>0.001266</td>\n",
       "      <td>0.001792</td>\n",
       "      <td>0.001866</td>\n",
       "      <td>0.003539</td>\n",
       "      <td>0.005772</td>\n",
       "      <td>0.002789</td>\n",
       "      <td>0.002478</td>\n",
       "      <td>0.004969</td>\n",
       "      <td>0.000928</td>\n",
       "      <td>...</td>\n",
       "      <td>0.001017</td>\n",
       "      <td>0.005324</td>\n",
       "      <td>0.002808</td>\n",
       "      <td>0.155837</td>\n",
       "      <td>0.011887</td>\n",
       "      <td>0.001257</td>\n",
       "      <td>0.007609</td>\n",
       "      <td>0.001582</td>\n",
       "      <td>0.002071</td>\n",
       "      <td>0.001850</td>\n",
       "    </tr>\n",
       "    <tr>\n",
       "      <th>3978</th>\n",
       "      <td>id_ff925dd0d</td>\n",
       "      <td>0.002180</td>\n",
       "      <td>0.002096</td>\n",
       "      <td>0.001745</td>\n",
       "      <td>0.010770</td>\n",
       "      <td>0.018468</td>\n",
       "      <td>0.005237</td>\n",
       "      <td>0.003905</td>\n",
       "      <td>0.004057</td>\n",
       "      <td>0.001064</td>\n",
       "      <td>...</td>\n",
       "      <td>0.001122</td>\n",
       "      <td>0.001283</td>\n",
       "      <td>0.002947</td>\n",
       "      <td>0.003013</td>\n",
       "      <td>0.003006</td>\n",
       "      <td>0.001268</td>\n",
       "      <td>0.002162</td>\n",
       "      <td>0.002400</td>\n",
       "      <td>0.000888</td>\n",
       "      <td>0.002388</td>\n",
       "    </tr>\n",
       "    <tr>\n",
       "      <th>3979</th>\n",
       "      <td>id_ffb710450</td>\n",
       "      <td>0.001957</td>\n",
       "      <td>0.001827</td>\n",
       "      <td>0.001558</td>\n",
       "      <td>0.014456</td>\n",
       "      <td>0.031829</td>\n",
       "      <td>0.006050</td>\n",
       "      <td>0.003181</td>\n",
       "      <td>0.004452</td>\n",
       "      <td>0.000598</td>\n",
       "      <td>...</td>\n",
       "      <td>0.000957</td>\n",
       "      <td>0.000985</td>\n",
       "      <td>0.002724</td>\n",
       "      <td>0.002266</td>\n",
       "      <td>0.001896</td>\n",
       "      <td>0.001076</td>\n",
       "      <td>0.001370</td>\n",
       "      <td>0.002226</td>\n",
       "      <td>0.001080</td>\n",
       "      <td>0.002158</td>\n",
       "    </tr>\n",
       "    <tr>\n",
       "      <th>3980</th>\n",
       "      <td>id_ffbb869f2</td>\n",
       "      <td>0.002015</td>\n",
       "      <td>0.001779</td>\n",
       "      <td>0.001648</td>\n",
       "      <td>0.017285</td>\n",
       "      <td>0.027618</td>\n",
       "      <td>0.005360</td>\n",
       "      <td>0.004947</td>\n",
       "      <td>0.003981</td>\n",
       "      <td>0.001114</td>\n",
       "      <td>...</td>\n",
       "      <td>0.001019</td>\n",
       "      <td>0.000998</td>\n",
       "      <td>0.002958</td>\n",
       "      <td>0.002734</td>\n",
       "      <td>0.001935</td>\n",
       "      <td>0.001007</td>\n",
       "      <td>0.001194</td>\n",
       "      <td>0.002325</td>\n",
       "      <td>0.000882</td>\n",
       "      <td>0.002495</td>\n",
       "    </tr>\n",
       "    <tr>\n",
       "      <th>3981</th>\n",
       "      <td>id_ffd5800b6</td>\n",
       "      <td>0.001562</td>\n",
       "      <td>0.001683</td>\n",
       "      <td>0.001858</td>\n",
       "      <td>0.015904</td>\n",
       "      <td>0.024205</td>\n",
       "      <td>0.005524</td>\n",
       "      <td>0.002943</td>\n",
       "      <td>0.004001</td>\n",
       "      <td>0.000520</td>\n",
       "      <td>...</td>\n",
       "      <td>0.001060</td>\n",
       "      <td>0.001717</td>\n",
       "      <td>0.003088</td>\n",
       "      <td>0.006793</td>\n",
       "      <td>0.001888</td>\n",
       "      <td>0.001150</td>\n",
       "      <td>0.001063</td>\n",
       "      <td>0.002422</td>\n",
       "      <td>0.001073</td>\n",
       "      <td>0.002042</td>\n",
       "    </tr>\n",
       "  </tbody>\n",
       "</table>\n",
       "<p>3982 rows × 207 columns</p>\n",
       "</div>"
      ],
      "text/plain": [
       "            sig_id  5-alpha_reductase_inhibitor  11-beta-hsd1_inhibitor  \\\n",
       "0     id_0004d9e33                     0.001479                0.001614   \n",
       "1     id_001897cda                     0.000953                0.001477   \n",
       "2     id_002429b5b                     0.000000                0.000000   \n",
       "3     id_00276f245                     0.001483                0.001580   \n",
       "4     id_0027f1083                     0.001721                0.001817   \n",
       "...            ...                          ...                     ...   \n",
       "3977  id_ff7004b87                     0.001266                0.001792   \n",
       "3978  id_ff925dd0d                     0.002180                0.002096   \n",
       "3979  id_ffb710450                     0.001957                0.001827   \n",
       "3980  id_ffbb869f2                     0.002015                0.001779   \n",
       "3981  id_ffd5800b6                     0.001562                0.001683   \n",
       "\n",
       "      acat_inhibitor  acetylcholine_receptor_agonist  \\\n",
       "0           0.002448                        0.017262   \n",
       "1           0.002578                        0.003219   \n",
       "2           0.000000                        0.000000   \n",
       "3           0.001745                        0.012090   \n",
       "4           0.002053                        0.015295   \n",
       "...              ...                             ...   \n",
       "3977        0.001866                        0.003539   \n",
       "3978        0.001745                        0.010770   \n",
       "3979        0.001558                        0.014456   \n",
       "3980        0.001648                        0.017285   \n",
       "3981        0.001858                        0.015904   \n",
       "\n",
       "      acetylcholine_receptor_antagonist  acetylcholinesterase_inhibitor  \\\n",
       "0                              0.022049                        0.004694   \n",
       "1                              0.001509                        0.001807   \n",
       "2                              0.000000                        0.000000   \n",
       "3                              0.021173                        0.005086   \n",
       "4                              0.017612                        0.004373   \n",
       "...                                 ...                             ...   \n",
       "3977                           0.005772                        0.002789   \n",
       "3978                           0.018468                        0.005237   \n",
       "3979                           0.031829                        0.006050   \n",
       "3980                           0.027618                        0.005360   \n",
       "3981                           0.024205                        0.005524   \n",
       "\n",
       "      adenosine_receptor_agonist  adenosine_receptor_antagonist  \\\n",
       "0                       0.003065                       0.006627   \n",
       "1                       0.003771                       0.011833   \n",
       "2                       0.000000                       0.000000   \n",
       "3                       0.003205                       0.005100   \n",
       "4                       0.004153                       0.002963   \n",
       "...                          ...                            ...   \n",
       "3977                    0.002478                       0.004969   \n",
       "3978                    0.003905                       0.004057   \n",
       "3979                    0.003181                       0.004452   \n",
       "3980                    0.004947                       0.003981   \n",
       "3981                    0.002943                       0.004001   \n",
       "\n",
       "      adenylyl_cyclase_activator  ...  tropomyosin_receptor_kinase_inhibitor  \\\n",
       "0                       0.000667  ...                               0.001245   \n",
       "1                       0.004668  ...                               0.001544   \n",
       "2                       0.000000  ...                               0.000000   \n",
       "3                       0.000547  ...                               0.000976   \n",
       "4                       0.000801  ...                               0.001175   \n",
       "...                          ...  ...                                    ...   \n",
       "3977                    0.000928  ...                               0.001017   \n",
       "3978                    0.001064  ...                               0.001122   \n",
       "3979                    0.000598  ...                               0.000957   \n",
       "3980                    0.001114  ...                               0.001019   \n",
       "3981                    0.000520  ...                               0.001060   \n",
       "\n",
       "      trpv_agonist  trpv_antagonist  tubulin_inhibitor  \\\n",
       "0         0.001421         0.004148           0.001380   \n",
       "1         0.002179         0.004351           0.001128   \n",
       "2         0.000000         0.000000           0.000000   \n",
       "3         0.001483         0.002524           0.007928   \n",
       "4         0.001278         0.003233           0.003005   \n",
       "...            ...              ...                ...   \n",
       "3977      0.005324         0.002808           0.155837   \n",
       "3978      0.001283         0.002947           0.003013   \n",
       "3979      0.000985         0.002724           0.002266   \n",
       "3980      0.000998         0.002958           0.002734   \n",
       "3981      0.001717         0.003088           0.006793   \n",
       "\n",
       "      tyrosine_kinase_inhibitor  ubiquitin_specific_protease_inhibitor  \\\n",
       "0                      0.001331                               0.001086   \n",
       "1                      0.007466                               0.001158   \n",
       "2                      0.000000                               0.000000   \n",
       "3                      0.003451                               0.001066   \n",
       "4                      0.002026                               0.001157   \n",
       "...                         ...                                    ...   \n",
       "3977                   0.011887                               0.001257   \n",
       "3978                   0.003006                               0.001268   \n",
       "3979                   0.001896                               0.001076   \n",
       "3980                   0.001935                               0.001007   \n",
       "3981                   0.001888                               0.001150   \n",
       "\n",
       "      vegfr_inhibitor  vitamin_b  vitamin_d_receptor_agonist  wnt_inhibitor  \n",
       "0            0.001518   0.002656                    0.004353       0.002378  \n",
       "1            0.014556   0.001841                    0.008543       0.003475  \n",
       "2            0.000000   0.000000                    0.000000       0.000000  \n",
       "3            0.001644   0.002220                    0.000791       0.002300  \n",
       "4            0.001295   0.002373                    0.000968       0.002317  \n",
       "...               ...        ...                         ...            ...  \n",
       "3977         0.007609   0.001582                    0.002071       0.001850  \n",
       "3978         0.002162   0.002400                    0.000888       0.002388  \n",
       "3979         0.001370   0.002226                    0.001080       0.002158  \n",
       "3980         0.001194   0.002325                    0.000882       0.002495  \n",
       "3981         0.001063   0.002422                    0.001073       0.002042  \n",
       "\n",
       "[3982 rows x 207 columns]"
      ]
     },
     "execution_count": 54,
     "metadata": {},
     "output_type": "execute_result"
    }
   ],
   "source": [
    "sub"
   ]
  },
  {
   "cell_type": "code",
   "execution_count": 55,
   "metadata": {
    "execution": {
     "iopub.execute_input": "2020-11-27T19:22:04.336614Z",
     "iopub.status.busy": "2020-11-27T19:22:04.335791Z",
     "iopub.status.idle": "2020-11-27T19:22:04.354646Z",
     "shell.execute_reply": "2020-11-27T19:22:04.353898Z"
    },
    "papermill": {
     "duration": 0.343981,
     "end_time": "2020-11-27T19:22:04.354795",
     "exception": false,
     "start_time": "2020-11-27T19:22:04.010814",
     "status": "completed"
    },
    "tags": []
   },
   "outputs": [
    {
     "name": "stdout",
     "output_type": "stream",
     "text": [
      "503_tabnet_SEED0_FOLD2.zip\n",
      "503_tabnet_SEED1_FOLD9.zip\n",
      "503_tabnet_SEED1_FOLD6.zip\n",
      "503_tabnet_SEED0_FOLD8.zip\n",
      "503_tabnet_SEED2_FOLD2.zip\n",
      "503_tabnet_SEED1_FOLD8.zip\n",
      "503_tabnet_SEED0_FOLD7.zip\n",
      "503_tabnet_SEED1_FOLD2.zip\n",
      "503_tabnet_SEED1_FOLD1.zip\n",
      "503_tabnet_SEED1_FOLD5.zip\n",
      "503_tabnet_SEED1_FOLD4.zip\n",
      "503_tabnet_SEED2_FOLD0.zip\n",
      "503_tabnet_SEED2_FOLD1.zip\n",
      "503_tabnet_SEED2_FOLD4.zip\n",
      "503_tabnet_SEED1_FOLD7.zip\n",
      "503_tabnet_SEED1_FOLD0.zip\n",
      "503_tabnet_SEED0_FOLD0.zip\n",
      "503_tabnet_SEED2_FOLD3.zip\n",
      "503_tabnet_SEED2_FOLD5.zip\n",
      "503_tabnet_SEED1_FOLD3.zip\n",
      "503_tabnet_SEED2_FOLD9.zip\n",
      "503_tabnet_SEED0_FOLD1.zip\n",
      "503_tabnet_SEED0_FOLD6.zip\n",
      "503_tabnet_SEED0_FOLD9.zip\n",
      "503_tabnet_SEED2_FOLD8.zip\n",
      "503_tabnet_SEED0_FOLD3.zip\n",
      "503_tabnet_SEED0_FOLD5.zip\n",
      "503_tabnet_SEED2_FOLD6.zip\n",
      "503_tabnet_SEED0_FOLD4.zip\n",
      "503_tabnet_SEED2_FOLD7.zip\n"
     ]
    }
   ],
   "source": [
    "for root, dirs, files in os.walk(\"model/\"):\n",
    "    for f in files:\n",
    "        if f[-3:] == \"zip\":\n",
    "            print(f)\n",
    "            os.rename(\"model/\" + f, \"model/\" + f[:-3]+\"model\")"
   ]
  }
 ],
 "metadata": {
  "kernelspec": {
   "display_name": "Python 3",
   "language": "python",
   "name": "python3"
  },
  "language_info": {
   "codemirror_mode": {
    "name": "ipython",
    "version": 3
   },
   "file_extension": ".py",
   "mimetype": "text/x-python",
   "name": "python",
   "nbconvert_exporter": "python",
   "pygments_lexer": "ipython3",
   "version": "3.7.6"
  },
  "papermill": {
   "duration": 12009.57482,
   "end_time": "2020-11-27T19:22:05.179684",
   "environment_variables": {},
   "exception": null,
   "input_path": "__notebook__.ipynb",
   "output_path": "__notebook__.ipynb",
   "parameters": {},
   "start_time": "2020-11-27T16:01:55.604864",
   "version": "2.1.0"
  }
 },
 "nbformat": 4,
 "nbformat_minor": 4
}
